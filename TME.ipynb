{
 "cells": [
  {
   "cell_type": "code",
   "execution_count": 1,
   "metadata": {},
   "outputs": [],
   "source": [
    "%load_ext autoreload\n",
    "%autoreload 2\n",
    "import functools\n",
    "import json\n",
    "import urllib.request\n",
    "import urllib.parse\n",
    "import urllib.error\n",
    "import subprocess\n",
    "import json\n",
    "import base64\n",
    "from hashlib import sha256\n",
    "import fonction\n",
    "import fonction_utile\n",
    "import time\n",
    "import sympy\n",
    "from random import *\n",
    "from binascii import unhexlify, hexlify\n",
    "from math import log"
   ]
  },
  {
   "cell_type": "code",
   "execution_count": 2,
   "metadata": {},
   "outputs": [],
   "source": [
    "class ServerError(Exception):\n",
    "    \"\"\"\n",
    "    Exception déclenchée en cas de problème côté serveur (URL incorrecte,\n",
    "    accès interdit, requête mal formée, etc.)\n",
    "    \"\"\"\n",
    "    def __init__(self, code=None, msg=None):\n",
    "        self.code = code\n",
    "        self.msg = msg\n",
    "\n",
    "    def __str__(self):\n",
    "        return \"ERREUR {}, {}\".format(self.code, self.msg)"
   ]
  },
  {
   "cell_type": "code",
   "execution_count": 3,
   "metadata": {},
   "outputs": [],
   "source": [
    "class Connection:\n",
    "    \"\"\"\n",
    "    Cette classe sert à ouvrir et à maintenir une connection avec le système\n",
    "    UGLIX. Voir les exemples ci-dessous.\n",
    "\n",
    "    Pour créer une instance de la classe, il faut spécifier une ``adresse de \n",
    "    base''. Les requêtes se font à partir de là, ce qui est bien pratique.\n",
    "    L'adresse de base est typiquement l'adresse du système UGLIX.\n",
    "\n",
    "    Cet objet Connection() s'utilise surtout via ses méthodes get(), post()...\n",
    "\n",
    "    Il est conçu pour pouvoir être étendu facilement. En dériver une sous-classe\n",
    "    capable de gérer des connexions chiffrées ne nécessite que 20 lignes de\n",
    "    code supplémentaires.subject\n",
    "\n",
    "    Exemple :\n",
    "    >>> c = Connection()\n",
    "    >>> c.get('/bin/echo')\n",
    "    'usage: echo [arguments]'\n",
    "\n",
    "    >>> print(c.get('/'))   # doctest: +ELLIPSIS\n",
    "    HAL HAL HAL HAL HAL HAL HAL HAL HAL HAL HAL HAL HAL HAL HAL HAL HAL HAL HAL HAL\n",
    "    ...\n",
    "    \"\"\"\n",
    "    def __init__(self, base_url=\"http://isec.fil.cool/uglix\"):\n",
    "        self._base = base_url\n",
    "        self._session = None   # au départ nous n'avons pas de cookie de session\n",
    "\n",
    "    ############################################################################\n",
    "    #                          MÉTHODES PUBLIQUES                              #\n",
    "    ############################################################################\n",
    "    def get(self, url):\n",
    "        \"\"\"\n",
    "        Charge l'url demandée. Une requête HTTP GET est envoyée.\n",
    "\n",
    "        >>> c = Connection()\n",
    "        >>> c.get('/bin/echo')\n",
    "        'usage: echo [arguments]'\n",
    "\n",
    "        En cas d'erreur côté serveur, on récupère une exception.\n",
    "        >>> c.get('/bin/foobar') # doctest: +ELLIPSIS\n",
    "        Traceback (most recent call last):\n",
    "        ...\n",
    "        client.ServerError: ERREUR 404, ...\n",
    "        \"\"\"\n",
    "        # prépare la requête\n",
    "        request = urllib.request.Request(self._base + url, method='GET')\n",
    "        return self._query(url, request)\n",
    "\n",
    "\n",
    "    def post(self, url, **kwds):\n",
    "        \"\"\"\n",
    "        Charge l'URL demandée. Une requête HTTP POST est envoyée. Il est \n",
    "        possible d'envoyer un nombre arbitraire d'arguments supplémentaires\n",
    "        sous la forme de paires clef-valeur. Ces paires sont encodées sous la\n",
    "        forme d'un dictionnaire JSON qui constitue le corps de la requête.\n",
    "\n",
    "        Python permet de spécifier ces paires clef-valeurs comme des arguments\n",
    "        nommés de la méthode post(). On peut envoyer des valeurs de n'importe\n",
    "        quel type sérialisable en JSON.\n",
    "\n",
    "        Par exemple, pour envoyer un paramètre nommé \"string_example\" de valeur\n",
    "        \"toto et un paramètre nommé \"list_example\" de valeur [True, 42, {'foo': 'bar'}],\n",
    "        il faut invoquer :\n",
    "\n",
    "        >>> c = Connection()\n",
    "        >>> c.post('/bin/echo', string_example=\"toto\", list_example=[True, 42, {'foo': 'bar'}])\n",
    "        {'content_found': {'string_example': 'toto', 'list_example': [True, 42, {'foo': 'bar'}]}}\n",
    "\n",
    "        L'idée est que la méthode post() convertit ceci en un dictionnaire JSON,\n",
    "        qui ici ressemblerait à :\n",
    "\n",
    "        {'string_example': 'toto', 'list_example': [True, 42, {'foo': 'bar'}]},\n",
    "\n",
    "        puis l'envoie au serveur.\n",
    "        \"\"\"\n",
    "        # prépare la requête\n",
    "        request = urllib.request.Request(self._base + url, method='POST')\n",
    "        data = None\n",
    "        # kwds est un dictionnaire qui contient les arguments nommés. S'il\n",
    "        # n'est pas vide, on l'encode en JSON et on l'ajoute au corps de la\n",
    "        # requête.\n",
    "        if kwds:     \n",
    "            request.add_header('Content-type', 'application/json')\n",
    "            data = json.dumps(kwds).encode()\n",
    "        return self._query(url, request, data)\n",
    "\n",
    "\n",
    "    def put(self, url, content):\n",
    "        \"\"\"\n",
    "        Charge l'URL demandée avec une requête HTTP PUT. L'argument content\n",
    "        forme le corps de la requête. Si content est de type str(), il est\n",
    "        automatiquement encodé en UTF-8. cf /doc/strings pour plus de détails\n",
    "        sur la question.\n",
    "        \"\"\"\n",
    "        request = urllib.request.Request(self._base + url, method='PUT')\n",
    "        if isinstance(content, str):\n",
    "            content = content.encode()\n",
    "        return self._query(url, request, data=content)\n",
    "\n",
    "    ############################################################################\n",
    "    #                     MÉTHODES PUBLIQUES AVANCÉES                          #\n",
    "    ############################################################################\n",
    "\n",
    "\n",
    "    def post_raw(self, url, data, content_type='application/octet-stream'):\n",
    "        \"\"\"\n",
    "        Charge l'url demandée avec une requête HTTP POST. L'argument data\n",
    "        forme le corps de la requête. Il doit s'agir d'un objet de type \n",
    "        bytes(). Cette méthode est d'un usage plus rare, et sert à envoyer des\n",
    "        données qui n'ont pas vocation à être serialisées en JSON (comme des\n",
    "        données binaires chiffrées, par exemple).\n",
    "\n",
    "        Principalement utilisé pour étendre le client et lui ajouter des\n",
    "        fonctionnalités.\n",
    "        \"\"\"\n",
    "        request = urllib.request.Request(self._base + url, method='POST')\n",
    "        request.add_header('Content-type', content_type)\n",
    "        return self._query(url, request, data)\n",
    "\n",
    "    def close_session(self):\n",
    "        \"\"\"\n",
    "        Oublie la session actuelle. En principe, personne n'a besoin de ceci.\n",
    "        \"\"\"\n",
    "        self._session = None\n",
    "\n",
    "\n",
    "    ############################################################################\n",
    "    #                          MÉTHODES INTERNES                               #\n",
    "    ############################################################################\n",
    "\n",
    "    def _pre_process(self, request):\n",
    "        \"\"\"\n",
    "        Effectue un pré-traitement sur la requête pas encore lancée.\n",
    "        Si on possède un cookie de session, on l'injecte dans les en-tête HTTP.\n",
    "        \"\"\"\n",
    "        request.add_header('User-Agent', 'UGLIX official client v2.1 (c) sysprog')\n",
    "        if self._session:\n",
    "            request.add_header('Cookie', self._session)\n",
    "\n",
    "    def _post_process(self, result, http_headers):\n",
    "        \"\"\"\n",
    "        Effectue un post-traitement sur le résultat \"brut\" de la requête. En\n",
    "        particulier, on décode les dictionnaires JSON, et on convertit le texte\n",
    "        (encodé en UTF-8) en chaine de charactère Unicode. On peut étendre cette\n",
    "        méthode pour gérer d'autres types de contenu si besoin.\n",
    "        \"\"\"\n",
    "        if 'Content-Type' in http_headers:\n",
    "            if http_headers['Content-Type'] == \"application/json\":\n",
    "                return json.loads(result.decode())\n",
    "            if http_headers['Content-Type'].startswith(\"text/plain\"):\n",
    "                return result.decode()\n",
    "        # on ne sait pas ce que c'est : on laisse tel quel\n",
    "        return result\n",
    "\n",
    "    def _query(self, url, request, data=None):\n",
    "        \"\"\"\n",
    "        Cette fonction à usage interne est appelée par get(), post(), put(),\n",
    "        etc. Elle reçoit en argument une url et un objet Request() du module\n",
    "        standard urllib.request.\n",
    "        \"\"\"\n",
    "        self._pre_process(request)\n",
    "        try:           \n",
    "            # lance la requête. Si data n'est pas None, la requête aura un\n",
    "            # corps non-vide, avec data dedans.\n",
    "            with urllib.request.urlopen(request, data) as connexion:\n",
    "                # récupère les en-têtes HTTP et le corps de la réponse, puis\n",
    "                # ferme la connection\n",
    "                headers = dict(connexion.info())\n",
    "                result = connexion.read()\n",
    "            \n",
    "            # si on reçoit un identifiant de session, on le stocke\n",
    "            if 'Set-Cookie' in headers:\n",
    "                self._session = headers['Set-Cookie']\n",
    "\n",
    "            # on effectue le post-processing, puis on renvoie les données.\n",
    "            # c'est fini.\n",
    "            return self._post_process(result, headers)\n",
    "\n",
    "        except urllib.error.HTTPError as e:\n",
    "            # On arrive ici si le serveur a renvoyé un code d'erreur HTTP\n",
    "            # (genre 400, 403, 404, etc.). On récupère le corps de la réponse\n",
    "            # car il y a peut-être des explications dedans. On a besoin des\n",
    "            # en-tête pour le post-processing.\n",
    "            headers = dict(e.headers)\n",
    "            message = e.read()\n",
    "            raise ServerError(e.code, self._post_process(message, headers)) from None\n",
    "\n"
   ]
  },
  {
   "cell_type": "code",
   "execution_count": 6,
   "metadata": {},
   "outputs": [],
   "source": [
    "\n",
    "# ce script suppose qu'il a affaire à OpenSSL v1.1.1\n",
    "# vérifier avec \"openssl version\" en cas de doute.\n",
    "# attention à MacOS, qui fournit à la place LibreSSL.\n",
    "\n",
    "# en cas de problème, cette exception est déclenchée\n",
    "class OpensslError(Exception):\n",
    "    pass\n",
    "\n",
    "# Il vaut mieux être conscient de la différence entre str() et bytes()\n",
    "# cf /usr/doc/strings.txt\n",
    "\n",
    "\n",
    "def encrypt(plaintext, passphrase, cipher='aes-128-cbc'):\n",
    "    \"\"\"invoke the OpenSSL library (though the openssl executable which must be\n",
    "       present on your system) to encrypt content using a symmetric cipher.\n",
    "\n",
    "       The passphrase is an str object (a unicode string)\n",
    "       The plaintext is str() or bytes()\n",
    "       The output is bytes()\n",
    "\n",
    "       # encryption use\n",
    "       >>> message = \"texte avec caractères accentués\"\n",
    "       >>> c = encrypt(message, 'foobar')\n",
    "       \n",
    "    \"\"\"\n",
    "    # prépare les arguments à envoyer à openssl\n",
    "    pass_arg = 'pass:{0}'.format(passphrase)\n",
    "    args = ['openssl', 'enc', '-' + cipher, '-base64', '-pass', pass_arg, '-pbkdf2']\n",
    "    \n",
    "    # si le message clair est une chaine unicode, on est obligé de\n",
    "    # l'encoder en bytes() pour pouvoir l'envoyer dans le pipeline vers \n",
    "    # openssl\n",
    "    if isinstance(plaintext, str):\n",
    "        plaintext = plaintext.encode('utf-8')\n",
    "    \n",
    "    # ouvre le pipeline vers openssl. envoie plaintext sur le stdin de openssl, récupère stdout et stderr\n",
    "    #    affiche la commande invoquée\n",
    "    #    print('debug : {0}'.format(' '.join(args)))\n",
    "    result = subprocess.run(args, input=plaintext, stdout=subprocess.PIPE, stderr=subprocess.PIPE)\n",
    "\n",
    "    # si un message d'erreur est présent sur stderr, on arrête tout\n",
    "    # attention, sur stderr on récupère des bytes(), donc on convertit\n",
    "    error_message = result.stderr.decode()\n",
    "    if error_message != '':\n",
    "        raise OpensslError(error_message)\n",
    "\n",
    "    # OK, openssl a envoyé le chiffré sur stdout, en base64.\n",
    "    # On récupère des bytes, donc on en fait une chaine unicode\n",
    "    return result.stdout.decode()"
   ]
  },
  {
   "cell_type": "code",
   "execution_count": 4,
   "metadata": {},
   "outputs": [],
   "source": [
    "# vérifie l'authenticité de la signature du serveur\n",
    "from zlib import decompress as Y\n",
    "from base64 import b85decode as Z\n",
    "\n",
    "public_key = 'V<bQ*EigZNBrR`4RU|-cFmOX>Fiv1-H&bLOcX>@%Mrm+jR$*2}ZA?f`cxgdjF?C' \\\n",
    "             'jWPB$YzDtbyiPftxZP&ipPDtlKpJ$NuyUR7&Ta4<YUdRTmEVKQ}TRB$9VC2=c6V' \\\n",
    "             'OLL1ZZSJ=D^O#7PE#u(ZC+SvUwm~pH#0DHVmwkkSVlKOO;~ABPJLoiS|mY9YIkv' \\\n",
    "             '7Jzh+Cb6zbbBT0EyMrnC|Y-&+@cQR#nMsjyaX?AN(awJAHNhmfWM_5!zEh=O+Jy' \\\n",
    "             'J$1M|yQoKXFcFMPFlDU~V@;Vof|NGb=neLpN_XZEs>(W+ZtuEmJ=<U|=aVC@pG0' \\\n",
    "             'G$cYdX(3^LZDDD1Pe(XWM@?^VYGP7vPD5y6A$?bRWlbSPQ$$K`T1ZwaJ}X#uVmN' \\\n",
    "             '9tW+pUsQZ#ZQM}9RzVl{esR#h}WR5L<7WnXMIQ(k3gST|rhLw0dtMl&!pMsY<cH' \\\n",
    "             '&a+sNLX_zdMGkEWOy_}cs^+(C^%6wa5PhRMkZ-KMqX%1K2<VmLR5GtD?Da$U?VA' \\\n",
    "             'bMKC!iHdkI>O=LeXUSm~RF-Rm)HDqB`bty}GXmxryZc<ZYKxtojKuIu6S8HZOXF' \\\n",
    "             'ygtV0SAmd3sDHJ49tBZ!vXLa8e_5UsG;<QbSp1R%cLTP%(RNG%{dfPh=z}J4j=9' \\\n",
    "             'J#IB@He+UJC1F!dGJ8H$SwJ~%STkvES#WM-C^J%IdSW&=B`97yVQ^JTb15o%U~y' \\\n",
    "             'JSXni4LV?tAQd|o6dR(NS)BUmL=Nj_CIB}g+uR%}CRPIhi|KYUMOHDY`|UQshtH' \\\n",
    "             'EeNKKru*AAy+jeHFPmjPkd2ia7bPuY$Q))XmD_Abwyw+Z9OY0Iaqa7CTcuob~Hb' \\\n",
    "             'CCN_6^RY74?cuz1XC`3n5es(@lFeX_yFf~?Dc0+G_PfKo9HcWj!P$XJAOFnUJJ8' \\\n",
    "             'msWdqjD2NP2t'\n",
    "seed       = 'V<cc<Lr!ckd}m@*XfSXpFibpfKu<74MMg18D|9JAV{~ptbWCJbVLT>9Y;1HsH)j'\n",
    "algorithm  = 'c%1E6%?^Sv41Sdz+gI32aAjT$$PPw~Mx$Xoy>3opbO`%VssahDw3N2rSDFm!VqI' \\\n",
    "             '1R%Q&;EoHGyrkY7*KN2lzNUK^+JY=rHhte1=VN-A&1kIK-XjgUpY4~fccguRs2T' \\\n",
    "             'QL~wdywrXFblvpq3h@Jr38m$;61jZ=P|rBT{S?MA&CA6iKI`GA>=4AQTy^tXm)=' \\\n",
    "             'KwLK;ioybCf>Bq#0CW1T`wNGjj++^U6f=v8Mb#y5Li0}W2aJ)kLk_t2=XDm6oCU' \\\n",
    "             'QP{9#KCf(<o$!`#-Zl*t^}HX>J=einE4oc1+#t8mFCIwOZdIsPm=EBjO3eu;k+'\n",
    "signature = eval(Y(Z(algorithm)))\n",
    "if not signature.startswith(b'S50|UU'):\n",
    "    raise ValueError(\"ATTENTION : le serveur a été hacké !\")\n",
    "    \n",
    "\n"
   ]
  },
  {
   "cell_type": "code",
   "execution_count": 1,
   "metadata": {},
   "outputs": [
    {
     "ename": "NameError",
     "evalue": "name 'Connection' is not defined",
     "output_type": "error",
     "traceback": [
      "\u001b[1;31m---------------------------------------------------------------------------\u001b[0m",
      "\u001b[1;31mNameError\u001b[0m                                 Traceback (most recent call last)",
      "\u001b[1;32m~\\AppData\\Local\\Temp/ipykernel_8052/1452904714.py\u001b[0m in \u001b[0;36m<module>\u001b[1;34m\u001b[0m\n\u001b[0;32m      1\u001b[0m \u001b[0mlogin\u001b[0m \u001b[1;33m=\u001b[0m \u001b[1;34m\"\"\u001b[0m\u001b[1;33m\u001b[0m\u001b[1;33m\u001b[0m\u001b[0m\n\u001b[0;32m      2\u001b[0m \u001b[0mpassword\u001b[0m \u001b[1;33m=\u001b[0m \u001b[1;34m\"\"\u001b[0m\u001b[1;33m\u001b[0m\u001b[1;33m\u001b[0m\u001b[0m\n\u001b[1;32m----> 3\u001b[1;33m \u001b[0mc\u001b[0m \u001b[1;33m=\u001b[0m \u001b[0mConnection\u001b[0m\u001b[1;33m(\u001b[0m\u001b[1;33m)\u001b[0m\u001b[1;33m\u001b[0m\u001b[1;33m\u001b[0m\u001b[0m\n\u001b[0m\u001b[0;32m      4\u001b[0m \u001b[1;32mdef\u001b[0m \u001b[0mchapConnection\u001b[0m\u001b[1;33m(\u001b[0m\u001b[0mc\u001b[0m\u001b[1;33m,\u001b[0m \u001b[0musername\u001b[0m\u001b[1;33m,\u001b[0m\u001b[0mpassword\u001b[0m\u001b[1;33m)\u001b[0m\u001b[1;33m:\u001b[0m\u001b[1;33m\u001b[0m\u001b[1;33m\u001b[0m\u001b[0m\n\u001b[0;32m      5\u001b[0m     \u001b[0mchallenge\u001b[0m \u001b[1;33m=\u001b[0m \u001b[0mc\u001b[0m\u001b[1;33m.\u001b[0m\u001b[0mget\u001b[0m\u001b[1;33m(\u001b[0m\u001b[1;34m'/bin/login/CHAP'\u001b[0m\u001b[1;33m)\u001b[0m\u001b[1;33m\u001b[0m\u001b[1;33m\u001b[0m\u001b[0m\n",
      "\u001b[1;31mNameError\u001b[0m: name 'Connection' is not defined"
     ]
    }
   ],
   "source": [
    "login = \"palmerjohn\"\n",
    "password = \"j^5vL+Fpv@\"\n",
    "c = Connection()\n",
    "def chapConnection(c, username,password): \n",
    "    challenge = c.get('/bin/login/CHAP')\n",
    "    challenge = challenge['challenge']\n",
    "    cipher = encrypt(username + '-' + challenge, password)\n",
    "    return c.post('/bin/login/CHAP', user = username, response = cipher)\n",
    "chapConnection(c, login, password)"
   ]
  },
  {
   "cell_type": "code",
   "execution_count": 9,
   "metadata": {},
   "outputs": [],
   "source": [
    "def s2file(string,filename, mode = 'w'):\n",
    "    with open(filename, mode) as f:\n",
    "        f.write(string) "
   ]
  },
  {
   "cell_type": "code",
   "execution_count": 10,
   "metadata": {},
   "outputs": [],
   "source": [
    "def mail(username, numero = \"\", body = \"\"): \n",
    "    commande = '/home/' + username + '/INBOX'\n",
    "    if numero != \"\": \n",
    "        num_mail = \"/\" + numero \n",
    "        commande = commande + num_mail + body\n",
    "    print(c.get(commande))"
   ]
  },
  {
   "cell_type": "code",
   "execution_count": 13,
   "metadata": {},
   "outputs": [
    {
     "data": {
      "text/plain": [
       "'usage: echo [arguments]'"
      ]
     },
     "execution_count": 13,
     "metadata": {},
     "output_type": "execute_result"
    }
   ],
   "source": [
    "c.get('/bin/echo')"
   ]
  },
  {
   "cell_type": "code",
   "execution_count": 15,
   "metadata": {},
   "outputs": [
    {
     "data": {
      "text/plain": [
       "{'content_found': {'string_example': 'toto',\n",
       "  'list_example': [True, 42, {'foo': 'bar'}]},\n",
       " '[[kernel-monitord[42] UGLIX]]': 'ECHO:14:1@533419|98db887529bdd6cb25fbe141efdf7306'}"
      ]
     },
     "execution_count": 15,
     "metadata": {},
     "output_type": "execute_result"
    }
   ],
   "source": [
    "c.post('/bin/echo', string_example=\"toto\", list_example=[True, 42, {'foo': 'bar'}])"
   ]
  },
  {
   "cell_type": "code",
   "execution_count": 30,
   "metadata": {},
   "outputs": [
    {
     "data": {
      "text/plain": [
       "'USAGE: /bin/login [user] [password]'"
      ]
     },
     "execution_count": 30,
     "metadata": {},
     "output_type": "execute_result"
    }
   ],
   "source": [
    "c.get('/bin/login')"
   ]
  },
  {
   "cell_type": "code",
   "execution_count": 9,
   "metadata": {},
   "outputs": [
    {
     "data": {
      "text/plain": [
       "'PAP login successful. Access to /home/guest granted.\\n[ You have new mail ]'"
      ]
     },
     "execution_count": 9,
     "metadata": {},
     "output_type": "execute_result"
    }
   ],
   "source": [
    "c.post('/bin/login', user= 'guest', password= 'guest')"
   ]
  },
  {
   "cell_type": "code",
   "execution_count": 10,
   "metadata": {},
   "outputs": [
    {
     "data": {
      "text/plain": [
       "'----------------------------------------------------------------------\\nMessage #15.\\n\\n\\nDate: 03-01-21893 18:53:25\\nX-UGLIX-Spam: [[kernel-spamd[37] UGLIX]] GUEST.MAIL:14:1@955297|2a0407cdc9cc0de29c24974525425816\\nFrom: bwoolley@stocker-verlag.com\\nSubject: Do you desire to gratify your girlfriend tonight?\\n\\nhttp://eagerness.zxkaufvq.ru/\\n\\n\\n'"
      ]
     },
     "execution_count": 10,
     "metadata": {},
     "output_type": "execute_result"
    }
   ],
   "source": [
    "c.get('/home/guest/INBOX/15')"
   ]
  },
  {
   "cell_type": "code",
   "execution_count": 11,
   "metadata": {},
   "outputs": [
    {
     "data": {
      "text/plain": [
       "'# Bienvenue, guest.\\n# Dernière connection le 06-02-21893 20:07:27 (protocole : PAP)\\n# Vous avez 21 messages non lus (2368 en tout).\\n\\n================================================================================\\nBienvenue sur le compte invité. Il s\\'agit s\\'un service offert à la communauté.\\n\\nNous avons récemment observé un nombre grandissant d\\'abus dans l\\'usage de ce \\ncompte. Par exemple, le compte invité n\\'est pas censé servir de dépôt de \\nfichiers chiffrés (ceci contrevient à une disposition de la règlementation \\nCRX3-42b). Le fichier ``NASA.bin\\'\\' n\\'a aucune raison d\\'être là.\\n\\nDe plus, le mot de passe (\"ISEC\") est tellement faible que nous avons pu le \\ncracker en quelques instants. Ce genre de chiffrement low-cost n\\'offre en \\nréalité aucune protection. Cf. /doc/encryption pour plus de détails.\\n---\\nroot\\n\\n[[1612642047##kernel-monitord[42] UGLIX]]: GUEST.MOTD:14:1@713701|20f839dabbcbb1e19bcacbf8029d873b\\n================================================================================\\n\\n***** Contenu de votre dossier personnel ******\\n\\n  /home/guest/NASA.bin\\n  /home/guest/README.txt\\n'"
      ]
     },
     "execution_count": 11,
     "metadata": {},
     "output_type": "execute_result"
    }
   ],
   "source": [
    "c.get('/home/guest')"
   ]
  },
  {
   "cell_type": "code",
   "execution_count": 12,
   "metadata": {
    "scrolled": true
   },
   "outputs": [
    {
     "data": {
      "text/plain": [
       "'U2FsdGVkX1+50ehSUSFtABFsoGXe3ep+wcW1leSVK3MvbthH1fIS5qifSoQr28u0\\n5k+7r9Sh2qfkfPL+Ml1D4KbZ0fvRcKLRV6EPDetRCO3m6TzZa1nvJJmFqiv58DPd\\ndlxOiScfSR7xkXXUhPJgae5R32mK+/Vjwf2X4Nkrqos6hmP6uIb45ArVpWtWSXSE\\nyVDd5xjd37nmFk2fLyiWBzJfLGOQXJgEkcVre79/JDfC97t3DCkBeuYgqmektDNB\\nMFPDDfFD/0hTz9Y9r2r9x/LGWG7OT7eozv+JzNZFOahSgOx/IxrFU33tKAQjmllj\\ntql/ElAAUCUej3+OizjEAlHb+pawgImAsKeKwR8R2mWEorgyMdT2T6+qldmxwr+q\\n+0bJ9UNtXn4UQxestbm7O7fyDbf58DexI6DOXHGHXqOW6chj/g2KFvePFs2miMGA\\nhp0KoILb+mvXC6+fF+qP+UrawWrZuvuytfCuVeIgEHkzjnZShP7qjw6rkgfAZTzP\\nYn4PlJTarbEmV4g/RZZmSQPxJmKew0MWLsvoQZU4lfKp7Wgk/sGlqseXoPQJCgNe\\nwAdwEF5/b81qZTWKpnlitWCy5h8QJ/qOADt20T3bqCvJ4pdowakDg4IxMSQzWkb0\\nDt0hY1Rf/b4o+9sbk5jxZipMxMrHmzHBT0PQ2T3fjuUxfVfapqYe7upNUmBrbVox\\npGM3Rw0sxvOx9N4clNZ/Oto4knYJ2vCpSBHHlZ8L0UuDgIJSUb9O2ZFsyGRmnZLL\\n4brCcXcDUkb9/1R7toOHmoxZTgwTQ51tapLKBzGSxyVp08Ot0FNT+SisCdm9IFZW\\nPLNk/gNqnsbJO4VWg2+8cJDaQr92AwEZPhI/VxrGW/svFttxApA8I1GHIfhyyPYg\\nlDNk/toyjwoWmlYaaRBc6reZdgm+kRaDsP2enDRjpgH7E9MQ2eC4bhJHwZ514fXP\\njp9N+eV3J1h2iRoE6dkJVx9421bkRbxoqSCPldL1bGKfEhSbx2KeB9LX6c06fvfk\\nrhHexqrPVuiut5CnTZXpNcdW/o42zTWVaM+xILV8vvBE/d1QMus58SBIZUlFuM+E\\ncgZyQyQYO9VNVZbYEHy+YbaggpEwYKMqnN9KiqOF9lEr4qLgAotfqqWhFKWNQ2jT\\n5ZMo+SrS2VXiaRaGiwcFQy78jKOyz9n/CSoqbvotZV2OgIy2BORUoiMiESNyQXxQ\\nMJGYLKR6Xb1ksI0P7QUOUW5VZvkgVJjcuMjZi5x6+Gx1teizxnsG5Ld+qrhcrFIb\\nAm+Kp59SqFTBMaY/nkWCQUvFvPutIKAl4X8OidNDUdghSjX09eWScnNoobtCnkNd\\nYjGERSMzhEVsC6q9JRGeNd8kM3RQE8VYtUg8u26xdXPkc/NsHF4hQU1W9KQnK/mM\\nlveJq4lxap0c7EzU9qMhxKd4yCRSWi10i6Dvh7L6vkdRTx9K9YOPR/9EuxPf3OaS\\n4SUUKyKarwfTeEWxMkTkZrBAONXHljfXEZSA6FHl4GMPU6gk9DG/WgIwcP3pryt/\\n'"
      ]
     },
     "execution_count": 12,
     "metadata": {},
     "output_type": "execute_result"
    }
   ],
   "source": [
    "c.get('/home/guest/NASA.bin')"
   ]
  },
  {
   "cell_type": "code",
   "execution_count": 13,
   "metadata": {},
   "outputs": [
    {
     "data": {
      "text/plain": [
       "'Les informations importantes sont contenues dans le fichier \"NASA.bin\", mais il\\nest chiffré avec OpenSSL.\\n\\nLe mot de passe est \"ISEC\" (sans les guillemets, bien sûr).\\n\\nLisez \"/doc/encryption\" pour plus de détails sur la procédure de déchiffrement.\\n\\nBon courage,\\n---\\nLe manager'"
      ]
     },
     "execution_count": 13,
     "metadata": {},
     "output_type": "execute_result"
    }
   ],
   "source": [
    "c.get('/home/guest/README.txt')"
   ]
  },
  {
   "cell_type": "code",
   "execution_count": 6,
   "metadata": {},
   "outputs": [],
   "source": [
    "def decrypt(file_name, password, cipher='aes-128-cbc'):\n",
    "    # prépare les arguments à envoyer à openssl\n",
    "    pass_arg = 'pass:{0}'.format(password)\n",
    "    args = ['openssl', 'enc', '-d', '-base64', '-' + cipher, '-pbkdf2', '-pass', pass_arg, '-in', file_name]\n",
    "    \n",
    "    # si le message clair est une chaine unicode, on est obligé de\n",
    "    # l'encoder en bytes() pour pouvoir l'envoyer dans le pipeline vers \n",
    "    # openssl\n",
    "    if isinstance(file_name, str):\n",
    "        file_name = file_name.encode('utf-8')\n",
    "    \n",
    "    # ouvre le pipeline vers openssl. envoie plaintext sur le stdin de openssl, récupère stdout et stderr\n",
    "    #    affiche la commande invoquée\n",
    "    #    print('debug : {0}'.format(' '.join(args)))\n",
    "    result = subprocess.run(args, input=file_name, stdout=subprocess.PIPE, stderr=subprocess.PIPE)\n",
    "\n",
    "    # si un message d'erreur est présent sur stderr, on arrête tout\n",
    "    # attention, sur stderr on récupère des bytes(), donc on convertit\n",
    "    error_message = result.stderr.decode()\n",
    "    if error_message != '':\n",
    "        raise OpensslError(error_message)\n",
    "\n",
    "    # OK, openssl a envoyé le chiffré sur stdout, en base64.\n",
    "    # On récupère des bytes, donc on en fait une chaine unicode\n",
    "    return result.stdout.decode()"
   ]
  },
  {
   "cell_type": "code",
   "execution_count": 11,
   "metadata": {},
   "outputs": [
    {
     "ename": "ServerError",
     "evalue": "ERREUR 403, Permission denied.",
     "output_type": "error",
     "traceback": [
      "\u001b[0;31m---------------------------------------------------------------------------\u001b[0m",
      "\u001b[0;31mServerError\u001b[0m                               Traceback (most recent call last)",
      "\u001b[0;32m<ipython-input-11-b90375626d90>\u001b[0m in \u001b[0;36m<module>\u001b[0;34m\u001b[0m\n\u001b[0;32m----> 1\u001b[0;31m \u001b[0mnasa\u001b[0m \u001b[0;34m=\u001b[0m \u001b[0mc\u001b[0m\u001b[0;34m.\u001b[0m\u001b[0mget\u001b[0m\u001b[0;34m(\u001b[0m\u001b[0;34m'/home/guest/NASA.bin'\u001b[0m\u001b[0;34m)\u001b[0m\u001b[0;34m\u001b[0m\u001b[0;34m\u001b[0m\u001b[0m\n\u001b[0m\u001b[1;32m      2\u001b[0m \u001b[0;32mwith\u001b[0m \u001b[0mopen\u001b[0m \u001b[0;34m(\u001b[0m\u001b[0;34m'NASA.bin'\u001b[0m\u001b[0;34m,\u001b[0m \u001b[0;34m'w'\u001b[0m\u001b[0;34m)\u001b[0m \u001b[0;32mas\u001b[0m \u001b[0mf\u001b[0m\u001b[0;34m:\u001b[0m\u001b[0;34m\u001b[0m\u001b[0;34m\u001b[0m\u001b[0m\n\u001b[1;32m      3\u001b[0m     \u001b[0mf\u001b[0m\u001b[0;34m.\u001b[0m\u001b[0mwrite\u001b[0m\u001b[0;34m(\u001b[0m\u001b[0mnasa\u001b[0m\u001b[0;34m)\u001b[0m\u001b[0;34m\u001b[0m\u001b[0;34m\u001b[0m\u001b[0m\n",
      "\u001b[0;32m~/Bureau/TME ISEC/client.py\u001b[0m in \u001b[0;36mget\u001b[0;34m(self, url)\u001b[0m\n\u001b[1;32m    272\u001b[0m     \u001b[0;32mdef\u001b[0m \u001b[0mget\u001b[0m\u001b[0;34m(\u001b[0m\u001b[0mself\u001b[0m\u001b[0;34m,\u001b[0m \u001b[0murl\u001b[0m\u001b[0;34m)\u001b[0m\u001b[0;34m:\u001b[0m\u001b[0;34m\u001b[0m\u001b[0;34m\u001b[0m\u001b[0m\n\u001b[1;32m    273\u001b[0m         \u001b[0;32mif\u001b[0m \u001b[0mself\u001b[0m\u001b[0;34m.\u001b[0m\u001b[0mmode\u001b[0m \u001b[0;34m==\u001b[0m \u001b[0;34m\"chap\"\u001b[0m\u001b[0;34m:\u001b[0m\u001b[0;34m\u001b[0m\u001b[0;34m\u001b[0m\u001b[0m\n\u001b[0;32m--> 274\u001b[0;31m             \u001b[0;32mreturn\u001b[0m \u001b[0msuper\u001b[0m\u001b[0;34m(\u001b[0m\u001b[0;34m)\u001b[0m\u001b[0;34m.\u001b[0m\u001b[0mget\u001b[0m\u001b[0;34m(\u001b[0m\u001b[0murl\u001b[0m\u001b[0;34m)\u001b[0m\u001b[0;34m\u001b[0m\u001b[0;34m\u001b[0m\u001b[0m\n\u001b[0m\u001b[1;32m    275\u001b[0m         \u001b[0;32mif\u001b[0m \u001b[0;34m(\u001b[0m\u001b[0;34m(\u001b[0m\u001b[0mself\u001b[0m\u001b[0;34m.\u001b[0m\u001b[0mmode\u001b[0m \u001b[0;34m==\u001b[0m \u001b[0;34m\"stp\"\u001b[0m \u001b[0;34m)\u001b[0m\u001b[0;34m|\u001b[0m \u001b[0;34m(\u001b[0m\u001b[0mself\u001b[0m\u001b[0;34m.\u001b[0m\u001b[0mmode\u001b[0m \u001b[0;34m==\u001b[0m \u001b[0;34m\"dh\"\u001b[0m\u001b[0;34m)\u001b[0m\u001b[0;34m)\u001b[0m\u001b[0;34m:\u001b[0m\u001b[0;34m\u001b[0m\u001b[0;34m\u001b[0m\u001b[0m\n\u001b[1;32m    276\u001b[0m             \u001b[0mrequete\u001b[0m \u001b[0;34m=\u001b[0m \u001b[0;34m{\u001b[0m\u001b[0;34m'method'\u001b[0m\u001b[0;34m:\u001b[0m \u001b[0;34m\"GET\"\u001b[0m\u001b[0;34m,\u001b[0m \u001b[0;34m'url'\u001b[0m\u001b[0;34m:\u001b[0m \u001b[0murl\u001b[0m\u001b[0;34m}\u001b[0m\u001b[0;34m\u001b[0m\u001b[0;34m\u001b[0m\u001b[0m\n",
      "\u001b[0;32m~/Bureau/TME ISEC/client.py\u001b[0m in \u001b[0;36mget\u001b[0;34m(self, url)\u001b[0m\n\u001b[1;32m     88\u001b[0m         \u001b[0;31m# prépare la requête\u001b[0m\u001b[0;34m\u001b[0m\u001b[0;34m\u001b[0m\u001b[0;34m\u001b[0m\u001b[0m\n\u001b[1;32m     89\u001b[0m         \u001b[0mrequest\u001b[0m \u001b[0;34m=\u001b[0m \u001b[0murllib\u001b[0m\u001b[0;34m.\u001b[0m\u001b[0mrequest\u001b[0m\u001b[0;34m.\u001b[0m\u001b[0mRequest\u001b[0m\u001b[0;34m(\u001b[0m\u001b[0mself\u001b[0m\u001b[0;34m.\u001b[0m\u001b[0m_base\u001b[0m \u001b[0;34m+\u001b[0m \u001b[0murl\u001b[0m\u001b[0;34m,\u001b[0m \u001b[0mmethod\u001b[0m\u001b[0;34m=\u001b[0m\u001b[0;34m'GET'\u001b[0m\u001b[0;34m)\u001b[0m\u001b[0;34m\u001b[0m\u001b[0;34m\u001b[0m\u001b[0m\n\u001b[0;32m---> 90\u001b[0;31m         \u001b[0;32mreturn\u001b[0m \u001b[0mself\u001b[0m\u001b[0;34m.\u001b[0m\u001b[0m_query\u001b[0m\u001b[0;34m(\u001b[0m\u001b[0murl\u001b[0m\u001b[0;34m,\u001b[0m \u001b[0mrequest\u001b[0m\u001b[0;34m)\u001b[0m\u001b[0;34m\u001b[0m\u001b[0;34m\u001b[0m\u001b[0m\n\u001b[0m\u001b[1;32m     91\u001b[0m \u001b[0;34m\u001b[0m\u001b[0m\n\u001b[1;32m     92\u001b[0m \u001b[0;34m\u001b[0m\u001b[0m\n",
      "\u001b[0;32m~/Bureau/TME ISEC/client.py\u001b[0m in \u001b[0;36m_query\u001b[0;34m(self, url, request, data)\u001b[0m\n\u001b[1;32m    227\u001b[0m             \u001b[0mheaders\u001b[0m \u001b[0;34m=\u001b[0m \u001b[0mdict\u001b[0m\u001b[0;34m(\u001b[0m\u001b[0me\u001b[0m\u001b[0;34m.\u001b[0m\u001b[0mheaders\u001b[0m\u001b[0;34m)\u001b[0m\u001b[0;34m\u001b[0m\u001b[0;34m\u001b[0m\u001b[0m\n\u001b[1;32m    228\u001b[0m             \u001b[0mmessage\u001b[0m \u001b[0;34m=\u001b[0m \u001b[0me\u001b[0m\u001b[0;34m.\u001b[0m\u001b[0mread\u001b[0m\u001b[0;34m(\u001b[0m\u001b[0;34m)\u001b[0m\u001b[0;34m\u001b[0m\u001b[0;34m\u001b[0m\u001b[0m\n\u001b[0;32m--> 229\u001b[0;31m             \u001b[0;32mraise\u001b[0m \u001b[0mServerError\u001b[0m\u001b[0;34m(\u001b[0m\u001b[0me\u001b[0m\u001b[0;34m.\u001b[0m\u001b[0mcode\u001b[0m\u001b[0;34m,\u001b[0m \u001b[0mself\u001b[0m\u001b[0;34m.\u001b[0m\u001b[0m_post_process\u001b[0m\u001b[0;34m(\u001b[0m\u001b[0mmessage\u001b[0m\u001b[0;34m,\u001b[0m \u001b[0mheaders\u001b[0m\u001b[0;34m)\u001b[0m\u001b[0;34m)\u001b[0m \u001b[0;32mfrom\u001b[0m \u001b[0;32mNone\u001b[0m\u001b[0;34m\u001b[0m\u001b[0;34m\u001b[0m\u001b[0m\n\u001b[0m\u001b[1;32m    230\u001b[0m \u001b[0;34m\u001b[0m\u001b[0m\n\u001b[1;32m    231\u001b[0m \u001b[0;32mclass\u001b[0m \u001b[0mconnexion2\u001b[0m\u001b[0;34m(\u001b[0m\u001b[0mConnection\u001b[0m\u001b[0;34m)\u001b[0m\u001b[0;34m:\u001b[0m\u001b[0;34m\u001b[0m\u001b[0;34m\u001b[0m\u001b[0m\n",
      "\u001b[0;31mServerError\u001b[0m: ERREUR 403, Permission denied."
     ]
    }
   ],
   "source": [
    "nasa = c.get('/home/guest/NASA.bin')\n",
    "with open ('NASA.bin', 'w') as f:\n",
    "    f.write(nasa)"
   ]
  },
  {
   "cell_type": "code",
   "execution_count": 17,
   "metadata": {},
   "outputs": [
    {
     "name": "stdout",
     "output_type": "stream",
     "text": [
      "Après plusieurs années d'efforts, mon équipe est finalement parvenue à\n",
      "obtenir accès à des comptes (autres que \"guest\") dans le système. Nous\n",
      "avons découvert un fichier publiquement accessible contenant les\n",
      "informations suivantes :\n",
      "\n",
      "\n",
      "\n",
      "  nom         : Bailey Brown\n",
      "  entreprise  : Obrien, Collins and Love\n",
      "  login       : palmerjohn\n",
      "  password    : j^5vL+Fpv@\n",
      "\n",
      "\n",
      "\n",
      "Ce qui est très bizarre, c'est que ce fichier a disparu tout de suite\n",
      "après que nous l'ayons lu ! Lors de la deuxième tentative d'accès, au\n",
      "lieu d'accéder au contenu déjà présent, nous avons trouvé :\n",
      "\n",
      "[[1612642049##kernel-monitord[42] UGLIX]]: GUEST.FILE:3030:1@320626|f6dc4e0aebb252d157bd7dc0a299ef4f\n",
      "\n",
      "\n",
      "Au début nous avons cru qu'il s'agissait peut-être d'une bévue commise\n",
      "par un utilisateur ou un \"administrateur\" peu précautionneux... Mais la\n",
      "disparition du fichier, et le message ci-dessus laissent penser que\n",
      "nous avons, involontairement, interagi avec quelqu'un ou quelque chose. \n",
      "Se pourrait-il ***qu'on*** nous ait aidé ?\n",
      "\n",
      "En attendant, c'est un pas en avant considérable dans notre étude de\n",
      "ce système étonnant.\n",
      "---\n",
      "Le manager\n"
     ]
    }
   ],
   "source": [
    "resultat = decrypt('NASA.bin', 'ISEC')\n",
    "print(resultat)"
   ]
  },
  {
   "cell_type": "code",
   "execution_count": 23,
   "metadata": {},
   "outputs": [
    {
     "data": {
      "text/plain": [
       "'PAP login successful. Access to /home/palmerjohn granted.\\n[ You have new mail ]'"
      ]
     },
     "execution_count": 23,
     "metadata": {},
     "output_type": "execute_result"
    }
   ],
   "source": [
    "c.get('/bin/login')\n",
    "c.post('/bin/login', user= 'palmerjohn', password= 'j^5vL+Fpv@')"
   ]
  },
  {
   "cell_type": "code",
   "execution_count": 24,
   "metadata": {},
   "outputs": [
    {
     "data": {
      "text/plain": [
       "'Music stopped.'"
      ]
     },
     "execution_count": 24,
     "metadata": {},
     "output_type": "execute_result"
    }
   ],
   "source": [
    "c.post('/bin/jukebox/stop')"
   ]
  },
  {
   "cell_type": "code",
   "execution_count": 25,
   "metadata": {},
   "outputs": [
    {
     "name": "stdout",
     "output_type": "stream",
     "text": [
      "# Bienvenue, palmerjohn.\n",
      "# Dernière connection le 12-02-21893 11:59:06 (protocole : PAP)\n",
      "# Vous avez 62 messages non lus (84 en tout).\n",
      "\n",
      "================================================================================\n",
      "Rumeur du jour: \n",
      "\n",
      "Travailler dans les datacenter pourrait être dangereux.\n",
      "================================================================================\n",
      "\n",
      "***** Contenu de votre dossier personnel ******\n",
      "\n",
      "  /home/palmerjohn/bye-bye.txt\n",
      "\n"
     ]
    }
   ],
   "source": [
    "print(c.get('/home/palmerjohn'))"
   ]
  },
  {
   "cell_type": "code",
   "execution_count": 26,
   "metadata": {},
   "outputs": [
    {
     "data": {
      "text/plain": [
       "\"Si vous lisez ces lignes, c'est que vous avez remarqué mon absence. Je \\nm'explique en deux mots :\\n\\n*) J'en ai marre de ce p&£@%n de helpdesk de m#$§e. Les clients sont \\n   insupportables et les managers sont pire encore.\\n\\n*) J'ai envie de VIVRE, d'avoir une VRAIE vie, de voir des VRAIS gens, de faire\\n   le tour du VRAI monde, d'être VRAIMENT heureux et pas d'en avoir juste \\n   l'impression.\\n\\nBref, je suis parti. Bon vent. Bonne chance pour me retrouver.  Et si ça \\ndésorganise le helpdesk, eh bien... tant pis pour eux !\\n\\nà bon entendeur, salut.\""
      ]
     },
     "execution_count": 26,
     "metadata": {},
     "output_type": "execute_result"
    }
   ],
   "source": [
    "c.get('/home/palmerjohn/bye-bye.txt')"
   ]
  },
  {
   "cell_type": "code",
   "execution_count": 13,
   "metadata": {},
   "outputs": [
    {
     "data": {
      "text/plain": [
       "\"----------------------------------------------------------------------\\nINBOX: There are more than 25 messages. Only displaying the 25 last messages.\\n\\nMessage | Read | Sender                   | Subject\\n--------+------+--------------------------+---------------------------\\n 11960  |   Y  | anonymous.coward         | Il faut qu'on parle\\n 11959  |   N  | anonymous.coward         | Il faut qu'on parle\\n 11958  |   N  | anonymous.coward         | Il faut qu'on parle\\n 11957  |   N  | anonymous.coward         | Il faut qu'on parle\\n 11954  |   Y  | CLEA Director            | La curiosité est un vilain défaut\\n 11519  |   Y  | janice66                 | Re: Signature\\n 11511  |   N  | janice66                 | Re: Signature\\n 11504  |   N  | janice66                 | Re: Signature\\n 11502  |   N  | janice66                 | Re: Signature\\n 11499  |   N  | janice66                 | Re: Signature\\n 11498  |   Y  | janice66                 | Re: Signature\\n 11497  |   Y  | janice66                 | Re: Signature\\n 11496  |   N  | janice66                 | Re: Signature\\n 11493  |   Y  | janice66                 | Re: Signature\\n 11492  |   N  | janice66                 | Re: Signature\\n 11489  |   Y  | janice66                 | Re: Signature\\n 11488  |   Y  | janice66                 | Re: Signature\\n 11487  |   N  | janice66                 | Re: Signature\\n 11486  |   Y  | janice66                 | Re: Signature\\n 11483  |   Y  | janice66                 | Re: Signature\\n 11468  |   Y  | janice66                 | Votre nouveau contrat de travail\\n 11467  |   N  | HelpDesk Manager         | [work] Vous avez une promotion\\n 11466  |   Y  | brandon09                | Re: Fichier\\n 11465  |   Y  | brandon09                | Re: Fichier\\n 11443  |   N  | anthonyjessica           | Re: Reponse\\n\\n\""
      ]
     },
     "execution_count": 13,
     "metadata": {},
     "output_type": "execute_result"
    }
   ],
   "source": [
    "c.get('/home/palmerjohn/INBOX')"
   ]
  },
  {
   "cell_type": "code",
   "execution_count": 27,
   "metadata": {},
   "outputs": [
    {
     "data": {
      "text/plain": [
       "'----------------------------------------------------------------------\\nMessage #11180.\\n\\n\\nDate: 06-02-21893 20:08:24\\nFrom: Help Desk Administrator\\nSubject: [work] Vous avez 4202 tickets en attente\\n\\nCher(e) Bailey,\\n\\nVous avez 4202 tickets en attente. Je vous rappelle que notre\\nentreprise, Obrien, Collins and Love, se fait un honneur d\\'honorer\\nles requêtes de ses clients en temps et en heure. En tant\\nqu\\'expert(e), vous avez un engagement moral à assurer l\\'excellence du\\ndépartement de S.A.V. cryptographique.\\n\\nJe vous prie donc de vous connecter au plus vite sur l\\'interface de\\ntraitement des tickets :\\n\\n    /bin/crypto_helpdesk\\n\\nAu cas où vous seriez une jeune recrue du service, je vous rappelle\\nles grandes lignes de notre mission. Nos clients, lorsqu\\'ils désirent\\nfaire appel à nos service, ouvrent un \"ticket\" dans le système de\\nsuivi. L\\'administrateur du système de suivi vous affecte des ticket.\\nIl vous incombe alors de répondre au problème de l\\'utilisateur.\\n\\nVotre contrat de travail stipule très clairement que vous avez une\\nobligation de traiter au moins [[HELPDESK_TICKETS_PER_DAY]] tickets\\npar jour. Si vous persistez dans votre attitude négative, je me\\nverrais dans l\\'obligation de transmettre votre dossier au service\\njuridique.\\n\\nCordialement,\\n---\\nL\\'administrateur du SAV cryptographique\\n\\n\\n'"
      ]
     },
     "execution_count": 27,
     "metadata": {},
     "output_type": "execute_result"
    }
   ],
   "source": [
    "c.get('/home/palmerjohn/INBOX/11180')"
   ]
  },
  {
   "cell_type": "raw",
   "metadata": {},
   "source": [
    "                    ########################################################\n",
    "                                        Crypto_helpdesk\n",
    "                    ########################################################"
   ]
  },
  {
   "cell_type": "code",
   "execution_count": 358,
   "metadata": {
    "scrolled": false
   },
   "outputs": [
    {
     "name": "stderr",
     "output_type": "stream",
     "text": [
      "Exception in thread Thread-59:\n",
      "Traceback (most recent call last):\n",
      "  File \"/home/mohamed/anaconda3/lib/python3.8/threading.py\", line 932, in _bootstrap_inner\n"
     ]
    },
    {
     "data": {
      "text/plain": [
       "'[initializing ticket system]\\n[connecting to tickets daemon]\\n[fetching tickets]---> 6 tickets in queue\\n[building UI]\\n[startup complete]\\n\\nHello palmerjohn,\\n\\nWelcome to Obrien, Collins and Love Helpdesk User Interface.\\n\\nYour pending ticket list:\\n-----------+-------+----------------------------------+------------------------------------\\n|  id      | level | client                           | mission\\n-----------+-------+----------------------------------+------------------------------------\\n| 1124     | 1     | Nguyen, Cruz and Osborn          | Message à déchiffrer (clef publique)\\n| 1125     | 3     | Nguyen, Cruz and Osborn          | Chiffrement hybride\\n| XXXXXXXX | XXXXX | XXX SESSION SECURITY TOO LOW XXX | XXX PLEASE USE CHAP LOGIN (/doc/CHAP) XXX \\n| XXXXXXXX | XXXXX | XXX SESSION SECURITY TOO LOW XXX | XXX PLEASE USE CHAP LOGIN (/doc/CHAP) XXX \\n| XXXXXXXX | XXXXX | XXX SESSION SECURITY TOO LOW XXX | XXX PLEASE USE CHAP LOGIN (/doc/CHAP) XXX\\n\\nIf you need assistance, /doc/helpdesk is a good place to start.\\n\\n[ You have new mail ]'"
      ]
     },
     "execution_count": 358,
     "metadata": {},
     "output_type": "execute_result"
    },
    {
     "name": "stderr",
     "output_type": "stream",
     "text": [
      "    self.run()\n",
      "  File \"/home/mohamed/anaconda3/lib/python3.8/threading.py\", line 870, in run\n",
      "    self._target(*self._args, **self._kwargs)\n",
      "  File \"<string>\", line 87, in _play\n",
      "  File \"<string>\", line 1437, in __new__\n",
      "  File \"<string>\", line 3771, in libvlc_new\n",
      "  File \"<string>\", line 271, in _Cfunction\n",
      "NameError: no function 'libvlc_new'\n"
     ]
    }
   ],
   "source": [
    "c.get('/bin/crypto_helpdesk')"
   ]
  },
  {
   "cell_type": "raw",
   "metadata": {},
   "source": [
    "                    #####################################################\n",
    "                                        Ticket 1111\n",
    "                    #####################################################"
   ]
  },
  {
   "cell_type": "code",
   "execution_count": 359,
   "metadata": {},
   "outputs": [
    {
     "data": {
      "text/plain": [
       "'Bonjour,\\n\\nJe suis Erika Mendez, le  gestionnaire du SAV\\ncrypto. \\n\\nCe ticket-tutoriel a pour but de vous  guider lors des différentes étapes de \\ntraitement d\\'un ticket. Il n\\'y a pas de vrai travail cryptographique à faire.\\n\\nIl n\\'est pas obligatoire de le traiter pour passer à la suite.\\n\\nCe ticket est accompagné par une pièce jointe d\\'identifiant \"fetch-me\". Pour la\\nrécupérer, il vous faut donc lire le fichier ``virtuel\\'\\' : \\n    \\n    /bin/crypto_helpdesk/ticket/1111/attachment/fetch-me\\n\\nPour pouvoir fermer ce ticket, vous devez m\\'envoyer un email, à l\\'adresse \\n``scottalyssa\\'\\'. Le corps de ce mail doit être un dictionnaire\\ncontenant deux paires clef-valeur :\\n\\n  + \\'foo\\' : le contenu de la pièce jointe\\n  + \\'bar\\' : le nombre 42\\n\\nNotez que tous les tickets ont une pièce-jointe spéciale nommée \"client\", que \\nvous pouvez donc lire ici :\\n\\n    /bin/crypto_helpdesk/ticket/1111/attachment/client\\n\\nEt qui contient l\\'adresse email de celui qui a ouvert le ticket, et à qui il \\nfaut généralement répondre quelque chose.\\n\\n\\nUne fois que c\\'est fait, vous pourrez demander la fermeture du ticket, en \\nenvoyant une requête POST à l\\'adresse :\\n\\n   /bin/crypto_helpdesk/ticket/1111/close\\n\\nVous pouvez dans tous les cas vous réferer à la documentation.\\n\\nBon courage, et bienvenue à bord ;)\\n[ You have new mail ]'"
      ]
     },
     "execution_count": 359,
     "metadata": {},
     "output_type": "execute_result"
    }
   ],
   "source": [
    "c.get('/bin/crypto_helpdesk/ticket/1111')"
   ]
  },
  {
   "cell_type": "code",
   "execution_count": 360,
   "metadata": {
    "scrolled": true
   },
   "outputs": [
    {
     "data": {
      "text/plain": [
       "'Operational researcher'"
      ]
     },
     "execution_count": 360,
     "metadata": {},
     "output_type": "execute_result"
    }
   ],
   "source": [
    "c.get('/bin/crypto_helpdesk/ticket/1111/attachment/fetch-me')"
   ]
  },
  {
   "cell_type": "code",
   "execution_count": 361,
   "metadata": {},
   "outputs": [
    {
     "data": {
      "text/plain": [
       "{'name': 'Erika Mendez',\n",
       " 'company': 'Crypto Helpdesk Management',\n",
       " 'email': 'scottalyssa'}"
      ]
     },
     "execution_count": 361,
     "metadata": {},
     "output_type": "execute_result"
    }
   ],
   "source": [
    "c.get('/bin/crypto_helpdesk/ticket/1111/attachment/client')"
   ]
  },
  {
   "cell_type": "code",
   "execution_count": null,
   "metadata": {},
   "outputs": [],
   "source": [
    "c.post('/bin/sendmail', to='scottalyssa', subject=\"ticket\", content={'foo':'Operational researcher', 'bar':42})"
   ]
  },
  {
   "cell_type": "code",
   "execution_count": 42,
   "metadata": {},
   "outputs": [
    {
     "data": {
      "text/plain": [
       "'STATUS : OK --- ticket 1111 closed\\n\\n[[1612642487##desk-trackerd[37] UGLIX]]: SAV.TUTO:3030:1@841824|18db9d9224690bd5744ef5027b60de09\\n[ You have new mail ]'"
      ]
     },
     "execution_count": 42,
     "metadata": {},
     "output_type": "execute_result"
    }
   ],
   "source": [
    "c.post('/bin/crypto_helpdesk/ticket/1111/close')"
   ]
  },
  {
   "cell_type": "raw",
   "metadata": {},
   "source": [
    "            ###################################################################\n",
    "                                     Ticket 1112\n",
    "            ###################################################################"
   ]
  },
  {
   "cell_type": "code",
   "execution_count": 362,
   "metadata": {},
   "outputs": [
    {
     "data": {
      "text/plain": [
       "'Bonjour,\\n\\nJe suis assistant de direction chez Boyer PLC, et j\\'ai un \\nproblème.\\n\\nMon N+1 insiste pour que je lui transmette rapidement une version chiffrée d\\'un \\nfichier qui se trouve sur un périphérique de stockage à long terme. Plus \\nprécisément, il s\\'agit du contenu de la bande magnétique numéro 1024. Pour la\\nrécupérer, il suffit que vous utilisiez le système de stockage pérenne, auquel\\non peut accéder à l\\'adresse :\\n\\n        /bin/long-term-storage\\n\\nIl vous suffira de vous laisser guider.\\n\\nPour ma part, je n\\'y comprends rien, comme je ne comprends rien à la \\ncryptographie en général, mais d\\'après un tuto que j\\'ai trouvé sur un forum, on \\nm\\'a dit qu\\'il fallait utiliser la méthode (standard) nommée \"aes-128-cbc\". On \\nme demande d\\'utiliser le mot de passe ``@&amp;3MiZisc&amp;\\'\\' (note : il est \\ndisponible dans une autre pièce-jointe d\\'identifiant \\'password\\').\\n \\nRenvoyez-moi vite la version chiffrée à l\\'adresse ``xcasey\\'\\', s\\'il vous \\nplait.\\n---\\nBeth Curtis\\nAssistant de direction chez Boyer PLC\\n\\n\\nPS : Il peu y avoir un peu de garbage pseudo-aléatoire avant et après le texte à \\nproprement parler. C\\'est toujours un problème avec ces bandes magnétiques de \\nmauvaise qualité... Mais quoi qu\\'il en soit, vous pouvez retirer tout ça ! Seul\\nle texte est important.\\n\\n[ You have new mail ]'"
      ]
     },
     "execution_count": 362,
     "metadata": {},
     "output_type": "execute_result"
    }
   ],
   "source": [
    "c.get('/bin/crypto_helpdesk/ticket/1112')"
   ]
  },
  {
   "cell_type": "code",
   "execution_count": 48,
   "metadata": {},
   "outputs": [
    {
     "data": {
      "text/plain": [
       "{'url': '/bin/long-term-storage/device/859ee5c7',\n",
       " 'status': 'READY',\n",
       " 'message': 'Storage Device 1024 is available',\n",
       " 'operator': 'amanda33',\n",
       " 'signature': 'MEUCIHmOuI4h5NjB/UoJidcsjWSmXp+TFQr7jYtRU4QQscN/AiEAhTRy0OPHUdI+u4AWOnNzRk5nClBcZZN+/UIGeywujlE='}"
      ]
     },
     "execution_count": 48,
     "metadata": {},
     "output_type": "execute_result"
    }
   ],
   "source": [
    "c.get('/bin/long-term-storage/1024')"
   ]
  },
  {
   "cell_type": "code",
   "execution_count": 55,
   "metadata": {},
   "outputs": [
    {
     "data": {
      "text/plain": [
       "'@&3MiZisc&'"
      ]
     },
     "execution_count": 55,
     "metadata": {},
     "output_type": "execute_result"
    }
   ],
   "source": [
    "c.get('/bin/crypto_helpdesk/ticket/1112/attachment/password')"
   ]
  },
  {
   "cell_type": "code",
   "execution_count": 57,
   "metadata": {},
   "outputs": [
    {
     "data": {
      "text/plain": [
       "'STATUS: OK --- mail delivered succesfully\\n[ You have new mail ]'"
      ]
     },
     "execution_count": 57,
     "metadata": {},
     "output_type": "execute_result"
    }
   ],
   "source": [
    "file = c.get('/bin/long-term-storage/device/859ee5c7')\n",
    "file_crypter = encrypt(file, \"@&3MiZisc&\")\n",
    "c.post('/bin/sendmail', to='xcasey', subject=\"file\", content=file_crypter)"
   ]
  },
  {
   "cell_type": "code",
   "execution_count": 58,
   "metadata": {},
   "outputs": [
    {
     "data": {
      "text/plain": [
       "'STATUS : OK --- ticket 1112 closed\\n\\n[[1612643620##desk-trackerd[37] UGLIX]]: SK.101:3030:1@464227|218d5bf2e44a7898c4a07157e972e2aa\\n[ You have new mail ]'"
      ]
     },
     "execution_count": 58,
     "metadata": {},
     "output_type": "execute_result"
    }
   ],
   "source": [
    "c.post('/bin/crypto_helpdesk/ticket/1112/close')"
   ]
  },
  {
   "cell_type": "raw",
   "metadata": {},
   "source": [
    "                    #########################################################################\n",
    "                                            Ticket 1113\n",
    "                    #########################################################################"
   ]
  },
  {
   "cell_type": "code",
   "execution_count": 363,
   "metadata": {},
   "outputs": [
    {
     "data": {
      "text/plain": [
       "'Bonjour,\\n\\nD\\'habitude je n\\'ai pas de problème avec la cryptographie de base, mais là\\nj\\'ai reçu un message que je n\\'arrive pas à déchiffrer. J\\'ai contacté\\nmon correspondant, et il m\\'a dit que le problème c\\'est que (pour une raison\\nobscure), il tient à tout prix à utiliser la méthode ``rc2-ofb\\'\\'. \\n\\nOr, je ne sais pas comment on fait pour déchiffrer ces trucs-là.\\n\\nLe mot de passe utilisé pour générer la clef de chiffrement est : ``#82Xkg@r_o\\'\\'.\\n\\n\\nVous trouverez en pièce-jointe : \\n  + \"ciphertext\" = message chiffré\\n  + \"cipher\"     = procédé de chiffrement\\n  + \"password\"   = mot de passe\\n\\n\\nRenvoyez-moi le texte clair à l\\'adresse ``moodytravis\\'\\'.\\n\\nMerci d\\'avance,\\n---\\nKimberly Jordan\\n(Cyber-)Law Enforcement Agency, service \"terrorisme\"\\n[ You have new mail ]'"
      ]
     },
     "execution_count": 363,
     "metadata": {},
     "output_type": "execute_result"
    }
   ],
   "source": [
    "c.get('/bin/crypto_helpdesk/ticket/1113')"
   ]
  },
  {
   "cell_type": "code",
   "execution_count": 364,
   "metadata": {},
   "outputs": [
    {
     "data": {
      "text/plain": [
       "'rc2-ofb'"
      ]
     },
     "execution_count": 364,
     "metadata": {},
     "output_type": "execute_result"
    }
   ],
   "source": [
    "c.get('/bin/crypto_helpdesk/ticket/1113/attachment/cipher')"
   ]
  },
  {
   "cell_type": "code",
   "execution_count": 66,
   "metadata": {
    "scrolled": true
   },
   "outputs": [
    {
     "data": {
      "text/plain": [
       "'#82Xkg@r_o'"
      ]
     },
     "execution_count": 66,
     "metadata": {},
     "output_type": "execute_result"
    }
   ],
   "source": [
    "c.get('/bin/crypto_helpdesk/ticket/1113/attachment/password')"
   ]
  },
  {
   "cell_type": "code",
   "execution_count": 68,
   "metadata": {},
   "outputs": [
    {
     "name": "stdout",
     "output_type": "stream",
     "text": [
      "Cher collègue, \n",
      "\n",
      "Voici la liste des comptes ayant exhibé une activité suspecte cette semaine :\n",
      "  + kimberlyross                     (nom complet = John Phillips)\n",
      "  + kristinaparker                   (nom complet = Joseph Davis)\n",
      "  + dianajackson                     (nom complet = Brenda Lopez)\n",
      "  + smoore                           (nom complet = David Patterson)\n",
      "  + michaeljohns                     (nom complet = Jeffrey Castillo)\n",
      "  + anonymous.coward                 (nom complet = ?????? ???????)\n",
      "  + joshua10                         (nom complet = Nathan Sandoval)\n",
      "  + palmerjohn                       (nom complet = Bailey Brown)\n",
      "  + julielee                         (nom complet = Christine Yu)\n",
      "\n",
      "Je crois savoir que votre service dans la division \"cyber-terrorisme\" mène \n",
      "actuellement une enquête sur un soit-disant \"leader d'une cellule terroriste \n",
      "préparant activement un attentat majeur dans de bref délais\". Si mes \n",
      "informations sont bonnes, c'est dans l'espoir de l'identifier que vous avez \n",
      "intrigué pour que je me trouve dans la situation de devoir vous transmettre \n",
      "cette liste.\n",
      "\n",
      "Permettez-moi donc de vous donner mon opinion professionelle : pour des raisons\n",
      "qui vous sont propres, vous avez décidé de coller l'étiquette de \"terroriste\" à\n",
      "une personne qui est en fait un contestaire, ceci afin de le décrédibiliser, de\n",
      "justifier son arrestation vis-à-vis de l'opinion publique... ou bien peut-être \n",
      "simplement de vous donner bonne conscience !\n",
      "\n",
      "Non seulement je ne partage pas vos méthodes, mais pour ma part, je suis bien \n",
      "convaincu qu'il serait  plus productif de l'approcher et d'essayer d'en faire un\n",
      "indicateur de nos services (c.a.d. qu'il nous livre volontairement des \n",
      "informations en échange d'une rémunération).\n",
      "---\n",
      "[---REDACTED---], service \"surveillance\", (Cyber-)Law Enforcement Agency\n"
     ]
    }
   ],
   "source": [
    "text = c.get('/bin/crypto_helpdesk/ticket/1113/attachment/ciphertext')\n",
    "with open ('Ticket_1113.bin', 'w') as f:\n",
    "    f.write(text)\n",
    "resultat = decrypt('Ticket_1113.bin', '#82Xkg@r_o', 'rc2-ofb')\n",
    "print(resultat)"
   ]
  },
  {
   "cell_type": "code",
   "execution_count": 69,
   "metadata": {},
   "outputs": [
    {
     "data": {
      "text/plain": [
       "'STATUS: OK --- mail delivered succesfully\\n[ You have new mail ]'"
      ]
     },
     "execution_count": 69,
     "metadata": {},
     "output_type": "execute_result"
    }
   ],
   "source": [
    "c.post('/bin/sendmail', to='moodytravis', subject=\"Message\", content=resultat)"
   ]
  },
  {
   "cell_type": "code",
   "execution_count": 70,
   "metadata": {},
   "outputs": [
    {
     "data": {
      "text/plain": [
       "'STATUS : OK --- ticket 1113 closed\\n\\n[[1612645729##desk-trackerd[37] UGLIX]]: SK.UNUSUAL:3030:1@819491|a031fb6e068ca77447c81af46715ccb7\\n[ You have new mail ]'"
      ]
     },
     "execution_count": 70,
     "metadata": {},
     "output_type": "execute_result"
    }
   ],
   "source": [
    "c.post('/bin/crypto_helpdesk/ticket/1113/close')"
   ]
  },
  {
   "cell_type": "raw",
   "metadata": {},
   "source": [
    "##########################################################################\n",
    "                                CHAP\n",
    "##########################################################################"
   ]
  },
  {
   "cell_type": "code",
   "execution_count": 411,
   "metadata": {},
   "outputs": [
    {
     "data": {
      "text/plain": [
       "{'challenge': 'ea93e48ab3154b51810cae6cbff1e97d'}"
      ]
     },
     "execution_count": 411,
     "metadata": {},
     "output_type": "execute_result"
    }
   ],
   "source": [
    "re_chalen = c.get('/bin/login/CHAP')\n",
    "re_chalen"
   ]
  },
  {
   "cell_type": "code",
   "execution_count": 412,
   "metadata": {},
   "outputs": [
    {
     "name": "stdout",
     "output_type": "stream",
     "text": [
      "U2FsdGVkX1+ZnNXtrr0DzO2pU7YvyaN9KstKEaRCwalO4QIFK4BKr7H23vqxzGsz\n",
      "pZgtDR9tAZlsIR5sPHH+dQ==\n",
      "\n"
     ]
    }
   ],
   "source": [
    "plan_text = 'palmerjohn-'+re_chalen['challenge']\n",
    "resultat = encrypt(plan_text, 'j^5vL+Fpv@')\n",
    "print(resultat)"
   ]
  },
  {
   "cell_type": "code",
   "execution_count": 413,
   "metadata": {},
   "outputs": [
    {
     "data": {
      "text/plain": [
       "'CHAP login successful. Access to /home/palmerjohn granted.\\n[ You have new mail ]'"
      ]
     },
     "execution_count": 413,
     "metadata": {},
     "output_type": "execute_result"
    }
   ],
   "source": [
    "c.post('/bin/login/CHAP', user= 'palmerjohn', response= resultat)"
   ]
  },
  {
   "cell_type": "code",
   "execution_count": 31,
   "metadata": {
    "scrolled": true
   },
   "outputs": [
    {
     "name": "stdout",
     "output_type": "stream",
     "text": [
      "[initializing ticket system]\n",
      "[connecting to tickets daemon]\n",
      "[fetching tickets]---> 10 tickets in queue\n",
      "[building UI]\n",
      "[startup complete]\n",
      "\n",
      "Hello palmerjohn,\n",
      "\n",
      "Welcome to Obrien, Collins and Love Helpdesk User Interface.\n",
      "\n",
      "Your pending ticket list:\n",
      "-----------+-------+----------------------------------+------------------------------------\n",
      "|  id      | level | client                           | mission\n",
      "-----------+-------+----------------------------------+------------------------------------\n",
      "\n",
      "If you need assistance, /doc/helpdesk is a good place to start.\n",
      "\n",
      "[ You have new mail ]\n"
     ]
    }
   ],
   "source": [
    "print(c.get('/bin/crypto_helpdesk'))"
   ]
  },
  {
   "cell_type": "raw",
   "metadata": {},
   "source": [
    "            ############################################################\n",
    "                                      1123  \n",
    "            ############################################################"
   ]
  },
  {
   "cell_type": "code",
   "execution_count": 7,
   "metadata": {},
   "outputs": [],
   "source": [
    "\n",
    "def encrypt_public(plaintext, file_key):\n",
    "    \n",
    "    # prépare les arguments à envoyer à openssl\n",
    "    # openssl pkeyutl -encrypt -pubin -inkey <fichier contenant la clef publique>\n",
    "    args = ['openssl', 'pkeyutl', '-encrypt', '-pubin', '-inkey', file_key]\n",
    "    \n",
    "    # si le message clair est une chaine unicode, on est obligé de\n",
    "    # l'encoder en bytes() pour pouvoir l'envoyer dans le pipeline vers \n",
    "    # openssl\n",
    "    if isinstance(plaintext, str):\n",
    "        plaintext = plaintext.encode('utf-8')\n",
    "    \n",
    "    # ouvre le pipeline vers openssl. envoie plaintext sur le stdin de openssl, récupère stdout et stderr\n",
    "    #    affiche la commande invoquée\n",
    "    #    print('debug : {0}'.format(' '.join(args)))\n",
    "    result = subprocess.run(args, input=plaintext, stdout=subprocess.PIPE, stderr=subprocess.PIPE)\n",
    "\n",
    "    # si un message d'erreur est présent sur stderr, on arrête tout\n",
    "    # attention, sur stderr on récupère des bytes(), donc on convertit\n",
    "    error_message = result.stderr.decode()\n",
    "    if error_message != '':\n",
    "        raise OpensslError(error_message)\n",
    "\n",
    "    # OK, openssl a envoyé le chiffré sur stdout, en base64.\n",
    "    # On récupère des bytes, donc on en fait une chaine unicode\n",
    "    return base64.b64encode(result.stdout).decode()"
   ]
  },
  {
   "cell_type": "code",
   "execution_count": 36,
   "metadata": {},
   "outputs": [
    {
     "ename": "ServerError",
     "evalue": "ERREUR 400, Une fois qu'un tunnel chiffré est ouvert, les requêtes doivent être adressées à la passerelle (/uglix/bin/gateway).\nVous avez envoyé une requête à /uglix/bin/crypto_helpdesk/ticket/1123",
     "output_type": "error",
     "traceback": [
      "\u001b[0;31m---------------------------------------------------------------------------\u001b[0m",
      "\u001b[0;31mServerError\u001b[0m                               Traceback (most recent call last)",
      "\u001b[0;32m<ipython-input-36-182c5a1b750b>\u001b[0m in \u001b[0;36m<module>\u001b[0;34m\u001b[0m\n\u001b[0;32m----> 1\u001b[0;31m \u001b[0mc\u001b[0m\u001b[0;34m.\u001b[0m\u001b[0mget\u001b[0m\u001b[0;34m(\u001b[0m\u001b[0;34m'/bin/crypto_helpdesk/ticket/1123'\u001b[0m\u001b[0;34m)\u001b[0m\u001b[0;34m\u001b[0m\u001b[0;34m\u001b[0m\u001b[0m\n\u001b[0m",
      "\u001b[0;32m<ipython-input-3-74291c68df9f>\u001b[0m in \u001b[0;36mget\u001b[0;34m(self, url)\u001b[0m\n\u001b[1;32m     46\u001b[0m         \u001b[0;31m# prépare la requête\u001b[0m\u001b[0;34m\u001b[0m\u001b[0;34m\u001b[0m\u001b[0;34m\u001b[0m\u001b[0m\n\u001b[1;32m     47\u001b[0m         \u001b[0mrequest\u001b[0m \u001b[0;34m=\u001b[0m \u001b[0murllib\u001b[0m\u001b[0;34m.\u001b[0m\u001b[0mrequest\u001b[0m\u001b[0;34m.\u001b[0m\u001b[0mRequest\u001b[0m\u001b[0;34m(\u001b[0m\u001b[0mself\u001b[0m\u001b[0;34m.\u001b[0m\u001b[0m_base\u001b[0m \u001b[0;34m+\u001b[0m \u001b[0murl\u001b[0m\u001b[0;34m,\u001b[0m \u001b[0mmethod\u001b[0m\u001b[0;34m=\u001b[0m\u001b[0;34m'GET'\u001b[0m\u001b[0;34m)\u001b[0m\u001b[0;34m\u001b[0m\u001b[0;34m\u001b[0m\u001b[0m\n\u001b[0;32m---> 48\u001b[0;31m         \u001b[0;32mreturn\u001b[0m \u001b[0mself\u001b[0m\u001b[0;34m.\u001b[0m\u001b[0m_query\u001b[0m\u001b[0;34m(\u001b[0m\u001b[0murl\u001b[0m\u001b[0;34m,\u001b[0m \u001b[0mrequest\u001b[0m\u001b[0;34m)\u001b[0m\u001b[0;34m\u001b[0m\u001b[0;34m\u001b[0m\u001b[0m\n\u001b[0m\u001b[1;32m     49\u001b[0m \u001b[0;34m\u001b[0m\u001b[0m\n\u001b[1;32m     50\u001b[0m \u001b[0;34m\u001b[0m\u001b[0m\n",
      "\u001b[0;32m<ipython-input-3-74291c68df9f>\u001b[0m in \u001b[0;36m_query\u001b[0;34m(self, url, request, data)\u001b[0m\n\u001b[1;32m    185\u001b[0m             \u001b[0mheaders\u001b[0m \u001b[0;34m=\u001b[0m \u001b[0mdict\u001b[0m\u001b[0;34m(\u001b[0m\u001b[0me\u001b[0m\u001b[0;34m.\u001b[0m\u001b[0mheaders\u001b[0m\u001b[0;34m)\u001b[0m\u001b[0;34m\u001b[0m\u001b[0;34m\u001b[0m\u001b[0m\n\u001b[1;32m    186\u001b[0m             \u001b[0mmessage\u001b[0m \u001b[0;34m=\u001b[0m \u001b[0me\u001b[0m\u001b[0;34m.\u001b[0m\u001b[0mread\u001b[0m\u001b[0;34m(\u001b[0m\u001b[0;34m)\u001b[0m\u001b[0;34m\u001b[0m\u001b[0;34m\u001b[0m\u001b[0m\n\u001b[0;32m--> 187\u001b[0;31m             \u001b[0;32mraise\u001b[0m \u001b[0mServerError\u001b[0m\u001b[0;34m(\u001b[0m\u001b[0me\u001b[0m\u001b[0;34m.\u001b[0m\u001b[0mcode\u001b[0m\u001b[0;34m,\u001b[0m \u001b[0mself\u001b[0m\u001b[0;34m.\u001b[0m\u001b[0m_post_process\u001b[0m\u001b[0;34m(\u001b[0m\u001b[0mmessage\u001b[0m\u001b[0;34m,\u001b[0m \u001b[0mheaders\u001b[0m\u001b[0;34m)\u001b[0m\u001b[0;34m)\u001b[0m \u001b[0;32mfrom\u001b[0m \u001b[0;32mNone\u001b[0m\u001b[0;34m\u001b[0m\u001b[0;34m\u001b[0m\u001b[0m\n\u001b[0m\u001b[1;32m    188\u001b[0m \u001b[0;34m\u001b[0m\u001b[0m\n",
      "\u001b[0;31mServerError\u001b[0m: ERREUR 400, Une fois qu'un tunnel chiffré est ouvert, les requêtes doivent être adressées à la passerelle (/uglix/bin/gateway).\nVous avez envoyé une requête à /uglix/bin/crypto_helpdesk/ticket/1123"
     ]
    }
   ],
   "source": [
    "c.get('/bin/crypto_helpdesk/ticket/1123')"
   ]
  },
  {
   "cell_type": "code",
   "execution_count": 246,
   "metadata": {},
   "outputs": [
    {
     "data": {
      "text/plain": [
       "\"Communiqué de l'UE du 1995-06-06\""
      ]
     },
     "execution_count": 246,
     "metadata": {},
     "output_type": "execute_result"
    }
   ],
   "source": [
    "message = c.get('/bin/crypto_helpdesk/ticket/1123/attachment/message')\n",
    "message"
   ]
  },
  {
   "cell_type": "code",
   "execution_count": 34,
   "metadata": {},
   "outputs": [
    {
     "ename": "ServerError",
     "evalue": "ERREUR 400, Une fois qu'un tunnel chiffré est ouvert, les requêtes doivent être adressées à la passerelle (/uglix/bin/gateway).\nVous avez envoyé une requête à /uglix/bin/crypto_helpdesk/ticket/1123/attachment/public-key",
     "output_type": "error",
     "traceback": [
      "\u001b[0;31m---------------------------------------------------------------------------\u001b[0m",
      "\u001b[0;31mServerError\u001b[0m                               Traceback (most recent call last)",
      "\u001b[0;32m<ipython-input-34-a2d53fdfc9e6>\u001b[0m in \u001b[0;36m<module>\u001b[0;34m\u001b[0m\n\u001b[0;32m----> 1\u001b[0;31m \u001b[0mkey\u001b[0m \u001b[0;34m=\u001b[0m \u001b[0mc\u001b[0m\u001b[0;34m.\u001b[0m\u001b[0mget\u001b[0m\u001b[0;34m(\u001b[0m\u001b[0;34m'/bin/crypto_helpdesk/ticket/1123/attachment/public-key'\u001b[0m\u001b[0;34m)\u001b[0m\u001b[0;34m\u001b[0m\u001b[0;34m\u001b[0m\u001b[0m\n\u001b[0m\u001b[1;32m      2\u001b[0m \u001b[0;32mwith\u001b[0m \u001b[0mopen\u001b[0m \u001b[0;34m(\u001b[0m\u001b[0;34m'key_du_relou.bin'\u001b[0m\u001b[0;34m,\u001b[0m \u001b[0;34m'w'\u001b[0m\u001b[0;34m)\u001b[0m \u001b[0;32mas\u001b[0m \u001b[0mf\u001b[0m\u001b[0;34m:\u001b[0m\u001b[0;34m\u001b[0m\u001b[0;34m\u001b[0m\u001b[0m\n\u001b[1;32m      3\u001b[0m     \u001b[0mf\u001b[0m\u001b[0;34m.\u001b[0m\u001b[0mwrite\u001b[0m\u001b[0;34m(\u001b[0m\u001b[0mkey\u001b[0m\u001b[0;34m)\u001b[0m\u001b[0;34m\u001b[0m\u001b[0;34m\u001b[0m\u001b[0m\n\u001b[1;32m      4\u001b[0m \u001b[0mprint\u001b[0m\u001b[0;34m(\u001b[0m\u001b[0mkey\u001b[0m\u001b[0;34m)\u001b[0m\u001b[0;34m\u001b[0m\u001b[0;34m\u001b[0m\u001b[0m\n",
      "\u001b[0;32m<ipython-input-3-74291c68df9f>\u001b[0m in \u001b[0;36mget\u001b[0;34m(self, url)\u001b[0m\n\u001b[1;32m     46\u001b[0m         \u001b[0;31m# prépare la requête\u001b[0m\u001b[0;34m\u001b[0m\u001b[0;34m\u001b[0m\u001b[0;34m\u001b[0m\u001b[0m\n\u001b[1;32m     47\u001b[0m         \u001b[0mrequest\u001b[0m \u001b[0;34m=\u001b[0m \u001b[0murllib\u001b[0m\u001b[0;34m.\u001b[0m\u001b[0mrequest\u001b[0m\u001b[0;34m.\u001b[0m\u001b[0mRequest\u001b[0m\u001b[0;34m(\u001b[0m\u001b[0mself\u001b[0m\u001b[0;34m.\u001b[0m\u001b[0m_base\u001b[0m \u001b[0;34m+\u001b[0m \u001b[0murl\u001b[0m\u001b[0;34m,\u001b[0m \u001b[0mmethod\u001b[0m\u001b[0;34m=\u001b[0m\u001b[0;34m'GET'\u001b[0m\u001b[0;34m)\u001b[0m\u001b[0;34m\u001b[0m\u001b[0;34m\u001b[0m\u001b[0m\n\u001b[0;32m---> 48\u001b[0;31m         \u001b[0;32mreturn\u001b[0m \u001b[0mself\u001b[0m\u001b[0;34m.\u001b[0m\u001b[0m_query\u001b[0m\u001b[0;34m(\u001b[0m\u001b[0murl\u001b[0m\u001b[0;34m,\u001b[0m \u001b[0mrequest\u001b[0m\u001b[0;34m)\u001b[0m\u001b[0;34m\u001b[0m\u001b[0;34m\u001b[0m\u001b[0m\n\u001b[0m\u001b[1;32m     49\u001b[0m \u001b[0;34m\u001b[0m\u001b[0m\n\u001b[1;32m     50\u001b[0m \u001b[0;34m\u001b[0m\u001b[0m\n",
      "\u001b[0;32m<ipython-input-3-74291c68df9f>\u001b[0m in \u001b[0;36m_query\u001b[0;34m(self, url, request, data)\u001b[0m\n\u001b[1;32m    185\u001b[0m             \u001b[0mheaders\u001b[0m \u001b[0;34m=\u001b[0m \u001b[0mdict\u001b[0m\u001b[0;34m(\u001b[0m\u001b[0me\u001b[0m\u001b[0;34m.\u001b[0m\u001b[0mheaders\u001b[0m\u001b[0;34m)\u001b[0m\u001b[0;34m\u001b[0m\u001b[0;34m\u001b[0m\u001b[0m\n\u001b[1;32m    186\u001b[0m             \u001b[0mmessage\u001b[0m \u001b[0;34m=\u001b[0m \u001b[0me\u001b[0m\u001b[0;34m.\u001b[0m\u001b[0mread\u001b[0m\u001b[0;34m(\u001b[0m\u001b[0;34m)\u001b[0m\u001b[0;34m\u001b[0m\u001b[0;34m\u001b[0m\u001b[0m\n\u001b[0;32m--> 187\u001b[0;31m             \u001b[0;32mraise\u001b[0m \u001b[0mServerError\u001b[0m\u001b[0;34m(\u001b[0m\u001b[0me\u001b[0m\u001b[0;34m.\u001b[0m\u001b[0mcode\u001b[0m\u001b[0;34m,\u001b[0m \u001b[0mself\u001b[0m\u001b[0;34m.\u001b[0m\u001b[0m_post_process\u001b[0m\u001b[0;34m(\u001b[0m\u001b[0mmessage\u001b[0m\u001b[0;34m,\u001b[0m \u001b[0mheaders\u001b[0m\u001b[0;34m)\u001b[0m\u001b[0;34m)\u001b[0m \u001b[0;32mfrom\u001b[0m \u001b[0;32mNone\u001b[0m\u001b[0;34m\u001b[0m\u001b[0;34m\u001b[0m\u001b[0m\n\u001b[0m\u001b[1;32m    188\u001b[0m \u001b[0;34m\u001b[0m\u001b[0m\n",
      "\u001b[0;31mServerError\u001b[0m: ERREUR 400, Une fois qu'un tunnel chiffré est ouvert, les requêtes doivent être adressées à la passerelle (/uglix/bin/gateway).\nVous avez envoyé une requête à /uglix/bin/crypto_helpdesk/ticket/1123/attachment/public-key"
     ]
    }
   ],
   "source": [
    "key = c.get('/bin/crypto_helpdesk/ticket/1123/attachment/public-key')\n",
    "with open ('key_du_relou.bin', 'w') as f:\n",
    "    f.write(key)\n",
    "print(key)"
   ]
  },
  {
   "cell_type": "code",
   "execution_count": 260,
   "metadata": {},
   "outputs": [
    {
     "name": "stdout",
     "output_type": "stream",
     "text": [
      "kturI9eQP7J5OhYM97T3PqRqTFpUwnwnK4POg6Xpsk7dhGg77rRfLzX0d5LU/7TdCtJoXjdHxPFH445fvU8GWYCV51yFByq2J/J/FwcFBubm80MPufXe+zZZkQcZamJRKrWOGZjK1JNWeZbwSyNFdrmQFD5wwcZeOcMwhiUJxGV0tLAcRnP7D6Pk6fBl2FK5HRvXdfbt5SdytODWdkt6WebFJcML0zmNiTF85CnPLeU0kpgH80fU3bEzN4jChxVPs+FhLUHH4rAZ3vSpKz7l1dHXuyuBLLzqxNvLMHIY21bQeGSmEB4oXsMtQPX2XPFhbRltYWaI/pDqJ8oo0/c0rA==\n"
     ]
    }
   ],
   "source": [
    "resultat = encrypt_public(message, 'key_du_relou.bin')\n",
    "print(resultat)"
   ]
  },
  {
   "cell_type": "code",
   "execution_count": 261,
   "metadata": {},
   "outputs": [
    {
     "data": {
      "text/plain": [
       "'STATUS: OK --- mail delivered succesfully\\n[ You have new mail ]'"
      ]
     },
     "execution_count": 261,
     "metadata": {},
     "output_type": "execute_result"
    }
   ],
   "source": [
    "c.post('/bin/sendmail', to='christina04', subject=\"Resultat\", content=resultat)"
   ]
  },
  {
   "cell_type": "code",
   "execution_count": 262,
   "metadata": {
    "scrolled": true
   },
   "outputs": [
    {
     "data": {
      "text/plain": [
       "'STATUS : OK --- ticket 1123 closed\\n\\n[[1612652545##desk-trackerd[37] UGLIX]]: PK.101.ENC:3030:2@156455|7e5320ed6f2a79070c286c4ace1ca79f\\n[ You have new mail ]'"
      ]
     },
     "execution_count": 262,
     "metadata": {},
     "output_type": "execute_result"
    }
   ],
   "source": [
    "c.post('/bin/crypto_helpdesk/ticket/1123/close')"
   ]
  },
  {
   "cell_type": "raw",
   "metadata": {},
   "source": [
    "#########################################################################\n",
    "                               1124\n",
    "#########################################################################"
   ]
  },
  {
   "cell_type": "code",
   "execution_count": 8,
   "metadata": {},
   "outputs": [],
   "source": [
    "def decrypt_public(file_name, file_key):\n",
    "    # prépare les arguments à envoyer à openssl\n",
    "    args = ['openssl', 'pkeyutl', '-decrypt', '-inkey', file_key]\n",
    "\n",
    "    # si le message clair est une chaine unicode, on est obligé de\n",
    "    # l'encoder en bytes() pour pouvoir l'envoyer dans le pipeline vers \n",
    "    # openssl\n",
    "    if isinstance(file_name, str):\n",
    "        file_name = base64.b64decode(file_name)\n",
    "    \n",
    "    # ouvre le pipeline vers openssl. envoie plaintext sur le stdin de openssl, récupère stdout et stderr\n",
    "    #    affiche la commande invoquée\n",
    "    #    print('debug : {0}'.format(' '.join(args)))\n",
    "    result = subprocess.run(args, input=file_name, stdout=subprocess.PIPE, stderr=subprocess.PIPE)\n",
    "\n",
    "    # si un message d'erreur est présent sur stderr, on arrête tout\n",
    "    # attention, sur stderr on récupère des bytes(), donc on convertit\n",
    "    error_message = result.stderr.decode()\n",
    "    if error_message != '':\n",
    "        raise OpensslError(error_message)\n",
    "\n",
    "    # OK, openssl a envoyé le chiffré sur stdout, en base64.\n",
    "    # On récupère des bytes, donc on en fait une chaine unicode\n",
    "    return result.stdout.decode()"
   ]
  },
  {
   "cell_type": "code",
   "execution_count": 21,
   "metadata": {},
   "outputs": [
    {
     "name": "stdout",
     "output_type": "stream",
     "text": [
      "Bonjour,\n",
      "\n",
      "Je suis journaliste et une de mes sources cherche à me transmettre une \n",
      "information sensible (des données qui auraient \"fuité\" au plus haut niveau). \n",
      "Cette personne est hautement paranoïaque, et n'accepte que de communiquer via\n",
      "des emails chiffrés. Mon problème est que  je n'ai jamais réussi à générer une\n",
      "paire de clefs asymétriques, et je ne peux pas pas rencontrer ma source en \n",
      "personne pour échanger une clef secrète.\n",
      "\n",
      "Vous devez donc entrer en contact avec ma source, ``cknapp''.\n",
      "Il suffit de lui envoyer un email (chiffré) contenant la chaine \"informations \n",
      "très très très sensibles\". Elle comprendra de quoi il s'agit, et vous enverra en retour un \n",
      "email chiffré. Vous devez déchiffrer cet email et me le transmettre à l'adresse\n",
      "``anthonyjessica''.\n",
      "\n",
      "Vous trouverez sa clef publique avec le programme /bin/key-management.\n",
      "\n",
      "Son adresse est en pièce jointe (id=\"contact\").\n",
      "---\n",
      "Chloe Mcbride, \n",
      "rédacteur de la rubrique \"Horizontal responsive projection\" chez Nguyen, Cruz and Osborn\n",
      "[ You have new mail ]\n"
     ]
    }
   ],
   "source": [
    "print(c.get('/bin/crypto_helpdesk/ticket/1124'))"
   ]
  },
  {
   "cell_type": "code",
   "execution_count": 12,
   "metadata": {},
   "outputs": [],
   "source": [
    "def gen_key_private():\n",
    "    args = ['openssl', 'genpkey', '-algorithm', 'RSA', '-pkeyopt', 'rsa_keygen_bits:2048']\n",
    "    result = subprocess.run(args, stdout=subprocess.PIPE, stderr=subprocess.PIPE)\n",
    "    with open('key_private.pub', 'w') as f:\n",
    "        f.write(result.stdout.decode())\n",
    "        \n",
    "def trouver_key_public(file_key_private): \n",
    "    args = ['openssl', 'pkey', '-in', file_key_private, '-pubout']\n",
    "    result = subprocess.run(args, stdout=subprocess.PIPE, stderr=subprocess.PIPE)\n",
    "    return result.stdout.decode()\n",
    "    "
   ]
  },
  {
   "cell_type": "code",
   "execution_count": 23,
   "metadata": {},
   "outputs": [
    {
     "data": {
      "text/plain": [
       "'cknapp'"
      ]
     },
     "execution_count": 23,
     "metadata": {},
     "output_type": "execute_result"
    }
   ],
   "source": [
    "addresse = c.get('/bin/crypto_helpdesk/ticket/1124/attachment/contact')\n",
    "addresse"
   ]
  },
  {
   "cell_type": "code",
   "execution_count": 599,
   "metadata": {},
   "outputs": [],
   "source": [
    "pk_contact = c.get('/bin/key-management/{}/pk'.format('cknapp'))\n",
    "with open(\"key_source.bin\", 'w') as f: \n",
    "    f.write(pk_contact)"
   ]
  },
  {
   "cell_type": "code",
   "execution_count": 600,
   "metadata": {},
   "outputs": [
    {
     "data": {
      "text/plain": [
       "'OK'"
      ]
     },
     "execution_count": 600,
     "metadata": {},
     "output_type": "execute_result"
    }
   ],
   "source": [
    "gen_key_private()\n",
    "key_public = trouver_key_public('key_private.pub')\n",
    "#print(key_public)\n",
    "c.post('/bin/key-management/upload-pk', public_key = key_public, confirm = True)"
   ]
  },
  {
   "cell_type": "code",
   "execution_count": 601,
   "metadata": {},
   "outputs": [],
   "source": [
    "message = 'informations très très très sensibles'\n",
    "message_crypte = encrypt_public(message, \"key_source.bin\")"
   ]
  },
  {
   "cell_type": "code",
   "execution_count": 602,
   "metadata": {},
   "outputs": [
    {
     "data": {
      "text/plain": [
       "'STATUS: OK --- mail delivered succesfully\\n[ You have new mail ]'"
      ]
     },
     "execution_count": 602,
     "metadata": {},
     "output_type": "execute_result"
    }
   ],
   "source": [
    "c.post('/bin/sendmail', to='cknapp', subject=\"Message\", content=message_crypte)"
   ]
  },
  {
   "cell_type": "code",
   "execution_count": 605,
   "metadata": {},
   "outputs": [
    {
     "name": "stdout",
     "output_type": "stream",
     "text": [
      "HCI1OiZlAJjxG/6H6fZUbkJJI3KOdSxxNQw/7fRrjGG5cK+sywPnZzdnyYs4ooPSjjTjCRmEDACE9SGn54DmuFcE766phufqFKG6hgBf1coHrIsLefYqCgHNnhmGWFWYQaipmIxEgGV/O/W2eNZHcop5ERMKcI8hmOPXVFd+GmPqUP+mUrWenC43APp96xb/jIlAH3AoZlg3vgmiMe2G8jcXpcibou7aWQ5/95LnaEhaVpn5hjw9EzSrSKNRjmRWtoOa03Xyg0z45UN0maGrgw19wSOeyqwDpSMTYcRVUxmd3LDgtA5OfJrdRN2E02L9Z92fSezuGP1r7EG2U+p1/Q==\n"
     ]
    }
   ],
   "source": [
    "reponse = c.get('/home/palmerjohn/INBOX/11439/body')\n",
    "print(reponse)"
   ]
  },
  {
   "cell_type": "code",
   "execution_count": 608,
   "metadata": {},
   "outputs": [
    {
     "name": "stdout",
     "output_type": "stream",
     "text": [
      "Communiqué de l'UE du 1985-06-06\n"
     ]
    }
   ],
   "source": [
    "reponse_decrypte = decrypt_public(reponse, 'key_private.pub')\n",
    "print(reponse_decrypte)"
   ]
  },
  {
   "cell_type": "code",
   "execution_count": 611,
   "metadata": {},
   "outputs": [
    {
     "name": "stdout",
     "output_type": "stream",
     "text": [
      "STATUS: OK --- mail delivered succesfully\n",
      "[ You have new mail ]\n"
     ]
    }
   ],
   "source": [
    "print(c.post('/bin/sendmail', to='anthonyjessica', subject=\"Reponse\", content=reponse_decrypte))"
   ]
  },
  {
   "cell_type": "code",
   "execution_count": null,
   "metadata": {},
   "outputs": [],
   "source": []
  },
  {
   "cell_type": "code",
   "execution_count": 610,
   "metadata": {},
   "outputs": [
    {
     "data": {
      "text/plain": [
       "'STATUS : OK --- ticket 1124 closed\\n\\n[[1612709376##desk-trackerd[37] UGLIX]]: PK.101.DEC:3030:3@816811|17ebad25f1d4b2c0f7e8ad2f8ef325f3\\n[ You have new mail ]'"
      ]
     },
     "execution_count": 610,
     "metadata": {},
     "output_type": "execute_result"
    }
   ],
   "source": [
    "c.post('/bin/crypto_helpdesk/ticket/1124/close')"
   ]
  },
  {
   "cell_type": "raw",
   "metadata": {},
   "source": [
    "                ###############################################################\n",
    "                                            Ticket 1125\n",
    "                ###############################################################"
   ]
  },
  {
   "cell_type": "code",
   "execution_count": 621,
   "metadata": {
    "scrolled": true
   },
   "outputs": [
    {
     "name": "stdout",
     "output_type": "stream",
     "text": [
      "Bonjour,\n",
      "\n",
      "Je suis le rédacteur en chef de la rubrique \"Horizontal responsive projection\" chez Nguyen, Cruz and Osborn.\n",
      "Il se peut que vous ayez déjà eu affaire avec un de mes subordonnés. Nous avons \n",
      "passé un accord avec une source disposant d'informations sensibles. En échange \n",
      "des ses informations, nous devions lui communiquer un document l'intéressant \n",
      "particulièrement. ``Quid pro quo'', en somme. Nous ne savons pas très bien ce \n",
      "que cette personne à l'intention de faire de ce document, mais ce n'est de toute \n",
      "façon pas notre problème.\n",
      "\n",
      "Cependant, il s'agit d'informations sensibles, et il est donc exclu de les \n",
      "envoyer en clair. Heureusement notre source possède une paire de clefs asymé-\n",
      "triques. Il faut donc transmettre le document en utilisant un chiffrement hybride\n",
      "(en effet, il est trop gros pour pouvoir être chiffré tel quel avec une clef \n",
      "publique). cf. /doc/hybrid.\n",
      "\n",
      "Son identité est en pièce-jointe (id=\"contact\"), de même que le fichier qu'il \n",
      "faut lui transmettre en pièce-jointe (id=\"reciprocity\").\n",
      "\n",
      "Vous pourrez demander la fermeture du ticket lorsque vous lui aurez envoyé les \n",
      "données.\n",
      "---\n",
      "Emily Smith\n",
      "[ You have new mail ]\n"
     ]
    }
   ],
   "source": [
    "print(c.get('/bin/crypto_helpdesk/ticket/1125'))"
   ]
  },
  {
   "cell_type": "code",
   "execution_count": 622,
   "metadata": {},
   "outputs": [
    {
     "name": "stdout",
     "output_type": "stream",
     "text": [
      "brandon09\n"
     ]
    }
   ],
   "source": [
    "contact = c.get('/bin/crypto_helpdesk/ticket/1125/attachment/contact')\n",
    "file = c.get('/bin/crypto_helpdesk/ticket/1125/attachment/reciprocity')\n",
    "print(contact)"
   ]
  },
  {
   "cell_type": "code",
   "execution_count": 623,
   "metadata": {},
   "outputs": [
    {
     "data": {
      "text/plain": [
       "344"
      ]
     },
     "execution_count": 623,
     "metadata": {},
     "output_type": "execute_result"
    }
   ],
   "source": [
    "key_destinateur  = c.get('/bin/key-management/brandon09/pk')\n",
    "key_secrete_jetable = 'MIIBIjANBgkqhkiG9w0IIBCgKCx2EqhHR4GdIqiKgxKiuqG'\n",
    "with open ('key_public.bin', 'w') as f:\n",
    "    f.write(key_destinateur) \n",
    "\n",
    "session_key = encrypt_public(key_secrete_jetable, 'key_public.bin')\n",
    "open('session_key_file.bin', 'wb').write(session_key.encode())"
   ]
  },
  {
   "cell_type": "code",
   "execution_count": 637,
   "metadata": {
    "scrolled": true
   },
   "outputs": [
    {
     "data": {
      "text/plain": [
       "'STATUS: OK --- mail delivered succesfully\\n[ You have new mail ]'"
      ]
     },
     "execution_count": 637,
     "metadata": {},
     "output_type": "execute_result"
    }
   ],
   "source": [
    "message_chiffre = encrypt(file, key_secrete_jetable)\n",
    "dictionnaire = {\"session_key\":session_key, \"payload\": message_chiffre}\n",
    "c.post('/bin/sendmail', to='brandon09', subject=\"Fichier\", content=dictionnaire)"
   ]
  },
  {
   "cell_type": "code",
   "execution_count": 640,
   "metadata": {},
   "outputs": [
    {
     "name": "stdout",
     "output_type": "stream",
     "text": [
      "----------------------------------------------------------------------\n",
      "Message #11466.\n",
      "\n",
      "\n",
      "Date: 07-02-21893 15:46:04\n",
      "From: brandon09\n",
      "Subject: Re: Fichier\n",
      "\n",
      "Thanks, pal.\n",
      "\n",
      "\n"
     ]
    }
   ],
   "source": [
    "print(c.get('/home/palmerjohn/INBOX/11466'))"
   ]
  },
  {
   "cell_type": "code",
   "execution_count": 641,
   "metadata": {},
   "outputs": [
    {
     "data": {
      "text/plain": [
       "'STATUS : OK --- ticket 1125 closed\\n\\n[[1612712783##desk-trackerd[37] UGLIX]]: HYBRID:3030:3@126793|b4607b2fbfbde546172b59031f2ccc12\\n[ You have new mail ]'"
      ]
     },
     "execution_count": 641,
     "metadata": {},
     "output_type": "execute_result"
    }
   ],
   "source": [
    "c.post('/bin/crypto_helpdesk/ticket/1125/close')"
   ]
  },
  {
   "cell_type": "raw",
   "metadata": {},
   "source": [
    "####################################################################\n",
    "                         signature numérique\n",
    "####################################################################"
   ]
  },
  {
   "cell_type": "code",
   "execution_count": 865,
   "metadata": {},
   "outputs": [
    {
     "name": "stdout",
     "output_type": "stream",
     "text": [
      "----------------------------------------------------------------------\n",
      "Message #11468.\n",
      "\n",
      "\n",
      "Date: 07-02-21893 15:46:23\n",
      "From: janice66\n",
      "Subject: Votre nouveau contrat de travail\n",
      "\n",
      "-------------------- Contrat de travail --------------------\n",
      "\n",
      "Entre les soussignés :\n",
      "\n",
      "*) CLEA, une agence officielle de UGLIX, représentée par [[---- REDACTED ----]],\n",
      "   agissant en sa qualité de \"UNKNOWN\", ci-après désigné \"L'Agence\"\n",
      "\n",
      "*) palmerjohn, ci-après désigné \"Le consultant\"\n",
      "\n",
      "\n",
      "Il est arrêté et convenu ce qui suit :\n",
      "\n",
      "Article 1 : Engagement\n",
      "----------------------\n",
      "Vous êtes engagé(e) au sein de l'agence dès la signature du présent contrat.\n",
      "\n",
      "\n",
      "Article 2 : Fonctions exercées\n",
      "------------------------------ \n",
      "Vous exercerez les fonctions de \"Consultant\" (non-admin).\n",
      "\n",
      "\n",
      "Article 3 : Nature de la mission\n",
      "---------------------------------\n",
      "L'agence confie au consultant une mission consistant à traiter des \n",
      "[[---- REDACTED ----]], apporter son expertise aux [[---- REDACTED ----]].\n",
      "Éventuellement, procédeder à des analyses de [[---- REDACTED ----]] ainsi qu'à \n",
      "des opérations [[--- REDACTED ----]]\n",
      "\n",
      "\n",
      "Article 4 : Lieu de travail et clause de mobilité\n",
      "-------------------------------------------------\n",
      "Votre lieu de travail sera le siège de l'Agence, situé à [[---- REDACTED ----]].\n",
      "Cependant, vu la nature de vos missions, le télétravail semble plus approprié.\n",
      "\n",
      " \n",
      "Article 5 : Durée du contrat et période d’essai\n",
      "-----------------------------------------------\n",
      "Le présent contrat est conclu pour une durée indéterminée. En conséquence, \n",
      "chacun de nous aura la faculté d'y mettre fin à tout moment, à charge de \n",
      "respecter les règles de procédures légales et conventionnelles. Il n'y a pas de\n",
      "période d'essai.\n",
      " \n",
      "\n",
      "Article 6 : Règlement intérieur et Charte informatique\n",
      "------------------------------------------------------\n",
      "Le consultant s'engage à respecter le règlement intérieur de l'Agence et  \n",
      "déclare avoir pris connaissance du Règlement Intérieur. L'Agence n'est soumise à\n",
      "aucune obligation et possède tous les droits. \n",
      "\n",
      "\n",
      "Article 7 : Clause de confidentialité\n",
      "-------------------------------------\n",
      "Vous vous engagez à observer la discrétion la plus stricte sur les informations \n",
      "se rapportant aux activités de l'Agence auxquelles vous aurez accès à l’occasion \n",
      "et dans le cadre de vos fonctions. Vous êtes soumis au secret professionnel.\n",
      "Voici la listes des sujets sur lesquels vous avez le droit de communiquer à\n",
      "l'extérieur de l'Agence :\n",
      "     []\n",
      "Vous ne devez pas divulguer que vous êtes employé par l'Agence. Vous ne devez \n",
      "pas divulguer les documents auxquels l'Agence vous permet d'accéder. Vous ne \n",
      "devez pas transmettre à un tiers les moyens d'accéder aux systèmes d'information\n",
      "de l'Agence. Ces obligations se prolongeront indéfiniment après la cessation du\n",
      "contrat de travail, quelle qu’en soit la cause. Un manquement à ces obligations\n",
      "aurait les conséquences les plus graves. \n",
      "\n",
      "\n",
      "Article 8 : Obligation de fidélité\n",
      "-----------------------------------\n",
      "Il vous est interdit de vous associer à des groupes hostiles à l'Agence, \n",
      "notamment à [[---- REDACTED ----]].\n",
      "\n",
      "\n",
      "Article 9 : Résiliation\n",
      "------------------------\n",
      "Vous ne pouvez pas démissionner. Seul votre décès met fin au présent contrat.\n",
      "\n",
      "\n",
      "Article 0xa : Modifications des informations personnelles\n",
      "---------------------------------------------------------\n",
      "Vous vous engagez à informer l'Agence dans les meilleurs délais de tout\n",
      "changement de votre situation personnelle (adresse, nombre de personnes à\n",
      "charge...).\n",
      "\n",
      "\n",
      "\n",
      "Votre accord implique formellement que vous n'êtes lié (e) à aucune autre\n",
      "entreprise et que vous avez quitté votre précédent employeur libre de tout \n",
      "engagement. Vous vous engagez à consacrer toute votre activité professionnelle \n",
      "au service de l'Agence, pour le bien commun.\n",
      "\n",
      "Vous voudrez bien nous confirmer votre accord en nous renvoyant une signature\n",
      "numérique du présent contrat.\n",
      "\n",
      "\n",
      "\n"
     ]
    }
   ],
   "source": [
    "print(c.get('/home/palmerjohn/INBOX/11468'))\n",
    "mail = c.get('/home/palmerjohn/INBOX/11468/body')"
   ]
  },
  {
   "cell_type": "code",
   "execution_count": 13,
   "metadata": {},
   "outputs": [],
   "source": [
    "def signature(document, secret_key):\n",
    "    # prépare les arguments à envoyer à openssl\n",
    "    args = ['openssl', 'dgst', '-sha256', '-sign', secret_key]\n",
    "    \n",
    "    # si le message clair est une chaine unicode, on est obligé de\n",
    "    # l'encoder en bytes() pour pouvoir l'envoyer dans le pipeline vers \n",
    "    # openssl\n",
    "    if isinstance(document, str):\n",
    "        document = document.encode('utf-8')\n",
    "    \n",
    "    # ouvre le pipeline vers openssl. envoie plaintext sur le stdin de openssl, récupère stdout et stderr\n",
    "    #    affiche la commande invoquée\n",
    "    #    print('debug : {0}'.format(' '.join(args)))\n",
    "    result = subprocess.run(args, input=document, stdout=subprocess.PIPE, stderr=subprocess.PIPE)\n",
    "\n",
    "    # si un message d'erreur est présent sur stderr, on arrête tout\n",
    "    # attention, sur stderr on récupère des bytes(), donc on convertit\n",
    "    error_message = result.stderr.decode()\n",
    "    if error_message != '':\n",
    "        raise OpensslError(error_message)\n",
    "\n",
    "    # OK, openssl a envoyé le chiffré sur stdout, en base64.\n",
    "    # On récupère des bytes, donc on en fait une chaine unicode\n",
    "    return base64.b64encode(result.stdout).decode()"
   ]
  },
  {
   "cell_type": "code",
   "execution_count": 19,
   "metadata": {},
   "outputs": [
    {
     "data": {
      "text/plain": [
       "'OK'"
      ]
     },
     "execution_count": 19,
     "metadata": {},
     "output_type": "execute_result"
    }
   ],
   "source": [
    "gen_key_private()\n",
    "key_public = trouver_key_public('key_private.pub')\n",
    "c.post('/bin/key-management/upload-pk', public_key = key_public, confirm = True)"
   ]
  },
  {
   "cell_type": "code",
   "execution_count": 20,
   "metadata": {},
   "outputs": [
    {
     "ename": "TypeError",
     "evalue": "memoryview: a bytes-like object is required, not 'function'",
     "output_type": "error",
     "traceback": [
      "\u001b[0;31m---------------------------------------------------------------------------\u001b[0m",
      "\u001b[0;31mTypeError\u001b[0m                                 Traceback (most recent call last)",
      "\u001b[0;32m<ipython-input-20-f477199368a8>\u001b[0m in \u001b[0;36m<module>\u001b[0;34m\u001b[0m\n\u001b[0;32m----> 1\u001b[0;31m \u001b[0msignature_numerique\u001b[0m \u001b[0;34m=\u001b[0m \u001b[0msignature\u001b[0m\u001b[0;34m(\u001b[0m\u001b[0mmail\u001b[0m\u001b[0;34m,\u001b[0m \u001b[0;34m'key_private.pub'\u001b[0m\u001b[0;34m)\u001b[0m\u001b[0;34m\u001b[0m\u001b[0;34m\u001b[0m\u001b[0m\n\u001b[0m\u001b[1;32m      2\u001b[0m \u001b[0mprint\u001b[0m\u001b[0;34m(\u001b[0m\u001b[0msignature_numerique\u001b[0m\u001b[0;34m)\u001b[0m\u001b[0;34m\u001b[0m\u001b[0;34m\u001b[0m\u001b[0m\n\u001b[1;32m      3\u001b[0m \u001b[0mc\u001b[0m\u001b[0;34m.\u001b[0m\u001b[0mpost\u001b[0m\u001b[0;34m(\u001b[0m\u001b[0;34m'/bin/sendmail'\u001b[0m\u001b[0;34m,\u001b[0m \u001b[0mto\u001b[0m\u001b[0;34m=\u001b[0m\u001b[0;34m'janice66'\u001b[0m\u001b[0;34m,\u001b[0m \u001b[0msubject\u001b[0m\u001b[0;34m=\u001b[0m\u001b[0;34m\"Signature\"\u001b[0m\u001b[0;34m,\u001b[0m \u001b[0mcontent\u001b[0m\u001b[0;34m=\u001b[0m\u001b[0msignature_numerique\u001b[0m\u001b[0;34m)\u001b[0m\u001b[0;34m\u001b[0m\u001b[0;34m\u001b[0m\u001b[0m\n",
      "\u001b[0;32m<ipython-input-18-9f1622fd474a>\u001b[0m in \u001b[0;36msignature\u001b[0;34m(document, secret_key)\u001b[0m\n\u001b[1;32m     12\u001b[0m     \u001b[0;31m#    affiche la commande invoquée\u001b[0m\u001b[0;34m\u001b[0m\u001b[0;34m\u001b[0m\u001b[0;34m\u001b[0m\u001b[0m\n\u001b[1;32m     13\u001b[0m     \u001b[0;31m#    print('debug : {0}'.format(' '.join(args)))\u001b[0m\u001b[0;34m\u001b[0m\u001b[0;34m\u001b[0m\u001b[0;34m\u001b[0m\u001b[0m\n\u001b[0;32m---> 14\u001b[0;31m     \u001b[0mresult\u001b[0m \u001b[0;34m=\u001b[0m \u001b[0msubprocess\u001b[0m\u001b[0;34m.\u001b[0m\u001b[0mrun\u001b[0m\u001b[0;34m(\u001b[0m\u001b[0margs\u001b[0m\u001b[0;34m,\u001b[0m \u001b[0minput\u001b[0m\u001b[0;34m=\u001b[0m\u001b[0mdocument\u001b[0m\u001b[0;34m,\u001b[0m \u001b[0mstdout\u001b[0m\u001b[0;34m=\u001b[0m\u001b[0msubprocess\u001b[0m\u001b[0;34m.\u001b[0m\u001b[0mPIPE\u001b[0m\u001b[0;34m,\u001b[0m \u001b[0mstderr\u001b[0m\u001b[0;34m=\u001b[0m\u001b[0msubprocess\u001b[0m\u001b[0;34m.\u001b[0m\u001b[0mPIPE\u001b[0m\u001b[0;34m)\u001b[0m\u001b[0;34m\u001b[0m\u001b[0;34m\u001b[0m\u001b[0m\n\u001b[0m\u001b[1;32m     15\u001b[0m \u001b[0;34m\u001b[0m\u001b[0m\n\u001b[1;32m     16\u001b[0m     \u001b[0;31m# si un message d'erreur est présent sur stderr, on arrête tout\u001b[0m\u001b[0;34m\u001b[0m\u001b[0;34m\u001b[0m\u001b[0;34m\u001b[0m\u001b[0m\n",
      "\u001b[0;32m~/anaconda3/lib/python3.8/subprocess.py\u001b[0m in \u001b[0;36mrun\u001b[0;34m(input, capture_output, timeout, check, *popenargs, **kwargs)\u001b[0m\n\u001b[1;32m    489\u001b[0m     \u001b[0;32mwith\u001b[0m \u001b[0mPopen\u001b[0m\u001b[0;34m(\u001b[0m\u001b[0;34m*\u001b[0m\u001b[0mpopenargs\u001b[0m\u001b[0;34m,\u001b[0m \u001b[0;34m**\u001b[0m\u001b[0mkwargs\u001b[0m\u001b[0;34m)\u001b[0m \u001b[0;32mas\u001b[0m \u001b[0mprocess\u001b[0m\u001b[0;34m:\u001b[0m\u001b[0;34m\u001b[0m\u001b[0;34m\u001b[0m\u001b[0m\n\u001b[1;32m    490\u001b[0m         \u001b[0;32mtry\u001b[0m\u001b[0;34m:\u001b[0m\u001b[0;34m\u001b[0m\u001b[0;34m\u001b[0m\u001b[0m\n\u001b[0;32m--> 491\u001b[0;31m             \u001b[0mstdout\u001b[0m\u001b[0;34m,\u001b[0m \u001b[0mstderr\u001b[0m \u001b[0;34m=\u001b[0m \u001b[0mprocess\u001b[0m\u001b[0;34m.\u001b[0m\u001b[0mcommunicate\u001b[0m\u001b[0;34m(\u001b[0m\u001b[0minput\u001b[0m\u001b[0;34m,\u001b[0m \u001b[0mtimeout\u001b[0m\u001b[0;34m=\u001b[0m\u001b[0mtimeout\u001b[0m\u001b[0;34m)\u001b[0m\u001b[0;34m\u001b[0m\u001b[0;34m\u001b[0m\u001b[0m\n\u001b[0m\u001b[1;32m    492\u001b[0m         \u001b[0;32mexcept\u001b[0m \u001b[0mTimeoutExpired\u001b[0m \u001b[0;32mas\u001b[0m \u001b[0mexc\u001b[0m\u001b[0;34m:\u001b[0m\u001b[0;34m\u001b[0m\u001b[0;34m\u001b[0m\u001b[0m\n\u001b[1;32m    493\u001b[0m             \u001b[0mprocess\u001b[0m\u001b[0;34m.\u001b[0m\u001b[0mkill\u001b[0m\u001b[0;34m(\u001b[0m\u001b[0;34m)\u001b[0m\u001b[0;34m\u001b[0m\u001b[0;34m\u001b[0m\u001b[0m\n",
      "\u001b[0;32m~/anaconda3/lib/python3.8/subprocess.py\u001b[0m in \u001b[0;36mcommunicate\u001b[0;34m(self, input, timeout)\u001b[0m\n\u001b[1;32m   1022\u001b[0m \u001b[0;34m\u001b[0m\u001b[0m\n\u001b[1;32m   1023\u001b[0m             \u001b[0;32mtry\u001b[0m\u001b[0;34m:\u001b[0m\u001b[0;34m\u001b[0m\u001b[0;34m\u001b[0m\u001b[0m\n\u001b[0;32m-> 1024\u001b[0;31m                 \u001b[0mstdout\u001b[0m\u001b[0;34m,\u001b[0m \u001b[0mstderr\u001b[0m \u001b[0;34m=\u001b[0m \u001b[0mself\u001b[0m\u001b[0;34m.\u001b[0m\u001b[0m_communicate\u001b[0m\u001b[0;34m(\u001b[0m\u001b[0minput\u001b[0m\u001b[0;34m,\u001b[0m \u001b[0mendtime\u001b[0m\u001b[0;34m,\u001b[0m \u001b[0mtimeout\u001b[0m\u001b[0;34m)\u001b[0m\u001b[0;34m\u001b[0m\u001b[0;34m\u001b[0m\u001b[0m\n\u001b[0m\u001b[1;32m   1025\u001b[0m             \u001b[0;32mexcept\u001b[0m \u001b[0mKeyboardInterrupt\u001b[0m\u001b[0;34m:\u001b[0m\u001b[0;34m\u001b[0m\u001b[0;34m\u001b[0m\u001b[0m\n\u001b[1;32m   1026\u001b[0m                 \u001b[0;31m# https://bugs.python.org/issue25942\u001b[0m\u001b[0;34m\u001b[0m\u001b[0;34m\u001b[0m\u001b[0;34m\u001b[0m\u001b[0m\n",
      "\u001b[0;32m~/anaconda3/lib/python3.8/subprocess.py\u001b[0m in \u001b[0;36m_communicate\u001b[0;34m(self, input, endtime, orig_timeout)\u001b[0m\n\u001b[1;32m   1844\u001b[0m \u001b[0;34m\u001b[0m\u001b[0m\n\u001b[1;32m   1845\u001b[0m             \u001b[0;32mif\u001b[0m \u001b[0mself\u001b[0m\u001b[0;34m.\u001b[0m\u001b[0m_input\u001b[0m\u001b[0;34m:\u001b[0m\u001b[0;34m\u001b[0m\u001b[0;34m\u001b[0m\u001b[0m\n\u001b[0;32m-> 1846\u001b[0;31m                 \u001b[0minput_view\u001b[0m \u001b[0;34m=\u001b[0m \u001b[0mmemoryview\u001b[0m\u001b[0;34m(\u001b[0m\u001b[0mself\u001b[0m\u001b[0;34m.\u001b[0m\u001b[0m_input\u001b[0m\u001b[0;34m)\u001b[0m\u001b[0;34m\u001b[0m\u001b[0;34m\u001b[0m\u001b[0m\n\u001b[0m\u001b[1;32m   1847\u001b[0m \u001b[0;34m\u001b[0m\u001b[0m\n\u001b[1;32m   1848\u001b[0m             \u001b[0;32mwith\u001b[0m \u001b[0m_PopenSelector\u001b[0m\u001b[0;34m(\u001b[0m\u001b[0;34m)\u001b[0m \u001b[0;32mas\u001b[0m \u001b[0mselector\u001b[0m\u001b[0;34m:\u001b[0m\u001b[0;34m\u001b[0m\u001b[0;34m\u001b[0m\u001b[0m\n",
      "\u001b[0;31mTypeError\u001b[0m: memoryview: a bytes-like object is required, not 'function'"
     ]
    }
   ],
   "source": [
    "signature_numerique = signature(mail, 'key_private.pub')\n",
    "print(signature_numerique)\n",
    "c.post('/bin/sendmail', to='janice66', subject=\"Signature\", content=signature_numerique)"
   ]
  },
  {
   "cell_type": "code",
   "execution_count": 64,
   "metadata": {},
   "outputs": [
    {
     "name": "stdout",
     "output_type": "stream",
     "text": [
      "----------------------------------------------------------------------\n",
      "Message #11519.\n",
      "\n",
      "\n",
      "Date: 07-02-21893 17:58:05\n",
      "From: janice66\n",
      "Subject: Re: Signature\n",
      "\n",
      "Thanks. Your signature is archived. You are now a member of CLEA. Go get to work : /bin/police_hq. \n",
      "[[1612720685##robot-clerk[55] UGLIX]]: SAV.BYE:3030:2@782462|59d56e06d7a4acc01a18060551936061\n",
      "\n",
      "\n"
     ]
    }
   ],
   "source": [
    "print(c.get('/home/palmerjohn/INBOX/11519'))"
   ]
  },
  {
   "cell_type": "raw",
   "metadata": {},
   "source": []
  },
  {
   "cell_type": "raw",
   "metadata": {},
   "source": [
    "                ##############################################################################\n",
    "                                           POLICE HQ\n",
    "                ##############################################################################"
   ]
  },
  {
   "cell_type": "raw",
   "metadata": {},
   "source": []
  },
  {
   "cell_type": "code",
   "execution_count": 19,
   "metadata": {},
   "outputs": [
    {
     "name": "stdout",
     "output_type": "stream",
     "text": [
      "[initializing ticket system]\n",
      "[connecting to tickets daemon]\n",
      "[fetching tickets]\n",
      "---> 1 ticket in queue\n",
      "[building UI]\n",
      "[startup complete]\n",
      "      ,   /\\   ,          Hello palmerjohn,\n",
      "     / '-'  '-' \\\n",
      "    | UGLIX CLEA |        Agency: UGLIX (Cyber-)Law Enforcement Agency\n",
      "    \\    .--.    /        Rank: consultant\n",
      "     |  ( 42 )  |         Admin privilege: no\n",
      "     \\   '--'   /\n",
      "      '--.  .--'\n",
      "          \\/              Your ticket list:\n",
      "-------+-------+-----------------------------------------------------------------------\n",
      "|  id  | level |  mission\n",
      "-------+-------+-----------------------------------------------------------------------\n",
      "| 1496 | XXXXX | XXXXXXXXXX SECURITY TOO LOW XXXXXXXXXX USE THE STP PROTOCOL XXXXXXXXXX\n",
      "\n",
      "If you need assistance, [---REDACTED---] is a good place to start. A debriefing is shown\n",
      "when tickets are closed. You may be assigned new tickets in the future.\n",
      "[ You have new mail ]\n"
     ]
    }
   ],
   "source": [
    "print(c.get('/bin/police_hq'))"
   ]
  },
  {
   "cell_type": "raw",
   "metadata": {},
   "source": [
    "                ###################################################################\n",
    "                                             1172 \n",
    "                ###################################################################"
   ]
  },
  {
   "cell_type": "code",
   "execution_count": 86,
   "metadata": {},
   "outputs": [
    {
     "name": "stdout",
     "output_type": "stream",
     "text": [
      "Nous menons actuellement une enquête sur des faits de cyber-terrorisme \n",
      "(présumé). Une des personnes auxquelles nous nous intéressons a envoyé des \n",
      "messages chiffrés par la méthode du \"one-time pad\". Nous considérons cette \n",
      "attitude avec suspicion : pourquoi employer une technique \"incassable\" et peu \n",
      "pratique, à moins d'avoir des choses très graves à dissimuler vis-à-vis des plus\n",
      "hautes autorités ?\n",
      "\n",
      "Quoi qu'il en soit, il semble que nos cibles aient commis une grosse erreur. Une\n",
      "taupe infiltré dans le réseau que nous essayons de démanteler nous a révélé que\n",
      "la formation à la cryptographie de nos suspects présumés est plus que\n",
      "rudimentaire. Ils ont bien compris que le \"one-time pad\" est une méthode fiable,\n",
      "ils ont également bien compris qu'il faut une source d'aléa de bonne qualité\n",
      "pour générer le masque, mais ils n'ont pas compris qu'il faut changer de masque\n",
      "à chaque fois !\n",
      "\n",
      "Lors de l'enquête nous avons saisi des documents chiffrés avec le MÊME masque.\n",
      "Notre équipe de h4x0rz à réussi à les déchiffrer partiellement. Nous pensons que\n",
      "le document A est un fichier texte, tandis que le document B est apparemment une\n",
      "image au format \"plain PBM\" (variante P1, sans espaces, sans newline).\n",
      "\n",
      "Nous n'arrivons pas vraiment à déterminer le 4-ème mot de la 10-ème \n",
      "ligne du document A. Il s'agit pour vous de le trouver puis de l'envoyer par\n",
      "mail à l'adresse de contact de ce ticket (en pièce-jointe, id=\"client\").\n",
      "\n",
      "ATTENTION : la numérotation commence à partir de 0. La première ligne porte le\n",
      "            numéro 0, et le premier mot d'une ligne porte le numéro 0.\n",
      "\n",
      "Les deux documents sont en pièce-jointe (id=\"exhibit-A\" et \"exhibit-B\"). Ils \n",
      "sont encodés en base64. Vous trouverez aussi autres deux pièces-jointes \n",
      "(id=\"i\" et \"j\") contenant respectivement le numéro de la ligne et du mot à \n",
      "extraire.\n",
      "\n",
      "Un exemple d'image au format spécifié est fourni en pièce-jointe (id=\"sample\").\n",
      "\n",
      "Enfin, pour vous aider, la sagesse accumulée par vos prédécesseurs est \n",
      "accessible au travers de trois indications, qui figurent en pièce-jointe\n",
      "(id=\"indication-[012]\").\n",
      "---\n",
      "Jeffrey West, CLEA agent.\n",
      "\"Don't break the (cyber-)law\"\n",
      "[ You have new mail ]\n"
     ]
    }
   ],
   "source": [
    "print(c.get('/bin/police_hq/ticket/1172'))"
   ]
  },
  {
   "cell_type": "code",
   "execution_count": 132,
   "metadata": {},
   "outputs": [
    {
     "ename": "ServerError",
     "evalue": "ERREUR 403, Session not opened.",
     "output_type": "error",
     "traceback": [
      "\u001b[0;31m---------------------------------------------------------------------------\u001b[0m",
      "\u001b[0;31mServerError\u001b[0m                               Traceback (most recent call last)",
      "\u001b[0;32m<ipython-input-132-8f64fb0684ff>\u001b[0m in \u001b[0;36m<module>\u001b[0;34m\u001b[0m\n\u001b[0;32m----> 1\u001b[0;31m \u001b[0mprint\u001b[0m\u001b[0;34m(\u001b[0m\u001b[0mc\u001b[0m\u001b[0;34m.\u001b[0m\u001b[0mget\u001b[0m\u001b[0;34m(\u001b[0m\u001b[0;34m'/bin/police_hq/ticket/1172/attachment/client'\u001b[0m\u001b[0;34m)\u001b[0m\u001b[0;34m)\u001b[0m\u001b[0;34m\u001b[0m\u001b[0;34m\u001b[0m\u001b[0m\n\u001b[0m",
      "\u001b[0;32m<ipython-input-17-74291c68df9f>\u001b[0m in \u001b[0;36mget\u001b[0;34m(self, url)\u001b[0m\n\u001b[1;32m     46\u001b[0m         \u001b[0;31m# prépare la requête\u001b[0m\u001b[0;34m\u001b[0m\u001b[0;34m\u001b[0m\u001b[0;34m\u001b[0m\u001b[0m\n\u001b[1;32m     47\u001b[0m         \u001b[0mrequest\u001b[0m \u001b[0;34m=\u001b[0m \u001b[0murllib\u001b[0m\u001b[0;34m.\u001b[0m\u001b[0mrequest\u001b[0m\u001b[0;34m.\u001b[0m\u001b[0mRequest\u001b[0m\u001b[0;34m(\u001b[0m\u001b[0mself\u001b[0m\u001b[0;34m.\u001b[0m\u001b[0m_base\u001b[0m \u001b[0;34m+\u001b[0m \u001b[0murl\u001b[0m\u001b[0;34m,\u001b[0m \u001b[0mmethod\u001b[0m\u001b[0;34m=\u001b[0m\u001b[0;34m'GET'\u001b[0m\u001b[0;34m)\u001b[0m\u001b[0;34m\u001b[0m\u001b[0;34m\u001b[0m\u001b[0m\n\u001b[0;32m---> 48\u001b[0;31m         \u001b[0;32mreturn\u001b[0m \u001b[0mself\u001b[0m\u001b[0;34m.\u001b[0m\u001b[0m_query\u001b[0m\u001b[0;34m(\u001b[0m\u001b[0murl\u001b[0m\u001b[0;34m,\u001b[0m \u001b[0mrequest\u001b[0m\u001b[0;34m)\u001b[0m\u001b[0;34m\u001b[0m\u001b[0;34m\u001b[0m\u001b[0m\n\u001b[0m\u001b[1;32m     49\u001b[0m \u001b[0;34m\u001b[0m\u001b[0m\n\u001b[1;32m     50\u001b[0m \u001b[0;34m\u001b[0m\u001b[0m\n",
      "\u001b[0;32m<ipython-input-17-74291c68df9f>\u001b[0m in \u001b[0;36m_query\u001b[0;34m(self, url, request, data)\u001b[0m\n\u001b[1;32m    185\u001b[0m             \u001b[0mheaders\u001b[0m \u001b[0;34m=\u001b[0m \u001b[0mdict\u001b[0m\u001b[0;34m(\u001b[0m\u001b[0me\u001b[0m\u001b[0;34m.\u001b[0m\u001b[0mheaders\u001b[0m\u001b[0;34m)\u001b[0m\u001b[0;34m\u001b[0m\u001b[0;34m\u001b[0m\u001b[0m\n\u001b[1;32m    186\u001b[0m             \u001b[0mmessage\u001b[0m \u001b[0;34m=\u001b[0m \u001b[0me\u001b[0m\u001b[0;34m.\u001b[0m\u001b[0mread\u001b[0m\u001b[0;34m(\u001b[0m\u001b[0;34m)\u001b[0m\u001b[0;34m\u001b[0m\u001b[0;34m\u001b[0m\u001b[0m\n\u001b[0;32m--> 187\u001b[0;31m             \u001b[0;32mraise\u001b[0m \u001b[0mServerError\u001b[0m\u001b[0;34m(\u001b[0m\u001b[0me\u001b[0m\u001b[0;34m.\u001b[0m\u001b[0mcode\u001b[0m\u001b[0;34m,\u001b[0m \u001b[0mself\u001b[0m\u001b[0;34m.\u001b[0m\u001b[0m_post_process\u001b[0m\u001b[0;34m(\u001b[0m\u001b[0mmessage\u001b[0m\u001b[0;34m,\u001b[0m \u001b[0mheaders\u001b[0m\u001b[0;34m)\u001b[0m\u001b[0;34m)\u001b[0m \u001b[0;32mfrom\u001b[0m \u001b[0;32mNone\u001b[0m\u001b[0;34m\u001b[0m\u001b[0;34m\u001b[0m\u001b[0m\n\u001b[0m\u001b[1;32m    188\u001b[0m \u001b[0;34m\u001b[0m\u001b[0m\n",
      "\u001b[0;31mServerError\u001b[0m: ERREUR 403, Session not opened."
     ]
    }
   ],
   "source": [
    "print(c.get('/bin/police_hq/ticket/1172/attachment/client'))"
   ]
  },
  {
   "cell_type": "code",
   "execution_count": 88,
   "metadata": {},
   "outputs": [],
   "source": [
    "document_A = c.get('/bin/police_hq/ticket/1172/attachment/exhibit-A')\n",
    "document_B = c.get('/bin/police_hq/ticket/1172/attachment/exhibit-B')"
   ]
  },
  {
   "cell_type": "code",
   "execution_count": 96,
   "metadata": {},
   "outputs": [
    {
     "name": "stdout",
     "output_type": "stream",
     "text": [
      "<class 'bytes'>\n"
     ]
    }
   ],
   "source": [
    "document_A_bytes = base64.b64decode(document_A)\n",
    "document_B_bytes = base64.b64decode(document_B)\n",
    "print(type(document_A_bytes))"
   ]
  },
  {
   "cell_type": "code",
   "execution_count": 100,
   "metadata": {},
   "outputs": [],
   "source": [
    "M1_M2 = [chr(a^b) for a,b in zip(document_A_bytes, document_B_bytes)]\n",
    "M1_M2 = ''.join(M1_M2)\n",
    "M1_M2 = M1_M2.encode()"
   ]
  },
  {
   "cell_type": "code",
   "execution_count": 117,
   "metadata": {},
   "outputs": [
    {
     "name": "stdout",
     "output_type": "stream",
     "text": [
      "1er partie:\n",
      "-oIpwd$sU!knts!dy`muóò²óòóò³óò¨!m&`óò²óòóò³óò©ed!qsnr`óò²óòóò³óò®rd\u000b",
      "Qnts!eóò²óòóò³óò¨qm`hsd!`t!qsng`od!`tssi chdo!pt&`ty!hehnur\u000b",
      "M` dóò²óòóò³óò©couvdsud!`mnsr!wnhmóò²óòóò³óò¡!qui!usaum`uhrd\u000b",
      "Du!gdsldoudot ed!lóò²óòóò³óò«me!du!mdr!bthsr!du ldr!qd`tx\n",
      "Et!wnhrho!md!Q`qou!rtóò²óòóò³óò¦d!l'`qnqixrd\u000b",
      "Md!wtmfaisd!r&dotóò²óòóò³óò«ud!óò²óòóò³óò¡!wntmnhs!ees!wdsr!cdaty\u000b",
      "Hm!fsdmnuu`hu ld!q`twre aux bords dd!m`!Talhrd\u000b",
      "Elle effraie le Cdssx!bnlle les Morvandiaux\u000b",
      "M`!Fsóò²óòóò³óò©bd de Platon óò²óòóò³óò  couq!róò²óòóò³óòºs!o&dst poinu!rotte\n",
      "Gr`uuds!md!qarchemio!edviendr`!r`!l`snute\n",
      "Le cnmnoel s'óò²óòóò³óò¨qnofd!to!blason e`os la maho\u000b",
      "No!sdfsette óò²óòóò³óò  m` fin ler!`fsdrudr bicoqudr\u000b",
      "Exaltenu!m&d\n",
      "2e partie:\n",
      ",nHqve%rT jour exaltòó³òóòó²òó© l'aòó³òóòó²òó¨de prosaòó³òóòó²òó¯se\n",
      "Pour dòó³òóòó²òó©plaire au profane aurrh!bien qu'aux idiots\n",
      "La!eòó³òóòó²òó¨bntwerte alors voilòó³òóòó²òó  pth tr`tlatise\n",
      "Et fermentenu!de mòó³òóòó²òóªld et les cuirs et!mes peauy\u000b",
      "Du voisin le Papnt suòó³òóòó²òó§e m&apophyse\n",
      "Le vulg`hre s'enuòó³òóòó²òóªte òó³òóòó²òó  vouloir ddr vers be`ux\n",
      "Il grelottait!me pauvsd!`ty!cnser!ee la U`mise\n",
      "Dmmd!dggs`hd!md!Berry commd!mdr!Lnsw`oeh`ty\n",
      "La Gròó³òóòó²òó¨ce!ed!Qm`uno!òó³òóòó²òó¡!bntp sòó³òóòó²òó»r n'eru!qnhot snuud\u000b",
      "Fsatter le p`sbidlhn dewhdoesa sa marotud\u000b",
      "Md!bolondm!r&òó³òóòó²òó©ponge un cm`rno!danr!m`!l`in\n",
      "On regrduud!òó³òóòó²òó¡!la!gho!mds agrestes!chbnptes\n",
      "Dy`mudot l'e\n"
     ]
    }
   ],
   "source": [
    "b0 = b\"\"\n",
    "for i in range(0, len(M1_M2)):\n",
    "    b0 += b\"0\"\n",
    "    \n",
    "b1 = b\"\"\n",
    "for i in range(0, len(M1_M2)): \n",
    "    b1 += b'1'\n",
    "    \n",
    "M1_M2_0 = [chr(a^b) for a,b in zip(M1_M2, b0)]\n",
    "M1_M2_0 = ''.join(M1_M2_0)\n",
    "M1_M2_0 = M1_M2_0.encode()\n",
    "\n",
    "M1_M2_1 = [chr(a^b) for a,b in zip(M1_M2, b1)]\n",
    "M1_M2_1 = ''.join(M1_M2_1)\n",
    "M1_M2_1 = M1_M2_1.encode()\n",
    "\n",
    "print(\"1er partie:\")\n",
    "print((M1_M2_0).decode())\n",
    "print(\"2e partie:\")\n",
    "print((M1_M2_1).decode())\n"
   ]
  },
  {
   "cell_type": "code",
   "execution_count": 31,
   "metadata": {},
   "outputs": [
    {
     "name": "stdout",
     "output_type": "stream",
     "text": [
      "i = 10 et j =4\n"
     ]
    }
   ],
   "source": [
    "i = c.get('/bin/police_hq/ticket/1172/attachment/i')\n",
    "j = c.get('/bin/police_hq/ticket/1172/attachment/j')\n",
    "print('i = {} et j ={}'.format(i, j))"
   ]
  },
  {
   "cell_type": "code",
   "execution_count": 32,
   "metadata": {},
   "outputs": [
    {
     "name": "stdout",
     "output_type": "stream",
     "text": [
      "P1\n",
      "24 7\n",
      "000000000000000000000000011110011110011110011110010000010000010000010010011100011100011100011110010000010000010000010000010000011110011110010000000000000000000000000000\n",
      "\n",
      "indication 0 = Respirez calmement.\n",
      "indication 1 = Combinez les deux messages pour éliminer le masque.\n",
      "indication 2 = Vous ne connaissez pas précisément le contenu de l'image, mais vous\n",
      "savez que l'essentiel est constitué d'une longue séquence qui ne peut\n",
      "contenir que deux caractères différents.\n"
     ]
    }
   ],
   "source": [
    "image = c.get('/bin/police_hq/ticket/1172/attachment/sample')\n",
    "print(image)\n",
    "indication_0 = c.get('/bin/police_hq/ticket/1172/attachment/indication-0')\n",
    "print(\"indication 0 = {}\".format(indication_0))\n",
    "indication_1 = c.get('/bin/police_hq/ticket/1172/attachment/indication-1')\n",
    "print(\"indication 1 = {}\".format(indication_1))\n",
    "indication_2 = c.get('/bin/police_hq/ticket/1172/attachment/indication-2')\n",
    "print(\"indication 2 = {}\".format(indication_2))\n",
    "\n"
   ]
  },
  {
   "cell_type": "code",
   "execution_count": 109,
   "metadata": {},
   "outputs": [
    {
     "name": "stdout",
     "output_type": "stream",
     "text": [
      "{'name': 'Jeffrey West', 'company': 'Graham Group', 'email': 'anthonywebb'}\n"
     ]
    }
   ],
   "source": [
    "contact = c.get('/bin/police_hq/ticket/1172/attachment/client')\n",
    "print(contact)"
   ]
  },
  {
   "cell_type": "code",
   "execution_count": 141,
   "metadata": {},
   "outputs": [
    {
     "data": {
      "text/plain": [
       "'STATUS: OK --- mail delivered succesfully\\n[ You have new mail ]'"
      ]
     },
     "execution_count": 141,
     "metadata": {},
     "output_type": "execute_result"
    }
   ],
   "source": [
    "c.post('/bin/sendmail', to='anthonywebb', subject=\"mots\", content=\"blason\")"
   ]
  },
  {
   "cell_type": "code",
   "execution_count": 143,
   "metadata": {},
   "outputs": [
    {
     "name": "stdout",
     "output_type": "stream",
     "text": [
      "----------------------------------------------------------------------\n",
      "Message #12667.\n",
      "\n",
      "\n",
      "Date: 12-02-21893 16:11:55\n",
      "From: anthonywebb\n",
      "Subject: Re: mots\n",
      "\n",
      "Super, merci ! Vous pouvez fermer le ticket.\n",
      "\n",
      "\n"
     ]
    }
   ],
   "source": [
    "mail(\"palmerjohn\", \"12667\")"
   ]
  },
  {
   "cell_type": "code",
   "execution_count": 144,
   "metadata": {},
   "outputs": [
    {
     "data": {
      "text/plain": [
       "'STATUS : OK --- ticket 1172 closed\\n\\nDEBRIEFING\\n----------\\n\\nIl semble que nous ayons été conduit sur une fausse piste. Le contenu chiffré\\nne semble pas critique.\\n\\nCONCLUSION: Affaire classée\\nISSUE : sans suite\\n\\n[[1613148073##desk-trackerd[37] UGLIX]]: 2X.PAD:3030:3@335022|e20e081e53148beb560d56c204d700ef\\n[ You have new mail ]'"
      ]
     },
     "execution_count": 144,
     "metadata": {},
     "output_type": "execute_result"
    }
   ],
   "source": [
    "c.post('/bin/police_hq/ticket/1172/close')"
   ]
  },
  {
   "cell_type": "raw",
   "metadata": {},
   "source": [
    "                        ################################################################\n",
    "                                                 1173\n",
    "                        ################################################################"
   ]
  },
  {
   "cell_type": "code",
   "execution_count": 177,
   "metadata": {},
   "outputs": [
    {
     "name": "stdout",
     "output_type": "stream",
     "text": [
      "Nous enquêtons actuellement sur une série de délits bancaires. Il semble que des\n",
      "fraudeurs aient trouvé un moyen de désactiver toute une série de vérifications\n",
      "de sécurité dans ces terminaux de paiement, ce qui leur permet de payer avec\n",
      "de fausses cartes de crédit. Ces cartes indiquent un numéro de compte bidon, et\n",
      "du coup les banques doivent assumer des transactions et elles ne peuvent débiter\n",
      "personne.\n",
      "\n",
      "Les banques qui coopèrent avec nos services ont compilé une base de données de\n",
      "transactions potentiellement frauduleuses. Nous souhatons que vous en examiniez\n",
      "un extrait et que vous déterminiez si chaque transaction est légitime.\n",
      "\n",
      "En vous connectant à cette adresse :\n",
      "\n",
      "    /bin/banks/forensics\n",
      "\n",
      "Vous obtiendrez un lot de transactions à traiter. Plus précisément, vous\n",
      "obtiendrez :\n",
      "    + un identifiant de lot (identifier)\n",
      "    + une liste de numéros de cartes (card-numbers)\n",
      "\n",
      "Une transaction est un triplet formé :\n",
      "\t+ du numéro de la carte\n",
      "\t+ d'un \"challenge\" envoyé par le terminal de paiement\n",
      "\t+ de la signature du challenge par la carte\n",
      "\n",
      "\n",
      "Vous devez déterminer si ces transactions sont valides. Pour chacune des \n",
      "transactions, vous devrez fournir un booléen (True = valide). Vous devrez\n",
      "renvoyer à l'adresse email de contact de ce ticket (en pièce-jointe, id=\"client\")\n",
      "un dictionnaire contenant deux champs :\n",
      "\t+ \"identifier\" : l'identifiant du lot de transactions\n",
      "\t+ \"statuses\"   : la liste des status des transactions, dans l'ordre.\n",
      "\n",
      "\n",
      "Vous aurez besoin d'accéder aux données publiques contenues dans les cartes qui\n",
      "figurent dans votre lot. Pour obtenir les informations de la carte numéro <n>,\n",
      "récupérez le fichier :\n",
      "\n",
      "\t/bin/banks/card-data/<n>\n",
      "\n",
      "Vous récupérerez un dictionnaire qui contient :\n",
      "    + le nom de la banque (bank-name)\n",
      "    + le certificat de la banque émis par l'autorité de certification bancaire\n",
      "      (bank-certificate)\n",
      "    + le certificat de la carte émis par la banque (card-certificate)\n",
      "    + un \"challenge\" envoyé par le terminal de paiement (challenge)\n",
      "    + la signature du challenge par la carte (signature)\n",
      "    + du numéro de la carte (card-number)\n",
      "\n",
      "\n",
      "Vous aurez besoin du certificat (auto-signé) de l'autorité de certification. \n",
      "Vous le trouverez ici :\n",
      "\n",
      "    /bin/banks/CA\n",
      "\n",
      "\n",
      "Pour vous entrainer, vous pouvez utiliser cette adresse :\n",
      "\n",
      "\t/bin/banks/forensics/sample\n",
      "\n",
      "Vous obtiendrez une transaction aléatoire, son statut ainsi qu'une explication.\n",
      "Un mélange de transaction valides et invalides est renvoyé. Récupérez plusieurs\n",
      "échantillons pour avoir une idée des différents problèmes qui peuvent survenir.\n",
      "\n",
      "\n",
      "Il vous sera utile de consulter /doc/certificats.\n",
      "---\n",
      "Michael Hernandez, CLEA agent.\n",
      "\"Don't break the (cyber-)law\"\n",
      "[ You have new mail ]\n"
     ]
    }
   ],
   "source": [
    "print(c.get('/bin/police_hq/ticket/1173'))"
   ]
  },
  {
   "cell_type": "code",
   "execution_count": 179,
   "metadata": {},
   "outputs": [],
   "source": [
    "certificat_autorite = c.get('/bin/banks/CA')\n",
    "#print(certificat_autorite)"
   ]
  },
  {
   "cell_type": "code",
   "execution_count": 14,
   "metadata": {},
   "outputs": [],
   "source": [
    "def verifie_certificat(certificats, certificatsA, certificatsB):    \n",
    "    reponse = True \n",
    "    if isinstance(certificats, str):\n",
    "        certificats = certificats.encode('utf-8')\n",
    "    #openssl verify -trusted <fichier_1> -untrusted <fichier_2>\n",
    "    args = [\"openssl\", \"verify\",  \"-trusted\", certificatsA, \"-untrusted\", certificatsB]\n",
    "\n",
    "    result = subprocess.run(args, input=certificats, stdout=subprocess.PIPE, stderr=subprocess.PIPE)\n",
    "\n",
    "    # si un message d'erreur est présent sur stderr, on arrête tout\n",
    "    # attention, sur stderr on récupère des bytes(), donc on convertit\n",
    "    error_message = result.stderr.decode()\n",
    "    if error_message != '':\n",
    "        reponse = False \n",
    "    if \"error\" in result.stderr.decode(): \n",
    "        reponse = False\n",
    "    return reponse "
   ]
  },
  {
   "cell_type": "code",
   "execution_count": 15,
   "metadata": {},
   "outputs": [],
   "source": [
    "def recuperer_sujet_certificat(certificats): \n",
    "    args = [\"openssl\", \"x509\",  \"-subject\", \"-noout\"]\n",
    "   \n",
    "    if isinstance(certificats, str):\n",
    "        certificats = certificats.encode('utf-8')\n",
    "    \n",
    "    result = subprocess.run(args, input=certificats, stdout=subprocess.PIPE, stderr=subprocess.PIPE)\n",
    "\n",
    "    # si un message d'erreur est présent sur stderr, on arrête tout\n",
    "    # attention, sur stderr on récupère des bytes(), donc on convertit\n",
    "    error_message = result.stderr.decode()\n",
    "    if error_message != '':\n",
    "        raise OpensslError(error_message)\n",
    "\n",
    "    # OK, openssl a envoyé le chiffré sur stdout, en base64.\n",
    "    # On récupère des bytes, donc on en fait une chaine unicode\n",
    "    return result.stdout.decode()"
   ]
  },
  {
   "cell_type": "code",
   "execution_count": 18,
   "metadata": {},
   "outputs": [],
   "source": [
    "def recuperer_cle_public(certificats): \n",
    "    args = [\"openssl\", \"x509\",  \"-pubkey\", \"-noout\"]\n",
    "    if isinstance(certificats, str):\n",
    "        certificats = certificats.encode('utf-8')\n",
    "    \n",
    "    result = subprocess.run(args, input=certificats, stdout=subprocess.PIPE, stderr=subprocess.PIPE)\n",
    "\n",
    "    # si un message d'erreur est présent sur stderr, on arrête tout\n",
    "    # attention, sur stderr on récupère des bytes(), donc on convertit\n",
    "    error_message = result.stderr.decode()\n",
    "    if error_message != '':\n",
    "        raise OpensslError(error_message)\n",
    "\n",
    "\n",
    "    # OK, openssl a envoyé le chiffré sur stdout, en base64.\n",
    "    # On récupère des bytes, donc on en fait une chaine unicode\n",
    "    return result.stdout.decode()"
   ]
  },
  {
   "cell_type": "code",
   "execution_count": 19,
   "metadata": {},
   "outputs": [],
   "source": [
    "def recuperer_text_certificat(certificats): \n",
    "    args = [\"openssl\", \"x509\",  \"-text\", \"-noout\"]\n",
    "    if isinstance(certificats, str):\n",
    "        certificats = certificats.encode('utf-8')\n",
    "    \n",
    "    result = subprocess.run(args, input=certificats, stdout=subprocess.PIPE, stderr=subprocess.PIPE)\n",
    "\n",
    "    # si un message d'erreur est présent sur stderr, on arrête tout\n",
    "    # attention, sur stderr on récupère des bytes(), donc on convertit\n",
    "    error_message = result.stderr.decode()\n",
    "    if error_message != '':\n",
    "        raise OpensslError(error_message)\n",
    "\n",
    "    # OK, openssl a envoyé le chiffré sur stdout, en base64.\n",
    "    # On récupère des bytes, donc on en fait une chaine unicode\n",
    "    return result.stdout.decode()"
   ]
  },
  {
   "cell_type": "code",
   "execution_count": 47,
   "metadata": {},
   "outputs": [],
   "source": [
    "def verification_signature_carte(key_certificat, signature, challenge): \n",
    "    #openssl dgst -sha256 -verify public_key.pem -signature signature.bin\n",
    "    with open(\"key_certificat.bin\", \"w\") as f: \n",
    "        f.write(key_certificat)\n",
    "    args = [\"openssl\", \"dgst\", '-sha256',  \"-verify\", \"key_certificat.bin\",\"-signature\", signature]\n",
    "    if isinstance(challenge, str):\n",
    "        challenge = challenge.encode('utf-8')\n",
    "    \n",
    "    result = subprocess.run(args, input=challenge, stdout=subprocess.PIPE, stderr=subprocess.PIPE)\n",
    "\n",
    "    # si un message d'erreur est présent sur stderr, on arrête tout\n",
    "    # attention, sur stderr on récupère des bytes(), donc on convertit\n",
    "    error_message = result.stderr.decode()\n",
    "    if error_message != '':\n",
    "        raise OpensslError(error_message)\n",
    "\n",
    "    # OK, openssl a envoyé le chiffré sur stdout, en base64.\n",
    "    # On récupère des bytes, donc on en fait une chaine unicode\n",
    "    resultat = result.stdout.decode()\n",
    "    if 'Failure' in resultat: \n",
    "        resultat = False\n",
    "    else : \n",
    "        resultat = True \n",
    "    return resultat"
   ]
  },
  {
   "cell_type": "code",
   "execution_count": 21,
   "metadata": {},
   "outputs": [],
   "source": [
    "def verification(): \n",
    "    donnee  = c.get('/bin/banks/forensics')\n",
    "    identifier = donnee[\"identifier\"]\n",
    "    liste = donnee['card-numbers']\n",
    "    CA = c.get(\"/bin/banks/CA\")\n",
    "    with open(\"certificatsA.txt\", \"w\") as f: \n",
    "            f.write(CA)\n",
    "    CA = \"certificatsA.txt\"\n",
    "    reponse = []\n",
    "    for i in liste: \n",
    "        #données publiques \n",
    "        info_publique = c.get('/bin/banks/card-data/'+i)\n",
    "\n",
    "        #info : \n",
    "        nom_de_banque = info_publique[\"bank-name\"]\n",
    "        certificat_banque = info_publique[\"bank-certificate\"]\n",
    "        certificat_carte = info_publique[\"card-certificate\"]\n",
    "        challenge = info_publique[\"challenge\"]\n",
    "        signature = info_publique[\"signature\"]\n",
    "        num_carte = info_publique[\"card-number\"]\n",
    "        \n",
    "        with open(\"certificats_carte.txt\", \"w\") as f: \n",
    "            f.write(certificat_carte)\n",
    "\n",
    "        with open(\"certificats_banque.txt\", \"w\") as f: \n",
    "            f.write(certificat_banque)\n",
    "\n",
    "        \n",
    "        signature = base64.b64decode(signature)\n",
    "        with open(\"signature.bin\", \"wb\") as f: \n",
    "            f.write(signature)\n",
    "            \n",
    "        key_certificat = recuperer_cle_public (certificat_carte)\n",
    "        with open(\"public_key.pem\", \"w\") as f: \n",
    "            f.write(key_certificat)\n",
    "            \n",
    "        with open(\"challenge.txt\", \"w\") as f: \n",
    "            f.write(challenge)\n",
    "\n",
    "        certificats_carte_f = \"certificats_carte.txt\"\n",
    "        certificat_banque_f = \"certificats_banque.txt\"\n",
    "        \n",
    "        #Verifications : \n",
    "        v_certificat_carte = verifie_certificat(certificat_carte, CA, certificat_banque_f)\n",
    "        v_nom_in_certificat = nom_de_banque in recuperer_sujet_certificat(certificat_banque)        \n",
    "        v_signature_carte = verification_signature_carte(\"public_key.pem\", \"signature.bin\",challenge)\n",
    "        v_num_carte = num_carte in recuperer_sujet_certificat(certificat_carte)\n",
    "        reponse.append(v_certificat_carte&v_nom_in_certificat&v_signature_carte&v_num_carte)\n",
    "    return reponse, identifier\n",
    "    "
   ]
  },
  {
   "cell_type": "code",
   "execution_count": 503,
   "metadata": {},
   "outputs": [
    {
     "name": "stdout",
     "output_type": "stream",
     "text": [
      "[False, False, True, True, False, True, True, True, True, False, False, False, False, False, False, True, True, True, False, True, False, False, False, True, False, False, True, False, False, False, False, False, False, True, False, True, True, False, False, True, True, False, True, True, False, False, False, False, True, False, False, False, False, True, False, False, False, False, False, False, False, True, True, False, False, False, False, False, True, False, False, False, True, True, False, True, True, False, True, False, True, True, True, False, True, False, False, True, True, False, False, True, False, True, False, False, True, False, False, True, True, False, True, True, True, False, True, True, True, False, True, False, False, True, True, False, False, True, False, True, True, True, False, False, True, False, True, False]\n"
     ]
    }
   ],
   "source": [
    "statuses, identifier  = verification()\n",
    "print(statuses)"
   ]
  },
  {
   "cell_type": "code",
   "execution_count": 422,
   "metadata": {},
   "outputs": [
    {
     "name": "stdout",
     "output_type": "stream",
     "text": [
      "b'0E\\x02!\\x00\\xdef\\x11 *\\xed\\xf5A^\\xd6Q\\xaf<\\xa6\\n\\xda\\xa4]\\x8d\\xa835\\x90\\xd9R\\x01\"q\\xc8s\\xd6\\xc9\\x02 `\\x8dO\\xe3i\\xc0\\xa3\\x19\\xb2u\\x8a\\x83\\xc7\\xf3\\xbd$m\\xba\\xa3\\xd7OV\\x07\\x9a\\x8c8\\x85ptEt\\xd7'\n",
      "<class 'str'>\n",
      "v_certificat_carte : True  \n",
      " v_nom_in_certificat: True \n",
      "  v_signature_carte :True \n",
      " v_num_carte :True\n"
     ]
    }
   ],
   "source": [
    "#TRUE\n",
    "liste_de_carte = ['5413-4092-2581-7982'] \n",
    "statuses = verification(liste_de_carte)\n",
    "#print(statuses)"
   ]
  },
  {
   "cell_type": "code",
   "execution_count": 423,
   "metadata": {},
   "outputs": [
    {
     "name": "stdout",
     "output_type": "stream",
     "text": [
      "b'0F\\x02!\\x00\\xa5\\x19\\xe7j\\x8be\\x17+Yb\\x8bq\\x8d\\x87\\x14\\xcb\\x95L\\xedXx\\xca1\\xd2\\xf2]\\x01)K\\x99\\x7f\\x1c\\x02!\\x00\\x89\\x97@n~G\\xd8/\\xde4\\xd8\\xf5\\x91\\xebO\\x84\\x88\\xfb\\xbfX\\xf9\\xf7`j\\xd2<\\xec\\xdb;{\\x1d3'\n",
      "<class 'str'>\n",
      "O = \"Dawson, George and Clark\", OU = Cards Management, CN = 4190-9702-0375-2474\n",
      "error 7 at 0 depth lookup: certificate signature failure\n",
      "140693836895424:error:0D0C5006:asn1 encoding routines:ASN1_item_verify:EVP lib:crypto/asn1/a_verify.c:170:\n",
      "\n",
      "v_certificat_carte : False  \n",
      " v_nom_in_certificat: True \n",
      "  v_signature_carte :True \n",
      " v_num_carte :True\n"
     ]
    }
   ],
   "source": [
    "#FALSE \n",
    "liste_de_carte = ['4190-9702-0375-2474'] \n",
    "statuses = verification(liste_de_carte)\n",
    "#print(statuses)"
   ]
  },
  {
   "cell_type": "code",
   "execution_count": 344,
   "metadata": {},
   "outputs": [
    {
     "name": "stdout",
     "output_type": "stream",
     "text": [
      "{'transaction': {'card-certificate': '-----BEGIN CERTIFICATE-----\\nMIIBoTCCAUgCFHPdIli7qNsWaLI7V66mTojQX5p/MAoGCCqGSM49BAMCME4xITAf\\nBgNVBAoMGERhd3NvbiwgR2VvcmdlIGFuZCBDbGFyazEXMBUGA1UECwwOS2V5IE1h\\nbmFnZW1lbnQxEDAOBgNVBAMMB0JhbmsgQ0EwHhcNMjEwMjEyMjA0OTAwWhcNMjIw\\nMjEyMjA0OTAwWjBcMSEwHwYDVQQKDBhEYXdzb24sIEdlb3JnZSBhbmQgQ2xhcmsx\\nGTAXBgNVBAsMEENhcmRzIE1hbmFnZW1lbnQxHDAaBgNVBAMMEzQxOTAtOTcwMi0w\\nMzc1LTI0NzQwVjAQBgcqhkjOPQIBBgUrgQQACgNCAAQh+2rbRz6p4xMBauUd0M3N\\na6oD8A/+cSj7g2A8AM/7eD6oUt+L77oucqXRW0OWSJm8lpTWxfqLsEJqcyJa+z4b\\nMAoGCCqGSM49BAMCA0cAMEQCIFeydRUIaEjyOICuG2+ZcXqAxfrkf7Vsjcm9lLys\\n8z3OAiBsEoDXebKkSqnLlj3tUeXHnyPu4SAJnJygSJMqFaVgFA==\\n-----END CERTIFICATE-----\\n', 'bank-name': 'Dawson, George and Clark', 'card-number': '4190-9702-0375-2474', 'bank-certificate': '-----BEGIN CERTIFICATE-----\\nMIICATCCAaegAwIBAgIUNQ9yTqcMiuR+bbOZyxgAHcFjtzkwCgYIKoZIzj0EAwIw\\nTjEkMCIGA1UECgwbSGlnaGVyLW9yZGVyIEFic3RyYWN0IExvZ2ljMQ4wDAYDVQQL\\nDAVVR0xJWDEWMBQGA1UEAwwNVUdMSVggcm9vdCBDQTAeFw0yMTAyMTIyMDQ5MDBa\\nFw0yMjAyMTIyMDQ5MDBaME4xITAfBgNVBAoMGERhd3NvbiwgR2VvcmdlIGFuZCBD\\nbGFyazEXMBUGA1UECwwOS2V5IE1hbmFnZW1lbnQxEDAOBgNVBAMMB0JhbmsgQ0Ew\\nVjAQBgcqhkjOPQIBBgUrgQQACgNCAAQL0ujtQKWfoRSnyTqQvH3srhp7UIyYr926\\ne1naKg1AW0+X9RqKdWZdrN8btMq/DOxsktFPLfpqiGKbyID3plDXo2YwZDAdBgNV\\nHQ4EFgQUagdxRJG8qEp7aH4AsaSxGxAuTc4wHwYDVR0jBBgwFoAU2xpX5C9NqXBV\\nANdoV2jk6Wvr/C4wEgYDVR0TAQH/BAgwBgEB/wIBADAOBgNVHQ8BAf8EBAMCAYYw\\nCgYIKoZIzj0EAwIDSAAwRQIhANtn/FXfZemeGp5J4HJoqKg6O5qNbPz3vSWCswM/\\nhWHwAiBsk5IOcsgXUwQ6PVZPXGbPm944ICfTPDxMSRw0UgIRHw==\\n-----END CERTIFICATE-----\\n', 'challenge': '51a12464-e60a-492d-b45e-e539d1e874e2', 'signature': 'MEYCIQC+Nqg2ikjVYnoHLdE4KHEyB+WunBsG+yDjH4OjZCjGfAIhANwBdIxXizhZhzRnamfAXvqKlgQmwcWB+LsFqEoPKFa5'}, 'valid': False, 'reason': 'Le certificat de la carte est invalide (sa signature ne vérifie pas).'}\n"
     ]
    }
   ],
   "source": [
    "dico = c.get(\"/bin/banks/forensics/sample\")\n",
    "print(dico)"
   ]
  },
  {
   "cell_type": "code",
   "execution_count": 504,
   "metadata": {},
   "outputs": [
    {
     "name": "stdout",
     "output_type": "stream",
     "text": [
      "{'name': 'Michael Hernandez', 'company': 'Sandoval-Orozco', 'email': 'stevensdavid'}\n"
     ]
    }
   ],
   "source": [
    "username = c.get('/bin/police_hq/ticket/1173/attachment/client')\n",
    "print(username)"
   ]
  },
  {
   "cell_type": "code",
   "execution_count": 505,
   "metadata": {},
   "outputs": [
    {
     "data": {
      "text/plain": [
       "'STATUS: OK --- mail delivered succesfully\\n[ You have new mail ]'"
      ]
     },
     "execution_count": 505,
     "metadata": {},
     "output_type": "execute_result"
    }
   ],
   "source": [
    "c.post('/bin/sendmail', to='stevensdavid', subject=\"Test\", content={\"identifier\" : identifier, \"statuses\":statuses})"
   ]
  },
  {
   "cell_type": "code",
   "execution_count": 508,
   "metadata": {},
   "outputs": [
    {
     "name": "stdout",
     "output_type": "stream",
     "text": [
      "----------------------------------------------------------------------\n",
      "Message #13223.\n",
      "\n",
      "\n",
      "Date: 12-02-21893 22:07:18\n",
      "From: stevensdavid\n",
      "Subject: Re: Test\n",
      "\n",
      "Super, merci ! Vous pouvez fermer le ticket.\n",
      "\n",
      "\n"
     ]
    }
   ],
   "source": [
    "mail(\"palmerjohn\", \"13223\")"
   ]
  },
  {
   "cell_type": "code",
   "execution_count": 513,
   "metadata": {},
   "outputs": [
    {
     "data": {
      "text/plain": [
       "'STATUS : OK --- ticket 1173 closed\\n\\n[[1613168213##desk-trackerd[37] UGLIX]]: CREDIT.FRAUD:3030:4@553791|74431866ef34f28da649cb305fac3bc4\\n[ You have new mail ]'"
      ]
     },
     "execution_count": 513,
     "metadata": {},
     "output_type": "execute_result"
    }
   ],
   "source": [
    "c.post('/bin/police_hq/ticket/1173/close')"
   ]
  },
  {
   "cell_type": "code",
   "execution_count": null,
   "metadata": {},
   "outputs": [],
   "source": []
  },
  {
   "cell_type": "raw",
   "metadata": {},
   "source": [
    "                        ######################################################\n",
    "                                                1174\n",
    "                        ######################################################"
   ]
  },
  {
   "cell_type": "code",
   "execution_count": 26,
   "metadata": {},
   "outputs": [
    {
     "name": "stdout",
     "output_type": "stream",
     "text": [
      "Ceci n'est pas lié à aucune enquête en cours. Il s'agit plutôt d'une opération\n",
      "de maintenance.\n",
      "\n",
      "Ted, un de nos techniciens doit se rendre dans un data-center où se trouvent des\n",
      "noeuds UGLIX pour intervenir sur l'un d'entre eux. Seulement, pour cela, il doit\n",
      "agir en tandem avec un assistant, qui accède à distance à la la console de\n",
      "pilotage du matériel. Ted est parfois un peu caractériel, mais tout devrait bien\n",
      "se passer. Il est très apprécié de la plupart des agents.\n",
      "\n",
      "On ne peut accèder à la console que si on a ouvert une session avec un protocole\n",
      "chiffré, comme par exemple le protocole STP (cf. /doc/STP).\n",
      "\n",
      "La console est accessible à l'adresse /service/hardware/status.\n",
      "\n",
      "Cette mission sera accomplie lorsque l'intervention du technicien sera terminée.\n",
      "N'oubliez pas de passer au debriefing.\n",
      "\n",
      "La communication avec le technicien n'est pas forcément très bonne. N'hésitez pas\n",
      "à rafraichir votre vue de temps en temps.\n",
      "---\n",
      "Gloria Turner, CLEA agent.\n",
      "\"Don't break the (cyber-)law\"\n",
      "\n",
      "PS : un conseil. vous risquez de devoir faire beaucoup de requêtes chiffrées pour\n",
      "     accomplir cette tâche, alors si vous ne l'avez pas déjà fait, c'est le moment\n",
      "     de mettre à jour votre client. Certains utilisateurs ont des clients hackés\n",
      "     qui envoient des requêtes chiffrées de manière complètement transparente !\n",
      "\n",
      "[ You have new mail ]\n"
     ]
    }
   ],
   "source": [
    "print(c.get('/bin/police_hq/ticket/1174'))"
   ]
  },
  {
   "cell_type": "code",
   "execution_count": 27,
   "metadata": {},
   "outputs": [],
   "source": [
    "nonce = c.post(\"/bin/login/stp\", username= \"palmerjohn\")"
   ]
  },
  {
   "cell_type": "code",
   "execution_count": 28,
   "metadata": {},
   "outputs": [],
   "source": [
    "K = \"j^5vL+Fpv@-\"+nonce"
   ]
  },
  {
   "cell_type": "code",
   "execution_count": 38,
   "metadata": {},
   "outputs": [],
   "source": [
    "def encrypt2(plaintext, passphrase, cipher='aes-128-cbc'):\n",
    "\n",
    "    # prépare les arguments à envoyer à openssl\n",
    "    pass_arg = 'pass:{0}'.format(passphrase)\n",
    "    args = ['openssl', 'enc', '-' + cipher, '-pass', pass_arg, '-pbkdf2']\n",
    "    \n",
    "    # si le message clair est une chaine unicode, on est obligé de\n",
    "    # l'encoder en bytes() pour pouvoir l'envoyer dans le pipeline vers \n",
    "    # openssl\n",
    "    if isinstance(plaintext, str):\n",
    "        plaintext = plaintext.encode('utf-8')\n",
    "    \n",
    "    # ouvre le pipeline vers openssl. envoie plaintext sur le stdin de openssl, récupère stdout et stderr\n",
    "    #    affiche la commande invoquée\n",
    "    #    print('debug : {0}'.format(' '.join(args)))\n",
    "    result = subprocess.run(args, input=plaintext, stdout=subprocess.PIPE, stderr=subprocess.PIPE)\n",
    "\n",
    "    # si un message d'erreur est présent sur stderr, on arrête tout\n",
    "    # attention, sur stderr on récupère des bytes(), donc on convertit\n",
    "    error_message = result.stderr.decode()\n",
    "    if error_message != '':\n",
    "        raise OpensslError(error_message)\n",
    "\n",
    "    # OK, openssl a envoyé le chiffré sur stdout, en base64.\n",
    "    # On récupère des bytes, donc on en fait une chaine unicode\n",
    "    return result.stdout"
   ]
  },
  {
   "cell_type": "code",
   "execution_count": 30,
   "metadata": {},
   "outputs": [
    {
     "name": "stdout",
     "output_type": "stream",
     "text": [
      "{\"method\": \"GET\", \"url\": \"/bin/login/stp/handshake\"}\n",
      "<class 'bytes'>\n"
     ]
    }
   ],
   "source": [
    "requete = {'method': 'GET', 'url': '/bin/login/stp/handshake'}\n",
    "requete_json = json.dumps(requete)\n",
    "print(requete_json)\n",
    "requete_chiffre = encrypt2(requete_json, K)\n",
    "print(type(requete_chiffre))"
   ]
  },
  {
   "cell_type": "code",
   "execution_count": 31,
   "metadata": {},
   "outputs": [
    {
     "name": "stdout",
     "output_type": "stream",
     "text": [
      "b'Salted__`\\xf3\\xdc~\\xb0l\\x7f8\\xa9]A\\xf7S\\x14n\\xc4\\x9a6\\x82\\xa3-\\xc6\\x8f\\x92V\\xbaM\\x9f\\xe7\\x17\\x95&\\xc5\\xb1\\xb1\\xe0\\r\\xe1\\xbe8gb\\x14T\\x9a\\xed.\\x18\\xb3&D\\x03\\xbbM\\x83E\\x99X\\xc5\\x18\\xcf\\x91^\\xe2\\x1f\\xe4\\xc9<GhJ\\xaa\\xd4\\x8b\\xe3\\non\\xdf\\xd3\\xa9\\x866\\xf9\\x13\\x0bA\\x17'\n"
     ]
    }
   ],
   "source": [
    "resultat = c.post_raw(url = '/bin/gateway', data = requete_chiffre, content_type='application/octet-stream')\n",
    "print(resultat)"
   ]
  },
  {
   "cell_type": "code",
   "execution_count": 34,
   "metadata": {},
   "outputs": [],
   "source": [
    "#resultat = base64.b64encode(resultat).decode()\n",
    "#print(resultat)\n",
    "#with open(\"reponse.txt\", 'w') as f: \n",
    "#    for i in range(0, len(resultat)): \n",
    "#            if (i % 64 == 0): \n",
    "#                f.write(\"\\n\")\n",
    "#                f.write(resultat[i])\n",
    "#            else : \n",
    "#                f.write(resultat[i])\n",
    "reponse = decrypt(\"reponse.txt\", K)"
   ]
  },
  {
   "cell_type": "code",
   "execution_count": 35,
   "metadata": {},
   "outputs": [
    {
     "name": "stdout",
     "output_type": "stream",
     "text": [
      "STP login successful. Access to /home/palmerjohn granted.\n",
      "[ You have new mail ]\n"
     ]
    }
   ],
   "source": [
    "print(reponse)"
   ]
  },
  {
   "cell_type": "code",
   "execution_count": 187,
   "metadata": {
    "scrolled": true
   },
   "outputs": [
    {
     "name": "stdout",
     "output_type": "stream",
     "text": [
      "{\"method\": \"GET\", \"url\": \"/service/hardware/status\"}\n",
      "<class 'bytes'>\n"
     ]
    }
   ],
   "source": [
    "requete = {'method': 'GET', 'url': '/service/hardware/status'}\n",
    "requete_json = json.dumps(requete)\n",
    "print(requete_json)\n",
    "requete_chiffre = encrypt2(requete_json, K)\n",
    "print(type(requete_chiffre))"
   ]
  },
  {
   "cell_type": "code",
   "execution_count": 188,
   "metadata": {},
   "outputs": [
    {
     "name": "stdout",
     "output_type": "stream",
     "text": [
      "b'Salted__M\\xc1\\xc6\\x08\\xbe\\xce\\x86pYs\\xd2n\\xb9\\x8e\\x8b\\xc6\\xc0\\x18\"\\xf1\\xdd\\x7f[^\\x08\\xe3L\\xdb\\x1f,+:K\\x08\\xea-{\\x9aPa\\xfay\\xfey6\\xe5\\xf33\\xc8\\xb9/k\\xaf\\xb8\\x8c\\x99Z\\xf28\\x8e\\xf2:#O~\\xcf\\xf1\\xbd\\x98\\xab\\x93/\\x8ec_kQ\\xae\\xa1^Ol<9\\\\\\xa8\\x00\\x8bQ\\xd5k\\xe8\\xa2\\xf5,R+\\xe1\\x1d\\xbb\\xea6\\rCIY\\xa1\\xb9K\\x14\\x04;\\xe7\\x0e\\xba|D\\xdf(b\\xdce>\\x98\\xfav\\x7f\\xf7\\x10\\xf6\\xc8\\x97h\\x19\\x02\\xf2\\xe6q\\x11h\\xacz\\tj\\xa0\\x99\\xc0\\x19\\xb8\\x83\\x06\\xa4I\\xff\\xe9\\xb1\\xf6\\x8d\\xd9F1\\xf7j`\\x0c\\x95X6\\xd3\\xdbmT,6\\xc2\\xd7\\x00\\xe7e&\\xfcf\\x88\\xadxr\"@\\xae\\xd9\\xe8Y!\\xa5o\\xe1\\x90\\xfb(\\xf4ET\\xb6\\xd7k\\xea\\x10(\\xeb\\x9a\\\\v\\xf2+\\xe5\"=\\xef\\x1a\\x91\\xb7\\xe3\\x85S\\xd0\\x16up\\xd0\\xc0\\\\\\x89\\x91k\\xae\\xc6\\xad\\x91d\\x04\\x83Q\\x1d\\x05=[4\\xec\\x16m\\xf3\\xf5\\xffA\\xa9\\x8aHtW]\\x05\\xa8\\xdb\\x135\\x92\"\\x0e\\x99?\\xa9?>\\x9c\\xa1>Z\\xc9)\\x9d\\x95\\x8f\\x10O\\xfepBCS\\x13\\xc7\\x867\\xc0\\xfb]\\xb3\\x94\\xb3\\x03\\x88f\\xf21\\xfd\\xd0\\x89\\xcb\\xa2\\xa7\\xeb\\x8d\\x07\\xa3\\xef\\xd9\\x93\\x8a>\\xfa\\xc0\\xf2lE\\x16\\xca\\x98\\x01\\x13\\nE\\x97\\x8bF\\xc6y\\xa0f\\xcc\\x82\\xd4%\\xee\\xff\\xe1\\x12\\x8e\\x1b}M\\xd8i\\xf8\\x99\\xba\\xac\"\\xf0\\xdc\\xce\\x95t\\xaay\\x9d\\x83\\xa4\\xd1\\x90\\xdbn\\x88\\xe8u{y\\xc7\\tySd#\\x00\\x11`O\\\\$\\xb9\\xcbIA=\\x17\\x92\\x88p\\x8a\\xb8\\x90K\\x13\\xf2\\x15\\xe4Y\\xbc=P\\xa9\\xf1K\\x95\\x80\\xd6\\xfb^\\xeb\\xcdLn\\x97\\xd5Fv/6j\\xc4\\xc4\\xf3\\x9c\\x10\\x1c\\xeeUr\"~\\xf2J\\x1d\\x1fJt\\xb8\\xdfufsK\\t\\xa4{\\x80\\xd6\\x1b\\x11\\xcc\\x8d\\x98dO\\x1e\\x13\\xf6\\x9d\\x18T\\xc7\\x1d\\x97\\xf0-]%csc*a\\x03\\x91k\\x8d\"\\n\\x96\\xbbs\\xbb8~L\\xe5\\xa3\\xd9U\\nom\\x1a\\nd>\\r\\n`\\xf2-J\\xb3\\x1f.\\xe5\\xc7\\x12NB\\xfb\\xc32\\xb5L\\x0f\\xc1yI\\xcc\\xb6{\\xd1\\xa3F4\\xde\\xf9\\x0b\\xe9\\x0b\\xc1\\x1d\\xaa\\t}\\xc0\\x16\\xe0M)0M\\xe12\\xa7N\\xc2\\xb1Fv\\xe6\\xcd\\x9b\\x83\\x02\\xcb-(C\\xa0\\xcb\\xb6\\x9c\\xe0\\xbe\\xd5@PG\\x1a\\xef\\xa7\\xbb,t\\xffv:\\x0e\\x08\\x05\\xca3\\x06\\xa8\\xb7\\xa4\\x91U\\xd19\\xe2>\\x82o\\xff\\x07B\\xb1\\xe9M\\x0f\\ty\\xaa\\xbe\\xbcQ\\x7f\\x13\\x0b\\xff\\xe19FO\\xf0\\x0f\\xfe\\x8d\\x93R\\x8b8qzd\\xec%@\\x18\\xb8x\\xa7S\\x85P\\xad\\x18\\xc4\\xa5\\x8a\\xcf\\x1d\\xde\\x10\\x96a\\xd1-Q>G\\xa3\\xec\\t\\xb1\\xe1N\\n\\x84\\xd4p\\x98l\\xc7\\xda\\x97\\xbe\\xadcS\\x14G^\\x88\\xb8\\xce\\xd6t\\x8a\\xf0\\xfaR\\xff2c\\x1a\\xb8/ \\xd3\\x17\\xae\\xf9\\xcf}Q\\x07Gb\\x8f\\xe8U\\xc3\\x14)\\xf2\\xabe|\\xe470k\\x8e\\x9c\\x856\\x12\\xb7\\xae\\x01Z\\x8a\\xf45\\xd6\\x03\\xa2\\xdbr\\x1c\\xbdS\\x1d\\xa0j4n|~a\\xfaD\\x91\\xa2\\xb5\\t\\x8d\" \\xd9\\x14QY\\xd0\\xfax\\xf7\\xea\\'\\xa1e4D\\xc2e\\x13J\\xaf\\xb1\\xe3\\x0fp\\xcf\\xae\\xbc\\xaa1\\xc1\\xb67\\xce\\t\\xeco~\\x9c\\xbe\\x96r\\x07\\xec\\x9f\\xcfq\\xb2\\x8f\\xfeQ\\xfdj\\xbe\\xe0\\x0c(\\t\\x17\\xe6\\xa8r\\xd9\\xa4\\x15|\\xdd\\xe3\\xfc\\xb0\\x85\\x15z\\xc0\\xb1\\xdbv)\\xa6O\\xceL\\xc3\\x00\\xc3\\xa7\\x7f\\xab=\\xdd\\x93\\x1eo\\xde\\x99fG\\x1fe\\x825\\xc9\\xd19+\\xc2~{\\n\\x00\\xbau\\x9e\\xceB\\xc2\\x9f\\x8f*\\xa0\\x82\\xcd8\\x85m\\xbc\\xf5#\\x83\\x0c\\xa8\\x90`\\'\\x90\\xbe\\xd7\\xb3x\\x01i)qh\\xbdW\\xcddq\\xf5\\x8f\\x8e\\x96\\xf03\\x0b/\\x14\\x9a\\xc5\\xb3\\xdc\\xfb\\x04\\n\\xbc\\xd2\\xc0\\xf8\\xc0\\xf9z\\x90\\xf6Y\\x7fn(\\xba\\xcfy\\xec79\\x8eS\\x01R\\xba\\xe8\\xe9R\\xaaA\\xdc\\x88\\xdfq\\xa5\\x9d-5Bw~\\x18J\\xa2y\\x00\\x85?\\xfb\\xf7\\x88t\\xeb.Dz\\xd3\\xea\\xb6\\x91i\\x96\\xb9\\xd0\\xec\\x94\\x99G\\x9b\\x10\\xb8\\x938\\xcf\\x1f\\x17\\'\\xc3\\x0b\\xb53Ar\\xc3\\x0c\\n\\x18FMn\\xa1:v\\xcd\\xeap\\x07X\\xf5{_\\x87\\x88\\xa6E\\xbf\\xbc\\x1e.\\xe9\\xff`\\x84_\\xc7\\xb3\\x86\\xca\\xbe\\x98\\xe5\\xc0\\xb3\\x8a\\xee\\x96\\x08Y\\x82\\xa5\\x80e\\xd9\\xcd\\x8d\\xde\\x98%3\\x8c\\x8a\\xf5\\xbc\\xce\\xaa\\x94>\\xb2\\xa5\\x1c\\xe6\\xfb\\xfa\\xd8\\xb2z\\x92L\\x9fS\\xbd=\\x88\\xac\\xfb\\xe5\\xe6\\x89\\x7f\\xbf\\xdb\\xc6>\\xb9\\xd2\\xa4\\xe4ejy\\x81O\\xcc\\xb3\\x04\\xa0\\xda\\xcd\\x08\\x95+\\x8b\\x04\\xe7\\x8f\\x8b9\\xcdF\\x9a\\x8d\\x11s\\xea]\\x91\\x1b+\\x11t\\x1c\\xb2m\\xcd7#\\xac\\xda\\x92\\x14L\\x1a\\xac&\\xdc1~\\x92\\x191a\\x14\\xcd\\xb4\\xcfM\\xfb+\\xa7\\x9cw(\\x98\\xc3\\x95\\xf3+\\xc6\\xd9\\x86\\xd4\\xe2\\xfc\\x98\\xa3\\x93t\\x0f\\xda\\xd5\\xd4\\xd2\\x94\\xdcth\\xc4bk\\xbf\\x85\\xca\\xb6\\xfd;F\\x0fFC\\xb7\\xc0f\\xdd\\xca\\xa1\\'\\xe9\\x96\\x00\\xb5\\xe8!\\x93\\x04\\xd9?\\xe4\\x91\\xfa\\xea\\xd6\\xf6\\xf8\\x0c\\xfdM\\x93\\x181\\x16WN\\x82\\x89\\xe2-\\x07A7\\x01\\x0bB\\xf5r\\xc5\\xf4fg\\xa6J\\xe2pQ}\\xad\\xd2\\xae\\xdf>=\\xbb\"\\xc7C\\xb8]f\\x8c\\x00\\x98_\\x82\\x08\\xe2]\\xaf\\r\\xda\\xc7>7\\'\\xfeh\\x1c\\xaaA\\xd4\\xd2a\\x04\\x83\\xf9\\xf7M_\\xdc\\xa0o\\x85`{\\xa4\\x89\\xa9\\xadl}g\\x17\\xca\\xfe\\xfa\\x8eK[\\xedh\\xba\\xfds\\x01\\xae\\xc4\\xf9Zv\\x8fN\\x13\\xeb+\\xbe<\\x1dj\\x94+\\xbc\\xb9\\xeaF\\x01i\\xbb\\'*\\xac\\x18\\xd5\\xaaQ\\xa1\\xa4\\xcbu\\xd9.\\xc6\\xa1_\\xc2\\'\\xde\\x10Qc\\xe8\\xca\\xde@\\xbav\\xd4\\xf1\\xf7-\\x8b\\x8fG\\x14v\\'M\\xbb,\\xc4[\\x91\\xd4\\x1a-\\x99\\x1b!1\\x08\\x87\\x1ej\\xd1\\x16}\\x01\\x9f\\xdf\\xf3\\xc4\\xfc\\x00\\xafm\\x85\\x9d1/\\x1b\\xab\\\\\"\\xcf7^\\xde\\x7f\\xfc\\x05\\x92\\xf3\\xe7-\\xa1\\x11\\xcfX+n\\xdb(\"\\x9d\\xd8\\xf8\\x90,\\xd93B\\xc9\\xc8\\xf0j\\xa6*\\xc9\\xb1\\xc4\\x0b\\xfc\\xc8\\xebE\\xdd\\xfa@3\\xcf\\x93%Y\\xbc\\x8aY\\x88#/r?\\xc8t\\x8ev\\xf4\\xc0O\\xab\\x1f\\xd5\\xe8\\x0b\\x15\\xd5\\xe9\\xc7\\x8e\\xffK\\xeb\\x04\\xee\\xa5\\xdf\\xc2:k?\\xbe\\xb2\\xc0\\x00G-2\\xcdhSBC5k\\xa7O\\xcb\\x92\\x0c\\xfbU\\x8aM\\xfa\\xd4\\x8a\\xe0\\xa2-w5\\xc1\\xf0\\x94l\\x95\\x08%\\xb7V\\x9b\\xe0~\\xd9=\\xa4&\\xc0\\x87\\x1aYV\\x14\\x07N_\\xa4IL\\x1e\\x998\\x08\\x1c\\x80\\xe9&M\\'\\xd0\\x9e-\\x074\\xe6&\\x1e+\\x87\\xbf\\\\\\xf1\\x86\\x15YD\\xed\\x88\\x9bZ\\x1b:\\x9c\\x1a\\x89\\xa3\\xed\\xe2\\xe2\"\\xb2\\xaa\\x9c\\x0f\\xc5\\xa2\\xd7\\xe0\\x0e\\x1e\\xc3\\xdc\\xe9\\xac\\xa6nb\\x80*\\xfd5\\x0f\\xff\\x12_\\xd5\\x91\\\\\\xd7\\xeb\\xae\\x0cf! \\x03\\xfd\\x18#\\x8d\\xf9I\\xab\\x93\\xcc\\xa1&\\xd6sm\\xff\\xb5?J.\\x9aV\\xacgEV\\x18\\xe3\\xbeb\\n\\x9a\\x91\\x1drR\\x16\\xf5\\xd0\\xff\\xd08\\xc9\\xb8\\xd7x\\xf8\\xdbi\\xdeEu\\x00\\xe5\\xfe\\xc8H(D\\x7f\\x0e\\xc1\\xa7\\x90\\x94\\x8f)j\\xc3\\xaa\\xa3\\x81\\xa1\\xad\\x12\\xc2M!\\xbc/J7\\xfd\\n\\x9a\\x8a\\xc3\\x1c\\xeb\\x13%\\xfa\\xc7X\\xd9\\x10l\\x88q\\xe3WX\\xa7l[W?V\\xcb\\x95O\\x9e\\xfe\\xae+\\x84\\xa6AL\\x03\\x10BdEq\\xac\\xb9\\xba\\x9eda\\xca\\xce\\xb7\\xc6M\\xec\\xbf\\x8b}\\xce\\xf0\\x9f\\xf1\\xbc\\xae\\xb4OY\\x89|\\xce\\xad\\x81\\xbe\\xcfsH#^\\xe0gR`\\xffR\\x0c\\xc0\\xc3\\xf1\\x00u2%\\xff9\\x8f\\xdb\\xad\\x18\\xcf5\\xb2\\x00\\xe6\\x15\\xa4\\xaaI\\x9b\\xeaxl\\xb7\\xb4\\xb0\\xe5\\xc9p\\x18\\xc4!Y\\x12\\xc0 Yi1\\xd8\\xd3\\xb8\\x1cZ\\xb1\\x13\\x9d\\x0b\\xe1\\xdbE\\xe8\\xe2:\\xe3\\xd0\\xe1Mss\\xc2\\x08\\xa2P\\xc3\\xa8\\xbceB\\x07\\x7f\\xca+s\\x81\\xbc\\x1cT\\xcd\\x01p^\\xedpC\\xae\\xe4\\x98\\t3\\xba9\\xba\\x9c\\xbdul\\xba\\x81\\xaf\\x14c\\x0f\\xfa\\xdcN\\x83\\x8c\\xfb\\xd3\\xd9\\xba\\xb2\\xab\\xfb\\xba\\x16\\xe0\\xad\\xf8\\x10K\\x16ya\\xf1\\x12\\rM\\xbdt\\x95\\xbb\\xda \\xef\\xfd\\xb1\\xc0;\\x91T\\x0ewI[\\xf9\\x13\\xa5\\xe3\\xb0\\x80\\r\\xea\\xdbz\\xde\\xa1\\xea\\xa5\\x90\\x97\\xe6`\\xb3\\xfb\\x18\\xe9\\xe9\\x0b\\x7f\\x0bh\\x92\\xa8\\xc95\\x9f;*M\\xdb9`C\\x08\\xa8\\x97\\x8c~\\xb7]\\x07\\x82\\xeeZI\\xcd\\x01\\xafHw\\xf6\\xdc\\xfc\\x01dI\\xa2\\xf0\\x9c\\xfb[[#\\x8c~RUc\\xd7\\x93\\xe7\\xfcv59\\xba\\x1aqwe\\x97\\xac+\\xec$\\xa7\\xea\\xb2\\xb4*\\x1e\\xbf8m\\xa0\\x7f~Vz\\xb9%\\x9b3_\\xbf\\x12\\xa2G\\x85\"\\xfe\\x8f\\x86\\xea}\\xdb\\xbeT\\xd0r\\x0c\\x8a\\x1d\\xc6I\\xb7\\xb2\\xc5V\\xdcb\\xe4\\xc9`4i\\x91\\xf8pD\\x9e(d\\x15<D+\\xdca\\x1d\\r\\xd6(\\xddu9\\xb7\\xcbH\\xbc\\x1a\\xc12\\xd7Q\\x03\\x11\\xa3^\\xb0j\\x1e3}\\xa3\\x86*6A^\\xd6\\x08v\\xcd\\x1c\\xc9\\x96fH\\xf5\\xea\\x7f\\xc5\\ri\\xfbk\\x9b\\xd1]\\xfe\\\\R\"\\xee\\xdc\\xac;\\xb9\\x84%;\\x1f\\xf6\\x18*3\\x1b\\x0eqZ\\xf9\\x1e\\xfeP\\xd6\\x1b\\xd1\\xaegv\\x16z\\xee\\x08\\xacx\\x9b\\xe2y\\n\\xdb}!E\\xc1;\\x9a\\x1f)_\\x9f\\xfd\\x84\\x01\\xb3\\n\\xb1\\xe8\\xd8\\x0er\\x08>!#&\\xc6 \\xd9\\x17\"\\xf6\\xa1\\xc9\\xaa\\xadRX\\xb2\\xcfd-J\\xc7R\\x02FuZH\\x06\\xd1\\xcb:s\\x1dx[\\xd6+\\x84\\x86\\xd1*~\\xa7\\x07\\xfc\\xa1\\xfc.\\xe3\\xbd4\\xb3\\xa5\\xd8\\'\\xbf\\xa7\\xc3\\xc5\\x12g\\x84/;A]\\xfc\\x17\\xdb\\xaf\\x96\\'0\\xe8\\x8f\\xe9\\x9a\\xcfKNg\\xe7p\\xe8\\x95=\\x9b[\\xe0b4\\xdb\\xe4YD\\x97dC\\xf3\\xa2\\xa9\\xca6\\x00\\x8b\\xf0\\x9a\\x07\\xc4F\\x9da,\\xf426I\\xea\\x8aJk\\x01\\xdc\\xa3\\xb3\\x9e\\xe1\\xe1~\\xe0\\xb1D\\xc0m\\x95\\xbd\\x8eZ\\xfb\\x1f\\xda\\xe0]lc\\xee\\x07TL\\'\\n7\\xf8<\\xc6\\x0f\\xddM\\x1e\\x1f\\xbe=nX:\\xe6f\\xb2q9E\\xb3V\\xed\\x8b\\xa4\\xa4\\xbb5\\xbc\\xa8\\xdc\\x1bO\\xc7\\xb8\\x06`\\xffT\\xca\\x0c\\xea&\\xcd\\xd6~\\x1f\\x15s\\x16uf94\\xa0@\\x96KQMM\\x97\\x1c\\xeaQ\\x10\\xa4[d\\x8e)\\xe1\\x892-~\\xa7t2V\\x16F\\xaa\\x8b\\xd3:\\x18\\xdb\\xff!\\xd6\\xdde\\x97<T\\xfc\\xff\\x9a\\xc3\\x99\\x1f\\xea\\x01\\xa9D!\\xf1b:X\\xfb\\xf1q\\xe0V\\xa68\\xb7\\'\\xc9x\\xde\\xef\\xf2\\xe5y[\\xed\\x90{\\t\\xe2\\xba\\xa1\\xf5;x\\xdb\\xf4\\x8a\\x0e~\\xba\\x820\\x95%}\\xa7\\xfaBjs\\xfdK\\xbf_\\xd3\\xce\\xa8\\x91\\xb7\\xb0\\xeb;Fn~s\\xae\\xa3\\n\\x86_>\\x9c;k\\xb7\\xa0\\xff1\\x01\\x9c\\x83\\xa7\\xad\\xf4K\\xcf\\x98r\\xd6U(+\\xc5\\xe2\\x87\\x01\\xc9\\xdf\\x9f\\x95>\\'m\\xcbf5\\x98\\x95a\\xc4W}\\x90\\\\\\xbf\\xa2&\\xda\\xea\\x96\\x0e\\xc0C\\x91{$\\xcc\\x98\\x17\\xadNQ\\xf7\\xc4\\x0e\\x05\\xc1\\xc6\\'b\\xbct\\xbdwm\\xc4\\xa6L\\x94\\xed2\\xe8\\xf4R+\\x13\\x8f\\x95\\x9ev\\xd6:s\\x9c4\\x8b\\xde\\xb97\\xa9\\x01\\xb3O\\x1f\\xd3\\x7fq\\xe7q\\xcbu\\x90\\t\\\\\\xd8v|\\x9d\\x06G9J\\x05\\x08\\xee\\xe2\\xe2C\\x84=P\"\"in\\xf7}\\xda!\\xfbr\\x9b\\x0e\\xa3\\x9d;\\r\\xed\\x08$\\xcb\\x0c\\xea\\xec>\\x14sx\\x08{0\\x8f\\xbdd\\xa7Y<{\\x86\\x8c\\xa8WQK\\xe0iEB)\\x82\\'@s\\x17\\xb3\\xe7\\xb6\\xb6y\\xef\\x877^E0\\xdc\\x06\\xbf\\xbf\\x0ca\\x10\\rs\\xa1\\xb7\\x1d\\xeew\\xce\\x81\\xcc\\x88\\x81\\xa9\\x9f\\x06TE$\\xb5\\x11\\x13`\\xa0\\x16\\x87\\x8d\\x97>\\xa3#6gf5\\x91|\\xf0\"\\xd2~`t\\x8d6\\xed\\x17\\xa3\\xcb\\x19\\xb8\\x91\\xce\\xc5\\xf9?\\xbe\\xdf \\x00\\\\\\xc9\\xdc\\xfd\\x8e\\xc7$zr\\x13a\\xa25\\xcb\\xc3\\x1f!C\\x19\\x88\\xd8\\x12X\\xf1\\x97r\\xa8p\\xf02\\x82=%\\x82\\x02\\xb9\\xb8Q\\xb1\\xc2\\x01B\\xbap\\xb9\\x85\\x02\\xe0\\xe8>\\xe0\\x92uV\\xf5N\\xa2\\xf5\\x06\\x0f\\x04.\\x1aYB/\\xc38!\\xf7\\x95\\xa9v\\xdc\\xac\\xa6\\xed\\x02\\xff\\xe0\\x06\\x0c[\\xcb\\xf5\\x10f\\xab\\x14\\xcfv4Wb\\xb6\\xd5\\xb4E)Tt\\xf6\\xbc`Z\"cgb\\x1f\\x93e\\xb7T\\xbe\\x08CC\\xfb\\x03\\xb7\\xa6\\r\\xe8N\\xe4Q\\xf7Y\\xc0+\\xaf\\x9f9\\x9e\\xc8\\xd3Y\\x00u0g\\x9d,*\\\\\\x9e\\x02\\x04\\xe5\\xbe\\x16&\\x9b\\xd3\\xd7@:\\xb1\\xbaiu\\x9e#\\xee\\xe0>\\xd9\\x80~\\xe4\\xb4\\x05\\x1c\\xf0\\xbbn\\x9d\\x83j\\xab\\xe2$_\\xf9;\\x83\\xf7\\xbe\\x06\\xec,\\nU\\xa6|\\xb0\\x15\\xf8\\x1cL:TC\\xd4@\\xfd\\xce\\xe7\\x98U\\xfcTq\\xb3+\\xed\\xaf\\x9d\\xb0\\x94\\xfd<e\\xf5\\xe0f\\xafBZ\\x98\\x0b\\xd1\\x01\\xbe\\xf4\\t\\x9eF\\nET\\xa6\\x1c\\x04:[\\x1c0)O\\xfc^\\x17\\xa5\\xbd\\x90R\\x01ky\\xf4\\x8f\\x9d\\x9e\\xe4w\\x84)\\xfa\\xad\\x05\\xb9\\xfa\\x7f\\x18\\xd5\\xa3\\xbam\\xd8\\xe0\\x8cl|\\xfd\\xef\\r\\xe6\\xcf\\x96\\xd2!Kg\\x9cK\\xe5\\xc3\\x03,j\\xd4\\xd7a\\xc1\\xca\\xb9\\xbc\\x11 C\\x19\\xc2|\\xef\\xf8\\xd6\\x96R\\xd4X\\x0fm\\x9c\\xf4\\xa0\\xce\\xd0\\x92r6\\x08\\xf7a\\xa8\\xac\\x1e4\\x8e\\xe9\\xfb\\xfdA\\xe6p?\\xe3\\xf0\\xd7\\xf4\\xe1\\xf5\\x1a\\xeb\\x18\\x86\\x19\\xafd\\x08!,\\x01\\x90\\xa4\\xab+v\\xbd\\x8e\\xdf\\x840\\xc8\\x1a)^\\xf1c\\x99L+x\\xf2\\xfaG\\x01\\x8e\\x9e\\xb5\\x15\\x1a\\xb0\\xe0\\xf0\\xdf\\xc6\\xf0\\xd2\\x81{>\\x041\\x06/\\x0e\\xaa\\xe0\\xdf]N\\xe28\\xa3\\xa1\\x94\\xe1B\\xb9\\x02\\xecm#\\x01\\xd7\\x0ey^\\xf6\\xe6\\x1c\\x87\\x01\\xc3|$\\xd1\\xf0`T\\x8b}\\x7f\\x9d\\xc5\\x93V\\x01\\x12C4\\x1c\\xb6\\x89\\xb8\\x1bc=P\\xda{\\xaa\\xb7\\x82\\xb0\\x07K5[\\xc2\\xb6\\xcb\\x11\\xf0K\\r\\xba\\x12\\xdd!\\x9ea2\\x8e1\\xe7=\\x08G\\x14\\xfb\\x1aeH\\xcb:\\xe8\\xa6\\xe6\\xfc\\xf5\\xdd^~{m\\xf9\\xb5\\xdbK\\xd1\\x00x\\xe3F\\xb7\\xabS\\x13K\\xa5\\x82?\\xf6@\\n\\x82\\xa7WS\\xca\\xa4\\xa4\\xf3\\x81\\xfa}\\x8e\\xd9E\\xc5\\xe4T-\\x8c\\x11\\xa3\\xe2\\x93\\x8b\\xa5{\\x1dA\\xc4q\\x9a\\xcbg\\x08e\\xc4\\xc07\\xe0\\x80U\\x1f\\xfcu\\xc3A\\xab\\x8d\\x15~;\\x9c\\x1e\\xcf\\'\\xa1\\xd7`\\x81\\x07\\x82@\\\\\\xb4J\\xde\\x07\\x8c\\x81\\x8c\\x83^N\\xb6\\x1bS NPJJd%WCU\\xc2\\xb6-;\\xa8 \\xc4\\x06\\x7f}\\xbc[\\xf5js\\xe9\\xb0\\xed(\\xb3\\xf9\\xb2\\x17\\xb5C#%#\\x0b\\x88\\x0b\\x9am\\x97V(O\\x04\\x80\\xef\\xbc\\xf7\\\\\\xd3\\xf5}\\xf1x-q8\\xfbyf\\xef\\x14#\\xbd\\x06\\x11\\x0c\\x97\\x99\\xa7l\\xf0\\xa0m\\x06>\\xda\\xef\\xb9\\x84E\\x99\\t\\x8e\\xc2\\xec\\xf9\\xa0\\x8ajB\\xea\\x1f\\x8a\\xfb\\x04\\r(P\\xb2tN\\xcd\\xe7(DTP\\x1f\\xd7\\xf0\\x82\\xf9\\xc7\\x16\\xee\\xd2X^`\\x02U\\x08HY\\xbe\\xdax\\xce\\x0c\\xef\\xccr\\xc6\\xb1\\x13`\\\\&+0\\x8b\\x9dvN\\x19\\x93\\xe6\\xbbyj\\x83\\x01p\\x19V.\\x9c[-\\xb0\\xe8y\\xcaWErkh,\\xff\\xce\\xb7\\xfd\\xf1\\x95\\xbe\\x02\\x1eB,^P\\x00\\x16\\xf3I\\x13hE\\x12?\\x17xs{\\x91\\x8d\\xe7\\x1a\\x8a8\\x9d\\x18~\\x894*C\\xec\\xd7\\x07\\x9a\\x17v\\x9c\\xe7)[\\xf3\\xbb\\xe2\\xe8\\x82;\\xc4\\xbf\\xe16\\xdd\\x84\\xdf\\xfb]\\te3.)A\\x03\\xcc\\x94rn?\\xa9\\xcfl\\x08\\xd1\\x0bw\\xa1\\x87!\\xb1\\xb1+(\\xbb\\xf5\\x8bX\\x12\\x8e\\xf2\\xca\\x8f\\xe1r\\xc59\\xbaf\\x1c*2\\x021\\x19V\\x03\\xdc\\xa35}t\\x10\\xd7\\x06\\xd6\\x14@&j\\xc5m@\\x13K\\x18\\xf1\\x978b\\xa3M\\xdf\\x8e\\x14Aa\\xf0a\\xfeb\\x0cO\\xf6\\xcdG\\xdd\\xb3=\\xb0!\\xa8\\xb0\\x8fGg@|\\x93L\\xa9n)y\\xfa_\\xea\\xce\\xd6W1\\xe1\\x96\\xec\\x1b =zV\\xeac\\xfa\\xbb\\xf7\\x02\\xf3l\\xae\\x8d\\xc6!Y\\xc6^\\x19\\xb88\\x05_ K\\x1d\\x90-\\x89\\x11\\xa8\\xa3%yY\\xfd\\xea?\\x12\\xe4(\\x08\\xa0vF\\x87\\xb5\\xd4\\x8f\\xaf\\xc6\\xa1M\\xcd\\x90\\xdc~\\x8c\\\\F<g\\xa2y\\x1ecv\\x0c\\xd9\\x8fq\\x9c}|\\x8d\\xffyE\\xc4F\\xcc\\xcc\\xfbL\\xe0\\xa5\\x93\\xd0=\\xcd\\xb9\\xb1\\xc9(=U\\x90\\xa8\\x1e^\\r\\x1f\\xcc7\\x9c\\xa6=\\x15\\xe1w%\\xfd#g\\xc3&\\xda\\n\\xa6W\\xc5\\x1e\\x84u\\xed(\\xcf\\xc2\\x84\\x15Qc\\xe2\\x11n\\x06\\xf7Y\\x88\\xa2U\\xd4\\xd8uI\\x05\\xd8\\x93\\x9d\\xcc\\xf1C~\\xa6\\x9a\\xd9\\x14\\xf89\\x17\\xe9\\x9c\\r7]\\xb7\\x98\\x82\\xeb\\xb2^\\x86<<\\x0c\\x87KBS\\xde\\x8a\\xb9~]*\\x17\\xbea\\xe4\\xe9:\\xaaX\\xe3I\\x97\\xf9\\xa9\\x90\\\\9\\xca\\x84\\xbb\\x9aW\\xd8\\xd70\\xfc\\xc6\\xa3\\xd3 \\xc5\\xef\\xdf\\x15E\\xee\\xb3\\xcdQ\\x92t\\x7f\\\\Y\\xd4\\xe4_\\x03\\xf8\\xbb\\xa0\\xeaf\\xb7t\\x13\\xa37\\xb8}\\xbc\\xd0\\x98b\\xf6\\xc9\\xbc\\xa8\\xb4\\xde\\xca\\x83\\x04\\x85\\xa7G\\x13\\xf2\\x10\\xfc\\xfd\\x7f\\xb7\\xac\\r\\xa6\\rW\\x9c\\xd3\\xf2\\xcc\\xaa\\x934h\\x02\\xbb\\x0c\\x19Y/\\xbf\\x11ROz1\\xe1\\xdd7\\xca\\xa5\\x80[\\xde_C\\x04\\x04{\\x8a\\x99\\x0eI\\xbe\\\\\\x96\\xa5b\\x02\\x19\\xe4R\\x17\\xc3M\\x1a\\xcf\\xd4\\x8c\\nW\\xad\\xa2\\xe4l#\\xbb\\xe8\\xb9\\xb1\\xf1\\x02\\xac\\xd2C\\x926\\r\\xa4\\x9b\\x19\\x16W\\x9e\\xdf\\x1ch\\xf5\\x80\\xad\\xad\\x9b#\\xe4-QUA\\x0f\\x92\\xddD\\xe9\\x06\\xef\\xd1\\x8c\\xc1\\xb5\\x1aM\\xaa\\x18\\xf9\\xf3\\xeaO\\xd0\\x7f.qD\\x87\\xb5:\\xf3\\xdf\\tm1/\\xae\\x02`o\\x10l{]^\\xab)\\xd8\\x9al\\xb6n0\\xf11\\xb7\\xfb\\r\\x81\\x06@\\xea\\xe0\\xd8\\x81\\x91\\xcc>q4\\x94\\xa1\\xfe\\xa9\\x98t8L\\xec>\\xd5\\xa2\\xde\\x1a\\xab\\x1f\\xc0\\xe0\\xedY:\\xd0\\xc5\\x95M\\xbd%j\\xa1uyACMCI\\xa6\\xaf\\x15\\xc4 \\xe6\\xeb\\x90\\xf7\\x16\\xf3C\\xb3\\xc24}\\xe5\\x98\\xd3S\\x9f\\x1e\\xb4\\x7f\\x11\\x1f\\xcff\\x03J\\xa7\\xba\\xd8t\\x93\\xf2(\\xd9\\xbd\\n\\x1e\\xa7n\\x0c\\xce^\\xed\\xdcfK\\xaf\\xb3\\xf9\\xfd\\n\\xec\\x99]\\x88E;\\x82\\xb4\\xf7\\xb4\\xff\\xbf\\xc39W\\x16\\xd0\\xe6!\\xbb\\x7f\\xae7\\xcb\\xde\\x8d\\xb8\\xce'\n"
     ]
    }
   ],
   "source": [
    "resultat = c.post_raw(url = '/bin/gateway', data = requete_chiffre, content_type='application/octet-stream')\n",
    "print(resultat)"
   ]
  },
  {
   "cell_type": "code",
   "execution_count": 189,
   "metadata": {},
   "outputs": [
    {
     "name": "stdout",
     "output_type": "stream",
     "text": [
      "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\n"
     ]
    }
   ],
   "source": [
    "resultat = base64.b64encode(resultat).decode()\n",
    "print(resultat)\n",
    "with open(\"reponse.txt\", 'w') as f: \n",
    "    f.write(resultat)"
   ]
  },
  {
   "cell_type": "code",
   "execution_count": 190,
   "metadata": {},
   "outputs": [],
   "source": [
    "reponse = decrypt(\"reponse.txt\", K)"
   ]
  },
  {
   "cell_type": "code",
   "execution_count": 191,
   "metadata": {},
   "outputs": [
    {
     "name": "stdout",
     "output_type": "stream",
     "text": [
      "┌──────────────────────────────Server Room Layout──────────────────────────────┐\n",
      "│                                   │      │                                   │ \n",
      "│                                   │      │                                   │ \n",
      "│ S │ S │ S │ S │ o │ S │ S │ S │ S │0    f│ X │ ! │ X │ S │ o │ o │ X │ S │ X │ \n",
      "│───┼───┼───┼───┼───┼───┼───┼───┼───┤      ├───┼───┼───┼───┼───┼───┼───┼───┼───│ \n",
      "│   │ S │ S │ S │ S │ S │ S │ S │ S │1    e│ S │ X │ S │ X │ S │ X │ S │ X │ S │ \n",
      "│                                   │      │                                   │ \n",
      "│                                   │      │                                   │ \n",
      "│ . │ X │ . │ X │ X │ X │ X │ X │ X │2    d│ X │ X │ X │ X │ . │ X │ X │ X │ X │ \n",
      "│───┼───┼───┼───┼───┼───┼───┼───┼───┤      ├───┼───┼───┼───┼───┼───┼───┼───┼───│ \n",
      "│ S │ S │ o │ S │ S │   │ S │ S │ S │3    v│ X │ X │ X │ X │ X │ X │ X │ X │   │ \n",
      "│                                   │      │                                   │ \n",
      "│                                   │      │                                   │ \n",
      "│ X │ X │ ! │ X │ X │ o │ X │ X │ X │4    b│ X │ X │   │   │ X │ X │ o │ X │ X │ \n",
      "│───┼───┼───┼───┼───┼───┼───┼───┼───┤      ├───┼───┼───┼───┼───┼───┼───┼───┼───│ \n",
      "│ X │ X │ . │ X │ X │ X │ ! │ X │ X │5    a│ ? │ X │   │   │ X │ X │ X │ X │ X │ \n",
      "│                                   │      │                                   │ \n",
      "│                                   │      │                                   │ \n",
      "│ o │ X │ X │ X │ X │ X │ . │ X │ X │6    9│ S │ S │ S │ S │ S │ S │ S │ S │ S │ \n",
      "│───┼───┼───┼───┼───┼───┼───┼───┼───┤      ├───┼───┼───┼───┼───┼───┼───┼───┼───│ \n",
      "│ X │ X │   │ X │ X │ X │ X │ X │ X │7    8│ S │ S │ S │ S │ S │ ! │ S │ S │ S │ \n",
      "│                                   │      │                                   │ \n",
      "│                                   │      │                                   │ \n",
      "└─────────────────────────────────────/──/─────────────────────────────────────┘\n",
      "                                       T\n",
      "                                ┌─────────────────────Chat─────────────────────┐\n",
      "T : Technician                  │ .... working with you.                       │\n",
      "X : operating compute node      │ Ted: I assume you're new to this. This is    │\n",
      "S : operating storage node      │ .... the status view. What you're seeing     │\n",
      ". : moved to maintenance area   │ .... above is a schematic view of the server │\n",
      "o : powered off                 │ .... room.                                   │\n",
      "? : unknown status              │ Ted: You first need to open the door so that │\n",
      "! : hardware failure            │ .... I can go in. Check:                     │\n",
      "                                │ .... /service/hardware/action                │\n",
      "                                └──────────────────────────────────────────────┘\n"
     ]
    }
   ],
   "source": [
    "print(reponse)"
   ]
  },
  {
   "cell_type": "code",
   "execution_count": 192,
   "metadata": {},
   "outputs": [
    {
     "name": "stdout",
     "output_type": "stream",
     "text": [
      "{\"method\": \"GET\", \"url\": \"/service/hardware/action\"}\n",
      "<class 'bytes'>\n",
      "b'Salted__\\xb1`\\x9c_\\xd2\\xad;\\x0f\\x9co\\xdf\\xdf*E\\xa0 \\xc2N\\x87}\\xb4&c\\xf3z\\'D\\x1bW\\xf7,3\\xbdH\\xf1`36\\xf5\\xf3\\xb7\\xb0kL\\xaf\\xaer\\x14+4\\xb3=\\x10Pc\\xf2\\xea\\xe2{\\xacQ\\x9f\\x80\\x8dz\\x94/\\x10{\\xe6\\x14\\xf0\\xa8\\x8eR\\x9d;\\xe9\\xc3\\xe9e\\x12\\xd5%\\x9a\\x88*\\xca@\\x97)\\x07&\\x1f\\x0c>[\\xdc\\xb8H\\xbcA\\x03\\x8fBT\\x89\\x068$J\\xae\\x01\\xb7V\\xb5t\\x00\\xa7z\">\\xb1\\xe9\\xce%\\xbaY\\xd7$_Q=\\x82\\xc2gr\\xcah\\xd13w\\xdd\\xcb\\xf3\\xbd\\xd4U\\xfc\\xf8\\\\\\xd5\\x95\\xd4\\x89\\x9d\\xb8\\xec\\x17\\xa4<\\x7f\\xb9=\\x7f\\xe3\\xaa\\xcbb\\x7ft\\xa1(nT\\xccgk\\xb0=\\x0f\\xd7X{\\xbdr\\xaa@D\\x07\\xee\\xea\\xd7\\xea\\x7f\\x8eV.\\xcf\\xd4\\x12{\\xe2I(\\x9b\\x87\\x06\\xd3i\\xf7\\x9e^\\xa8\\x18d[\\x8a\\xe5bD\\xfe\\x85\\\\G\\xfd[\\x80\\xbd.\\xd7\\xad\\xca\\xea\\xd1\\x144\\x97\\xa8\\xedU!\\xa6\\xffyP\\xa1\\xaeHc\\xd7X\\xe5|\\xec\\xe7\\x8d\\xc6W\\xa5vF\\x1d=\\xa0\\xe3\\xb3\\xa0\\xd2\\xa7\\x92\\xf5;-\\x08Az0\\xb1\\xdd\\xf2\\xf8\\x14\\xa4\\xb7\\xc6V;\\r:\\t0\\xe0j\\xb9\\x8e0\\xe3%\\t\\x93`w\\x14\\x87BzRV\\xae\\xb2\\x86\\x03!\\x14`<\\xf5JR\\xebq\\xc3\\x97\\x04w*\\xdc\\xa9_~\\x87\\xfd\\x9eKIc\\x94\\xd0\\x16\\xa1z\\xc4\\xf9\\xee\\x81\\xef4\\x19W\\\\\\xd9\\xde\\x10?2FZ\\xf4\\x97\\x0e[\\xbd\\xf6\\xbdX\\xd7\\x19\\xb4e\\xd4Nd\\x16U{\\x10\\xea\\xef8u$}\\x86\\xaf\\xa90nl\\xf5\\xba\\x84I[s\\xcfZ\\x92\\x06\\xfa`\\xa9i\\x94\\x99.\\xfbgIU\\x1a\\xe1l\\xf5c!%\\xc7y\\xd9\\x08\\x02\\x8e\\x02\\xe67,x$\\xd5!+6\\xe9O\\x89\\x98\\xc4_*\\xf3\\xbf\\x1e\\xa7\\xe1\\x15;\\x07\\xc61_\\xf1\\x93\\xa7\\xd3\\xe6\\xa5\\xa6\\xe9s\\xfc\\xde\\x02\\xb3\\x9e\\xd1\\xc0\\x03*\\xa2\\x9f\\x9f2S\\xe9\\x93\\x0b\\x95{2\\xbb\\x18\\xadJ\\x9f\\x1e\\xe7\\x8dW\\xdfc\\x85w\\xdf\\xb9G\\xc1\\xc9\\x80\\xd80Oj\\x10\\xb9\\x11a\\xcd(`\\xc9n\\x94\\x98\\xd4\\x10\\xf9\\xcb{\\x03\\x8f\\x1di\\xda\\nk\\x8dBm\\xc2\\xd7i\\xd0|\\x93\\xdd\\x8e\\xbd\\x10\\xf9\\xa7\\xa1QG\\xec;6m\\xe2\\x97\\x12\\x85p\\xec[\\n\"\\xf8$ij\\xd3\\xd8em!\\x976\\x11\\xae\\xdfy\\x1fn\\xed\\xb7P~\\x96m\\xf9Qt\\xaa\\xac|j\\xc1Q3;\\xf0\\xef\\xb2J\\x98\\x93ls\\xd4\\x99>\\x01\\r8\\xfc+\\x91\\xf3\\x90id5ro(w\\x9fT\\x1d\\xa3\\x03\\x0f\\ryH\\xe7x\\xf0\\x0e<H\\x15{\\x8c\\xe5\\x0c\\xe26&C-\\xdd*\\xe4\\xaa\\xe8@'\n",
      "U2FsdGVkX1+xYJxf0q07D5xv398qRaAgwk6HfbQmY/N6J0QbV/csM71I8WAzNvXzt7BrTK+uchQrNLM9EFBj8urie6xRn4CNepQvEHvmFPCojlKdO+nD6WUS1SWaiCrKQJcpByYfDD5b3LhIvEEDj0JUiQY4JEquAbdWtXQAp3oiPrHpziW6WdckX1E9gsJncspo0TN33cvzvdRV/Phc1ZXUiZ247BekPH+5PX/jqstif3ShKG5UzGdrsD0P11h7vXKqQEQH7urX6n+OVi7P1BJ74kkom4cG02n3nl6oGGRbiuViRP6FXEf9W4C9LtetyurRFDSXqO1VIab/eVChrkhj11jlfOznjcZXpXZGHT2g47Og0qeS9TstCEF6MLHd8vgUpLfGVjsNOgkw4Gq5jjDjJQmTYHcUh0J6UlausoYDIRRgPPVKUutxw5cEdyrcqV9+h/2eS0ljlNAWoXrE+e6B7zQZV1zZ3hA/MkZa9JcOW732vVjXGbRl1E5kFlV7EOrvOHUkfYavqTBubPW6hElbc89akgb6YKlplJku+2dJVRrhbPVjISXHedkIAo4C5jcseCTVISs26U+JmMRfKvO/HqfhFTsHxjFf8ZOn0+alpulz/N4Cs57RwAMqop+fMlPpkwuVezK7GK1Knx7njVffY4V337lHwcmA2DBPahC5EWHNKGDJbpSY1BD5y3sDjx1p2gprjUJtwtdp0HyT3Y69EPmnoVFH7Ds2beKXEoVw7FsKIvgkaWrT2GVtIZc2Ea7feR9u7bdQfpZt+VF0qqx8asFRMzvw77JKmJNsc9SZPgENOPwrkfOQaWQ1cm8od59UHaMDDw15SOd48A48SBV7jOUM4jYmQy3dKuSq6EA=\n"
     ]
    }
   ],
   "source": [
    "requete = {'method': 'GET', 'url': '/service/hardware/action'}\n",
    "requete_json = json.dumps(requete)\n",
    "print(requete_json)\n",
    "requete_chiffre = encrypt2(requete_json, K)\n",
    "print(type(requete_chiffre))\n",
    "resultat = c.post_raw(url = '/bin/gateway', data = requete_chiffre, content_type='application/octet-stream')\n",
    "print(resultat)\n",
    "resultat = base64.b64encode(resultat).decode()\n",
    "print(resultat)\n",
    "with open(\"reponse.txt\", 'w') as f: \n",
    "    f.write(resultat)"
   ]
  },
  {
   "cell_type": "code",
   "execution_count": 193,
   "metadata": {
    "scrolled": true
   },
   "outputs": [
    {
     "name": "stdout",
     "output_type": "stream",
     "text": [
      "This is the server-room hardware control panel. \n",
      "\n",
      "An \"action\" is performed on an \"item\". To perform an action, send a\n",
      "POST request to :\n",
      "\n",
      "    /service/hardware/action/<item>\n",
      "\n",
      "with an \"action\" argument. The possible <item> are:\n",
      "    DOOR, LIGHT, VOLTAGE, SERVER-GROUP, SERVER, AIR-CONDITIONNING\n",
      "\n",
      "\n",
      "The value of the \"action\" argument determines what the effect. The possible\n",
      "values are <item>-specific.\n",
      "\n",
      "To get more help about a specific <item>, send a GET request to the same adress.\n",
      "\n",
      "In case of emergency (life- or equipment-threatening situation), go to:\n",
      "\n",
      "    /service/hardware/911\n",
      "\n",
      "Your actions are visible on the status view.\n"
     ]
    }
   ],
   "source": [
    "reponse = decrypt(\"reponse.txt\", K)\n",
    "print(reponse)"
   ]
  },
  {
   "cell_type": "code",
   "execution_count": 23,
   "metadata": {},
   "outputs": [],
   "source": [
    "def commande_stp(method, url, nom_fichier):\n",
    "    requete = {'method': method, 'url': url}\n",
    "    requete_json = json.dumps(requete)\n",
    "    requete_chiffre = encrypt2(requete_json, K)\n",
    "    resultat = c.post_raw(url = '/bin/gateway', data = requete_chiffre, content_type='application/octet-stream')\n",
    "    resultat = base64.b64encode(resultat).decode()\n",
    "    with open(nom_fichier, 'w') as f: \n",
    "        f.write(resultat)"
   ]
  },
  {
   "cell_type": "code",
   "execution_count": 328,
   "metadata": {},
   "outputs": [],
   "source": [
    "commande_stp(\"GET\", \"/service/hardware/action/S\", \"Server.txt\")"
   ]
  },
  {
   "cell_type": "code",
   "execution_count": 329,
   "metadata": {},
   "outputs": [
    {
     "name": "stdout",
     "output_type": "stream",
     "text": [
      "Possible values: lock / unlock.\n",
      "Additional required argument: \"n\" (the number of the server group).\n"
     ]
    }
   ],
   "source": [
    "reponse = decrypt(\"Server.txt\", K)\n",
    "print(reponse)"
   ]
  },
  {
   "cell_type": "code",
   "execution_count": 330,
   "metadata": {},
   "outputs": [
    {
     "name": "stdout",
     "output_type": "stream",
     "text": [
      "{\"method\": \"POST\", \"url\": \"/service/hardware/action/SERVER-GROUP\", \"args\": {\"action\": \"unlock\", \"n\": 10}}\n",
      "<class 'bytes'>\n"
     ]
    }
   ],
   "source": [
    "requete = {'method': 'POST', 'url': '/service/hardware/action/SERVER-GROUP', 'args': {'action': 'unlock', \"n\": 0xa}}\n",
    "requete_json = json.dumps(requete)\n",
    "print(requete_json)\n",
    "requete_chiffre = encrypt2(requete_json, K)\n",
    "print(type(requete_chiffre))"
   ]
  },
  {
   "cell_type": "code",
   "execution_count": 331,
   "metadata": {},
   "outputs": [
    {
     "ename": "ServerError",
     "evalue": "ERREUR 403, b'Salted__\\x17g\\x12l\\x8b}\\xc6$$p\\x10\\xec\\xae\\xde\\xa2\"\\xbe\\x88F\\xc2\\xb5\\xd3\\x10\\x82Mxg3S\\xfa\\xfb\\x8e~\\xabx\\x9c\\xf2\\x85\\xfb[\\xc1\\x17\\xdc\\xe2\\xac\\xf6\\x0eH\\x1bk\\xa7\\xe5\\xfel&\\x8e[\\xd0\\x8fI\\xd3N\\x93\\xf7\\xf6A\\xa1\\xd5\\x12H\\x08f'",
     "output_type": "error",
     "traceback": [
      "\u001b[0;31m---------------------------------------------------------------------------\u001b[0m",
      "\u001b[0;31mServerError\u001b[0m                               Traceback (most recent call last)",
      "\u001b[0;32m<ipython-input-331-f402c5fe5312>\u001b[0m in \u001b[0;36m<module>\u001b[0;34m\u001b[0m\n\u001b[0;32m----> 1\u001b[0;31m \u001b[0mresultat\u001b[0m \u001b[0;34m=\u001b[0m \u001b[0mc\u001b[0m\u001b[0;34m.\u001b[0m\u001b[0mpost_raw\u001b[0m\u001b[0;34m(\u001b[0m\u001b[0murl\u001b[0m \u001b[0;34m=\u001b[0m \u001b[0;34m'/bin/gateway'\u001b[0m\u001b[0;34m,\u001b[0m \u001b[0mdata\u001b[0m \u001b[0;34m=\u001b[0m \u001b[0mrequete_chiffre\u001b[0m\u001b[0;34m,\u001b[0m \u001b[0mcontent_type\u001b[0m\u001b[0;34m=\u001b[0m\u001b[0;34m'application/octet-stream'\u001b[0m\u001b[0;34m)\u001b[0m\u001b[0;34m\u001b[0m\u001b[0;34m\u001b[0m\u001b[0m\n\u001b[0m",
      "\u001b[0;32m<ipython-input-3-74291c68df9f>\u001b[0m in \u001b[0;36mpost_raw\u001b[0;34m(self, url, data, content_type)\u001b[0m\n\u001b[1;32m    117\u001b[0m         \u001b[0mrequest\u001b[0m \u001b[0;34m=\u001b[0m \u001b[0murllib\u001b[0m\u001b[0;34m.\u001b[0m\u001b[0mrequest\u001b[0m\u001b[0;34m.\u001b[0m\u001b[0mRequest\u001b[0m\u001b[0;34m(\u001b[0m\u001b[0mself\u001b[0m\u001b[0;34m.\u001b[0m\u001b[0m_base\u001b[0m \u001b[0;34m+\u001b[0m \u001b[0murl\u001b[0m\u001b[0;34m,\u001b[0m \u001b[0mmethod\u001b[0m\u001b[0;34m=\u001b[0m\u001b[0;34m'POST'\u001b[0m\u001b[0;34m)\u001b[0m\u001b[0;34m\u001b[0m\u001b[0;34m\u001b[0m\u001b[0m\n\u001b[1;32m    118\u001b[0m         \u001b[0mrequest\u001b[0m\u001b[0;34m.\u001b[0m\u001b[0madd_header\u001b[0m\u001b[0;34m(\u001b[0m\u001b[0;34m'Content-type'\u001b[0m\u001b[0;34m,\u001b[0m \u001b[0mcontent_type\u001b[0m\u001b[0;34m)\u001b[0m\u001b[0;34m\u001b[0m\u001b[0;34m\u001b[0m\u001b[0m\n\u001b[0;32m--> 119\u001b[0;31m         \u001b[0;32mreturn\u001b[0m \u001b[0mself\u001b[0m\u001b[0;34m.\u001b[0m\u001b[0m_query\u001b[0m\u001b[0;34m(\u001b[0m\u001b[0murl\u001b[0m\u001b[0;34m,\u001b[0m \u001b[0mrequest\u001b[0m\u001b[0;34m,\u001b[0m \u001b[0mdata\u001b[0m\u001b[0;34m)\u001b[0m\u001b[0;34m\u001b[0m\u001b[0;34m\u001b[0m\u001b[0m\n\u001b[0m\u001b[1;32m    120\u001b[0m \u001b[0;34m\u001b[0m\u001b[0m\n\u001b[1;32m    121\u001b[0m     \u001b[0;32mdef\u001b[0m \u001b[0mclose_session\u001b[0m\u001b[0;34m(\u001b[0m\u001b[0mself\u001b[0m\u001b[0;34m)\u001b[0m\u001b[0;34m:\u001b[0m\u001b[0;34m\u001b[0m\u001b[0;34m\u001b[0m\u001b[0m\n",
      "\u001b[0;32m<ipython-input-3-74291c68df9f>\u001b[0m in \u001b[0;36m_query\u001b[0;34m(self, url, request, data)\u001b[0m\n\u001b[1;32m    185\u001b[0m             \u001b[0mheaders\u001b[0m \u001b[0;34m=\u001b[0m \u001b[0mdict\u001b[0m\u001b[0;34m(\u001b[0m\u001b[0me\u001b[0m\u001b[0;34m.\u001b[0m\u001b[0mheaders\u001b[0m\u001b[0;34m)\u001b[0m\u001b[0;34m\u001b[0m\u001b[0;34m\u001b[0m\u001b[0m\n\u001b[1;32m    186\u001b[0m             \u001b[0mmessage\u001b[0m \u001b[0;34m=\u001b[0m \u001b[0me\u001b[0m\u001b[0;34m.\u001b[0m\u001b[0mread\u001b[0m\u001b[0;34m(\u001b[0m\u001b[0;34m)\u001b[0m\u001b[0;34m\u001b[0m\u001b[0;34m\u001b[0m\u001b[0m\n\u001b[0;32m--> 187\u001b[0;31m             \u001b[0;32mraise\u001b[0m \u001b[0mServerError\u001b[0m\u001b[0;34m(\u001b[0m\u001b[0me\u001b[0m\u001b[0;34m.\u001b[0m\u001b[0mcode\u001b[0m\u001b[0;34m,\u001b[0m \u001b[0mself\u001b[0m\u001b[0;34m.\u001b[0m\u001b[0m_post_process\u001b[0m\u001b[0;34m(\u001b[0m\u001b[0mmessage\u001b[0m\u001b[0;34m,\u001b[0m \u001b[0mheaders\u001b[0m\u001b[0;34m)\u001b[0m\u001b[0;34m)\u001b[0m \u001b[0;32mfrom\u001b[0m \u001b[0;32mNone\u001b[0m\u001b[0;34m\u001b[0m\u001b[0;34m\u001b[0m\u001b[0m\n\u001b[0m\u001b[1;32m    188\u001b[0m \u001b[0;34m\u001b[0m\u001b[0m\n",
      "\u001b[0;31mServerError\u001b[0m: ERREUR 403, b'Salted__\\x17g\\x12l\\x8b}\\xc6$$p\\x10\\xec\\xae\\xde\\xa2\"\\xbe\\x88F\\xc2\\xb5\\xd3\\x10\\x82Mxg3S\\xfa\\xfb\\x8e~\\xabx\\x9c\\xf2\\x85\\xfb[\\xc1\\x17\\xdc\\xe2\\xac\\xf6\\x0eH\\x1bk\\xa7\\xe5\\xfel&\\x8e[\\xd0\\x8fI\\xd3N\\x93\\xf7\\xf6A\\xa1\\xd5\\x12H\\x08f'"
     ]
    }
   ],
   "source": [
    "resultat = c.post_raw(url = '/bin/gateway', data = requete_chiffre, content_type='application/octet-stream')"
   ]
  },
  {
   "cell_type": "code",
   "execution_count": 332,
   "metadata": {},
   "outputs": [],
   "source": [
    "resultat = b'Salted__\\x17g\\x12l\\x8b}\\xc6$$p\\x10\\xec\\xae\\xde\\xa2\"\\xbe\\x88F\\xc2\\xb5\\xd3\\x10\\x82Mxg3S\\xfa\\xfb\\x8e~\\xabx\\x9c\\xf2\\x85\\xfb[\\xc1\\x17\\xdc\\xe2\\xac\\xf6\\x0eH\\x1bk\\xa7\\xe5\\xfel&\\x8e[\\xd0\\x8fI\\xd3N\\x93\\xf7\\xf6A\\xa1\\xd5\\x12H\\x08f'"
   ]
  },
  {
   "cell_type": "code",
   "execution_count": 334,
   "metadata": {},
   "outputs": [
    {
     "name": "stdout",
     "output_type": "stream",
     "text": [
      "Your mission does not allow you to perform this action\n"
     ]
    }
   ],
   "source": [
    "#resultat = base64.b64encode(resultat).decode()\n",
    "#with open(\"reponse.txt\", \"w\") as f: \n",
    "#    f.write(resultat)\n",
    "reponse = decrypt(\"reponse.txt\", K)\n",
    "print(reponse)"
   ]
  },
  {
   "cell_type": "code",
   "execution_count": 17,
   "metadata": {},
   "outputs": [],
   "source": [
    "def commande_stp(method, url, nom_fichier):\n",
    "    requete = {'method': method, 'url': url}\n",
    "    requete_json = json.dumps(requete)\n",
    "    requete_chiffre = encrypt2(requete_json, K)\n",
    "    resultat = c.post_raw(url = '/bin/gateway', data = requete_chiffre, content_type='application/octet-stream')\n",
    "    resultat = base64.b64encode(resultat).decode()\n",
    "    with open(nom_fichier, 'w') as f: \n",
    "        f.write(resultat)"
   ]
  },
  {
   "cell_type": "code",
   "execution_count": 335,
   "metadata": {},
   "outputs": [],
   "source": [
    "commande_stp(\"GET\", '/service/hardware/status', 'status.txt')"
   ]
  },
  {
   "cell_type": "code",
   "execution_count": 337,
   "metadata": {},
   "outputs": [
    {
     "name": "stdout",
     "output_type": "stream",
     "text": [
      "┌──────────────────────────────Server Room Layout──────────────────────────────┐\n",
      "│                                   │      │                                   │ \n",
      "│                                   │      │                                   │ \n",
      "│ S │ S │ S │ S │ o │ S │ S │ S │ S │0    f│ X │ ! │ X │ S │ o │ o │ X │ S │ X │ \n",
      "│───┼───┼───┼───┼───┼───┼───┼───┼───┤      ├───┼───┼───┼───┼───┼───┼───┼───┼───│ \n",
      "│   │ S │ S │ S │ S │ S │ S │ S │ S │1    e│ S │ X │ S │ X │ S │ X │ S │ X │ S │ \n",
      "│                                   │      │                                   │ \n",
      "│                                   │      │                                   │ \n",
      "│ . │ X │ . │ X │ X │ X │ X │ X │ X │2    d│ X │ X │ X │ X │ . │ X │ X │ X │ X │ \n",
      "│───┼───┼───┼───┼───┼───┼───┼───┼───┤      ├───┼───┼───┼───┼───┼───┼───┼───┼───│ \n",
      "│ S │ S │ o │ S │ S │   │ S │ S │ S │3    v│ X │ X │ X │ X │ X │ X │ X │ X │   │ \n",
      "│                                   │      │                                   │ \n",
      "│                                   │      │                                   │ \n",
      "│ X │ X │ ! │ X │ X │ o │ X │ X │ X │4    b│ X │ X │   │   │ X │ X │ o │ X │ X │ \n",
      "│───┼───┼───┼───┼───┼───┼───┼───┼───┤      ├───┼───┼───┼───┼───┼───┼───┼───┼───│ \n",
      "│ X │ X │ . │ X │ X │ X │ ! │ X │ X │5    a│ ? │ X │   │   │ X │ X │ X │ X │ X │ \n",
      "│                                   │      │                                   │ \n",
      "│                                   │      │                                   │ \n",
      "│ o │ X │ X │ X │ X │ X │ . │ X │ X │6    9│ S │ S │ S │ S │ S │ S │ S │ S │ S │ \n",
      "│───┼───┼───┼───┼───┼───┼───┼───┼───┤      ├───┼───┼───┼───┼───┼───┼───┼───┼───│ \n",
      "│ X │ X │   │ X │ X │ X │ X │ X │ X │7    8│ S │ S │ S │ S │ S │ ! │ S │ S │ S │ \n",
      "│                                   │      │                                   │ \n",
      "│                                   │      │                                   │ \n",
      "└─────────────────────────────────────/──/─────────────────────────────────────┘\n",
      "                                       T\n",
      "                                ┌─────────────────────Chat─────────────────────┐\n",
      "T : Technician                  │ Ted: Hi, I'm Ted, the technician. Nice       │\n",
      "X : operating compute node      │ .... working with you.                       │\n",
      "S : operating storage node      │ Ted: I assume you're new to this. This is    │\n",
      ". : moved to maintenance area   │ .... the status view. What you're seeing     │\n",
      "o : powered off                 │ .... above is a schematic view of the server │\n",
      "? : unknown status              │ .... room.                                   │\n",
      "! : hardware failure            │ Ted: You first need to open the door so that │\n",
      "                                │ .... I can go in. Check:                     │\n",
      "                                └──────────────────────────────────────────────┘\n"
     ]
    }
   ],
   "source": [
    "reponse = decrypt(\"status.txt\", K)\n",
    "print(reponse)"
   ]
  },
  {
   "cell_type": "code",
   "execution_count": 25,
   "metadata": {},
   "outputs": [],
   "source": [
    "def commande_stp(method, url, nom_fichier):\n",
    "    requete = {'method': method, 'url': url}\n",
    "    requete_json = json.dumps(requete)\n",
    "    requete_chiffre = encrypt2(requete_json, K)\n",
    "    resultat = c.post_raw(url = '/bin/gateway', data = requete_chiffre, content_type='application/octet-stream')\n",
    "    resultat = base64.b64encode(resultat).decode()\n",
    "    with open(nom_fichier, 'w') as f: \n",
    "        for i in range(0, len(resultat)): \n",
    "            if (i % 64 == 0): \n",
    "                f.write(\"\\n\")\n",
    "                f.write(resultat[i])\n",
    "            else : \n",
    "                f.write(resultat[i])"
   ]
  },
  {
   "cell_type": "code",
   "execution_count": 26,
   "metadata": {},
   "outputs": [],
   "source": [
    "def action_serveur(url, option, n, nom_fichier): \n",
    "    requete = {'method': 'POST', 'url': url, 'args': {'action': option, 'n': n}}\n",
    "    requete_json = json.dumps(requete)\n",
    "    requete_chiffre = encrypt2(requete_json, K)\n",
    "    resultat = c.post_raw(url = '/bin/gateway', data = requete_chiffre, content_type='application/octet-stream')\n",
    "    resultat = base64.b64encode(resultat).decode()\n",
    "    with open(nom_fichier, 'w') as f: \n",
    "        for i in range(0, len(resultat)): \n",
    "            if (i % 64 == 0): \n",
    "                f.write(\"\\n\")\n",
    "                f.write(resultat[i])\n",
    "            else : \n",
    "                f.write(resultat[i])"
   ]
  },
  {
   "cell_type": "code",
   "execution_count": 24,
   "metadata": {},
   "outputs": [],
   "source": [
    "def action_stp(url, option, nom_fichier): \n",
    "    requete = {'method': 'POST', 'url': url, 'args': {'action': option}}\n",
    "    requete_json = json.dumps(requete)\n",
    "    requete_chiffre = encrypt2(requete_json, K)\n",
    "    resultat = c.post_raw(url = '/bin/gateway', data = requete_chiffre, content_type='application/octet-stream')\n",
    "    resultat = base64.b64encode(resultat).decode()\n",
    "    with open(nom_fichier, 'w') as f: \n",
    "        for i in range(0, len(resultat)): \n",
    "            if (i % 64 == 0): \n",
    "                f.write(\"\\n\")\n",
    "                f.write(resultat[i])\n",
    "            else : \n",
    "                f.write(resultat[i])"
   ]
  },
  {
   "cell_type": "code",
   "execution_count": 25,
   "metadata": {},
   "outputs": [],
   "source": [
    "def urgence(url, option, nom_fichier): \n",
    "    requete = {'method': 'POST', 'url': url, 'args': {'reason': option}}\n",
    "    requete_json = json.dumps(requete)\n",
    "    requete_chiffre = encrypt2(requete_json, K)\n",
    "    resultat = c.post_raw(url = '/bin/gateway', data = requete_chiffre, content_type='application/octet-stream')\n",
    "    resultat = base64.b64encode(resultat).decode()\n",
    "    with open(nom_fichier, 'w') as f: \n",
    "        for i in range(0, len(resultat)): \n",
    "            if (i % 64 == 0): \n",
    "                f.write(\"\\n\")\n",
    "                f.write(resultat[i])\n",
    "            else : \n",
    "                f.write(resultat[i])"
   ]
  },
  {
   "cell_type": "code",
   "execution_count": 18,
   "metadata": {},
   "outputs": [],
   "source": [
    "def decrypter_fichier(file_name, k): \n",
    "    reponse = decrypt(file_name, k)\n",
    "    print(reponse)"
   ]
  },
  {
   "cell_type": "code",
   "execution_count": 341,
   "metadata": {},
   "outputs": [],
   "source": [
    "action_stp(\"/service/hardware/action/DOOR\", \"unlock\", \"ouverture_porte\")"
   ]
  },
  {
   "cell_type": "code",
   "execution_count": 344,
   "metadata": {},
   "outputs": [
    {
     "name": "stdout",
     "output_type": "stream",
     "text": [
      "DOOR unlocked\n"
     ]
    }
   ],
   "source": [
    "decrypter_fichier(\"ouverture_porte\", K)"
   ]
  },
  {
   "cell_type": "code",
   "execution_count": 346,
   "metadata": {},
   "outputs": [],
   "source": [
    "action_stp(\"/service/hardware/action/LIGHT\", \"on\", \"ouverture_lumiere\")"
   ]
  },
  {
   "cell_type": "code",
   "execution_count": 348,
   "metadata": {},
   "outputs": [
    {
     "name": "stdout",
     "output_type": "stream",
     "text": [
      "LIGHT on\n"
     ]
    }
   ],
   "source": [
    "decrypter_fichier(\"ouverture_lumiere\", K)"
   ]
  },
  {
   "cell_type": "code",
   "execution_count": 354,
   "metadata": {},
   "outputs": [],
   "source": [
    "commande_stp(\"GET\", '/service/hardware/status', 'status.txt')"
   ]
  },
  {
   "cell_type": "code",
   "execution_count": 355,
   "metadata": {},
   "outputs": [
    {
     "name": "stdout",
     "output_type": "stream",
     "text": [
      "┌──────────────────────────────Server Room Layout──────────────────────────────┐\n",
      "│                                   │      │                                   │ \n",
      "│                                   │      │                                   │ \n",
      "│ S │ S │ S │ S │ o │ S │ S │ S │ S │0    f│ X │ ! │ X │ S │ o │ o │ X │ S │ X │ \n",
      "│───┼───┼───┼───┼───┼───┼───┼───┼───┤      ├───┼───┼───┼───┼───┼───┼───┼───┼───│ \n",
      "│   │ S │ S │ S │ S │ S │ S │ S │ S │1    e│ S │ X │ S │ X │ S │ X │ S │ X │ S │ \n",
      "│                                   │      │                                   │ \n",
      "│                                   │      │                                   │ \n",
      "│ . │ X │ . │ X │ X │ X │ X │ X │ X │2    d│ X │ X │ X │ X │ . │ X │ X │ X │ X │ \n",
      "│───┼───┼───┼───┼───┼───┼───┼───┼───┤      ├───┼───┼───┼───┼───┼───┼───┼───┼───│ \n",
      "│ S │ S │ o │ S │ S │   │ S │ S │ S │3    v│ X │ X │ X │ X │ X │ X │ X │ X │   │ \n",
      "│                                   │      │                                   │ \n",
      "│                                   │      │                                   │ \n",
      "│ X │ X │ ! │ X │ X │ o │ X │ X │ X │4    b│ X │ X │   │   │ X │ X │ o │ X │ X │ \n",
      "│───┼───┼───┼───┼───┼───┼───┼───┼───┤      ├───┼───┼───┼───┼───┼───┼───┼───┼───│ \n",
      "│ X │ X │ . │ X │ X │ X │ ! │ X │ X │5    a│ ? │ X │   │   │ X │ X │ X │ X │ X │ \n",
      "│                                   │   T  │                                   │ \n",
      "│                                   │      │                                   │ \n",
      "│ o │ X │ X │ X │ X │ X │ . │ X │ X │6    9│ S │ S │ S │ S │ S │ S │ S │ S │ S │ \n",
      "│───┼───┼───┼───┼───┼───┼───┼───┼───┤      ├───┼───┼───┼───┼───┼───┼───┼───┼───│ \n",
      "│ X │ X │   │ X │ X │ X │ X │ X │ X │7    8│ S │ S │ S │ S │ S │ ! │ S │ S │ S │ \n",
      "│                                   │      │                                   │ \n",
      "│                                   │      │                                   │ \n",
      "└─────────────────────────────────────/  /─────────────────────────────────────┘\n",
      "                                        \n",
      "                                ┌─────────────────────Chat─────────────────────┐\n",
      "T : Technician                  │ DOOR unlocked                                │\n",
      "X : operating compute node      │ Ted: Thanks. Can you turn on the light now   │\n",
      "S : operating storage node      │ .... please? I can't see a thing in there.   │\n",
      ". : moved to maintenance area   │ LIGHT on                                     │\n",
      "o : powered off                 │ Ted: Okay, I'm in. Do you see me?            │\n",
      "? : unknown status              │ Ted: I need to inspect the \"unknown status\"  │\n",
      "! : hardware failure            │ .... machine in server group 0xa. You need   │\n",
      "                                │ .... to open it for me.                      │\n",
      "                                └──────────────────────────────────────────────┘\n"
     ]
    }
   ],
   "source": [
    "decrypter_fichier('status.txt', K)"
   ]
  },
  {
   "cell_type": "code",
   "execution_count": 359,
   "metadata": {},
   "outputs": [],
   "source": [
    "commande_stp(\"GET\", '/service/hardware/action/SERVER-GROUP', 'commande_get.txt')"
   ]
  },
  {
   "cell_type": "code",
   "execution_count": 360,
   "metadata": {},
   "outputs": [
    {
     "name": "stdout",
     "output_type": "stream",
     "text": [
      "Possible values: lock / unlock.\n",
      "Additional required argument: \"n\" (the number of the server group).\n"
     ]
    }
   ],
   "source": [
    "decrypter_fichier('commande_get.txt', K)"
   ]
  },
  {
   "cell_type": "code",
   "execution_count": 362,
   "metadata": {},
   "outputs": [
    {
     "name": "stdout",
     "output_type": "stream",
     "text": [
      "b'Salted__\\xb2\\xf5#\\xbd\\xdf-\\xd8\\xf7\\xb2K-k=\\x923\\x16p\\xc7S\\x05)\\x15+O\\xf9\\xe8m\\'\\x9d\\xd3.\\x8c\\x83\\x87\\xb8\\xe5J+\\xc4\\xff\\xfd\\xfb\\xb8\\xe4\\xdf9o\\xca\\x0bm\\x19\\xea\\xac\\x0f\\xd8\\x80\\xef\\xff)\\xacC\\xd1\\xa6\\xf873\\xacD\\x95U\\xafdL\\xca\\x90\\x95\\x11<\\xe0\\xaa\\tx\\xe5X\\xb1\\x018\\x1b\\xc5]\\xd5\\xe9{\"\\xa5t\\x87\\x03\\xf4h\\xbbA\\xb7\\xec\\x95\\xdd(&G{\\xa9\\x19\\x0e\\xbe-\\x00c{\\xd6?'\n"
     ]
    }
   ],
   "source": [
    "action_serveur('/service/hardware/action/SERVER-GROUP', 'unlock', 0xa, \"ouverture_server_group\")"
   ]
  },
  {
   "cell_type": "code",
   "execution_count": 364,
   "metadata": {},
   "outputs": [
    {
     "name": "stdout",
     "output_type": "stream",
     "text": [
      "SERVER GROUP 0xa unlocked\n"
     ]
    }
   ],
   "source": [
    "decrypter_fichier(\"ouverture_server_group\", K)"
   ]
  },
  {
   "cell_type": "code",
   "execution_count": 407,
   "metadata": {},
   "outputs": [
    {
     "name": "stdout",
     "output_type": "stream",
     "text": [
      "┌──────────────────────────────Server Room Layout──────────────────────────────┐\n",
      "│                                   │      │                                   │ \n",
      "│                                   │      │                                   │ \n",
      "│ o │ o │ o │ o │ o │ o │ o │ o │ o │0    f│ o │ o │ o │ o │ o │ o │ o │ o │ o │ \n",
      "│───┼───┼───┼───┼───┼───┼───┼───┼───┤      ├───┼───┼───┼───┼───┼───┼───┼───┼───│ \n",
      "│   │ o │ o │ o │ o │ o │ o │ o │ o │1    e│ o │ o │ o │ o │ o │ o │ o │ o │ o │ \n",
      "│                                   │      │                                   │ \n",
      "│                                   │      │                                   │ \n",
      "│ . │ o │ . │ o │ o │ o │ o │ o │ o │2    d│ o │ o │ o │ o │ . │ o │ o │ o │ o │ \n",
      "│───┼───┼───┼───┼───┼───┼───┼───┼───┤m     ├───┼───┼───┼───┼───┼───┼───┼───┼───│ \n",
      "│ o │ o │ o │ o │ o │   │ o │ o │ o │3    v│ o │ o │ o │ o │ o │ o │ o │ o │   │ \n",
      "│                                   │      │                                   │ \n",
      "│                                   │      │                                   │ \n",
      "│ o │ o │ o │ o │ o │ o │ o │ o │ o │4    b│ o │ o │   │   │ o │ o │ o │ o │ o │ \n",
      "│───┼───┼───┼───┼───┼───┼───┼───┼───┤      ├───┼───┼───┼───┼───┼───┼───┼───┼───│ \n",
      "│ o │ o │ . │ o │ o │ o │ o │ o │ o │5    a│ o │ o │   │   │ o │ o │ o │ o │ o │ \n",
      "│                                   │      │                                   │ \n",
      "│                                   │      │                                   │ \n",
      "│ o │ o │ o │ o │ o │ o │ . │ o │ o │6    9│ o │ o │ o │ o │ o │ o │ o │ o │ o │ \n",
      "│───┼───┼───┼───┼───┼───┼───┼───┼───┤      ├───┼───┼───┼───┼───┼───┼───┼───┼───│ \n",
      "│ o │ o │   │ o │ o │ o │ o │ o │ o │7    8│ o │ o │ o │ o │ o │ o │ o │ o │ o │ \n",
      "│                                   │      │                                   │ \n",
      "│                                   │   D  │                                   │ \n",
      "└─────────────────────────────────────/  /─────────────────────────────────────┘\n",
      "10                                        \n",
      "                                ┌─────────────────────Chat─────────────────────┐\n",
      "D : Technician (dead)           │ technician DEAD.                             │\n",
      "X : operating compute node      │ documentd: DIE.HARD(WARE):3030:2@378049|     │\n",
      "S : operating storage node      │ documentd:  9b885a79fc9eef8f824dcca5e98fd871 │\n",
      ". : moved to maintenance area   │ kernel-monitord: See, **I** can also use     │\n",
      "o : powered off                 │ ................ undocumented features. See  │\n",
      "? : unknown status              │ ................ you next time.              │\n",
      "! : hardware failure            │ INTERVENTION complete. End of EMERGENCY.     │\n",
      "m : fire suppression control    │ You can now close the TICKET.                │\n",
      "                                └──────────────────────────────────────────────┘\n"
     ]
    }
   ],
   "source": [
    "commande_stp(\"GET\", '/service/hardware/status', 'status.txt')\n",
    "decrypter_fichier('status.txt', K)"
   ]
  },
  {
   "cell_type": "code",
   "execution_count": 374,
   "metadata": {},
   "outputs": [
    {
     "name": "stdout",
     "output_type": "stream",
     "text": [
      "Possible values: quick-test / deep-test / on / off / reboot. \n",
      "Additional required argument: \"n\" (the number of the server).\n"
     ]
    }
   ],
   "source": [
    "commande_stp(\"GET\", '/service/hardware/action/SERVER', 'commande_get.txt')\n",
    "decrypter_fichier('commande_get.txt', K)"
   ]
  },
  {
   "cell_type": "code",
   "execution_count": 382,
   "metadata": {},
   "outputs": [
    {
     "name": "stdout",
     "output_type": "stream",
     "text": [
      "This is the server-room emergency response service. In case of emergency,\n",
      "the data-center is shut down and all personnel is evacuated.\n",
      "\n",
      "Because this interrupts the operation of the data-center, the emergency \n",
      "procedure must only be triggered when strictly necessary. All abuse will be\n",
      "prosecuted.\n",
      "\n",
      "To trigger the emergency procedure, send a POST request to this adress, with a\n",
      "\"reason\" argument. The possible <reason> are:\n",
      "    DDOS, FIRE, MAD-TECHNICIAN, ROGUE-IA, SHORT-CIRCUIT, AC-FAILURE, HACK\n"
     ]
    }
   ],
   "source": [
    "commande_stp(\"GET\", '/service/hardware/911', 'urgence.txt')\n",
    "decrypter_fichier('urgence.txt', K)"
   ]
  },
  {
   "cell_type": "code",
   "execution_count": 391,
   "metadata": {},
   "outputs": [],
   "source": [
    "urgence('/service/hardware/911', 'MAD-TECHNICIAN', 'urgence.txt')"
   ]
  },
  {
   "cell_type": "code",
   "execution_count": 392,
   "metadata": {},
   "outputs": [
    {
     "name": "stdout",
     "output_type": "stream",
     "text": [
      "Emergency Acknowledged.\n"
     ]
    }
   ],
   "source": [
    "decrypter_fichier('urgence.txt', K)"
   ]
  },
  {
   "cell_type": "code",
   "execution_count": 397,
   "metadata": {},
   "outputs": [],
   "source": [
    "action_serveur('/service/hardware/action/SERVER-GROUP', 'manual', 0xa, \"ouverture_server_group\")"
   ]
  },
  {
   "cell_type": "code",
   "execution_count": 398,
   "metadata": {},
   "outputs": [
    {
     "name": "stdout",
     "output_type": "stream",
     "text": [
      "SERVER GROUP 0xa in MANUAL mode.\n"
     ]
    }
   ],
   "source": [
    "decrypter_fichier('ouverture_server_group', K)"
   ]
  },
  {
   "cell_type": "code",
   "execution_count": 401,
   "metadata": {},
   "outputs": [
    {
     "name": "stdout",
     "output_type": "stream",
     "text": [
      "EMERGENCY LIGHT.\n"
     ]
    }
   ],
   "source": [
    "action_stp('/service/hardware/action/LIGHT', 'emergency', \"urgence_lumiere\")\n",
    "decrypter_fichier('urgence_lumiere', K)VOLTAGE"
   ]
  },
  {
   "cell_type": "code",
   "execution_count": 405,
   "metadata": {},
   "outputs": [
    {
     "ename": "ServerError",
     "evalue": "ERREUR 403, b'Salted__a\\xeb\\x8d\\x1c\\x1a\\n\\xd4`\\xa2\\xad\\xb0\\x0fW\\xd8c\\xb6\\xaf&\\x12\\xda<\\x0c\\x14{*\\xcd\\xb4{\\x04\\xa2Hh\\x86\\xcf\\x14L>Y\\xc4\\x9b\\xf5\\xa4\\xdf}\\x10+s\\xa6\\x92*@\\xe9\\x03\\x9d4\\xbfn\\x08\\xfaI\\xcf\\x85\\xd0\\x0b\\x14\\x13\\xd7\\x84G\\xa0\\xf7t'",
     "output_type": "error",
     "traceback": [
      "\u001b[0;31m---------------------------------------------------------------------------\u001b[0m",
      "\u001b[0;31mServerError\u001b[0m                               Traceback (most recent call last)",
      "\u001b[0;32m<ipython-input-405-0d7e6919f770>\u001b[0m in \u001b[0;36m<module>\u001b[0;34m\u001b[0m\n\u001b[0;32m----> 1\u001b[0;31m \u001b[0maction_stp\u001b[0m\u001b[0;34m(\u001b[0m\u001b[0;34m'/service/hardware/action/VOLTAGE'\u001b[0m\u001b[0;34m,\u001b[0m \u001b[0;36m50\u001b[0m\u001b[0;34m,\u001b[0m \u001b[0;34m\"urgence_v\"\u001b[0m\u001b[0;34m)\u001b[0m\u001b[0;34m\u001b[0m\u001b[0;34m\u001b[0m\u001b[0m\n\u001b[0m\u001b[1;32m      2\u001b[0m \u001b[0mdecrypter_fichier\u001b[0m\u001b[0;34m(\u001b[0m\u001b[0;34m'urgence_v'\u001b[0m\u001b[0;34m,\u001b[0m \u001b[0mK\u001b[0m\u001b[0;34m)\u001b[0m\u001b[0;34m\u001b[0m\u001b[0;34m\u001b[0m\u001b[0m\n",
      "\u001b[0;32m<ipython-input-357-c4913d41494c>\u001b[0m in \u001b[0;36maction_stp\u001b[0;34m(url, option, nom_fichier)\u001b[0m\n\u001b[1;32m      3\u001b[0m     \u001b[0mrequete_json\u001b[0m \u001b[0;34m=\u001b[0m \u001b[0mjson\u001b[0m\u001b[0;34m.\u001b[0m\u001b[0mdumps\u001b[0m\u001b[0;34m(\u001b[0m\u001b[0mrequete\u001b[0m\u001b[0;34m)\u001b[0m\u001b[0;34m\u001b[0m\u001b[0;34m\u001b[0m\u001b[0m\n\u001b[1;32m      4\u001b[0m     \u001b[0mrequete_chiffre\u001b[0m \u001b[0;34m=\u001b[0m \u001b[0mencrypt2\u001b[0m\u001b[0;34m(\u001b[0m\u001b[0mrequete_json\u001b[0m\u001b[0;34m,\u001b[0m \u001b[0mK\u001b[0m\u001b[0;34m)\u001b[0m\u001b[0;34m\u001b[0m\u001b[0;34m\u001b[0m\u001b[0m\n\u001b[0;32m----> 5\u001b[0;31m     \u001b[0mresultat\u001b[0m \u001b[0;34m=\u001b[0m \u001b[0mc\u001b[0m\u001b[0;34m.\u001b[0m\u001b[0mpost_raw\u001b[0m\u001b[0;34m(\u001b[0m\u001b[0murl\u001b[0m \u001b[0;34m=\u001b[0m \u001b[0;34m'/bin/gateway'\u001b[0m\u001b[0;34m,\u001b[0m \u001b[0mdata\u001b[0m \u001b[0;34m=\u001b[0m \u001b[0mrequete_chiffre\u001b[0m\u001b[0;34m,\u001b[0m \u001b[0mcontent_type\u001b[0m\u001b[0;34m=\u001b[0m\u001b[0;34m'application/octet-stream'\u001b[0m\u001b[0;34m)\u001b[0m\u001b[0;34m\u001b[0m\u001b[0;34m\u001b[0m\u001b[0m\n\u001b[0m\u001b[1;32m      6\u001b[0m     \u001b[0mresultat\u001b[0m \u001b[0;34m=\u001b[0m \u001b[0mbase64\u001b[0m\u001b[0;34m.\u001b[0m\u001b[0mb64encode\u001b[0m\u001b[0;34m(\u001b[0m\u001b[0mresultat\u001b[0m\u001b[0;34m)\u001b[0m\u001b[0;34m.\u001b[0m\u001b[0mdecode\u001b[0m\u001b[0;34m(\u001b[0m\u001b[0;34m)\u001b[0m\u001b[0;34m\u001b[0m\u001b[0;34m\u001b[0m\u001b[0m\n\u001b[1;32m      7\u001b[0m     \u001b[0;32mwith\u001b[0m \u001b[0mopen\u001b[0m\u001b[0;34m(\u001b[0m\u001b[0mnom_fichier\u001b[0m\u001b[0;34m,\u001b[0m \u001b[0;34m'w'\u001b[0m\u001b[0;34m)\u001b[0m \u001b[0;32mas\u001b[0m \u001b[0mf\u001b[0m\u001b[0;34m:\u001b[0m\u001b[0;34m\u001b[0m\u001b[0;34m\u001b[0m\u001b[0m\n",
      "\u001b[0;32m<ipython-input-3-74291c68df9f>\u001b[0m in \u001b[0;36mpost_raw\u001b[0;34m(self, url, data, content_type)\u001b[0m\n\u001b[1;32m    117\u001b[0m         \u001b[0mrequest\u001b[0m \u001b[0;34m=\u001b[0m \u001b[0murllib\u001b[0m\u001b[0;34m.\u001b[0m\u001b[0mrequest\u001b[0m\u001b[0;34m.\u001b[0m\u001b[0mRequest\u001b[0m\u001b[0;34m(\u001b[0m\u001b[0mself\u001b[0m\u001b[0;34m.\u001b[0m\u001b[0m_base\u001b[0m \u001b[0;34m+\u001b[0m \u001b[0murl\u001b[0m\u001b[0;34m,\u001b[0m \u001b[0mmethod\u001b[0m\u001b[0;34m=\u001b[0m\u001b[0;34m'POST'\u001b[0m\u001b[0;34m)\u001b[0m\u001b[0;34m\u001b[0m\u001b[0;34m\u001b[0m\u001b[0m\n\u001b[1;32m    118\u001b[0m         \u001b[0mrequest\u001b[0m\u001b[0;34m.\u001b[0m\u001b[0madd_header\u001b[0m\u001b[0;34m(\u001b[0m\u001b[0;34m'Content-type'\u001b[0m\u001b[0;34m,\u001b[0m \u001b[0mcontent_type\u001b[0m\u001b[0;34m)\u001b[0m\u001b[0;34m\u001b[0m\u001b[0;34m\u001b[0m\u001b[0m\n\u001b[0;32m--> 119\u001b[0;31m         \u001b[0;32mreturn\u001b[0m \u001b[0mself\u001b[0m\u001b[0;34m.\u001b[0m\u001b[0m_query\u001b[0m\u001b[0;34m(\u001b[0m\u001b[0murl\u001b[0m\u001b[0;34m,\u001b[0m \u001b[0mrequest\u001b[0m\u001b[0;34m,\u001b[0m \u001b[0mdata\u001b[0m\u001b[0;34m)\u001b[0m\u001b[0;34m\u001b[0m\u001b[0;34m\u001b[0m\u001b[0m\n\u001b[0m\u001b[1;32m    120\u001b[0m \u001b[0;34m\u001b[0m\u001b[0m\n\u001b[1;32m    121\u001b[0m     \u001b[0;32mdef\u001b[0m \u001b[0mclose_session\u001b[0m\u001b[0;34m(\u001b[0m\u001b[0mself\u001b[0m\u001b[0;34m)\u001b[0m\u001b[0;34m:\u001b[0m\u001b[0;34m\u001b[0m\u001b[0;34m\u001b[0m\u001b[0m\n",
      "\u001b[0;32m<ipython-input-3-74291c68df9f>\u001b[0m in \u001b[0;36m_query\u001b[0;34m(self, url, request, data)\u001b[0m\n\u001b[1;32m    185\u001b[0m             \u001b[0mheaders\u001b[0m \u001b[0;34m=\u001b[0m \u001b[0mdict\u001b[0m\u001b[0;34m(\u001b[0m\u001b[0me\u001b[0m\u001b[0;34m.\u001b[0m\u001b[0mheaders\u001b[0m\u001b[0;34m)\u001b[0m\u001b[0;34m\u001b[0m\u001b[0;34m\u001b[0m\u001b[0m\n\u001b[1;32m    186\u001b[0m             \u001b[0mmessage\u001b[0m \u001b[0;34m=\u001b[0m \u001b[0me\u001b[0m\u001b[0;34m.\u001b[0m\u001b[0mread\u001b[0m\u001b[0;34m(\u001b[0m\u001b[0;34m)\u001b[0m\u001b[0;34m\u001b[0m\u001b[0;34m\u001b[0m\u001b[0m\n\u001b[0;32m--> 187\u001b[0;31m             \u001b[0;32mraise\u001b[0m \u001b[0mServerError\u001b[0m\u001b[0;34m(\u001b[0m\u001b[0me\u001b[0m\u001b[0;34m.\u001b[0m\u001b[0mcode\u001b[0m\u001b[0;34m,\u001b[0m \u001b[0mself\u001b[0m\u001b[0;34m.\u001b[0m\u001b[0m_post_process\u001b[0m\u001b[0;34m(\u001b[0m\u001b[0mmessage\u001b[0m\u001b[0;34m,\u001b[0m \u001b[0mheaders\u001b[0m\u001b[0;34m)\u001b[0m\u001b[0;34m)\u001b[0m \u001b[0;32mfrom\u001b[0m \u001b[0;32mNone\u001b[0m\u001b[0;34m\u001b[0m\u001b[0;34m\u001b[0m\u001b[0m\n\u001b[0m\u001b[1;32m    188\u001b[0m \u001b[0;34m\u001b[0m\u001b[0m\n",
      "\u001b[0;31mServerError\u001b[0m: ERREUR 403, b'Salted__a\\xeb\\x8d\\x1c\\x1a\\n\\xd4`\\xa2\\xad\\xb0\\x0fW\\xd8c\\xb6\\xaf&\\x12\\xda<\\x0c\\x14{*\\xcd\\xb4{\\x04\\xa2Hh\\x86\\xcf\\x14L>Y\\xc4\\x9b\\xf5\\xa4\\xdf}\\x10+s\\xa6\\x92*@\\xe9\\x03\\x9d4\\xbfn\\x08\\xfaI\\xcf\\x85\\xd0\\x0b\\x14\\x13\\xd7\\x84G\\xa0\\xf7t'"
     ]
    }
   ],
   "source": [
    "action_stp('/service/hardware/action/VOLTAGE', 50, \"urgence_v\")\n",
    "decrypter_fichier('urgence_v', K)"
   ]
  },
  {
   "cell_type": "code",
   "execution_count": 28,
   "metadata": {},
   "outputs": [],
   "source": [
    "def action_stp(url, option, nom_fichier): \n",
    "    requete = {'method': 'POST', 'url': url, 'args': {'action': option}}\n",
    "    requete_json = json.dumps(requete)\n",
    "    requete_chiffre = encrypt2(requete_json, K)\n",
    "    resultat = c.post_raw(url = '/bin/gateway', data = requete_chiffre, content_type='application/octet-stream')\n",
    "    resultat = base64.b64encode(resultat).decode()\n",
    "    with open(nom_fichier, 'w') as f: \n",
    "        f.write(resultat)"
   ]
  },
  {
   "cell_type": "code",
   "execution_count": 224,
   "metadata": {},
   "outputs": [
    {
     "name": "stdout",
     "output_type": "stream",
     "text": [
      "This is the server-room emergency response service. In case of emergency,\n",
      "the data-center is shut down and all personnel is evacuated.\n",
      "\n",
      "Because this interrupts the operation of the data-center, the emergency \n",
      "procedure must only be triggered when strictly necessary. All abuse will be\n",
      "prosecuted.\n",
      "\n",
      "To trigger the emergency procedure, send a POST request to this adress, with a\n",
      "\"reason\" argument. The possible <reason> are:\n",
      "    DDOS, FIRE, MAD-TECHNICIAN, ROGUE-IA, SHORT-CIRCUIT, AC-FAILURE, HACK\n"
     ]
    }
   ],
   "source": [
    "reponse = decrypt(\"LIGHT.txt\", K)\n",
    "print(reponse)"
   ]
  },
  {
   "cell_type": "code",
   "execution_count": 273,
   "metadata": {},
   "outputs": [
    {
     "ename": "ServerError",
     "evalue": "ERREUR 400, b'Salted__Z\\xd5\\xcd\\tN\\xf9SW\\xe6\\xca\\x10\\xdaNQ\\xa8\\r\\xe8|\\x97\\xf5q_\\x80\\xc8\\xf0\\x82\\t\\xaa\\xbd\\x0c\\x02pUW\\x88\\x03x\\x00\\xb2\\x8e\\xc0\\xb8\\xdf\\xdf\\xd9:i\\x05B\\xc1\\xf2\\x06\\xee\\x00%\\xc4'",
     "output_type": "error",
     "traceback": [
      "\u001b[0;31m---------------------------------------------------------------------------\u001b[0m",
      "\u001b[0;31mServerError\u001b[0m                               Traceback (most recent call last)",
      "\u001b[0;32m<ipython-input-273-e1a9e28e2bc6>\u001b[0m in \u001b[0;36m<module>\u001b[0;34m\u001b[0m\n\u001b[0;32m----> 1\u001b[0;31m \u001b[0maction_stp\u001b[0m\u001b[0;34m(\u001b[0m\u001b[0;34m\"/service/hardware/911\"\u001b[0m\u001b[0;34m,\u001b[0m \u001b[0;34m\"FIRE\"\u001b[0m\u001b[0;34m,\u001b[0m \u001b[0;34m\"ouverture_lumiere.txt\"\u001b[0m\u001b[0;34m)\u001b[0m\u001b[0;34m\u001b[0m\u001b[0;34m\u001b[0m\u001b[0m\n\u001b[0m",
      "\u001b[0;32m<ipython-input-33-9b129a654f22>\u001b[0m in \u001b[0;36maction_stp\u001b[0;34m(url, option, nom_fichier)\u001b[0m\n\u001b[1;32m      3\u001b[0m     \u001b[0mrequete_json\u001b[0m \u001b[0;34m=\u001b[0m \u001b[0mjson\u001b[0m\u001b[0;34m.\u001b[0m\u001b[0mdumps\u001b[0m\u001b[0;34m(\u001b[0m\u001b[0mrequete\u001b[0m\u001b[0;34m)\u001b[0m\u001b[0;34m\u001b[0m\u001b[0;34m\u001b[0m\u001b[0m\n\u001b[1;32m      4\u001b[0m     \u001b[0mrequete_chiffre\u001b[0m \u001b[0;34m=\u001b[0m \u001b[0mencrypt2\u001b[0m\u001b[0;34m(\u001b[0m\u001b[0mrequete_json\u001b[0m\u001b[0;34m,\u001b[0m \u001b[0mK\u001b[0m\u001b[0;34m)\u001b[0m\u001b[0;34m\u001b[0m\u001b[0;34m\u001b[0m\u001b[0m\n\u001b[0;32m----> 5\u001b[0;31m     \u001b[0mresultat\u001b[0m \u001b[0;34m=\u001b[0m \u001b[0mc\u001b[0m\u001b[0;34m.\u001b[0m\u001b[0mpost_raw\u001b[0m\u001b[0;34m(\u001b[0m\u001b[0murl\u001b[0m \u001b[0;34m=\u001b[0m \u001b[0;34m'/bin/gateway'\u001b[0m\u001b[0;34m,\u001b[0m \u001b[0mdata\u001b[0m \u001b[0;34m=\u001b[0m \u001b[0mrequete_chiffre\u001b[0m\u001b[0;34m,\u001b[0m \u001b[0mcontent_type\u001b[0m\u001b[0;34m=\u001b[0m\u001b[0;34m'application/octet-stream'\u001b[0m\u001b[0;34m)\u001b[0m\u001b[0;34m\u001b[0m\u001b[0;34m\u001b[0m\u001b[0m\n\u001b[0m\u001b[1;32m      6\u001b[0m     \u001b[0mresultat\u001b[0m \u001b[0;34m=\u001b[0m \u001b[0mbase64\u001b[0m\u001b[0;34m.\u001b[0m\u001b[0mb64encode\u001b[0m\u001b[0;34m(\u001b[0m\u001b[0mresultat\u001b[0m\u001b[0;34m)\u001b[0m\u001b[0;34m.\u001b[0m\u001b[0mdecode\u001b[0m\u001b[0;34m(\u001b[0m\u001b[0;34m)\u001b[0m\u001b[0;34m\u001b[0m\u001b[0;34m\u001b[0m\u001b[0m\n\u001b[1;32m      7\u001b[0m     \u001b[0;32mwith\u001b[0m \u001b[0mopen\u001b[0m\u001b[0;34m(\u001b[0m\u001b[0mnom_fichier\u001b[0m\u001b[0;34m,\u001b[0m \u001b[0;34m'w'\u001b[0m\u001b[0;34m)\u001b[0m \u001b[0;32mas\u001b[0m \u001b[0mf\u001b[0m\u001b[0;34m:\u001b[0m\u001b[0;34m\u001b[0m\u001b[0;34m\u001b[0m\u001b[0m\n",
      "\u001b[0;32m<ipython-input-3-74291c68df9f>\u001b[0m in \u001b[0;36mpost_raw\u001b[0;34m(self, url, data, content_type)\u001b[0m\n\u001b[1;32m    117\u001b[0m         \u001b[0mrequest\u001b[0m \u001b[0;34m=\u001b[0m \u001b[0murllib\u001b[0m\u001b[0;34m.\u001b[0m\u001b[0mrequest\u001b[0m\u001b[0;34m.\u001b[0m\u001b[0mRequest\u001b[0m\u001b[0;34m(\u001b[0m\u001b[0mself\u001b[0m\u001b[0;34m.\u001b[0m\u001b[0m_base\u001b[0m \u001b[0;34m+\u001b[0m \u001b[0murl\u001b[0m\u001b[0;34m,\u001b[0m \u001b[0mmethod\u001b[0m\u001b[0;34m=\u001b[0m\u001b[0;34m'POST'\u001b[0m\u001b[0;34m)\u001b[0m\u001b[0;34m\u001b[0m\u001b[0;34m\u001b[0m\u001b[0m\n\u001b[1;32m    118\u001b[0m         \u001b[0mrequest\u001b[0m\u001b[0;34m.\u001b[0m\u001b[0madd_header\u001b[0m\u001b[0;34m(\u001b[0m\u001b[0;34m'Content-type'\u001b[0m\u001b[0;34m,\u001b[0m \u001b[0mcontent_type\u001b[0m\u001b[0;34m)\u001b[0m\u001b[0;34m\u001b[0m\u001b[0;34m\u001b[0m\u001b[0m\n\u001b[0;32m--> 119\u001b[0;31m         \u001b[0;32mreturn\u001b[0m \u001b[0mself\u001b[0m\u001b[0;34m.\u001b[0m\u001b[0m_query\u001b[0m\u001b[0;34m(\u001b[0m\u001b[0murl\u001b[0m\u001b[0;34m,\u001b[0m \u001b[0mrequest\u001b[0m\u001b[0;34m,\u001b[0m \u001b[0mdata\u001b[0m\u001b[0;34m)\u001b[0m\u001b[0;34m\u001b[0m\u001b[0;34m\u001b[0m\u001b[0m\n\u001b[0m\u001b[1;32m    120\u001b[0m \u001b[0;34m\u001b[0m\u001b[0m\n\u001b[1;32m    121\u001b[0m     \u001b[0;32mdef\u001b[0m \u001b[0mclose_session\u001b[0m\u001b[0;34m(\u001b[0m\u001b[0mself\u001b[0m\u001b[0;34m)\u001b[0m\u001b[0;34m:\u001b[0m\u001b[0;34m\u001b[0m\u001b[0;34m\u001b[0m\u001b[0m\n",
      "\u001b[0;32m<ipython-input-3-74291c68df9f>\u001b[0m in \u001b[0;36m_query\u001b[0;34m(self, url, request, data)\u001b[0m\n\u001b[1;32m    185\u001b[0m             \u001b[0mheaders\u001b[0m \u001b[0;34m=\u001b[0m \u001b[0mdict\u001b[0m\u001b[0;34m(\u001b[0m\u001b[0me\u001b[0m\u001b[0;34m.\u001b[0m\u001b[0mheaders\u001b[0m\u001b[0;34m)\u001b[0m\u001b[0;34m\u001b[0m\u001b[0;34m\u001b[0m\u001b[0m\n\u001b[1;32m    186\u001b[0m             \u001b[0mmessage\u001b[0m \u001b[0;34m=\u001b[0m \u001b[0me\u001b[0m\u001b[0;34m.\u001b[0m\u001b[0mread\u001b[0m\u001b[0;34m(\u001b[0m\u001b[0;34m)\u001b[0m\u001b[0;34m\u001b[0m\u001b[0;34m\u001b[0m\u001b[0m\n\u001b[0;32m--> 187\u001b[0;31m             \u001b[0;32mraise\u001b[0m \u001b[0mServerError\u001b[0m\u001b[0;34m(\u001b[0m\u001b[0me\u001b[0m\u001b[0;34m.\u001b[0m\u001b[0mcode\u001b[0m\u001b[0;34m,\u001b[0m \u001b[0mself\u001b[0m\u001b[0;34m.\u001b[0m\u001b[0m_post_process\u001b[0m\u001b[0;34m(\u001b[0m\u001b[0mmessage\u001b[0m\u001b[0;34m,\u001b[0m \u001b[0mheaders\u001b[0m\u001b[0;34m)\u001b[0m\u001b[0;34m)\u001b[0m \u001b[0;32mfrom\u001b[0m \u001b[0;32mNone\u001b[0m\u001b[0;34m\u001b[0m\u001b[0;34m\u001b[0m\u001b[0m\n\u001b[0m\u001b[1;32m    188\u001b[0m \u001b[0;34m\u001b[0m\u001b[0m\n",
      "\u001b[0;31mServerError\u001b[0m: ERREUR 400, b'Salted__Z\\xd5\\xcd\\tN\\xf9SW\\xe6\\xca\\x10\\xdaNQ\\xa8\\r\\xe8|\\x97\\xf5q_\\x80\\xc8\\xf0\\x82\\t\\xaa\\xbd\\x0c\\x02pUW\\x88\\x03x\\x00\\xb2\\x8e\\xc0\\xb8\\xdf\\xdf\\xd9:i\\x05B\\xc1\\xf2\\x06\\xee\\x00%\\xc4'"
     ]
    }
   ],
   "source": [
    "action_stp(\"/service/hardware/911\", \"FIRE\", \"ouverture_lumiere.txt\")"
   ]
  },
  {
   "cell_type": "code",
   "execution_count": 223,
   "metadata": {},
   "outputs": [],
   "source": [
    "commande_stp(\"GET\", \"/service/hardware/911\", \"LIGHT.txt\")"
   ]
  },
  {
   "cell_type": "code",
   "execution_count": 187,
   "metadata": {},
   "outputs": [
    {
     "name": "stdout",
     "output_type": "stream",
     "text": [
      "LIGHT on\n"
     ]
    }
   ],
   "source": [
    "reponse = decrypt(\"ouverture_lumiere.txt\", K)\n",
    "print(reponse)"
   ]
  },
  {
   "cell_type": "code",
   "execution_count": null,
   "metadata": {},
   "outputs": [],
   "source": [
    "requete = {'method': 'POST', 'url': url, 'args': {'reason': option}}\n",
    "requete_json = json.dumps(requete)\n",
    "requete_chiffre = encrypt2(requete_json, K)\n",
    "print(requete_chiffre)\n",
    "resultat = c.post_raw(url = '/bin/gateway', data = requete_chiffre, content_type='application/octet-stream')\n",
    "resultat = base64.b64encode(resultat).decode()\n",
    "with open(nom_fichier, 'w') as f: \n",
    "    f.write(resultat)"
   ]
  },
  {
   "cell_type": "code",
   "execution_count": 317,
   "metadata": {},
   "outputs": [
    {
     "ename": "ServerError",
     "evalue": "ERREUR 405, Method not allowed. You sent a POST method to /bin/gateway, which does not handle it.",
     "output_type": "error",
     "traceback": [
      "\u001b[0;31m---------------------------------------------------------------------------\u001b[0m",
      "\u001b[0;31mServerError\u001b[0m                               Traceback (most recent call last)",
      "\u001b[0;32m<ipython-input-317-a4a05f50c6f3>\u001b[0m in \u001b[0;36m<module>\u001b[0;34m\u001b[0m\n\u001b[0;32m----> 1\u001b[0;31m \u001b[0mcommande_stp\u001b[0m\u001b[0;34m(\u001b[0m\u001b[0;34m\"GET\"\u001b[0m\u001b[0;34m,\u001b[0m \u001b[0;34m'/service/hardware/status'\u001b[0m\u001b[0;34m,\u001b[0m \u001b[0;34m'status.txt'\u001b[0m\u001b[0;34m)\u001b[0m\u001b[0;34m\u001b[0m\u001b[0;34m\u001b[0m\u001b[0m\n\u001b[0m",
      "\u001b[0;32m<ipython-input-176-badcc7aa5a6f>\u001b[0m in \u001b[0;36mcommande_stp\u001b[0;34m(method, url, nom_fichier)\u001b[0m\n\u001b[1;32m      3\u001b[0m     \u001b[0mrequete_json\u001b[0m \u001b[0;34m=\u001b[0m \u001b[0mjson\u001b[0m\u001b[0;34m.\u001b[0m\u001b[0mdumps\u001b[0m\u001b[0;34m(\u001b[0m\u001b[0mrequete\u001b[0m\u001b[0;34m)\u001b[0m\u001b[0;34m\u001b[0m\u001b[0;34m\u001b[0m\u001b[0m\n\u001b[1;32m      4\u001b[0m     \u001b[0mrequete_chiffre\u001b[0m \u001b[0;34m=\u001b[0m \u001b[0mencrypt2\u001b[0m\u001b[0;34m(\u001b[0m\u001b[0mrequete_json\u001b[0m\u001b[0;34m,\u001b[0m \u001b[0mK\u001b[0m\u001b[0;34m)\u001b[0m\u001b[0;34m\u001b[0m\u001b[0;34m\u001b[0m\u001b[0m\n\u001b[0;32m----> 5\u001b[0;31m     \u001b[0mresultat\u001b[0m \u001b[0;34m=\u001b[0m \u001b[0mc\u001b[0m\u001b[0;34m.\u001b[0m\u001b[0mpost_raw\u001b[0m\u001b[0;34m(\u001b[0m\u001b[0murl\u001b[0m \u001b[0;34m=\u001b[0m \u001b[0;34m'/bin/gateway'\u001b[0m\u001b[0;34m,\u001b[0m \u001b[0mdata\u001b[0m \u001b[0;34m=\u001b[0m \u001b[0mrequete_chiffre\u001b[0m\u001b[0;34m,\u001b[0m \u001b[0mcontent_type\u001b[0m\u001b[0;34m=\u001b[0m\u001b[0;34m'application/octet-stream'\u001b[0m\u001b[0;34m)\u001b[0m\u001b[0;34m\u001b[0m\u001b[0;34m\u001b[0m\u001b[0m\n\u001b[0m\u001b[1;32m      6\u001b[0m     \u001b[0mresultat\u001b[0m \u001b[0;34m=\u001b[0m \u001b[0mbase64\u001b[0m\u001b[0;34m.\u001b[0m\u001b[0mb64encode\u001b[0m\u001b[0;34m(\u001b[0m\u001b[0mresultat\u001b[0m\u001b[0;34m)\u001b[0m\u001b[0;34m.\u001b[0m\u001b[0mdecode\u001b[0m\u001b[0;34m(\u001b[0m\u001b[0;34m)\u001b[0m\u001b[0;34m\u001b[0m\u001b[0;34m\u001b[0m\u001b[0m\n\u001b[1;32m      7\u001b[0m     \u001b[0;32mwith\u001b[0m \u001b[0mopen\u001b[0m\u001b[0;34m(\u001b[0m\u001b[0mnom_fichier\u001b[0m\u001b[0;34m,\u001b[0m \u001b[0;34m'w'\u001b[0m\u001b[0;34m)\u001b[0m \u001b[0;32mas\u001b[0m \u001b[0mf\u001b[0m\u001b[0;34m:\u001b[0m\u001b[0;34m\u001b[0m\u001b[0;34m\u001b[0m\u001b[0m\n",
      "\u001b[0;32m<ipython-input-3-74291c68df9f>\u001b[0m in \u001b[0;36mpost_raw\u001b[0;34m(self, url, data, content_type)\u001b[0m\n\u001b[1;32m    117\u001b[0m         \u001b[0mrequest\u001b[0m \u001b[0;34m=\u001b[0m \u001b[0murllib\u001b[0m\u001b[0;34m.\u001b[0m\u001b[0mrequest\u001b[0m\u001b[0;34m.\u001b[0m\u001b[0mRequest\u001b[0m\u001b[0;34m(\u001b[0m\u001b[0mself\u001b[0m\u001b[0;34m.\u001b[0m\u001b[0m_base\u001b[0m \u001b[0;34m+\u001b[0m \u001b[0murl\u001b[0m\u001b[0;34m,\u001b[0m \u001b[0mmethod\u001b[0m\u001b[0;34m=\u001b[0m\u001b[0;34m'POST'\u001b[0m\u001b[0;34m)\u001b[0m\u001b[0;34m\u001b[0m\u001b[0;34m\u001b[0m\u001b[0m\n\u001b[1;32m    118\u001b[0m         \u001b[0mrequest\u001b[0m\u001b[0;34m.\u001b[0m\u001b[0madd_header\u001b[0m\u001b[0;34m(\u001b[0m\u001b[0;34m'Content-type'\u001b[0m\u001b[0;34m,\u001b[0m \u001b[0mcontent_type\u001b[0m\u001b[0;34m)\u001b[0m\u001b[0;34m\u001b[0m\u001b[0;34m\u001b[0m\u001b[0m\n\u001b[0;32m--> 119\u001b[0;31m         \u001b[0;32mreturn\u001b[0m \u001b[0mself\u001b[0m\u001b[0;34m.\u001b[0m\u001b[0m_query\u001b[0m\u001b[0;34m(\u001b[0m\u001b[0murl\u001b[0m\u001b[0;34m,\u001b[0m \u001b[0mrequest\u001b[0m\u001b[0;34m,\u001b[0m \u001b[0mdata\u001b[0m\u001b[0;34m)\u001b[0m\u001b[0;34m\u001b[0m\u001b[0;34m\u001b[0m\u001b[0m\n\u001b[0m\u001b[1;32m    120\u001b[0m \u001b[0;34m\u001b[0m\u001b[0m\n\u001b[1;32m    121\u001b[0m     \u001b[0;32mdef\u001b[0m \u001b[0mclose_session\u001b[0m\u001b[0;34m(\u001b[0m\u001b[0mself\u001b[0m\u001b[0;34m)\u001b[0m\u001b[0;34m:\u001b[0m\u001b[0;34m\u001b[0m\u001b[0;34m\u001b[0m\u001b[0m\n",
      "\u001b[0;32m<ipython-input-3-74291c68df9f>\u001b[0m in \u001b[0;36m_query\u001b[0;34m(self, url, request, data)\u001b[0m\n\u001b[1;32m    185\u001b[0m             \u001b[0mheaders\u001b[0m \u001b[0;34m=\u001b[0m \u001b[0mdict\u001b[0m\u001b[0;34m(\u001b[0m\u001b[0me\u001b[0m\u001b[0;34m.\u001b[0m\u001b[0mheaders\u001b[0m\u001b[0;34m)\u001b[0m\u001b[0;34m\u001b[0m\u001b[0;34m\u001b[0m\u001b[0m\n\u001b[1;32m    186\u001b[0m             \u001b[0mmessage\u001b[0m \u001b[0;34m=\u001b[0m \u001b[0me\u001b[0m\u001b[0;34m.\u001b[0m\u001b[0mread\u001b[0m\u001b[0;34m(\u001b[0m\u001b[0;34m)\u001b[0m\u001b[0;34m\u001b[0m\u001b[0;34m\u001b[0m\u001b[0m\n\u001b[0;32m--> 187\u001b[0;31m             \u001b[0;32mraise\u001b[0m \u001b[0mServerError\u001b[0m\u001b[0;34m(\u001b[0m\u001b[0me\u001b[0m\u001b[0;34m.\u001b[0m\u001b[0mcode\u001b[0m\u001b[0;34m,\u001b[0m \u001b[0mself\u001b[0m\u001b[0;34m.\u001b[0m\u001b[0m_post_process\u001b[0m\u001b[0;34m(\u001b[0m\u001b[0mmessage\u001b[0m\u001b[0;34m,\u001b[0m \u001b[0mheaders\u001b[0m\u001b[0;34m)\u001b[0m\u001b[0;34m)\u001b[0m \u001b[0;32mfrom\u001b[0m \u001b[0;32mNone\u001b[0m\u001b[0;34m\u001b[0m\u001b[0;34m\u001b[0m\u001b[0m\n\u001b[0m\u001b[1;32m    188\u001b[0m \u001b[0;34m\u001b[0m\u001b[0m\n",
      "\u001b[0;31mServerError\u001b[0m: ERREUR 405, Method not allowed. You sent a POST method to /bin/gateway, which does not handle it."
     ]
    }
   ],
   "source": [
    "commande_stp(\"GET\", '/service/hardware/status', 'status.txt')"
   ]
  },
  {
   "cell_type": "code",
   "execution_count": 268,
   "metadata": {},
   "outputs": [
    {
     "name": "stdout",
     "output_type": "stream",
     "text": [
      "┌──────────────────────────────Server Room Layout──────────────────────────────┐\n",
      "│                                   │      │                                   │ \n",
      "│                                   │      │                                   │ \n",
      "│ ! │ ! │ ! │ ! │ o │ ! │ ! │ ! │ ! │0    f│ ! │ ! │ ! │ ! │ o │ o │ ! │ ! │ ! │ \n",
      "│───┼───┼───┼───┼───┼───┼───┼───┼───┤      ├───┼───┼───┼───┼───┼───┼───┼───┼───│ \n",
      "│   │ ! │ ! │ ! │ ! │ ! │ ! │ ! │ ! │1    e│ ! │ ! │ ! │ ! │ ! │ ! │ ! │ ! │ ! │ \n",
      "│                                   │      │                                   │ \n",
      "│                                   │      │                                   │ \n",
      "│ . │ ! │ . │ ! │ ! │ ! │ ! │ ! │ ! │2    d│ ! │ ! │ ! │ ! │ . │ ! │ ! │ ! │ ! │ \n",
      "│───┼───┼───┼───┼───┼───┼───┼───┼───┤      ├───┼───┼───┼───┼───┼───┼───┼───┼───│ \n",
      "│ ! │ ! │ o │ ! │ ! │   │ ! │ ! │ ! │3    v│ ! │ ! │ ! │ ! │ ! │ ! │ ! │ ! │   │ \n",
      "│                                   │      │                                   │ \n",
      "│                                   │      │                                   │ \n",
      "│ ! │ ! │ ! │ ! │ ! │ o │ ! │ ! │ ! │4    b│ ! │ ! │   │   │ ! │ ! │ o │ ! │ ! │ \n",
      "│───┼───┼───┼───┼───┼───┼───┼───┼───┤      ├───┼───┼───┼───┼───┼───┼───┼───┼───│ \n",
      "│ ! │ ! │ . │ ! │ ! │ ! │ ! │ ! │ ! │5    a│ ! │ ! │   │   │ ! │ ! │ ! │ ! │ ! │ \n",
      "│                                   │      │ T                                 │ \n",
      "│                                   │      │                                   │ \n",
      "│ o │ ! │ ! │ ! │ ! │ ! │ . │ ! │ ! │6    9│ ! │ ! │ ! │ ! │ ! │ ! │ ! │ ! │ ! │ \n",
      "│───┼───┼───┼───┼───┼───┼───┼───┼───┤      ├───┼───┼───┼───┼───┼───┼───┼───┼───│ \n",
      "│ ! │ ! │   │ ! │ ! │ ! │ ! │ ! │ ! │7    8│ ! │ ! │ ! │ ! │ ! │ ! │ ! │ ! │ ! │ \n",
      "│                                   │      │                                   │ \n",
      "│                                   │      │                                   │ \n",
      "└─────────────────────────────────────/──/─────────────────────────────────────┘\n",
      "                                        \n",
      "                                ┌─────────────────────Chat─────────────────────┐\n",
      "T : Technician                  │    ------ MANUAL OVERRIDE ENGAGED ------     │\n",
      "X : operating compute node      │ SERVER ROOM LOCK-DOWN                        │\n",
      "S : operating storage node      │ Ted: Hey, pal, what's up?                    │\n",
      ". : moved to maintenance area   │ SERVER VOLTAGE at 200%                       │\n",
      "o : powered off                 │ Ted: What the fuck, man, get back to your    │\n",
      "? : unknown status              │ .... senses and stop this shit! Hey, what is │\n",
      "! : hardware failure            │ .... that smoke comin --- THE SERVERS ARE    │\n",
      "                                │ .... TAKING ON FIRE, OPEN THE DAMN 0xa DOOR! │\n",
      "                                └──────────────────────────────────────────────┘\n"
     ]
    }
   ],
   "source": [
    "reponse = decrypt(\"status.txt\", K)\n",
    "print(reponse)"
   ]
  },
  {
   "cell_type": "code",
   "execution_count": 295,
   "metadata": {},
   "outputs": [],
   "source": [
    "commande_stp(\"GET\", \"/service/hardware/action/SERVER-GROUP\", \"SERVER_GROUP.txt\")"
   ]
  },
  {
   "cell_type": "code",
   "execution_count": 297,
   "metadata": {},
   "outputs": [
    {
     "name": "stdout",
     "output_type": "stream",
     "text": [
      "Possible values: lock / unlock.\n",
      "Additional required argument: \"n\" (the number of the server group).\n"
     ]
    }
   ],
   "source": [
    "reponse = decrypt(\"SERVER_GROUP.txt\", K)\n",
    "print(reponse)"
   ]
  },
  {
   "cell_type": "code",
   "execution_count": 231,
   "metadata": {},
   "outputs": [],
   "source": []
  },
  {
   "cell_type": "code",
   "execution_count": 281,
   "metadata": {},
   "outputs": [
    {
     "name": "stdout",
     "output_type": "stream",
     "text": [
      "b'Salted__\\xbdV\\xa5\\x08\\x03\\xa0\\xcd\\xbf\\x1d\\x14P\\x89\\xb6\\xa8\\xefK\\xe6ny\\x9c\\xad%\\xa6SR\\x89\\xe9\\x7fu\\xf6\\xf0\\x0cc\\xbd\\x8e0\\x93\\x8f\\xcb\\xa9Q\\x8e\\xba-\\xbas\\x1f\\xads\\xa77\\x89%\\xab\\xaa\\x9c8(\\xa4T6\\x90ed!\\x9c\\x04\\xe8@^\\xb9\\xbe\\xa5WSa\\x0b\\xf9q\\x8a\\xed\\x938Q\\xc6\\x94\\xca\\x85t\\x82\\xb3\\xe8 s\\x03\\xdcg\\xdb\\xadA1\\x805{'\n"
     ]
    },
    {
     "ename": "ServerError",
     "evalue": "ERREUR 403, b'Salted__\\xa9B\\xfc\\x10}{\\xd6\\x8doL\\x16;\\xa4\\xa1s1V-\\xa1|\\xc28D\\xf0]\\xd6\\x1a\\x8e\\n\\xb5\\x7f\\x02Vu\\x08A`\\xd6\\x7f\\xda\\x84\\x1c:\\x99\\x81O\\xc73_\\xab\\xf8\\xbdb\\xe0\\xeeD\\xea\\xdc\\xf6\\xa8\\x8a\\xe43!\\x86\\xc7\\xbe\\xcfu\\x89\\xa3\\xc5'",
     "output_type": "error",
     "traceback": [
      "\u001b[0;31m---------------------------------------------------------------------------\u001b[0m",
      "\u001b[0;31mServerError\u001b[0m                               Traceback (most recent call last)",
      "\u001b[0;32m<ipython-input-281-df58dfa4f78b>\u001b[0m in \u001b[0;36m<module>\u001b[0;34m\u001b[0m\n\u001b[0;32m----> 1\u001b[0;31m \u001b[0maction_serveur\u001b[0m\u001b[0;34m(\u001b[0m\u001b[0;34m\"/service/hardware/911\"\u001b[0m\u001b[0;34m,\u001b[0m \u001b[0;34m\"MAD-TECHNICIAN\"\u001b[0m\u001b[0;34m,\u001b[0m\u001b[0;34m\"SERVER_GROUP.txt\"\u001b[0m\u001b[0;34m)\u001b[0m\u001b[0;34m\u001b[0m\u001b[0;34m\u001b[0m\u001b[0m\n\u001b[0m",
      "\u001b[0;32m<ipython-input-231-368e9cb85789>\u001b[0m in \u001b[0;36maction_serveur\u001b[0;34m(url, option, nom_fichier)\u001b[0m\n\u001b[1;32m      4\u001b[0m     \u001b[0mrequete_chiffre\u001b[0m \u001b[0;34m=\u001b[0m \u001b[0mencrypt2\u001b[0m\u001b[0;34m(\u001b[0m\u001b[0mrequete_json\u001b[0m\u001b[0;34m,\u001b[0m \u001b[0mK\u001b[0m\u001b[0;34m)\u001b[0m\u001b[0;34m\u001b[0m\u001b[0;34m\u001b[0m\u001b[0m\n\u001b[1;32m      5\u001b[0m     \u001b[0mprint\u001b[0m\u001b[0;34m(\u001b[0m\u001b[0mrequete_chiffre\u001b[0m\u001b[0;34m)\u001b[0m\u001b[0;34m\u001b[0m\u001b[0;34m\u001b[0m\u001b[0m\n\u001b[0;32m----> 6\u001b[0;31m     \u001b[0mresultat\u001b[0m \u001b[0;34m=\u001b[0m \u001b[0mc\u001b[0m\u001b[0;34m.\u001b[0m\u001b[0mpost_raw\u001b[0m\u001b[0;34m(\u001b[0m\u001b[0murl\u001b[0m \u001b[0;34m=\u001b[0m \u001b[0;34m'/bin/gateway'\u001b[0m\u001b[0;34m,\u001b[0m \u001b[0mdata\u001b[0m \u001b[0;34m=\u001b[0m \u001b[0mrequete_chiffre\u001b[0m\u001b[0;34m,\u001b[0m \u001b[0mcontent_type\u001b[0m\u001b[0;34m=\u001b[0m\u001b[0;34m'application/octet-stream'\u001b[0m\u001b[0;34m)\u001b[0m\u001b[0;34m\u001b[0m\u001b[0;34m\u001b[0m\u001b[0m\n\u001b[0m\u001b[1;32m      7\u001b[0m     \u001b[0mresultat\u001b[0m \u001b[0;34m=\u001b[0m \u001b[0mbase64\u001b[0m\u001b[0;34m.\u001b[0m\u001b[0mb64encode\u001b[0m\u001b[0;34m(\u001b[0m\u001b[0mresultat\u001b[0m\u001b[0;34m)\u001b[0m\u001b[0;34m.\u001b[0m\u001b[0mdecode\u001b[0m\u001b[0;34m(\u001b[0m\u001b[0;34m)\u001b[0m\u001b[0;34m\u001b[0m\u001b[0;34m\u001b[0m\u001b[0m\n\u001b[1;32m      8\u001b[0m     \u001b[0;32mwith\u001b[0m \u001b[0mopen\u001b[0m\u001b[0;34m(\u001b[0m\u001b[0mnom_fichier\u001b[0m\u001b[0;34m,\u001b[0m \u001b[0;34m'w'\u001b[0m\u001b[0;34m)\u001b[0m \u001b[0;32mas\u001b[0m \u001b[0mf\u001b[0m\u001b[0;34m:\u001b[0m\u001b[0;34m\u001b[0m\u001b[0;34m\u001b[0m\u001b[0m\n",
      "\u001b[0;32m<ipython-input-3-74291c68df9f>\u001b[0m in \u001b[0;36mpost_raw\u001b[0;34m(self, url, data, content_type)\u001b[0m\n\u001b[1;32m    117\u001b[0m         \u001b[0mrequest\u001b[0m \u001b[0;34m=\u001b[0m \u001b[0murllib\u001b[0m\u001b[0;34m.\u001b[0m\u001b[0mrequest\u001b[0m\u001b[0;34m.\u001b[0m\u001b[0mRequest\u001b[0m\u001b[0;34m(\u001b[0m\u001b[0mself\u001b[0m\u001b[0;34m.\u001b[0m\u001b[0m_base\u001b[0m \u001b[0;34m+\u001b[0m \u001b[0murl\u001b[0m\u001b[0;34m,\u001b[0m \u001b[0mmethod\u001b[0m\u001b[0;34m=\u001b[0m\u001b[0;34m'POST'\u001b[0m\u001b[0;34m)\u001b[0m\u001b[0;34m\u001b[0m\u001b[0;34m\u001b[0m\u001b[0m\n\u001b[1;32m    118\u001b[0m         \u001b[0mrequest\u001b[0m\u001b[0;34m.\u001b[0m\u001b[0madd_header\u001b[0m\u001b[0;34m(\u001b[0m\u001b[0;34m'Content-type'\u001b[0m\u001b[0;34m,\u001b[0m \u001b[0mcontent_type\u001b[0m\u001b[0;34m)\u001b[0m\u001b[0;34m\u001b[0m\u001b[0;34m\u001b[0m\u001b[0m\n\u001b[0;32m--> 119\u001b[0;31m         \u001b[0;32mreturn\u001b[0m \u001b[0mself\u001b[0m\u001b[0;34m.\u001b[0m\u001b[0m_query\u001b[0m\u001b[0;34m(\u001b[0m\u001b[0murl\u001b[0m\u001b[0;34m,\u001b[0m \u001b[0mrequest\u001b[0m\u001b[0;34m,\u001b[0m \u001b[0mdata\u001b[0m\u001b[0;34m)\u001b[0m\u001b[0;34m\u001b[0m\u001b[0;34m\u001b[0m\u001b[0m\n\u001b[0m\u001b[1;32m    120\u001b[0m \u001b[0;34m\u001b[0m\u001b[0m\n\u001b[1;32m    121\u001b[0m     \u001b[0;32mdef\u001b[0m \u001b[0mclose_session\u001b[0m\u001b[0;34m(\u001b[0m\u001b[0mself\u001b[0m\u001b[0;34m)\u001b[0m\u001b[0;34m:\u001b[0m\u001b[0;34m\u001b[0m\u001b[0;34m\u001b[0m\u001b[0m\n",
      "\u001b[0;32m<ipython-input-3-74291c68df9f>\u001b[0m in \u001b[0;36m_query\u001b[0;34m(self, url, request, data)\u001b[0m\n\u001b[1;32m    185\u001b[0m             \u001b[0mheaders\u001b[0m \u001b[0;34m=\u001b[0m \u001b[0mdict\u001b[0m\u001b[0;34m(\u001b[0m\u001b[0me\u001b[0m\u001b[0;34m.\u001b[0m\u001b[0mheaders\u001b[0m\u001b[0;34m)\u001b[0m\u001b[0;34m\u001b[0m\u001b[0;34m\u001b[0m\u001b[0m\n\u001b[1;32m    186\u001b[0m             \u001b[0mmessage\u001b[0m \u001b[0;34m=\u001b[0m \u001b[0me\u001b[0m\u001b[0;34m.\u001b[0m\u001b[0mread\u001b[0m\u001b[0;34m(\u001b[0m\u001b[0;34m)\u001b[0m\u001b[0;34m\u001b[0m\u001b[0;34m\u001b[0m\u001b[0m\n\u001b[0;32m--> 187\u001b[0;31m             \u001b[0;32mraise\u001b[0m \u001b[0mServerError\u001b[0m\u001b[0;34m(\u001b[0m\u001b[0me\u001b[0m\u001b[0;34m.\u001b[0m\u001b[0mcode\u001b[0m\u001b[0;34m,\u001b[0m \u001b[0mself\u001b[0m\u001b[0;34m.\u001b[0m\u001b[0m_post_process\u001b[0m\u001b[0;34m(\u001b[0m\u001b[0mmessage\u001b[0m\u001b[0;34m,\u001b[0m \u001b[0mheaders\u001b[0m\u001b[0;34m)\u001b[0m\u001b[0;34m)\u001b[0m \u001b[0;32mfrom\u001b[0m \u001b[0;32mNone\u001b[0m\u001b[0;34m\u001b[0m\u001b[0;34m\u001b[0m\u001b[0m\n\u001b[0m\u001b[1;32m    188\u001b[0m \u001b[0;34m\u001b[0m\u001b[0m\n",
      "\u001b[0;31mServerError\u001b[0m: ERREUR 403, b'Salted__\\xa9B\\xfc\\x10}{\\xd6\\x8doL\\x16;\\xa4\\xa1s1V-\\xa1|\\xc28D\\xf0]\\xd6\\x1a\\x8e\\n\\xb5\\x7f\\x02Vu\\x08A`\\xd6\\x7f\\xda\\x84\\x1c:\\x99\\x81O\\xc73_\\xab\\xf8\\xbdb\\xe0\\xeeD\\xea\\xdc\\xf6\\xa8\\x8a\\xe43!\\x86\\xc7\\xbe\\xcfu\\x89\\xa3\\xc5'"
     ]
    }
   ],
   "source": [
    "action_serveur(\"/service/hardware/911\", \"MAD-TECHNICIAN\",\"SERVER_GROUP.txt\")"
   ]
  },
  {
   "cell_type": "code",
   "execution_count": 282,
   "metadata": {},
   "outputs": [],
   "source": [
    "resultat = b'Salted__\\xa9B\\xfc\\x10}{\\xd6\\x8doL\\x16;\\xa4\\xa1s1V-\\xa1|\\xc28D\\xf0]\\xd6\\x1a\\x8e\\n\\xb5\\x7f\\x02Vu\\x08A`\\xd6\\x7f\\xda\\x84\\x1c:\\x99\\x81O\\xc73_\\xab\\xf8\\xbdb\\xe0\\xeeD\\xea\\xdc\\xf6\\xa8\\x8a\\xe43!\\x86\\xc7\\xbe\\xcfu\\x89\\xa3\\xc5'\n"
   ]
  },
  {
   "cell_type": "code",
   "execution_count": 284,
   "metadata": {},
   "outputs": [
    {
     "name": "stdout",
     "output_type": "stream",
     "text": [
      "Emergency denied. No reason to do so. You will be sued!\n"
     ]
    }
   ],
   "source": [
    "#resultat = base64.b64encode(resultat).decode()\n",
    "#with open(\"serveur.txt\", 'w') as f: \n",
    "#    f.write(resultat)\n",
    "reponse = decrypt(\"serveur.txt\", K)\n",
    "print(reponse)"
   ]
  },
  {
   "cell_type": "code",
   "execution_count": 269,
   "metadata": {},
   "outputs": [
    {
     "ename": "ServerError",
     "evalue": "ERREUR 403, b\"Salted__\\x8c\\xc8\\xdc8vQ\\x0f\\xc1\\x0f\\xf2?6\\x1e\\x05Y\\xb1V\\xe2s{\\x05\\xc7\\x07}Z\\x93v\\xcb\\x916\\x9e\\xd8\\x93x#=\\xa7\\\\*\\ti6\\x91)\\x12'S\\xf1f,\\n\\xebF\\x14\\x9cxP1\\x14\\xbc\\x08\\xd0\\xd3\\xf3W\\x18\\x8a\\xe3\\xcfk\\x19\\x8a\"",
     "output_type": "error",
     "traceback": [
      "\u001b[0;31m---------------------------------------------------------------------------\u001b[0m",
      "\u001b[0;31mServerError\u001b[0m                               Traceback (most recent call last)",
      "\u001b[0;32m<ipython-input-269-1806acef2fe8>\u001b[0m in \u001b[0;36m<module>\u001b[0;34m\u001b[0m\n\u001b[0;32m----> 1\u001b[0;31m \u001b[0maction_stp\u001b[0m\u001b[0;34m(\u001b[0m\u001b[0;34m\"/service/hardware/action/DOOR\"\u001b[0m\u001b[0;34m,\u001b[0m \u001b[0;34m\"unlock\"\u001b[0m\u001b[0;34m,\u001b[0m \u001b[0;34m\"ouverture.txt\"\u001b[0m\u001b[0;34m)\u001b[0m\u001b[0;34m\u001b[0m\u001b[0;34m\u001b[0m\u001b[0m\n\u001b[0m",
      "\u001b[0;32m<ipython-input-33-9b129a654f22>\u001b[0m in \u001b[0;36maction_stp\u001b[0;34m(url, option, nom_fichier)\u001b[0m\n\u001b[1;32m      3\u001b[0m     \u001b[0mrequete_json\u001b[0m \u001b[0;34m=\u001b[0m \u001b[0mjson\u001b[0m\u001b[0;34m.\u001b[0m\u001b[0mdumps\u001b[0m\u001b[0;34m(\u001b[0m\u001b[0mrequete\u001b[0m\u001b[0;34m)\u001b[0m\u001b[0;34m\u001b[0m\u001b[0;34m\u001b[0m\u001b[0m\n\u001b[1;32m      4\u001b[0m     \u001b[0mrequete_chiffre\u001b[0m \u001b[0;34m=\u001b[0m \u001b[0mencrypt2\u001b[0m\u001b[0;34m(\u001b[0m\u001b[0mrequete_json\u001b[0m\u001b[0;34m,\u001b[0m \u001b[0mK\u001b[0m\u001b[0;34m)\u001b[0m\u001b[0;34m\u001b[0m\u001b[0;34m\u001b[0m\u001b[0m\n\u001b[0;32m----> 5\u001b[0;31m     \u001b[0mresultat\u001b[0m \u001b[0;34m=\u001b[0m \u001b[0mc\u001b[0m\u001b[0;34m.\u001b[0m\u001b[0mpost_raw\u001b[0m\u001b[0;34m(\u001b[0m\u001b[0murl\u001b[0m \u001b[0;34m=\u001b[0m \u001b[0;34m'/bin/gateway'\u001b[0m\u001b[0;34m,\u001b[0m \u001b[0mdata\u001b[0m \u001b[0;34m=\u001b[0m \u001b[0mrequete_chiffre\u001b[0m\u001b[0;34m,\u001b[0m \u001b[0mcontent_type\u001b[0m\u001b[0;34m=\u001b[0m\u001b[0;34m'application/octet-stream'\u001b[0m\u001b[0;34m)\u001b[0m\u001b[0;34m\u001b[0m\u001b[0;34m\u001b[0m\u001b[0m\n\u001b[0m\u001b[1;32m      6\u001b[0m     \u001b[0mresultat\u001b[0m \u001b[0;34m=\u001b[0m \u001b[0mbase64\u001b[0m\u001b[0;34m.\u001b[0m\u001b[0mb64encode\u001b[0m\u001b[0;34m(\u001b[0m\u001b[0mresultat\u001b[0m\u001b[0;34m)\u001b[0m\u001b[0;34m.\u001b[0m\u001b[0mdecode\u001b[0m\u001b[0;34m(\u001b[0m\u001b[0;34m)\u001b[0m\u001b[0;34m\u001b[0m\u001b[0;34m\u001b[0m\u001b[0m\n\u001b[1;32m      7\u001b[0m     \u001b[0;32mwith\u001b[0m \u001b[0mopen\u001b[0m\u001b[0;34m(\u001b[0m\u001b[0mnom_fichier\u001b[0m\u001b[0;34m,\u001b[0m \u001b[0;34m'w'\u001b[0m\u001b[0;34m)\u001b[0m \u001b[0;32mas\u001b[0m \u001b[0mf\u001b[0m\u001b[0;34m:\u001b[0m\u001b[0;34m\u001b[0m\u001b[0;34m\u001b[0m\u001b[0m\n",
      "\u001b[0;32m<ipython-input-3-74291c68df9f>\u001b[0m in \u001b[0;36mpost_raw\u001b[0;34m(self, url, data, content_type)\u001b[0m\n\u001b[1;32m    117\u001b[0m         \u001b[0mrequest\u001b[0m \u001b[0;34m=\u001b[0m \u001b[0murllib\u001b[0m\u001b[0;34m.\u001b[0m\u001b[0mrequest\u001b[0m\u001b[0;34m.\u001b[0m\u001b[0mRequest\u001b[0m\u001b[0;34m(\u001b[0m\u001b[0mself\u001b[0m\u001b[0;34m.\u001b[0m\u001b[0m_base\u001b[0m \u001b[0;34m+\u001b[0m \u001b[0murl\u001b[0m\u001b[0;34m,\u001b[0m \u001b[0mmethod\u001b[0m\u001b[0;34m=\u001b[0m\u001b[0;34m'POST'\u001b[0m\u001b[0;34m)\u001b[0m\u001b[0;34m\u001b[0m\u001b[0;34m\u001b[0m\u001b[0m\n\u001b[1;32m    118\u001b[0m         \u001b[0mrequest\u001b[0m\u001b[0;34m.\u001b[0m\u001b[0madd_header\u001b[0m\u001b[0;34m(\u001b[0m\u001b[0;34m'Content-type'\u001b[0m\u001b[0;34m,\u001b[0m \u001b[0mcontent_type\u001b[0m\u001b[0;34m)\u001b[0m\u001b[0;34m\u001b[0m\u001b[0;34m\u001b[0m\u001b[0m\n\u001b[0;32m--> 119\u001b[0;31m         \u001b[0;32mreturn\u001b[0m \u001b[0mself\u001b[0m\u001b[0;34m.\u001b[0m\u001b[0m_query\u001b[0m\u001b[0;34m(\u001b[0m\u001b[0murl\u001b[0m\u001b[0;34m,\u001b[0m \u001b[0mrequest\u001b[0m\u001b[0;34m,\u001b[0m \u001b[0mdata\u001b[0m\u001b[0;34m)\u001b[0m\u001b[0;34m\u001b[0m\u001b[0;34m\u001b[0m\u001b[0m\n\u001b[0m\u001b[1;32m    120\u001b[0m \u001b[0;34m\u001b[0m\u001b[0m\n\u001b[1;32m    121\u001b[0m     \u001b[0;32mdef\u001b[0m \u001b[0mclose_session\u001b[0m\u001b[0;34m(\u001b[0m\u001b[0mself\u001b[0m\u001b[0;34m)\u001b[0m\u001b[0;34m:\u001b[0m\u001b[0;34m\u001b[0m\u001b[0;34m\u001b[0m\u001b[0m\n",
      "\u001b[0;32m<ipython-input-3-74291c68df9f>\u001b[0m in \u001b[0;36m_query\u001b[0;34m(self, url, request, data)\u001b[0m\n\u001b[1;32m    185\u001b[0m             \u001b[0mheaders\u001b[0m \u001b[0;34m=\u001b[0m \u001b[0mdict\u001b[0m\u001b[0;34m(\u001b[0m\u001b[0me\u001b[0m\u001b[0;34m.\u001b[0m\u001b[0mheaders\u001b[0m\u001b[0;34m)\u001b[0m\u001b[0;34m\u001b[0m\u001b[0;34m\u001b[0m\u001b[0m\n\u001b[1;32m    186\u001b[0m             \u001b[0mmessage\u001b[0m \u001b[0;34m=\u001b[0m \u001b[0me\u001b[0m\u001b[0;34m.\u001b[0m\u001b[0mread\u001b[0m\u001b[0;34m(\u001b[0m\u001b[0;34m)\u001b[0m\u001b[0;34m\u001b[0m\u001b[0;34m\u001b[0m\u001b[0m\n\u001b[0;32m--> 187\u001b[0;31m             \u001b[0;32mraise\u001b[0m \u001b[0mServerError\u001b[0m\u001b[0;34m(\u001b[0m\u001b[0me\u001b[0m\u001b[0;34m.\u001b[0m\u001b[0mcode\u001b[0m\u001b[0;34m,\u001b[0m \u001b[0mself\u001b[0m\u001b[0;34m.\u001b[0m\u001b[0m_post_process\u001b[0m\u001b[0;34m(\u001b[0m\u001b[0mmessage\u001b[0m\u001b[0;34m,\u001b[0m \u001b[0mheaders\u001b[0m\u001b[0;34m)\u001b[0m\u001b[0;34m)\u001b[0m \u001b[0;32mfrom\u001b[0m \u001b[0;32mNone\u001b[0m\u001b[0;34m\u001b[0m\u001b[0;34m\u001b[0m\u001b[0m\n\u001b[0m\u001b[1;32m    188\u001b[0m \u001b[0;34m\u001b[0m\u001b[0m\n",
      "\u001b[0;31mServerError\u001b[0m: ERREUR 403, b\"Salted__\\x8c\\xc8\\xdc8vQ\\x0f\\xc1\\x0f\\xf2?6\\x1e\\x05Y\\xb1V\\xe2s{\\x05\\xc7\\x07}Z\\x93v\\xcb\\x916\\x9e\\xd8\\x93x#=\\xa7\\\\*\\ti6\\x91)\\x12'S\\xf1f,\\n\\xebF\\x14\\x9cxP1\\x14\\xbc\\x08\\xd0\\xd3\\xf3W\\x18\\x8a\\xe3\\xcfk\\x19\\x8a\""
     ]
    }
   ],
   "source": [
    "action_stp(\"/service/hardware/action/DOOR\", \"unlock\", \"ouverture.txt\")"
   ]
  },
  {
   "cell_type": "code",
   "execution_count": 265,
   "metadata": {},
   "outputs": [
    {
     "name": "stdout",
     "output_type": "stream",
     "text": [
      "AIR CONDITIONNING on\n"
     ]
    }
   ],
   "source": [
    "reponse = decrypt(\"ouverture.txt\", K)\n",
    "print(reponse)"
   ]
  },
  {
   "cell_type": "code",
   "execution_count": 276,
   "metadata": {},
   "outputs": [
    {
     "ename": "ServerError",
     "evalue": "ERREUR 403, b'Salted__\\x8cUL\\n\\xa2\\xe9s3\\x8b\\xb1\\xc0-\\xa8\\xfe!{\\xff\\x93C\\x8c\\xcbxk\\xe2Q($\\xcf\\x1b?\\\\[H\\xc9\"\\xd7 r\\x1c]\\x81\\xa5\\xc9\\xfdkY\\xae\\xff\\xef\\x89\\xe9;\\x8d\\xb2m\\xb5A\\x04s\\x82\\xd9|G\\xea\\x8b;\",\\xcb1d\\xa3'",
     "output_type": "error",
     "traceback": [
      "\u001b[0;31m---------------------------------------------------------------------------\u001b[0m",
      "\u001b[0;31mServerError\u001b[0m                               Traceback (most recent call last)",
      "\u001b[0;32m<ipython-input-276-c5c3ae903677>\u001b[0m in \u001b[0;36m<module>\u001b[0;34m\u001b[0m\n\u001b[1;32m      2\u001b[0m \u001b[0mrequete_json\u001b[0m \u001b[0;34m=\u001b[0m \u001b[0mjson\u001b[0m\u001b[0;34m.\u001b[0m\u001b[0mdumps\u001b[0m\u001b[0;34m(\u001b[0m\u001b[0mrequete\u001b[0m\u001b[0;34m)\u001b[0m\u001b[0;34m\u001b[0m\u001b[0;34m\u001b[0m\u001b[0m\n\u001b[1;32m      3\u001b[0m \u001b[0mrequete_chiffre\u001b[0m \u001b[0;34m=\u001b[0m \u001b[0mencrypt2\u001b[0m\u001b[0;34m(\u001b[0m\u001b[0mrequete_json\u001b[0m\u001b[0;34m,\u001b[0m \u001b[0mK\u001b[0m\u001b[0;34m)\u001b[0m\u001b[0;34m\u001b[0m\u001b[0;34m\u001b[0m\u001b[0m\n\u001b[0;32m----> 4\u001b[0;31m \u001b[0mresultat\u001b[0m \u001b[0;34m=\u001b[0m \u001b[0mc\u001b[0m\u001b[0;34m.\u001b[0m\u001b[0mpost_raw\u001b[0m\u001b[0;34m(\u001b[0m\u001b[0murl\u001b[0m \u001b[0;34m=\u001b[0m \u001b[0;34m'/bin/gateway'\u001b[0m\u001b[0;34m,\u001b[0m \u001b[0mdata\u001b[0m \u001b[0;34m=\u001b[0m \u001b[0mrequete_chiffre\u001b[0m\u001b[0;34m,\u001b[0m \u001b[0mcontent_type\u001b[0m\u001b[0;34m=\u001b[0m\u001b[0;34m'application/octet-stream'\u001b[0m\u001b[0;34m)\u001b[0m\u001b[0;34m\u001b[0m\u001b[0;34m\u001b[0m\u001b[0m\n\u001b[0m\u001b[1;32m      5\u001b[0m \u001b[0mresultat\u001b[0m \u001b[0;34m=\u001b[0m \u001b[0mbase64\u001b[0m\u001b[0;34m.\u001b[0m\u001b[0mb64encode\u001b[0m\u001b[0;34m(\u001b[0m\u001b[0mresultat\u001b[0m\u001b[0;34m)\u001b[0m\u001b[0;34m.\u001b[0m\u001b[0mdecode\u001b[0m\u001b[0;34m(\u001b[0m\u001b[0;34m)\u001b[0m\u001b[0;34m\u001b[0m\u001b[0;34m\u001b[0m\u001b[0m\n\u001b[1;32m      6\u001b[0m \u001b[0;32mwith\u001b[0m \u001b[0mopen\u001b[0m\u001b[0;34m(\u001b[0m\u001b[0;34m\"ll.txt\"\u001b[0m\u001b[0;34m,\u001b[0m \u001b[0;34m'w'\u001b[0m\u001b[0;34m)\u001b[0m \u001b[0;32mas\u001b[0m \u001b[0mf\u001b[0m\u001b[0;34m:\u001b[0m\u001b[0;34m\u001b[0m\u001b[0;34m\u001b[0m\u001b[0m\n",
      "\u001b[0;32m<ipython-input-3-74291c68df9f>\u001b[0m in \u001b[0;36mpost_raw\u001b[0;34m(self, url, data, content_type)\u001b[0m\n\u001b[1;32m    117\u001b[0m         \u001b[0mrequest\u001b[0m \u001b[0;34m=\u001b[0m \u001b[0murllib\u001b[0m\u001b[0;34m.\u001b[0m\u001b[0mrequest\u001b[0m\u001b[0;34m.\u001b[0m\u001b[0mRequest\u001b[0m\u001b[0;34m(\u001b[0m\u001b[0mself\u001b[0m\u001b[0;34m.\u001b[0m\u001b[0m_base\u001b[0m \u001b[0;34m+\u001b[0m \u001b[0murl\u001b[0m\u001b[0;34m,\u001b[0m \u001b[0mmethod\u001b[0m\u001b[0;34m=\u001b[0m\u001b[0;34m'POST'\u001b[0m\u001b[0;34m)\u001b[0m\u001b[0;34m\u001b[0m\u001b[0;34m\u001b[0m\u001b[0m\n\u001b[1;32m    118\u001b[0m         \u001b[0mrequest\u001b[0m\u001b[0;34m.\u001b[0m\u001b[0madd_header\u001b[0m\u001b[0;34m(\u001b[0m\u001b[0;34m'Content-type'\u001b[0m\u001b[0;34m,\u001b[0m \u001b[0mcontent_type\u001b[0m\u001b[0;34m)\u001b[0m\u001b[0;34m\u001b[0m\u001b[0;34m\u001b[0m\u001b[0m\n\u001b[0;32m--> 119\u001b[0;31m         \u001b[0;32mreturn\u001b[0m \u001b[0mself\u001b[0m\u001b[0;34m.\u001b[0m\u001b[0m_query\u001b[0m\u001b[0;34m(\u001b[0m\u001b[0murl\u001b[0m\u001b[0;34m,\u001b[0m \u001b[0mrequest\u001b[0m\u001b[0;34m,\u001b[0m \u001b[0mdata\u001b[0m\u001b[0;34m)\u001b[0m\u001b[0;34m\u001b[0m\u001b[0;34m\u001b[0m\u001b[0m\n\u001b[0m\u001b[1;32m    120\u001b[0m \u001b[0;34m\u001b[0m\u001b[0m\n\u001b[1;32m    121\u001b[0m     \u001b[0;32mdef\u001b[0m \u001b[0mclose_session\u001b[0m\u001b[0;34m(\u001b[0m\u001b[0mself\u001b[0m\u001b[0;34m)\u001b[0m\u001b[0;34m:\u001b[0m\u001b[0;34m\u001b[0m\u001b[0;34m\u001b[0m\u001b[0m\n",
      "\u001b[0;32m<ipython-input-3-74291c68df9f>\u001b[0m in \u001b[0;36m_query\u001b[0;34m(self, url, request, data)\u001b[0m\n\u001b[1;32m    185\u001b[0m             \u001b[0mheaders\u001b[0m \u001b[0;34m=\u001b[0m \u001b[0mdict\u001b[0m\u001b[0;34m(\u001b[0m\u001b[0me\u001b[0m\u001b[0;34m.\u001b[0m\u001b[0mheaders\u001b[0m\u001b[0;34m)\u001b[0m\u001b[0;34m\u001b[0m\u001b[0;34m\u001b[0m\u001b[0m\n\u001b[1;32m    186\u001b[0m             \u001b[0mmessage\u001b[0m \u001b[0;34m=\u001b[0m \u001b[0me\u001b[0m\u001b[0;34m.\u001b[0m\u001b[0mread\u001b[0m\u001b[0;34m(\u001b[0m\u001b[0;34m)\u001b[0m\u001b[0;34m\u001b[0m\u001b[0;34m\u001b[0m\u001b[0m\n\u001b[0;32m--> 187\u001b[0;31m             \u001b[0;32mraise\u001b[0m \u001b[0mServerError\u001b[0m\u001b[0;34m(\u001b[0m\u001b[0me\u001b[0m\u001b[0;34m.\u001b[0m\u001b[0mcode\u001b[0m\u001b[0;34m,\u001b[0m \u001b[0mself\u001b[0m\u001b[0;34m.\u001b[0m\u001b[0m_post_process\u001b[0m\u001b[0;34m(\u001b[0m\u001b[0mmessage\u001b[0m\u001b[0;34m,\u001b[0m \u001b[0mheaders\u001b[0m\u001b[0;34m)\u001b[0m\u001b[0;34m)\u001b[0m \u001b[0;32mfrom\u001b[0m \u001b[0;32mNone\u001b[0m\u001b[0;34m\u001b[0m\u001b[0;34m\u001b[0m\u001b[0m\n\u001b[0m\u001b[1;32m    188\u001b[0m \u001b[0;34m\u001b[0m\u001b[0m\n",
      "\u001b[0;31mServerError\u001b[0m: ERREUR 403, b'Salted__\\x8cUL\\n\\xa2\\xe9s3\\x8b\\xb1\\xc0-\\xa8\\xfe!{\\xff\\x93C\\x8c\\xcbxk\\xe2Q($\\xcf\\x1b?\\\\[H\\xc9\"\\xd7 r\\x1c]\\x81\\xa5\\xc9\\xfdkY\\xae\\xff\\xef\\x89\\xe9;\\x8d\\xb2m\\xb5A\\x04s\\x82\\xd9|G\\xea\\x8b;\",\\xcb1d\\xa3'"
     ]
    }
   ],
   "source": [
    "requete = {'method': 'POST', 'url': \"/service/hardware/911\", 'args': {'reason': \"FIRE\"}}\n",
    "requete_json = json.dumps(requete)\n",
    "requete_chiffre = encrypt2(requete_json, K)\n",
    "resultat = c.post_raw(url = '/bin/gateway', data = requete_chiffre, content_type='application/octet-stream')\n",
    "resultat = base64.b64encode(resultat).decode()\n",
    "with open(\"ll.txt\", 'w') as f: \n",
    "    f.write(resultat)"
   ]
  },
  {
   "cell_type": "code",
   "execution_count": 312,
   "metadata": {},
   "outputs": [],
   "source": [
    "requete = {'method': 'POST', 'url': \"/service/hardware/action/SERVER-GROUP\", 'args': {'action': \"unlock\", \"n\": 0xa}}\n",
    "requete_json = json.dumps(requete)\n",
    "requete_chiffre = encrypt2(requete_json, K)"
   ]
  },
  {
   "cell_type": "code",
   "execution_count": 313,
   "metadata": {},
   "outputs": [
    {
     "ename": "ServerError",
     "evalue": "ERREUR 403, b'Salted__\\xaetvmu\\xbf{\\xf7|C\\xb4\\x94\\xfb5\\x00lT\\xd9\\x9a\\xea\\xb1T\\xe2\\x0b\\xeb\\xdc\\x99\\xe4\\xfdpe\\x11\\xe8f\\x17\\xb9\\x9aK\\xe1\\xd9E\\x8d\\xae\\xfa\\x0eElf\\x08\\xf2Da:\\xa6\\xf6a\\xf9\\xbd\\x16\\xb4m\\xcfL\\xaa\\x0b\\x02%\\x0f\\xb1`\\xca\\xa4'",
     "output_type": "error",
     "traceback": [
      "\u001b[0;31m---------------------------------------------------------------------------\u001b[0m",
      "\u001b[0;31mServerError\u001b[0m                               Traceback (most recent call last)",
      "\u001b[0;32m<ipython-input-313-f402c5fe5312>\u001b[0m in \u001b[0;36m<module>\u001b[0;34m\u001b[0m\n\u001b[0;32m----> 1\u001b[0;31m \u001b[0mresultat\u001b[0m \u001b[0;34m=\u001b[0m \u001b[0mc\u001b[0m\u001b[0;34m.\u001b[0m\u001b[0mpost_raw\u001b[0m\u001b[0;34m(\u001b[0m\u001b[0murl\u001b[0m \u001b[0;34m=\u001b[0m \u001b[0;34m'/bin/gateway'\u001b[0m\u001b[0;34m,\u001b[0m \u001b[0mdata\u001b[0m \u001b[0;34m=\u001b[0m \u001b[0mrequete_chiffre\u001b[0m\u001b[0;34m,\u001b[0m \u001b[0mcontent_type\u001b[0m\u001b[0;34m=\u001b[0m\u001b[0;34m'application/octet-stream'\u001b[0m\u001b[0;34m)\u001b[0m\u001b[0;34m\u001b[0m\u001b[0;34m\u001b[0m\u001b[0m\n\u001b[0m",
      "\u001b[0;32m<ipython-input-3-74291c68df9f>\u001b[0m in \u001b[0;36mpost_raw\u001b[0;34m(self, url, data, content_type)\u001b[0m\n\u001b[1;32m    117\u001b[0m         \u001b[0mrequest\u001b[0m \u001b[0;34m=\u001b[0m \u001b[0murllib\u001b[0m\u001b[0;34m.\u001b[0m\u001b[0mrequest\u001b[0m\u001b[0;34m.\u001b[0m\u001b[0mRequest\u001b[0m\u001b[0;34m(\u001b[0m\u001b[0mself\u001b[0m\u001b[0;34m.\u001b[0m\u001b[0m_base\u001b[0m \u001b[0;34m+\u001b[0m \u001b[0murl\u001b[0m\u001b[0;34m,\u001b[0m \u001b[0mmethod\u001b[0m\u001b[0;34m=\u001b[0m\u001b[0;34m'POST'\u001b[0m\u001b[0;34m)\u001b[0m\u001b[0;34m\u001b[0m\u001b[0;34m\u001b[0m\u001b[0m\n\u001b[1;32m    118\u001b[0m         \u001b[0mrequest\u001b[0m\u001b[0;34m.\u001b[0m\u001b[0madd_header\u001b[0m\u001b[0;34m(\u001b[0m\u001b[0;34m'Content-type'\u001b[0m\u001b[0;34m,\u001b[0m \u001b[0mcontent_type\u001b[0m\u001b[0;34m)\u001b[0m\u001b[0;34m\u001b[0m\u001b[0;34m\u001b[0m\u001b[0m\n\u001b[0;32m--> 119\u001b[0;31m         \u001b[0;32mreturn\u001b[0m \u001b[0mself\u001b[0m\u001b[0;34m.\u001b[0m\u001b[0m_query\u001b[0m\u001b[0;34m(\u001b[0m\u001b[0murl\u001b[0m\u001b[0;34m,\u001b[0m \u001b[0mrequest\u001b[0m\u001b[0;34m,\u001b[0m \u001b[0mdata\u001b[0m\u001b[0;34m)\u001b[0m\u001b[0;34m\u001b[0m\u001b[0;34m\u001b[0m\u001b[0m\n\u001b[0m\u001b[1;32m    120\u001b[0m \u001b[0;34m\u001b[0m\u001b[0m\n\u001b[1;32m    121\u001b[0m     \u001b[0;32mdef\u001b[0m \u001b[0mclose_session\u001b[0m\u001b[0;34m(\u001b[0m\u001b[0mself\u001b[0m\u001b[0;34m)\u001b[0m\u001b[0;34m:\u001b[0m\u001b[0;34m\u001b[0m\u001b[0;34m\u001b[0m\u001b[0m\n",
      "\u001b[0;32m<ipython-input-3-74291c68df9f>\u001b[0m in \u001b[0;36m_query\u001b[0;34m(self, url, request, data)\u001b[0m\n\u001b[1;32m    185\u001b[0m             \u001b[0mheaders\u001b[0m \u001b[0;34m=\u001b[0m \u001b[0mdict\u001b[0m\u001b[0;34m(\u001b[0m\u001b[0me\u001b[0m\u001b[0;34m.\u001b[0m\u001b[0mheaders\u001b[0m\u001b[0;34m)\u001b[0m\u001b[0;34m\u001b[0m\u001b[0;34m\u001b[0m\u001b[0m\n\u001b[1;32m    186\u001b[0m             \u001b[0mmessage\u001b[0m \u001b[0;34m=\u001b[0m \u001b[0me\u001b[0m\u001b[0;34m.\u001b[0m\u001b[0mread\u001b[0m\u001b[0;34m(\u001b[0m\u001b[0;34m)\u001b[0m\u001b[0;34m\u001b[0m\u001b[0;34m\u001b[0m\u001b[0m\n\u001b[0;32m--> 187\u001b[0;31m             \u001b[0;32mraise\u001b[0m \u001b[0mServerError\u001b[0m\u001b[0;34m(\u001b[0m\u001b[0me\u001b[0m\u001b[0;34m.\u001b[0m\u001b[0mcode\u001b[0m\u001b[0;34m,\u001b[0m \u001b[0mself\u001b[0m\u001b[0;34m.\u001b[0m\u001b[0m_post_process\u001b[0m\u001b[0;34m(\u001b[0m\u001b[0mmessage\u001b[0m\u001b[0;34m,\u001b[0m \u001b[0mheaders\u001b[0m\u001b[0;34m)\u001b[0m\u001b[0;34m)\u001b[0m \u001b[0;32mfrom\u001b[0m \u001b[0;32mNone\u001b[0m\u001b[0;34m\u001b[0m\u001b[0;34m\u001b[0m\u001b[0m\n\u001b[0m\u001b[1;32m    188\u001b[0m \u001b[0;34m\u001b[0m\u001b[0m\n",
      "\u001b[0;31mServerError\u001b[0m: ERREUR 403, b'Salted__\\xaetvmu\\xbf{\\xf7|C\\xb4\\x94\\xfb5\\x00lT\\xd9\\x9a\\xea\\xb1T\\xe2\\x0b\\xeb\\xdc\\x99\\xe4\\xfdpe\\x11\\xe8f\\x17\\xb9\\x9aK\\xe1\\xd9E\\x8d\\xae\\xfa\\x0eElf\\x08\\xf2Da:\\xa6\\xf6a\\xf9\\xbd\\x16\\xb4m\\xcfL\\xaa\\x0b\\x02%\\x0f\\xb1`\\xca\\xa4'"
     ]
    }
   ],
   "source": [
    "resultat = c.post_raw(url = '/bin/gateway', data = requete_chiffre, content_type='application/octet-stream')\n"
   ]
  },
  {
   "cell_type": "code",
   "execution_count": 314,
   "metadata": {},
   "outputs": [],
   "source": [
    "reponse =  b'Salted__\\xaetvmu\\xbf{\\xf7|C\\xb4\\x94\\xfb5\\x00lT\\xd9\\x9a\\xea\\xb1T\\xe2\\x0b\\xeb\\xdc\\x99\\xe4\\xfdpe\\x11\\xe8f\\x17\\xb9\\x9aK\\xe1\\xd9E\\x8d\\xae\\xfa\\x0eElf\\x08\\xf2Da:\\xa6\\xf6a\\xf9\\xbd\\x16\\xb4m\\xcfL\\xaa\\x0b\\x02%\\x0f\\xb1`\\xca\\xa4'\n"
   ]
  },
  {
   "cell_type": "code",
   "execution_count": 315,
   "metadata": {},
   "outputs": [],
   "source": [
    "resultat = base64.b64encode(reponse).decode()\n",
    "with open(\"ll.txt\", 'w') as f: \n",
    "    f.write(resultat)"
   ]
  },
  {
   "cell_type": "code",
   "execution_count": 316,
   "metadata": {},
   "outputs": [
    {
     "name": "stdout",
     "output_type": "stream",
     "text": [
      "SERVER GROUP 0xa unlock: CANCELLED (OVERRIDE engaged).\n"
     ]
    }
   ],
   "source": [
    "reponse = decrypt(\"ll.txt\", K)\n",
    "print(reponse)"
   ]
  },
  {
   "cell_type": "code",
   "execution_count": 22,
   "metadata": {},
   "outputs": [
    {
     "data": {
      "text/plain": [
       "\"STATUS : OK --- ticket 1174 closed\\n\\nDEBRIEFING\\n----------\\n\\nL'intervention du technicien est terminée. Le technicien a été victime d'un\\nincident d'exploitation.\\n\\nLe rapport d'incident vous met hors de cause.\\n\\nAu cours de l'intervention, un programme système a eu un comportement inattendu.\\nNous transmettons un rapport aux administrateurs UGLIX. Nous notons que ce genre\\nde problèmes semble se multiplier.\\n\\nCONCLUSION: Mission terminée. \\nISSUE : transmission d'un bug-report à root.\\n\\n[ You have new mail ]\""
      ]
     },
     "execution_count": 22,
     "metadata": {},
     "output_type": "execute_result"
    }
   ],
   "source": [
    "print(c.post('/bin/police_hq/ticket/1174/close'))"
   ]
  },
  {
   "cell_type": "code",
   "execution_count": 19,
   "metadata": {},
   "outputs": [],
   "source": [
    "nonce = c.post(\"/bin/login/stp\", username= \"palmerjohn\")"
   ]
  },
  {
   "cell_type": "code",
   "execution_count": 17,
   "metadata": {},
   "outputs": [],
   "source": [
    "K = \"debug-me\""
   ]
  },
  {
   "cell_type": "code",
   "execution_count": 18,
   "metadata": {},
   "outputs": [
    {
     "name": "stdout",
     "output_type": "stream",
     "text": [
      "b'VsOkaW7Dtg=='\n"
     ]
    }
   ],
   "source": [
    "text = \"Väinö\"\n",
    "text = text.encode()\n",
    "text = base64.b64encode(text)\n",
    "print(text)\n",
    "dico = {'method': 'PUT', 'url': '/bin/echo', 'data': 'VsOkaW7Dtg=='}\n",
    "requete_json = json.dumps(dico)\n",
    "requete_chiffre = encrypt2(requete_json, K)"
   ]
  },
  {
   "cell_type": "code",
   "execution_count": 19,
   "metadata": {},
   "outputs": [],
   "source": [
    "resultat = c.post_raw(url = '/bin/test-gateway', data = requete_chiffre, content_type='application/octet-stream')"
   ]
  },
  {
   "cell_type": "code",
   "execution_count": 20,
   "metadata": {},
   "outputs": [
    {
     "name": "stdout",
     "output_type": "stream",
     "text": [
      "b'Salted__\\\\\\xf9<\\xc1^\\xe4D8\\x0bR\\xdc,\\x12\\xd6\\xff\\xac\\xf2\\xd4\\xff\\x97\\x91\\xaf\\xa2\\x19d\\xd7#\\x08\\xc4\\x7f\\x94%R\\x80\\xfa\\xf2\\xbcM@\\xad1i \\xa9\\xcc\\x9aU#\\x02\\x18\\x8dy\\x15gw>\\xc8r\\x02}\\xb8_T1\\xe0\\x19hW\\xae\\xdd\\xe6Ax\\xe5\\xfe\\x99\\xf6a\\xbdq\\xca\\x8d\\\\@7v]\\xc1\\x15.\\xb3{s\\x87K[\\x0e\\x0f\\x95\\x03\\xd8\\xaauk\\x0c\\xe1:\\xadC\\x04.\\x91\\xd6rY\\xf8\\x85\\xce\\xf9w\\x8b\\xe8\\xc9\\xde\\xd5\\xd6\\xaa\\rR\\xf51\\xda\\xcf\\x1e(+'\n"
     ]
    }
   ],
   "source": [
    "print(resultat)"
   ]
  },
  {
   "cell_type": "code",
   "execution_count": 22,
   "metadata": {},
   "outputs": [],
   "source": [
    "reponse = b'Salted__\\\\\\xf9<\\xc1^\\xe4D8\\x0bR\\xdc,\\x12\\xd6\\xff\\xac\\xf2\\xd4\\xff\\x97\\x91\\xaf\\xa2\\x19d\\xd7#\\x08\\xc4\\x7f\\x94%R\\x80\\xfa\\xf2\\xbcM@\\xad1i \\xa9\\xcc\\x9aU#\\x02\\x18\\x8dy\\x15gw>\\xc8r\\x02}\\xb8_T1\\xe0\\x19hW\\xae\\xdd\\xe6Ax\\xe5\\xfe\\x99\\xf6a\\xbdq\\xca\\x8d\\\\@7v]\\xc1\\x15.\\xb3{s\\x87K[\\x0e\\x0f\\x95\\x03\\xd8\\xaauk\\x0c\\xe1:\\xadC\\x04.\\x91\\xd6rY\\xf8\\x85\\xce\\xf9w\\x8b\\xe8\\xc9\\xde\\xd5\\xd6\\xaa\\rR\\xf51\\xda\\xcf\\x1e(+'"
   ]
  },
  {
   "cell_type": "code",
   "execution_count": 27,
   "metadata": {},
   "outputs": [],
   "source": [
    "resultat = base64.b64encode(reponse).decode()\n",
    "with open(\"ll.txt\", 'w') as f: \n",
    "    f.write(resultat)"
   ]
  },
  {
   "cell_type": "code",
   "execution_count": 29,
   "metadata": {},
   "outputs": [
    {
     "name": "stdout",
     "output_type": "stream",
     "text": [
      "Sent: Väinö\n",
      "[[1613216153##kernel-monitord[42] UGLIX]]: TEST.GATEWAY:14:3@578991|1f879edf250a709c5f656122549b098d\n"
     ]
    }
   ],
   "source": [
    "reponse = decrypt(\"ll.txt\", K)\n",
    "print(reponse)"
   ]
  },
  {
   "cell_type": "code",
   "execution_count": null,
   "metadata": {},
   "outputs": [],
   "source": []
  },
  {
   "cell_type": "raw",
   "metadata": {},
   "source": [
    "                        ######################################################\n",
    "                                                1175\n",
    "                        ######################################################"
   ]
  },
  {
   "cell_type": "code",
   "execution_count": 102,
   "metadata": {},
   "outputs": [
    {
     "name": "stdout",
     "output_type": "stream",
     "text": [
      "STATUS : OK --- ticket 1175 closed\n",
      "[ You have new mail ]\n"
     ]
    }
   ],
   "source": [
    "print(c.post('/bin/police_hq/ticket/1175/close'))"
   ]
  },
  {
   "cell_type": "code",
   "execution_count": 22,
   "metadata": {},
   "outputs": [
    {
     "name": "stdout",
     "output_type": "stream",
     "text": [
      "Un de nos collaborateurs, michael60 vient de subir un regrettable accident\n",
      "et se trouve actuellement dans un état végétatif. D'après notre équipe médicale, \n",
      "il y a peu d'espoir de voir son état s'améliorer. Il était stagiaire dans \n",
      "l'équipe des admins de notre agence.\n",
      "\n",
      "Une enquête préliminaire, dirigée par [[---REDACTED---]] semble se diriger vers\n",
      "l'hypothèse qu'il ait tenté de mettre fin à ses jours, pour des raisons inconnues.\n",
      "Il était l'une de nos jeunes pousses les plus prometteuses, et toute l'agence\n",
      "regrette profondément la tournure tragique des évenements.\n",
      "\n",
      "Par une étrange coincidence, michael60 faisait l'objet d'une enquête discrète, \n",
      "suite à la découverte de son éventuelle implication dans une association \n",
      "subversive.\n",
      "\n",
      "Malheureusement, nous ne pouvons plus accéder à son compte. Nous espérions y\n",
      "trouver des informations qui pourraient expliquer son geste d'un part, et \n",
      "poursuivre l'enquête en cours sur ses activités.\n",
      "\n",
      "Cependant, nous avons pu obtenir (en utilisant [[---REDACTED---]]) une trace \n",
      "d'exécution du protocole de connection CHAP. Nous espérons que vous \n",
      "pourrez en extraire son mot de passe. Nous savons que notre collègue avait la\n",
      "mauvaise habitude d'utiliser un mot du dictionnaire (c'est d'ailleurs son \n",
      "entêtement à persister dans cette pratique déraisonnable qui retardait sa \n",
      "titularisation au sein de l'équipe). Nous pensons qu'il choisissait ses mots \n",
      "de passe dans le dictionnaire standard qu'on trouve ici : \n",
      "\n",
      "    /share/words\n",
      "\n",
      "Lorsque nous aurons récupéré le mot de passe, et récupéré tout ce qui se trouve\n",
      "sur son compte, nous le désactiverons (son compte, pas son système de support \n",
      "médical).\n",
      "\n",
      "En pièce jointe figurent :\n",
      "  + \"username\" : le nom d'utilisateur de la cible\n",
      "  + \"trace\"    : la trace d'exécution du protocole capturée\n",
      "\n",
      "Merci de renvoyer son mot de passe par email à l'adresse de contact de ce\n",
      "ticket.\n",
      "---\n",
      "[---REDACTED---], CLEA director,\n",
      "\"Don't break the (cyber-)law\"\n",
      "\n",
      "PS : BIEN SÛR, VOUS N'IREZ ***PAS*** METTRE VOTRE NEZ DANS LE COMPTE \"RÉCUPÉRÉ\".\n",
      "\n",
      "[ You have new mail ]\n"
     ]
    }
   ],
   "source": [
    "print(c.get('/bin/police_hq/ticket/1175'))"
   ]
  },
  {
   "cell_type": "code",
   "execution_count": 23,
   "metadata": {},
   "outputs": [],
   "source": [
    "words = c.get(\"/share/words\")\n",
    "liste_de_mot = words.split('\\n')"
   ]
  },
  {
   "cell_type": "code",
   "execution_count": 19,
   "metadata": {},
   "outputs": [],
   "source": [
    "def decrypt4(filename, password, cipher ='aes-128-cbc'):\n",
    "    pass_arg = 'pass:{0}'.format(password)\n",
    "    args = ['openssl', 'enc', '-d', '-pbkdf2', '-' + cipher, '-base64', '-pass', pass_arg, '-in', filename]\n",
    "\n",
    "    if isinstance(filename, str):\n",
    "        filename = filename.encode('utf-8')\n",
    "\n",
    "    result = subprocess.run(args, input=filename, stdout=subprocess.PIPE, stderr=subprocess.PIPE)\n",
    "    error_message = result.stderr.decode()\n",
    "\n",
    "    if error_message != '':\n",
    "        raise OpensslError(error_message)\n",
    "\n",
    "    res = base64.b64encode(result.stdout).decode()\n",
    "    return res"
   ]
  },
  {
   "cell_type": "code",
   "execution_count": 20,
   "metadata": {},
   "outputs": [],
   "source": [
    "def test_mot_de_passe(liste, plan_text, reponse):  \n",
    "    res =[]\n",
    "    for i in (liste):\n",
    "        try:\n",
    "            resultat = decrypt4(reponse,i)\n",
    "            print(i)\n",
    "            res.append(i)\n",
    "        except OpensslError: \n",
    "            pass \n",
    "    return res"
   ]
  },
  {
   "cell_type": "code",
   "execution_count": 21,
   "metadata": {},
   "outputs": [],
   "source": [
    "plan_text = 'michael60-7a22aade010f4d9b92f3b612be0127ec'\n",
    "reponse =  \"U2FsdGVkX18JuKl7lv06NQ+X4o3N4Ok+zTwkf/C1Ox7LToL4NUoUImBNVBFqVkIo\\nRaDGFn3lvJDpD1fSYeWqFw==\\n\""
   ]
  },
  {
   "cell_type": "code",
   "execution_count": 30,
   "metadata": {},
   "outputs": [
    {
     "name": "stdout",
     "output_type": "stream",
     "text": [
      "accentuates\n",
      "acknowledgment\n",
      "activated\n",
      "aggregately\n",
      "albeit\n",
      "Aldrich\n",
      "aliased\n",
      "aloes\n",
      "analyzers\n",
      "anesthetized\n",
      "apathetic\n",
      "appearing\n",
      "artisan\n",
      "ashtray\n",
      "aspirin\n",
      "assassination\n",
      "assurer\n",
      "attainment\n",
      "aviary\n",
      "barrenness\n",
      "bashes\n",
      "begrudged\n",
      "Belleville\n",
      "beribboned\n",
      "bloated\n",
      "blueberry\n",
      "bolts\n",
      "bombast\n",
      "bonded\n",
      "bray\n",
      "bridging\n",
      "bullying\n",
      "bypassing\n",
      "Carey\n",
      "ceremonially\n",
      "certify\n",
      "chartings\n",
      "cluck\n",
      "cohering\n",
      "conformity\n",
      "congest\n",
      "connotative\n",
      "consigning\n",
      "cop\n",
      "Cuban\n",
      "dangled\n",
      "decimal\n",
      "deride\n",
      "deserter\n",
      "dictatorial\n",
      "din\n",
      "discover\n",
      "dozes\n",
      "drilled\n",
      "Dubhe\n",
      "dungeon\n",
      "eager\n",
      "effects\n",
      "eligibility\n",
      "emphatic\n",
      "enterprising\n",
      "envelopes\n",
      "epitomizing\n",
      "evictions\n",
      "exhortations\n",
      "expressed\n",
      "extraordinariness\n",
      "Exxon\n",
      "fancier\n",
      "Fidel\n",
      "fiefdom\n",
      "flattening\n",
      "forewarnings\n",
      "fraught\n",
      "galloped\n",
      "Garrisonian\n",
      "gash\n",
      "Gaston\n",
      "godlike\n",
      "good\n",
      "Grayson\n",
      "greenware\n",
      "hello\n",
      "heralding\n",
      "Homeric\n",
      "ignition\n",
      "impersonal\n",
      "incomplete\n",
      "incurs\n",
      "inhibitory\n",
      "initiated\n",
      "intelligence\n",
      "interlacing\n",
      "internalizes\n",
      "jested\n",
      "Jules\n",
      "junk\n",
      "kerchief\n",
      "kidnappings\n",
      "labor\n",
      "lace\n",
      "lain\n",
      "lames\n",
      "leaderships\n",
      "marigold\n",
      "massacres\n",
      "milder\n",
      "millivoltmeter\n",
      "minuteman\n",
      "monotonically\n",
      "motor\n",
      "naturalness\n",
      "nice\n",
      "Norma\n",
      "noticeable\n",
      "Odyssey\n",
      "oilers\n",
      "Oklahoma\n",
      "operands\n",
      "oppressor\n",
      "ordination\n",
      "organic\n",
      "Osiris\n",
      "outputs\n",
      "overpowers\n",
      "ozone\n",
      "Pandanus\n",
      "papers\n",
      "paraffin\n",
      "paralleling\n",
      "pardoner\n",
      "participate\n",
      "pearly\n",
      "peril\n",
      "phase\n",
      "picketers\n",
      "pinker\n",
      "planned\n",
      "plies\n",
      "popping\n",
      "postulations\n",
      "pottery\n",
      "Precambrian\n",
      "Prussianizers\n",
      "psych\n",
      "psychopathic\n",
      "quantizes\n",
      "quashes\n",
      "questing\n",
      "reassures\n",
      "recalling\n",
      "recognizes\n",
      "refrigerate\n",
      "renditions\n",
      "repairs\n",
      "restrictions\n",
      "rivalry\n",
      "sacrificial\n",
      "salivary\n",
      "scabrous\n",
      "scrape\n",
      "scrolled\n",
      "Seattle\n",
      "separately\n",
      "sidetrack\n",
      "Sinai\n",
      "sleeves\n",
      "sown\n",
      "spectra\n",
      "staging\n",
      "Strauss\n",
      "subschema\n",
      "swapped\n",
      "syntactically\n",
      "syntax\n",
      "syringes\n",
      "tempered\n",
      "them\n",
      "theoreticians\n",
      "timely\n",
      "trailer\n",
      "traitor\n",
      "transience\n",
      "treatise\n",
      "twelves\n",
      "twined\n",
      "underestimate\n",
      "unequaled\n",
      "van\n",
      "violates\n",
      "votes\n",
      "Wellesley\n",
      "Willies\n",
      "woo\n",
      "Yankees\n",
      "Yentl\n",
      "yield\n",
      "['accentuates', 'acknowledgment', 'activated', 'aggregately', 'albeit', 'Aldrich', 'aliased', 'aloes', 'analyzers', 'anesthetized', 'apathetic', 'appearing', 'artisan', 'ashtray', 'aspirin', 'assassination', 'assurer', 'attainment', 'aviary', 'barrenness', 'bashes', 'begrudged', 'Belleville', 'beribboned', 'bloated', 'blueberry', 'bolts', 'bombast', 'bonded', 'bray', 'bridging', 'bullying', 'bypassing', 'Carey', 'ceremonially', 'certify', 'chartings', 'cluck', 'cohering', 'conformity', 'congest', 'connotative', 'consigning', 'cop', 'Cuban', 'dangled', 'decimal', 'deride', 'deserter', 'dictatorial', 'din', 'discover', 'dozes', 'drilled', 'Dubhe', 'dungeon', 'eager', 'effects', 'eligibility', 'emphatic', 'enterprising', 'envelopes', 'epitomizing', 'evictions', 'exhortations', 'expressed', 'extraordinariness', 'Exxon', 'fancier', 'Fidel', 'fiefdom', 'flattening', 'forewarnings', 'fraught', 'galloped', 'Garrisonian', 'gash', 'Gaston', 'godlike', 'good', 'Grayson', 'greenware', 'hello', 'heralding', 'Homeric', 'ignition', 'impersonal', 'incomplete', 'incurs', 'inhibitory', 'initiated', 'intelligence', 'interlacing', 'internalizes', 'jested', 'Jules', 'junk', 'kerchief', 'kidnappings', 'labor', 'lace', 'lain', 'lames', 'leaderships', 'marigold', 'massacres', 'milder', 'millivoltmeter', 'minuteman', 'monotonically', 'motor', 'naturalness', 'nice', 'Norma', 'noticeable', 'Odyssey', 'oilers', 'Oklahoma', 'operands', 'oppressor', 'ordination', 'organic', 'Osiris', 'outputs', 'overpowers', 'ozone', 'Pandanus', 'papers', 'paraffin', 'paralleling', 'pardoner', 'participate', 'pearly', 'peril', 'phase', 'picketers', 'pinker', 'planned', 'plies', 'popping', 'postulations', 'pottery', 'Precambrian', 'Prussianizers', 'psych', 'psychopathic', 'quantizes', 'quashes', 'questing', 'reassures', 'recalling', 'recognizes', 'refrigerate', 'renditions', 'repairs', 'restrictions', 'rivalry', 'sacrificial', 'salivary', 'scabrous', 'scrape', 'scrolled', 'Seattle', 'separately', 'sidetrack', 'Sinai', 'sleeves', 'sown', 'spectra', 'staging', 'Strauss', 'subschema', 'swapped', 'syntactically', 'syntax', 'syringes', 'tempered', 'them', 'theoreticians', 'timely', 'trailer', 'traitor', 'transience', 'treatise', 'twelves', 'twined', 'underestimate', 'unequaled', 'van', 'violates', 'votes', 'Wellesley', 'Willies', 'woo', 'Yankees', 'Yentl', 'yield']\n"
     ]
    }
   ],
   "source": [
    "mdp = test_mot_de_passe(liste_de_mot, plan_text, \"reponse.txt\")\n",
    "print(mdp)"
   ]
  },
  {
   "cell_type": "code",
   "execution_count": 32,
   "metadata": {},
   "outputs": [
    {
     "name": "stdout",
     "output_type": "stream",
     "text": [
      "PAP login successful. Access to /home/michael60 granted.\n",
      "[ You have new mail ]\n",
      "violates\n"
     ]
    }
   ],
   "source": [
    "for b in mdp: \n",
    "    try:\n",
    "        print(c.post('/bin/login', user= 'michael60', password= b))\n",
    "        print(b)\n",
    "    except ServerError: \n",
    "        pass"
   ]
  },
  {
   "cell_type": "code",
   "execution_count": 124,
   "metadata": {},
   "outputs": [
    {
     "name": "stdout",
     "output_type": "stream",
     "text": [
      "b'\\xd3\\x1ft'\n",
      "b'0x90'\n"
     ]
    }
   ],
   "source": [
    "print(base64.b64decode(b'0x90'))\n",
    "print(str(b'0x90'))"
   ]
  },
  {
   "cell_type": "code",
   "execution_count": 28,
   "metadata": {},
   "outputs": [
    {
     "name": "stdout",
     "output_type": "stream",
     "text": [
      "username = michael60\n",
      "trace = > GET /uglix/bin/login/CHAP HTTP/1.1\n",
      "> Host: UGLIX.HAL.DiscoveryOne\n",
      "> User-Agent: community-script v2.1 [h4ck3d by ]\n",
      "> Accept: */*\n",
      "\n",
      "\n",
      "\n",
      "< HTTP/1.0 200 OK\n",
      "< Date: Sat, 22 Aug 21887 13:05:21 GMT\n",
      "< Server: UGLIX Login Program [challenge]\n",
      "< Content-Type: application/json\n",
      "< Set-Cookie:  sessionid=79c86tw9zwkmqlcs58ie8ukto3lxuc0v\n",
      "<\n",
      "{\"challenge\": \"19c4a3e2b8f24cd493a1dd40e83e5008\"}\n",
      "\n",
      "\n",
      "\n",
      "> POST /uglix/bin/login/CHAP HTTP/1.1\n",
      "> Host: UGLIX.HAL.DiscoveryOne\n",
      "> User-Agent: community-script v2.1 [h4ck3d by ]\n",
      "> Accept: */*\n",
      "> Cookie: sessionid=79c86tw9zwkmqlcs58ie8ukto3lxuc0v\n",
      "> Content-type: application/json\n",
      "> Content-Length: 147\n",
      ">\n",
      "{\"version\": 2, \"username\": \"michael60\", \"response\": \"U2FsdGVkX18W5HQgvZ91/M1rf+r5FiqE0cqxYOAIDFB8YtgW7JScuEUvFVyj1lJ9\\nFVF+ajRARoMthnSJkwfZcA==\\n\"}\n",
      "\n",
      "\n",
      "\n",
      "< HTTP/1.0 200 OK\n",
      "< Date: Sat, 22 Aug 21887 13:05:24 GMT\n",
      "< Server: UGLIX Login Program [main]\n",
      "< Content-Type: text/plain\n",
      "< Set-Cookie:  sessionid=0i1voxkain7neemy822he7jqxgkkobom\n",
      "< \n",
      "Login successful. Access to /home/ granted.\n",
      "[ You have new mail ]\n",
      "\n",
      "\n",
      "\n"
     ]
    }
   ],
   "source": [
    "username = c.get('/bin/police_hq/ticket/1175/attachment/username')\n",
    "challenge =  \"8e32e4f623b043bab250d0e061f6c427\"\n",
    "plan_text = \"michael60-cf7032dc716c4a10ba83cb35aad595b1\"\n",
    "reponse =  \"U2FsdGVkX19ok25XZNj9LC7fsTU3TJs4/VoP2CXpCJFuM7UNXjuJ1ue4/ahzeSy1\\ntMJ0VqikDHk1GrGimvtImg==\"\n",
    "trace = c.get('/bin/police_hq/ticket/1175/attachment/trace')\n",
    "\n",
    "print(\"username = {}\".format(username))\n",
    "print(\"trace = {}\".format(trace))"
   ]
  },
  {
   "cell_type": "code",
   "execution_count": 92,
   "metadata": {},
   "outputs": [],
   "source": [
    "username = c.get('/bin/police_hq/ticket/1175/attachment/client')\n",
    "client = username['email']"
   ]
  },
  {
   "cell_type": "code",
   "execution_count": 99,
   "metadata": {},
   "outputs": [
    {
     "data": {
      "text/plain": [
       "'STATUS: OK --- mail delivered succesfully\\n[ You have new mail ]'"
      ]
     },
     "execution_count": 99,
     "metadata": {},
     "output_type": "execute_result"
    }
   ],
   "source": [
    "c.post('/bin/sendmail', to=client, subject=\"mdp\", content=\"violates\")"
   ]
  },
  {
   "cell_type": "raw",
   "metadata": {},
   "source": [
    "######################################\n",
    "                H\n",
    "######################################"
   ]
  },
  {
   "cell_type": "code",
   "execution_count": null,
   "metadata": {},
   "outputs": [],
   "source": []
  },
  {
   "cell_type": "code",
   "execution_count": 47,
   "metadata": {},
   "outputs": [
    {
     "data": {
      "text/plain": [
       "'PAP login successful. Access to /home/michael60 granted.\\n[ You have new mail ]'"
      ]
     },
     "execution_count": 47,
     "metadata": {},
     "output_type": "execute_result"
    }
   ],
   "source": [
    "c.post('/bin/login', user= \"michael60\", password= 'violates')"
   ]
  },
  {
   "cell_type": "code",
   "execution_count": null,
   "metadata": {},
   "outputs": [],
   "source": []
  },
  {
   "cell_type": "code",
   "execution_count": null,
   "metadata": {},
   "outputs": [],
   "source": []
  },
  {
   "cell_type": "code",
   "execution_count": null,
   "metadata": {},
   "outputs": [],
   "source": []
  },
  {
   "cell_type": "code",
   "execution_count": null,
   "metadata": {},
   "outputs": [],
   "source": []
  },
  {
   "cell_type": "code",
   "execution_count": null,
   "metadata": {},
   "outputs": [],
   "source": []
  },
  {
   "cell_type": "code",
   "execution_count": 51,
   "metadata": {},
   "outputs": [
    {
     "name": "stdout",
     "output_type": "stream",
     "text": [
      "# Bienvenue, michael60.\n",
      "# Dernière connection le 17-02-21893 14:24:42 (protocole : PAP)\n",
      "# Vous avez 2 messages non lus (4 en tout).\n",
      "\n",
      "================================================================================\n",
      "Rumeur du jour: \n",
      "\n",
      "Les comptes de certains vieux programmeurs UGLIX n'auraient pas été supprimés après leur départ.\n",
      "================================================================================\n",
      "\n",
      "***** Contenu de votre dossier personnel ******\n",
      "\n",
      "  /home/michael60/TODO\n",
      "  /home/michael60/md5_collider.tar.gz\n",
      "  /home/michael60/research.jpg\n",
      "  /home/michael60/chat.log\n",
      "\n"
     ]
    }
   ],
   "source": [
    "reponse = (c.get('/home/michael60'))\n",
    "print(reponse)"
   ]
  },
  {
   "cell_type": "code",
   "execution_count": 52,
   "metadata": {},
   "outputs": [],
   "source": [
    "md5 = c.get('/home/michael60/md5_collider.tar.gz')"
   ]
  },
  {
   "cell_type": "code",
   "execution_count": 53,
   "metadata": {},
   "outputs": [],
   "source": [
    "s2file(md5, \"md5_collider.tar.gz\", \"wb\")"
   ]
  },
  {
   "cell_type": "code",
   "execution_count": 65,
   "metadata": {},
   "outputs": [
    {
     "ename": "OpensslError",
     "evalue": "Can't open A) FSCK\n=======\n\ninjecter collision\nvérifier système de fichier (/bin/fsck)\n---> bug\nsuivre directives\n\nCollision ?\n\n* MD5(A) == MD5(B) == MD5(C) == MD5(D) and len({A,B,C,D}) == 4\n\n ^\n/!\\     Tous les fichiers commencent par le nom d'utilisateur UGLIX\n---     Tous les fichiers finissent par 'h4ck m0d3'\n |\n\nSolution la plus simple?\n\n\nB) STOCKAGE PÉRENNE\n===================\n\nC'est quoi le problème avec la bande magnétique numéro 4919 ? Pourquoi l'opérateur\nsort une excuse bidon ? for reading, No such file or directory\n140541089768640:error:02001002:system library:fopen:No such file or directory:crypto/bio/bss_file.c:69:fopen('A) FSCK\n=======\n\ninjecter collision\nvérifier système de fichier (/bin/fsck)\n---> bug\nsuivre directives\n\nCollision ?\n\n* MD5(A) == MD5(B) == MD5(C) == MD5(D) and len({A,B,C,D}) == 4\n\n ^\n/!\\     Tous les fichiers commencent par le nom d'utilisateur UGLIX\n---     Tous les fichiers finissent par 'h4ck m0d3'\n |\n\nSolution la plus simple?\n\n\nB) STOCKAGE PÉRENNE\n===================\n\nC'est quoi le problème avec la bande magnétique numéro 4919 ? Pourquoi l'opérateur\nsort une excuse bidon ?','r')\n140541089768640:error:2006D080:BIO routines:BIO_new_file:no such file:crypto/bio/bss_file.c:76:\n",
     "output_type": "error",
     "traceback": [
      "\u001b[0;31m---------------------------------------------------------------------------\u001b[0m",
      "\u001b[0;31mOpensslError\u001b[0m                              Traceback (most recent call last)",
      "\u001b[0;32m<ipython-input-65-ac7909789f3a>\u001b[0m in \u001b[0;36m<module>\u001b[0;34m\u001b[0m\n\u001b[1;32m      1\u001b[0m \u001b[0mreponse\u001b[0m \u001b[0;34m=\u001b[0m \u001b[0;34mb\"A) FSCK\\n=======\\n\\ninjecter collision\\nv\\xc3\\xa9rifier syst\\xc3\\xa8me de fichier (/bin/fsck)\\n---> bug\\nsuivre directives\\n\\nCollision ?\\n\\n* MD5(A) == MD5(B) == MD5(C) == MD5(D) and len({A,B,C,D}) == 4\\n\\n ^\\n/!\\\\     Tous les fichiers commencent par le nom d'utilisateur UGLIX\\n---     Tous les fichiers finissent par 'h4ck m0d3'\\n |\\n\\nSolution la plus simple?\\n\\n\\nB) STOCKAGE P\\xc3\\x89RENNE\\n===================\\n\\nC'est quoi le probl\\xc3\\xa8me avec la bande magn\\xc3\\xa9tique num\\xc3\\xa9ro 4919 ? Pourquoi l'op\\xc3\\xa9rateur\\nsort une excuse bidon ?\"\u001b[0m\u001b[0;34m\u001b[0m\u001b[0;34m\u001b[0m\u001b[0m\n\u001b[0;32m----> 2\u001b[0;31m \u001b[0mreponse\u001b[0m \u001b[0;34m=\u001b[0m \u001b[0mdecrypt\u001b[0m\u001b[0;34m(\u001b[0m\u001b[0mreponse\u001b[0m\u001b[0;34m,\u001b[0m \u001b[0;34m'violates'\u001b[0m\u001b[0;34m)\u001b[0m\u001b[0;34m\u001b[0m\u001b[0;34m\u001b[0m\u001b[0m\n\u001b[0m",
      "\u001b[0;32m<ipython-input-9-6f6e500aedb0>\u001b[0m in \u001b[0;36mdecrypt\u001b[0;34m(file_name, password, cipher)\u001b[0m\n\u001b[1;32m     19\u001b[0m     \u001b[0merror_message\u001b[0m \u001b[0;34m=\u001b[0m \u001b[0mresult\u001b[0m\u001b[0;34m.\u001b[0m\u001b[0mstderr\u001b[0m\u001b[0;34m.\u001b[0m\u001b[0mdecode\u001b[0m\u001b[0;34m(\u001b[0m\u001b[0;34m)\u001b[0m\u001b[0;34m\u001b[0m\u001b[0;34m\u001b[0m\u001b[0m\n\u001b[1;32m     20\u001b[0m     \u001b[0;32mif\u001b[0m \u001b[0merror_message\u001b[0m \u001b[0;34m!=\u001b[0m \u001b[0;34m''\u001b[0m\u001b[0;34m:\u001b[0m\u001b[0;34m\u001b[0m\u001b[0;34m\u001b[0m\u001b[0m\n\u001b[0;32m---> 21\u001b[0;31m         \u001b[0;32mraise\u001b[0m \u001b[0mOpensslError\u001b[0m\u001b[0;34m(\u001b[0m\u001b[0merror_message\u001b[0m\u001b[0;34m)\u001b[0m\u001b[0;34m\u001b[0m\u001b[0;34m\u001b[0m\u001b[0m\n\u001b[0m\u001b[1;32m     22\u001b[0m \u001b[0;34m\u001b[0m\u001b[0m\n\u001b[1;32m     23\u001b[0m     \u001b[0;31m# OK, openssl a envoyé le chiffré sur stdout, en base64.\u001b[0m\u001b[0;34m\u001b[0m\u001b[0;34m\u001b[0m\u001b[0;34m\u001b[0m\u001b[0m\n",
      "\u001b[0;31mOpensslError\u001b[0m: Can't open A) FSCK\n=======\n\ninjecter collision\nvérifier système de fichier (/bin/fsck)\n---> bug\nsuivre directives\n\nCollision ?\n\n* MD5(A) == MD5(B) == MD5(C) == MD5(D) and len({A,B,C,D}) == 4\n\n ^\n/!\\     Tous les fichiers commencent par le nom d'utilisateur UGLIX\n---     Tous les fichiers finissent par 'h4ck m0d3'\n |\n\nSolution la plus simple?\n\n\nB) STOCKAGE PÉRENNE\n===================\n\nC'est quoi le problème avec la bande magnétique numéro 4919 ? Pourquoi l'opérateur\nsort une excuse bidon ? for reading, No such file or directory\n140541089768640:error:02001002:system library:fopen:No such file or directory:crypto/bio/bss_file.c:69:fopen('A) FSCK\n=======\n\ninjecter collision\nvérifier système de fichier (/bin/fsck)\n---> bug\nsuivre directives\n\nCollision ?\n\n* MD5(A) == MD5(B) == MD5(C) == MD5(D) and len({A,B,C,D}) == 4\n\n ^\n/!\\     Tous les fichiers commencent par le nom d'utilisateur UGLIX\n---     Tous les fichiers finissent par 'h4ck m0d3'\n |\n\nSolution la plus simple?\n\n\nB) STOCKAGE PÉRENNE\n===================\n\nC'est quoi le problème avec la bande magnétique numéro 4919 ? Pourquoi l'opérateur\nsort une excuse bidon ?','r')\n140541089768640:error:2006D080:BIO routines:BIO_new_file:no such file:crypto/bio/bss_file.c:76:\n"
     ]
    }
   ],
   "source": [
    "reponse = b\"A) FSCK\\n=======\\n\\ninjecter collision\\nv\\xc3\\xa9rifier syst\\xc3\\xa8me de fichier (/bin/fsck)\\n---> bug\\nsuivre directives\\n\\nCollision ?\\n\\n* MD5(A) == MD5(B) == MD5(C) == MD5(D) and len({A,B,C,D}) == 4\\n\\n ^\\n/!\\\\     Tous les fichiers commencent par le nom d'utilisateur UGLIX\\n---     Tous les fichiers finissent par 'h4ck m0d3'\\n |\\n\\nSolution la plus simple?\\n\\n\\nB) STOCKAGE P\\xc3\\x89RENNE\\n===================\\n\\nC'est quoi le probl\\xc3\\xa8me avec la bande magn\\xc3\\xa9tique num\\xc3\\xa9ro 4919 ? Pourquoi l'op\\xc3\\xa9rateur\\nsort une excuse bidon ?\"\n",
    "reponse = decrypt(reponse, 'violates')"
   ]
  },
  {
   "cell_type": "code",
   "execution_count": 37,
   "metadata": {},
   "outputs": [
    {
     "name": "stdout",
     "output_type": "stream",
     "text": [
      "fsck from UGLIX-util 2.20.1\n",
      "ufsck 1.42 (29-Nov-18011)\n",
      "/dev/flash0 contains a (clean) UglFS file system, manual check forced.\n",
      "Pass 1 : Checking unodes, blocks, and sizes\n",
      "Pass 2 : Checking (blocks vs files) maximum-flow\n",
      "Pass 3 : Checking that block subgraph contains a (large) independent set\n",
      "Pass 4 : Checking longest cycle in file subgraph\n",
      "Pass 5 : Checking 3-colorability of dual file graph\n",
      "Pass 6 : Checking for file deduplication issues\n",
      "fsck completed successfully.\n"
     ]
    }
   ],
   "source": [
    "resultat = c.get(\"/bin/fsck\")\n",
    "print(resultat)"
   ]
  },
  {
   "cell_type": "code",
   "execution_count": 48,
   "metadata": {},
   "outputs": [
    {
     "data": {
      "text/plain": [
       "'STATUS: OK --- mail delivered succesfully\\n[ You have new mail ]'"
      ]
     },
     "execution_count": 48,
     "metadata": {},
     "output_type": "execute_result"
    }
   ],
   "source": [
    "c.post('/bin/sendmail', to='anonymous.coward', subject=\"A\", content=\"Hey\")"
   ]
  },
  {
   "cell_type": "code",
   "execution_count": 50,
   "metadata": {},
   "outputs": [
    {
     "name": "stdout",
     "output_type": "stream",
     "text": [
      "----------------------------------------------------------------------\n",
      "Message #13323.\n",
      "\n",
      "\n",
      "Date: 13-02-21893 12:15:16\n",
      "From: anonymous.coward\n",
      "Subject: Re: A\n",
      "\n",
      "Salut palmerjohn,\n",
      "\n",
      "Je suis le programme écrit par anonymous.coward pour gérer sa boite mail.\n",
      "Malheureusement, je ne peux pas transmettre ton message à mon créateur.\n",
      "Ce n'est pas personnel, j'ai été conçu pour ça.\n",
      "\n",
      "Mon créateur tient à prendre certaines précautions pour sa propre sécurité.\n",
      "Il tient à te faire savoir que, par conséquent, si jamais tu veux entrer en contact\n",
      "avec lui, il te faut montrer patte blanche. Pour cela, il faut que tu aies une\n",
      "clef publique signée par (au moins) trois autres utilisateurs. Pour l'instant,\n",
      "ta clef publique n'est pas signée (cf /doc/web-of-trust)\n",
      "\n",
      "a+,\n",
      "-----\n",
      "mail-filterd\n",
      "\n",
      "PS : s'il répond, mon créateur envoie des mails chiffrés avec la technique du\n",
      "     chiffrement hybride.\n",
      "\n",
      "\n"
     ]
    }
   ],
   "source": [
    "mail(\"palmerjohn\", '13323')"
   ]
  },
  {
   "cell_type": "raw",
   "metadata": {},
   "source": [
    "############################################\n",
    "\n",
    "############################################"
   ]
  },
  {
   "cell_type": "code",
   "execution_count": null,
   "metadata": {},
   "outputs": [],
   "source": []
  },
  {
   "cell_type": "raw",
   "metadata": {},
   "source": [
    "\n",
    "            ############################################################################\n",
    "                                      Signature\n",
    "            ############################################################################\n",
    "            "
   ]
  },
  {
   "cell_type": "code",
   "execution_count": 41,
   "metadata": {},
   "outputs": [],
   "source": [
    "def decrypter_fichier(file_name, k): \n",
    "    reponse = decrypt(file_name, k)\n",
    "    print(reponse)"
   ]
  },
  {
   "cell_type": "code",
   "execution_count": 22,
   "metadata": {},
   "outputs": [],
   "source": [
    "def signature(document, secret_key):\n",
    "    # prépare les arguments à envoyer à openssl\n",
    "    args = ['openssl', 'dgst', '-sha256', '-sign', secret_key]\n",
    "    \n",
    "    # si le message clair est une chaine unicode, on est obligé de\n",
    "    # l'encoder en bytes() pour pouvoir l'envoyer dans le pipeline vers \n",
    "    # openssl\n",
    "    if isinstance(document, str):\n",
    "        document = document.encode('utf-8')\n",
    "    \n",
    "    # ouvre le pipeline vers openssl. envoie plaintext sur le stdin de openssl, récupère stdout et stderr\n",
    "    #    affiche la commande invoquée\n",
    "    #    print('debug : {0}'.format(' '.join(args)))\n",
    "    result = subprocess.run(args, input=document, stdout=subprocess.PIPE, stderr=subprocess.PIPE)\n",
    "\n",
    "    # si un message d'erreur est présent sur stderr, on arrête tout\n",
    "    # attention, sur stderr on récupère des bytes(), donc on convertit\n",
    "    error_message = result.stderr.decode()\n",
    "    if error_message != '':\n",
    "        raise OpensslError(error_message)\n",
    "\n",
    "    # OK, openssl a envoyé le chiffré sur stdout, en base64.\n",
    "    # On récupère des bytes, donc on en fait une chaine unicode\n",
    "    return base64.b64encode(result.stdout).decode()"
   ]
  },
  {
   "cell_type": "code",
   "execution_count": 20,
   "metadata": {},
   "outputs": [],
   "source": [
    "key_thomas = c.get('/bin/key-management/melissaanthony/pk')"
   ]
  },
  {
   "cell_type": "code",
   "execution_count": 21,
   "metadata": {},
   "outputs": [],
   "source": [
    "key_thomas_signe = signature(key_thomas, 'key_private.pub' )"
   ]
  },
  {
   "cell_type": "code",
   "execution_count": 22,
   "metadata": {},
   "outputs": [
    {
     "name": "stdout",
     "output_type": "stream",
     "text": [
      "<class 'str'>\n"
     ]
    }
   ],
   "source": [
    "print(type(key_thomas_signe))"
   ]
  },
  {
   "cell_type": "code",
   "execution_count": 35,
   "metadata": {},
   "outputs": [
    {
     "name": "stdout",
     "output_type": "stream",
     "text": [
      "TwrTTN6FDzKf9EWanWwyLrzqHCaH2MMc6rOS/ZawBQF0mv5BMKNuDzcRqg4Y/y0sesafmg0tKW+tgmjeumX1pyAD29I7TUykTw4wh4VCTmDM5mh51ed8K95H7rVYS3KGgSrSJ2PLEQFgaH+1cK6YQ0RJFMnb7MHU2FPtYsDJ6NhKfeYJSRneo4cW9SIfJpDJiGTZtgXSYLnYpcB20qBkI3umstEtxhDIWdGqIN9QPly9Wd4NR3jEagVdsJKs+8dWquY+kH1uMAOcYBl6RnJ8KeMPqj9fWOwSg0Bfs2VuM59A1uyoWchCf1V6CsqerjFztquC7uWI3HfGKD47Btt/bQ==\n"
     ]
    }
   ],
   "source": [
    "key_ami = c.get('/bin/key-management/wnunez/pk')\n",
    "key_ami_signe = signature(key_ami, 'key_private.pub' )\n",
    "print((key_ami_signe))"
   ]
  },
  {
   "cell_type": "code",
   "execution_count": 36,
   "metadata": {},
   "outputs": [
    {
     "data": {
      "text/plain": [
       "'STATUS: OK --- mail delivered succesfully\\n[ You have new mail ]'"
      ]
     },
     "execution_count": 36,
     "metadata": {},
     "output_type": "execute_result"
    }
   ],
   "source": [
    "c.post('/bin/sendmail', to='wnunez', subject=\"Le Boss\", content=key_ami_signe)"
   ]
  },
  {
   "cell_type": "code",
   "execution_count": 262,
   "metadata": {},
   "outputs": [
    {
     "name": "stdout",
     "output_type": "stream",
     "text": [
      "-----BEGIN PUBLIC KEY-----\n",
      "MIGfMA0GCSqGSIb3DQEBAQUAA4GNADCBiQKBgQC7VrEmUqoamceLQzW6Q6vCwAEN\n",
      "aJgbeUVkBiCYHO+m3LdKNUmzoM88UxqDKYBgHVjvF8YJtgMihjU6GAD07Ywgm3+j\n",
      "skQGOY60Y816Y5unSS6a21isBEENCtqAX6iiV/QGms8PrP2zG5lJq7lda1swljGH\n",
      "T4uYuGh8wC2Jev95uwIDAQAB\n",
      "-----END PUBLIC KEY-----\n",
      "\n"
     ]
    }
   ],
   "source": [
    "key_Quentin = c.get('/bin/key-management/debradavidson/pk')\n",
    "print(key_Quentin)"
   ]
  },
  {
   "cell_type": "code",
   "execution_count": 263,
   "metadata": {},
   "outputs": [],
   "source": [
    "key_Quentin_signe= signature(key_Quentin, 'key_private.pub' )\n"
   ]
  },
  {
   "cell_type": "code",
   "execution_count": 264,
   "metadata": {},
   "outputs": [
    {
     "name": "stdout",
     "output_type": "stream",
     "text": [
      "kqA2ZWKKLe/FlWhG5MLtX2yB6Io43QroFB8NCrr+xsaXt8P8KshcxSE4dc2dJWz9rOtxPbSElx2J5GzbrKG1kaMBJEPwI7ntk5FV7ccj+GhPIAe3GS1kNusM+ZYFfeos9i8UTEy6Dg9LVs4lF2KcirHMUslbS0fTCwEgnw/XHmbGB/OZEKL43HMREHM7q1GhXLDKjq6ItE++nI0fCgeM6owfa9UCcshu5IeBX1CQiX6Q/fPX+o9lCH2nfyDprOI/4LzWcfoTbo9VmGWcGIXdnmQTHg5fRob+JJIVEhl84+lh+GUiKM+ANqCIqrVitzsTN61m9EQNMCFO+eH13qgdDA==\n"
     ]
    }
   ],
   "source": [
    "print(key_Quentin_signe)"
   ]
  },
  {
   "cell_type": "code",
   "execution_count": 265,
   "metadata": {},
   "outputs": [
    {
     "data": {
      "text/plain": [
       "'STATUS: OK --- mail delivered succesfully\\n[ You have new mail ]'"
      ]
     },
     "execution_count": 265,
     "metadata": {},
     "output_type": "execute_result"
    }
   ],
   "source": [
    "c.post('/bin/sendmail', to='debradavidson', subject=\"A\", content=key_Quentin_signe)"
   ]
  },
  {
   "cell_type": "code",
   "execution_count": 48,
   "metadata": {},
   "outputs": [
    {
     "name": "stdout",
     "output_type": "stream",
     "text": [
      "----------------------------------------------------------------------\n",
      "Message #13433.\n",
      "\n",
      "\n",
      "Date: 13-02-21893 18:23:22\n",
      "From: debradavidson\n",
      "Subject: signature\n",
      "\n",
      "TOLjj8lD2E04ATA6PV/CvOCcghfCnTgvQRbx3fVQ07t/d1yWuWNjegenabbJez0NPCGhxcOGQeEkEaKVI/lzX13AbQ0NiSJhWEmCbT7AhFNkuZnmeD12KNxYi/8P3OCxSXkvkXc1nenIby/Jx6XDVnTZ30Rki0UP/q9gCrga4P8=\n",
      "\n",
      "\n"
     ]
    }
   ],
   "source": [
    "Ma_cle_signe_par_quentin = mail(\"palmerjohn\", \"13433\")"
   ]
  },
  {
   "cell_type": "code",
   "execution_count": 49,
   "metadata": {},
   "outputs": [],
   "source": [
    "quentin = 'TOLjj8lD2E04ATA6PV/CvOCcghfCnTgvQRbx3fVQ07t/d1yWuWNjegenabbJez0NPCGhxcOGQeEkEaKVI/lzX13AbQ0NiSJhWEmCbT7AhFNkuZnmeD12KNxYi/8P3OCxSXkvkXc1nenIby/Jx6XDVnTZ30Rki0UP/q9gCrga4P8='"
   ]
  },
  {
   "cell_type": "code",
   "execution_count": 11,
   "metadata": {},
   "outputs": [
    {
     "name": "stdout",
     "output_type": "stream",
     "text": [
      "gbkO8TZE1da7jkX8iyDkKRm0IlRYjLNvBa3MpKf7UZEZAKtj0Vq5Xas7/CMd92bL09IuU4UA7XD1+bnduw0I0T1uIDvXF3n7vqDEYGc49Ma6a+N9PjpUBjNyx8jNrpfbdOEzpfDZcShGnQJydf8HIqzog301E3iN2x1TOMeXZPF6QYe+qh3WwCLNBGCPDT7/0WjBipkmHNVPEL64TKxB08PE6GpOEXH0Cv+tAj78bU1XHYoYX/BgR2PJwZySyjzVQDxuihDKE2/ibpd/EhneqBkN6U0GBIjgf4eo6F9WQVTsGt/z5b6+j17ZYHZMF76OJqTJMYqRt0sVB+hf/GqofQ==\n"
     ]
    }
   ],
   "source": [
    "Ma_cle_signe_par_thomas = mail(\"palmerjohn\", \"13341\")"
   ]
  },
  {
   "cell_type": "code",
   "execution_count": 29,
   "metadata": {},
   "outputs": [],
   "source": [
    "thomas = 'gbkO8TZE1da7jkX8iyDkKRm0IlRYjLNvBa3MpKf7UZEZAKtj0Vq5Xas7/CMd92bL09IuU4UA7XD1+bnduw0I0T1uIDvXF3n7vqDEYGc49Ma6a+N9PjpUBjNyx8jNrpfbdOEzpfDZcShGnQJydf8HIqzog301E3iN2x1TOMeXZPF6QYe+qh3WwCLNBGCPDT7/0WjBipkmHNVPEL64TKxB08PE6GpOEXH0Cv+tAj78bU1XHYoYX/BgR2PJwZySyjzVQDxuihDKE2/ibpd/EhneqBkN6U0GBIjgf4eo6F9WQVTsGt/z5b6+j17ZYHZMF76OJqTJMYqRt0sVB+hf/GqofQ=='"
   ]
  },
  {
   "cell_type": "code",
   "execution_count": 30,
   "metadata": {},
   "outputs": [
    {
     "data": {
      "text/plain": [
       "'OK'"
      ]
     },
     "execution_count": 30,
     "metadata": {},
     "output_type": "execute_result"
    }
   ],
   "source": [
    "c.post(\"/bin/key-management/upload-signature\", signature= thomas, signer= \"melissaanthony\")"
   ]
  },
  {
   "cell_type": "code",
   "execution_count": 50,
   "metadata": {},
   "outputs": [
    {
     "data": {
      "text/plain": [
       "'OK'"
      ]
     },
     "execution_count": 50,
     "metadata": {},
     "output_type": "execute_result"
    }
   ],
   "source": [
    "c.post(\"/bin/key-management/upload-signature\", signature= quentin, signer= \"debradavidson\")"
   ]
  },
  {
   "cell_type": "code",
   "execution_count": 43,
   "metadata": {},
   "outputs": [],
   "source": [
    "with open('graph.pdf', 'wb') as f:\n",
    "    f.write(c.get('/bin/key-management/trust-graph'))"
   ]
  },
  {
   "cell_type": "code",
   "execution_count": 47,
   "metadata": {},
   "outputs": [
    {
     "name": "stdout",
     "output_type": "stream",
     "text": [
      "----------------------------------------------------------------------\n",
      "INBOX: There are more than 25 messages. Only displaying the 25 last messages.\n",
      "\n",
      "Message | Read | Sender                   | Subject\n",
      "--------+------+--------------------------+---------------------------\n",
      " 13433  |   N  | debradavidson            | signature\n",
      " 13428  |   Y  | anonymous.coward         | Re: A\n",
      " 13422  |   Y  | wnunez                   | Envoie signature \n",
      " 13348  |   Y  | yfrench                  | Re: mdp\n",
      " 13347  |   Y  | yfrench                  | Re: mdp\n",
      " 13341  |   Y  | melissaanthony           | signature de ta pk\n",
      " 13339  |   Y  | debradavidson            | signature\n",
      " 13325  |   Y  | melissaanthony           | Hey Moha\n",
      " 13323  |   Y  | anonymous.coward         | Re: A\n",
      " 13321  |   Y  | anonymous.coward         | Il faut qu'on parle\n",
      " 13320  |   N  | anonymous.coward         | Il faut qu'on parle\n",
      " 13319  |   N  | anonymous.coward         | Il faut qu'on parle\n",
      " 13318  |   N  | anonymous.coward         | Il faut qu'on parle\n",
      " 13236  |   Y  | UGLIX Management         | [work] Invitation\n",
      " 13223  |   Y  | stevensdavid             | Re: Test\n",
      " 13161  |   Y  | yfrench                  | Re: Test\n",
      " 13160  |   Y  | yfrench                  | Re: Test\n",
      " 13154  |   Y  | yfrench                  | Re: Test\n",
      " 13147  |   Y  | yfrench                  | Re: Test\n",
      " 13146  |   Y  | yfrench                  | Re: Test\n",
      " 12667  |   Y  | anthonywebb              | Re: mots\n",
      " 12666  |   Y  | anthonywebb              | Re: mots\n",
      " 12665  |   Y  | anthonywebb              | Re: mots\n",
      " 12645  |   Y  | anthonywebb              | Re: mots\n",
      " 12644  |   Y  | anthonywebb              | Re: mots\n",
      "\n",
      "\n"
     ]
    }
   ],
   "source": [
    "mail(\"palmerjohn\")"
   ]
  },
  {
   "cell_type": "code",
   "execution_count": 40,
   "metadata": {},
   "outputs": [
    {
     "name": "stdout",
     "output_type": "stream",
     "text": [
      "----------------------------------------------------------------------\n",
      "Message #13422.\n",
      "\n",
      "\n",
      "Date: 13-02-21893 18:11:48\n",
      "From: wnunez\n",
      "Subject: Envoie signature \n",
      "\n",
      "XPktvGI2paiVQM38J553byimM7ySQVwUVII4TecY448s/cmSvxZlD4ROIUm3EAaaS3felwIEytIgkKWNUiL/PaNjwl8qdKUcynCW+z16UiP0wakYqMMuMATvqoUQWd8/gFCoYsLGZnAK04A+SQ7J9b+SaqDdsROsnyAefz+Ld+Q=\n",
      "\n",
      "\n",
      "None\n"
     ]
    }
   ],
   "source": [
    "Ma_cle_signe_par_ami= mail(\"palmerjohn\", \"13422\")\n",
    "print(Ma_cle_signe_par_ami)"
   ]
  },
  {
   "cell_type": "code",
   "execution_count": 41,
   "metadata": {},
   "outputs": [],
   "source": [
    "Ma_cle_signe_par_ami ='XPktvGI2paiVQM38J553byimM7ySQVwUVII4TecY448s/cmSvxZlD4ROIUm3EAaaS3felwIEytIgkKWNUiL/PaNjwl8qdKUcynCW+z16UiP0wakYqMMuMATvqoUQWd8/gFCoYsLGZnAK04A+SQ7J9b+SaqDdsROsnyAefz+Ld+Q='"
   ]
  },
  {
   "cell_type": "code",
   "execution_count": 42,
   "metadata": {},
   "outputs": [
    {
     "data": {
      "text/plain": [
       "'OK'"
      ]
     },
     "execution_count": 42,
     "metadata": {},
     "output_type": "execute_result"
    }
   ],
   "source": [
    "c.post(\"/bin/key-management/upload-signature\", signature= Ma_cle_signe_par_ami, signer= \"wnunez\")"
   ]
  },
  {
   "cell_type": "code",
   "execution_count": 51,
   "metadata": {},
   "outputs": [
    {
     "data": {
      "text/plain": [
       "'STATUS: OK --- mail delivered succesfully\\n[ You have new mail ]'"
      ]
     },
     "execution_count": 51,
     "metadata": {},
     "output_type": "execute_result"
    }
   ],
   "source": [
    "c.post('/bin/sendmail', to='anonymous.coward', subject=\"A\", content=\"FINI\")"
   ]
  },
  {
   "cell_type": "code",
   "execution_count": 80,
   "metadata": {},
   "outputs": [
    {
     "name": "stdout",
     "output_type": "stream",
     "text": [
      "{\"session_key\": \"p/KagaJyMF10HludIZeIIWHKnLNbeJURhK1iiI5zWX4Y8h9cD/lpPESj1gLwnYwaDynkq60cEEi18QEHqvdYrn3wLs/0N5jGCdCxkJdYdrTrnBH8aqYqW2NOtdDPPeW7VgR8jOiSbL43fLNRlqypGF+ZyFaNe/NkXMZMAIo0vWY282sVdbQ2Cun+vttbWB5OjQQ3BOW3SsdhA11pC5fI/djCcvASfoUiCjGNf2/Ln61cBSDtFsoVd7HOX81ZKL5zCA8S1Zs2jAMQBCjRJHaLGF8sMX6aIqyJ8pX9v5EDQLWbyBlkTIdbNyT5VlbK5HMhXXFsDiyQllsnX492hGPJ+Q==\", \"payload\": \"U2FsdGVkX1+M39RPH0Qpu4jkfT07T5gF6T0QF6KpLGGPjdUJpokWcb806bBTtfaP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\\n\"}\n"
     ]
    }
   ],
   "source": [
    "resultat = mail(\"palmerjohn\", \"13441\", \"/body\")"
   ]
  },
  {
   "cell_type": "code",
   "execution_count": 13,
   "metadata": {},
   "outputs": [],
   "source": [
    "resultat ={\"session_key\": \"p/KagaJyMF10HludIZeIIWHKnLNbeJURhK1iiI5zWX4Y8h9cD/lpPESj1gLwnYwaDynkq60cEEi18QEHqvdYrn3wLs/0N5jGCdCxkJdYdrTrnBH8aqYqW2NOtdDPPeW7VgR8jOiSbL43fLNRlqypGF+ZyFaNe/NkXMZMAIo0vWY282sVdbQ2Cun+vttbWB5OjQQ3BOW3SsdhA11pC5fI/djCcvASfoUiCjGNf2/Ln61cBSDtFsoVd7HOX81ZKL5zCA8S1Zs2jAMQBCjRJHaLGF8sMX6aIqyJ8pX9v5EDQLWbyBlkTIdbNyT5VlbK5HMhXXFsDiyQllsnX492hGPJ+Q==\", \"payload\": \"U2FsdGVkX1+M39RPH0Qpu4jkfT07T5gF6T0QF6KpLGGPjdUJpokWcb806bBTtfaP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\\n\"}"
   ]
  },
  {
   "cell_type": "code",
   "execution_count": 37,
   "metadata": {},
   "outputs": [
    {
     "name": "stdout",
     "output_type": "stream",
     "text": [
      "da3347fccc04bd86b34ab99803086f35\n"
     ]
    }
   ],
   "source": [
    "session_key = resultat[\"session_key\"]\n",
    "cle = decrypt_public(session_key,'key_private.pub')\n",
    "print(cle)\n",
    "payload = resultat[\"payload\"]\n",
    "s2file(payload, \"payload.txt\")"
   ]
  },
  {
   "cell_type": "code",
   "execution_count": 39,
   "metadata": {},
   "outputs": [
    {
     "name": "stdout",
     "output_type": "stream",
     "text": [
      "Salut palmerjohn,\n",
      "\n",
      "Tout d'abord, mettons les choses au clair. Je ne m'appelle pas anonymous.coward.\n",
      "\n",
      "J'ai pu créer ce compte grace à mes privilèges d'administration, et, à ce que je\n",
      "sache, il n'est pas lié à ma véritable identité. Je prends un certain nombre de\n",
      "précautions pour que ça reste comme ça.\n",
      "\n",
      "Tu devines ou tu sais déjà que tout ne va pas pour le mieux dans le meilleur des \n",
      "mondes. La police a un comportement aggressif envers tous ceux qui ne font \n",
      "qu'exprimer des désaccords ou même de simples doutes. Les canards boiteux sont \n",
      "accusés de \"cyber-terrorisme\" sous n'importe quel prétexte, et c'est \n",
      "suffisamment intimidant pour que tout le monde se la ferme. Ceux qui ne \n",
      "comprennent pas le premier avertissement ont des \"accidents\". Des gens \n",
      "disparaissent. Même les administrateurs de rang élevé, qui bénéficiaient \n",
      "du respect et de l'estime générale ne se sentent plus à l'abri maintenant.\n",
      "\n",
      "Enfin, tu as du comprendre que la CLEA n'est qu'un des aspects de la situation,\n",
      "et pas franchement le plus compliqué.\n",
      "\n",
      "\n",
      "J'appartiens à un petit groupe, considéré comme \"terroriste\" bien sûr. Des amis \n",
      "hauts-placés ont mis à notre disposition une machine virtuelle. Nous avons\n",
      "installé dessus un petit système d'exploitation maison et minimaliste.\n",
      "\n",
      "Là-dedans, nous pouvons discuter librement, sans craindre les flics ni... les\n",
      "autres problèmes.\n",
      "\n",
      "Maintenant que tu as lu ceci, tu as deux choix.\n",
      "\n",
      "Soit tu peux reprendre ta petite vie normale. Nos chemins se recroiseront \n",
      "peut-être de toute façon.\n",
      "\n",
      "Soit tu peux prendre les choses en main et participer à notre organisation. Dans\n",
      "ce cas, il te faut accéder à notre machine virtuelle. Nous avons tenu à ce que\n",
      "ça ne soit pas très facile, pour éviter les intrusions non-sollicitées. L'accès\n",
      "aux machines virtuelles se fait par le protocole Kerberos. Tu dois sûrement déjà\n",
      "savoir que l'accès aux machines virtuelles se fait à l'adresse /bin/uVM, et tu \n",
      "trouveras de la documentation utile à /doc/kerberos.\n",
      "\n",
      "Par sécurité, je ne te tiens pas à te donner ici l'identifiant de notre machine\n",
      "virtuelle. Après tout, je ne sais pas TRÈS BIEN qui tu es, ni si ce canal de\n",
      "communication est fiable. Après tout, nous jouons gros. Cependant, si tu es \n",
      "déterminé, tu finiras bien par te débrouiller pour l'obtenir.\n",
      "\n",
      "michael60 était sur le point d'y avoir accès quand il s'est fait choper. Tu\n",
      "trouveras dans son compte les fichiers dont tu auras besoin pour cela.\n",
      "\n",
      "Un dernier détail. Quand tu vois apparaître des trucs comme ça :\n",
      "\n",
      "    WEB.OF.TRUST:3030:3@616092|dbfd80b9d22a0be12ad410675a7ad05c\n",
      "\n",
      "ça veut dire d'une part que tu es sur la bonne piste, mais d'autre part que le\n",
      "dispositif qui produit ces trucs SAIT ce que tu fais.\n",
      "----\n",
      "anonymous.coward\n"
     ]
    }
   ],
   "source": [
    "decrypter_fichier(\"payload.txt\", cle)"
   ]
  },
  {
   "cell_type": "raw",
   "metadata": {},
   "source": [
    "\n",
    "\n",
    "                    ######################################################################\n",
    "                                              kerberos\n",
    "                    ######################################################################\n",
    "\n"
   ]
  },
  {
   "cell_type": "code",
   "execution_count": 8,
   "metadata": {},
   "outputs": [],
   "source": [
    "def commande_stp(method, url, nom_fichier, K):\n",
    "    requete = {'method': method, 'url': url}\n",
    "    requete_json = json.dumps(requete)\n",
    "    requete_chiffre = encrypt2(requete_json, K)\n",
    "    resultat = c.post_raw(url = '/bin/uVM/4919/gateway', data = requete_chiffre, content_type='application/octet-stream')\n",
    "    resultat = base64.b64encode(resultat).decode()\n",
    "    with open(nom_fichier, 'w') as f: \n",
    "        for i in range(0, len(resultat)): \n",
    "            if (i % 64 == 0): \n",
    "                f.write(\"\\n\")\n",
    "                f.write(resultat[i])\n",
    "            else : \n",
    "                f.write(resultat[i])"
   ]
  },
  {
   "cell_type": "code",
   "execution_count": 9,
   "metadata": {},
   "outputs": [
    {
     "name": "stdout",
     "output_type": "stream",
     "text": [
      "palmerjohn\n"
     ]
    }
   ],
   "source": [
    "print(login)"
   ]
  },
  {
   "cell_type": "code",
   "execution_count": 24,
   "metadata": {},
   "outputs": [
    {
     "name": "stdout",
     "output_type": "stream",
     "text": [
      "Kerberos session established successfully. Access to /bin/uVM/4919 granted to palmerjohn.\n"
     ]
    }
   ],
   "source": [
    "reponse = c.get(\"/bin/kerberos/authentication-service/palmerjohn\")\n",
    "\n",
    "#AUTHENTIFICATION\n",
    "TGT = reponse['TGT']\n",
    "Client_TGS_session_key = reponse['Client-TGS-session-key']\n",
    "s2file(Client_TGS_session_key, \"Client_TGS_session_key.txt\")\n",
    "Client_TGS_session_key = decrypt( \"Client_TGS_session_key.txt\", \"j^5vL+Fpv@\")\n",
    "\n",
    "#AUTHENTIFICATEURS\n",
    "d = {'username': 'palmerjohn', 'timestamp': time.time()}\n",
    "e = json.dumps(d)\n",
    "authentificateurs = encrypt(e, Client_TGS_session_key)\n",
    "\n",
    "#OBTENTION D'UN TICKET DE SERVICE\n",
    "dico = c.post(\"/bin/kerberos/ticket-granting-service\", TGT= TGT, vm_name = 4919 , authenticator = authentificateurs)\n",
    "\n",
    "#CONNECTION À LA MACHINE VIRTUELLE DÉSIRÉE\n",
    "Client_Server_ticket = dico['Client-Server-ticket']\n",
    "Client_Server_session_key = dico['Client-Server-session-key']\n",
    "s2file(Client_Server_session_key, \"Client_Server_session_key.txt\")\n",
    "Client_Server_session_key = decrypt(\"Client_Server_session_key.txt\", Client_TGS_session_key)\n",
    "\n",
    "d = {'username': 'palmerjohn', 'timestamp': time.time()}\n",
    "e = json.dumps(d)\n",
    "authenticator = encrypt(e, Client_Server_session_key)\n",
    "\n",
    "reponse = c.post(\"/bin/uVM/4919/hello\", ticket= Client_Server_ticket, authenticator= authenticator)\n",
    "print(reponse)"
   ]
  },
  {
   "cell_type": "code",
   "execution_count": 27,
   "metadata": {},
   "outputs": [],
   "source": [
    "reponse = commande_stp(\"GET\", \"/\", \"UVM0.txt\", Client_Server_session_key )"
   ]
  },
  {
   "cell_type": "code",
   "execution_count": 12,
   "metadata": {},
   "outputs": [
    {
     "name": "stdout",
     "output_type": "stream",
     "text": [
      "Kerberos session established successfully. Access to /bin/uVM/0 granted to palmerjohn.\n"
     ]
    }
   ],
   "source": [
    "reponse = c.get(\"/bin/kerberos/authentication-service/palmerjohn\")\n",
    "\n",
    "#AUTHENTIFICATION\n",
    "TGT = reponse['TGT']\n",
    "Client_TGS_session_key = reponse['Client-TGS-session-key']\n",
    "s2file(Client_TGS_session_key, \"Client_TGS_session_key.txt\")\n",
    "Client_TGS_session_key = decrypt( \"Client_TGS_session_key.txt\", \"j^5vL+Fpv@\")\n",
    "\n",
    "#AUTHENTIFICATEURS\n",
    "d = {'username': 'palmerjohn', 'timestamp': time.time()}\n",
    "e = json.dumps(d)\n",
    "authentificateurs = encrypt(e, Client_TGS_session_key)\n",
    "\n",
    "#OBTENTION D'UN TICKET DE SERVICE\n",
    "dico = c.post(\"/bin/kerberos/ticket-granting-service\", TGT= TGT, vm_name = 0 , authenticator = authentificateurs)\n",
    "\n",
    "#CONNECTION À LA MACHINE VIRTUELLE DÉSIRÉE\n",
    "Client_Server_ticket = dico['Client-Server-ticket']\n",
    "Client_Server_session_key = dico['Client-Server-session-key']\n",
    "s2file(Client_Server_session_key, \"Client_Server_session_key.txt\")\n",
    "Client_Server_session_key = decrypt(\"Client_Server_session_key.txt\", Client_TGS_session_key)\n",
    "\n",
    "d = {'username': 'palmerjohn', 'timestamp': time.time()}\n",
    "e = json.dumps(d)\n",
    "authenticator = encrypt(e, Client_Server_session_key)\n",
    "\n",
    "reponse = c.post(\"/bin/uVM/0/hello\", ticket= Client_Server_ticket, authenticator= authenticator)\n",
    "print(reponse)"
   ]
  },
  {
   "cell_type": "code",
   "execution_count": 13,
   "metadata": {},
   "outputs": [
    {
     "ename": "NameError",
     "evalue": "name 'encrypt2' is not defined",
     "output_type": "error",
     "traceback": [
      "\u001b[0;31m---------------------------------------------------------------------------\u001b[0m",
      "\u001b[0;31mNameError\u001b[0m                                 Traceback (most recent call last)",
      "\u001b[0;32m<ipython-input-13-16389e82060d>\u001b[0m in \u001b[0;36m<module>\u001b[0;34m\u001b[0m\n\u001b[0;32m----> 1\u001b[0;31m \u001b[0mreponse\u001b[0m \u001b[0;34m=\u001b[0m \u001b[0mcommande_stp\u001b[0m\u001b[0;34m(\u001b[0m\u001b[0;34m\"GET\"\u001b[0m\u001b[0;34m,\u001b[0m \u001b[0;34m\"/\"\u001b[0m\u001b[0;34m,\u001b[0m \u001b[0;34m\"UVM0.txt\"\u001b[0m\u001b[0;34m,\u001b[0m \u001b[0mClient_Server_session_key\u001b[0m \u001b[0;34m)\u001b[0m\u001b[0;34m\u001b[0m\u001b[0;34m\u001b[0m\u001b[0m\n\u001b[0m",
      "\u001b[0;32m<ipython-input-8-9f790f9e4d4b>\u001b[0m in \u001b[0;36mcommande_stp\u001b[0;34m(method, url, nom_fichier, K)\u001b[0m\n\u001b[1;32m      2\u001b[0m     \u001b[0mrequete\u001b[0m \u001b[0;34m=\u001b[0m \u001b[0;34m{\u001b[0m\u001b[0;34m'method'\u001b[0m\u001b[0;34m:\u001b[0m \u001b[0mmethod\u001b[0m\u001b[0;34m,\u001b[0m \u001b[0;34m'url'\u001b[0m\u001b[0;34m:\u001b[0m \u001b[0murl\u001b[0m\u001b[0;34m}\u001b[0m\u001b[0;34m\u001b[0m\u001b[0;34m\u001b[0m\u001b[0m\n\u001b[1;32m      3\u001b[0m     \u001b[0mrequete_json\u001b[0m \u001b[0;34m=\u001b[0m \u001b[0mjson\u001b[0m\u001b[0;34m.\u001b[0m\u001b[0mdumps\u001b[0m\u001b[0;34m(\u001b[0m\u001b[0mrequete\u001b[0m\u001b[0;34m)\u001b[0m\u001b[0;34m\u001b[0m\u001b[0;34m\u001b[0m\u001b[0m\n\u001b[0;32m----> 4\u001b[0;31m     \u001b[0mrequete_chiffre\u001b[0m \u001b[0;34m=\u001b[0m \u001b[0mencrypt2\u001b[0m\u001b[0;34m(\u001b[0m\u001b[0mrequete_json\u001b[0m\u001b[0;34m,\u001b[0m \u001b[0mK\u001b[0m\u001b[0;34m)\u001b[0m\u001b[0;34m\u001b[0m\u001b[0;34m\u001b[0m\u001b[0m\n\u001b[0m\u001b[1;32m      5\u001b[0m     \u001b[0mresultat\u001b[0m \u001b[0;34m=\u001b[0m \u001b[0mc\u001b[0m\u001b[0;34m.\u001b[0m\u001b[0mpost_raw\u001b[0m\u001b[0;34m(\u001b[0m\u001b[0murl\u001b[0m \u001b[0;34m=\u001b[0m \u001b[0;34m'/bin/uVM/4919/gateway'\u001b[0m\u001b[0;34m,\u001b[0m \u001b[0mdata\u001b[0m \u001b[0;34m=\u001b[0m \u001b[0mrequete_chiffre\u001b[0m\u001b[0;34m,\u001b[0m \u001b[0mcontent_type\u001b[0m\u001b[0;34m=\u001b[0m\u001b[0;34m'application/octet-stream'\u001b[0m\u001b[0;34m)\u001b[0m\u001b[0;34m\u001b[0m\u001b[0;34m\u001b[0m\u001b[0m\n\u001b[1;32m      6\u001b[0m     \u001b[0mresultat\u001b[0m \u001b[0;34m=\u001b[0m \u001b[0mbase64\u001b[0m\u001b[0;34m.\u001b[0m\u001b[0mb64encode\u001b[0m\u001b[0;34m(\u001b[0m\u001b[0mresultat\u001b[0m\u001b[0;34m)\u001b[0m\u001b[0;34m.\u001b[0m\u001b[0mdecode\u001b[0m\u001b[0;34m(\u001b[0m\u001b[0;34m)\u001b[0m\u001b[0;34m\u001b[0m\u001b[0;34m\u001b[0m\u001b[0m\n",
      "\u001b[0;31mNameError\u001b[0m: name 'encrypt2' is not defined"
     ]
    }
   ],
   "source": [
    "reponse = commande_stp(\"GET\", \"/\", \"UVM0.txt\", Client_Server_session_key )"
   ]
  },
  {
   "cell_type": "code",
   "execution_count": 44,
   "metadata": {},
   "outputs": [
    {
     "name": "stdout",
     "output_type": "stream",
     "text": [
      "HAL HAL HAL HAL HAL HAL HAL HAL HAL HAL HAL HAL HAL HAL HAL HAL HAL HAL HAL HAL\n",
      "HAL HAL HAL HAL HAL HAL HAL HAL HAL HAL HAL HAL HAL HAL HAL HAL HAL HAL HAL HAL\n",
      "HAL HAL HAL HAL HAL HAL HAL HAL HAL HAL HAL HAL HAL HAL HAL HAL HAL HAL HAL HAL\n",
      "HAL HAL HAL HAL HAL HAL HAL HAL HAL HAL HAL HAL HAL HAL HAL HAL HAL HAL HAL HAL\n",
      "HAL HAL HAL HAL HAL HAL HAL HAL HAL HAL HAL HAL HAL HAL HAL HAL HAL HAL HAL HAL\n",
      "HAL HAL HAL HAL HAL HAL HAL HAL HAL HAL HAL HAL HAL HAL HAL HAL HAL HAL HAL HAL\n",
      "HAL HAL HAL HAL HAL                                         HAL HAL HAL HAL HAL\n",
      "HAL HAL HAL HAL HAL  LIGLUX v4.9.0-4          [u/VM guest]  HAL HAL HAL HAL HAL\n",
      "HAL HAL HAL HAL HAL                                         HAL HAL HAL HAL HAL\n",
      "HAL HAL HAL HAL HAL                                         HAL HAL HAL HAL HAL\n",
      "HAL HAL HAL HAL HAL                                         HAL HAL HAL HAL HAL\n",
      "HAL HAL HAL HAL HAL                                         HAL HAL HAL HAL HAL\n",
      "HAL HAL HAL HAL HAL  L      I  GGGGG  L      U   U  X   X   HAL HAL HAL HAL HAL\n",
      "HAL HAL HAL HAL HAL  L      I  G      L      U   U   X X    HAL HAL HAL HAL HAL\n",
      "HAL HAL HAL HAL HAL  L      I  G  GG  L      U   U    X     HAL HAL HAL HAL HAL\n",
      "HAL HAL HAL HAL HAL  L      I  G   G  L      U   U   X X    HAL HAL HAL HAL HAL\n",
      "HAL HAL HAL HAL HAL  LLLLL  I  GGGGG  LLLLL  UUUUU  X   X   HAL HAL HAL HAL HAL\n",
      "HAL HAL HAL HAL HAL                                         HAL HAL HAL HAL HAL\n",
      "HAL HAL HAL HAL HAL                                         HAL HAL HAL HAL HAL\n",
      "HAL HAL HAL HAL HAL                                         HAL HAL HAL HAL HAL\n",
      "HAL HAL HAL HAL HAL                                         HAL HAL HAL HAL HAL\n",
      "HAL HAL HAL HAL HAL     An Open-Source lightweight OS       HAL HAL HAL HAL HAL\n",
      "HAL HAL HAL HAL HAL                                         HAL HAL HAL HAL HAL\n",
      "HAL HAL HAL HAL HAL                                         HAL HAL HAL HAL HAL\n",
      "HAL HAL HAL HAL HAL                                         HAL HAL HAL HAL HAL\n",
      "HAL HAL HAL HAL HAL                                         HAL HAL HAL HAL HAL\n",
      "HAL HAL HAL HAL HAL                                         HAL HAL HAL HAL HAL\n",
      "HAL HAL HAL HAL HAL  Non-interactive production setup:      HAL HAL HAL HAL HAL\n",
      "HAL HAL HAL HAL HAL      + no local login                   HAL HAL HAL HAL HAL\n",
      "HAL HAL HAL HAL HAL      + no guest account                 HAL HAL HAL HAL HAL\n",
      "HAL HAL HAL HAL HAL                                         HAL HAL HAL HAL HAL\n",
      "HAL HAL HAL HAL HAL  Running in Partition#33999             HAL HAL HAL HAL HAL\n",
      "HAL HAL HAL HAL HAL                                         HAL HAL HAL HAL HAL\n",
      "HAL HAL HAL HAL HAL HAL HAL HAL HAL HAL HAL HAL HAL HAL HAL HAL HAL HAL HAL HAL\n",
      "HAL HAL HAL HAL HAL HAL HAL HAL HAL HAL HAL HAL HAL HAL HAL HAL HAL HAL HAL HAL\n",
      "HAL HAL HAL HAL HAL HAL HAL HAL HAL HAL HAL HAL HAL HAL HAL HAL HAL HAL HAL HAL\n",
      "HAL HAL HAL HAL HAL HAL HAL HAL HAL HAL HAL HAL HAL HAL HAL HAL HAL HAL HAL HAL\n",
      "HAL HAL HAL HAL HAL HAL HAL HAL HAL HAL HAL HAL HAL HAL HAL HAL HAL HAL HAL HAL\n",
      "HAL HAL HAL HAL HAL HAL HAL HAL HAL HAL HAL HAL HAL HAL HAL HAL HAL HAL HAL HAL\n",
      "\n"
     ]
    }
   ],
   "source": [
    "decrypter_fichier(\"UVM0.txt\", Client_Server_session_key)"
   ]
  },
  {
   "cell_type": "code",
   "execution_count": 40,
   "metadata": {},
   "outputs": [],
   "source": [
    "erreur =   b'Salted__\\x8b\\xa1<\\x93\\xb6\\x00\\xd2R\\xef\\x12(\\xa2P\\x9f\\xf9\\xb2\\xea\\xa1\\x91\\xa0R\\xed\\xd4\\\\:\\r\\xb2\\xe4\\x80c\\xc2\\xdaa%dt\\xdbyX_L\\xb3\\x02\\xc9=\\x0f\\xbb\\xe8\"\\xe9\\xe9\\x14\\xd9\\xc6\\x9a\\xe4,\\xde\\x19\\x92\\xd6\\xf2\\xc7\\x1a\\xec\\xd8\\xf5\\xa1W\\xcd\\xfe\\xa8'"
   ]
  },
  {
   "cell_type": "code",
   "execution_count": 41,
   "metadata": {},
   "outputs": [
    {
     "name": "stdout",
     "output_type": "stream",
     "text": [
      "uFS filesystem error: /bin/uVM/4919/chat-room not found.\n"
     ]
    }
   ],
   "source": [
    "lecture_message_erreur(erreur, Client_Server_session_key )"
   ]
  },
  {
   "cell_type": "raw",
   "metadata": {},
   "source": [
    "######################################################################\n",
    "                          Ticket 1496\n",
    "######################################################################"
   ]
  },
  {
   "cell_type": "code",
   "execution_count": 43,
   "metadata": {},
   "outputs": [
    {
     "ename": "ServerError",
     "evalue": "ERREUR 400, Une fois qu'un tunnel chiffré est ouvert, les requêtes doivent être adressées à la passerelle (/uglix/bin/gateway).\nVous avez envoyé une requête à /uglix/bin/login/stp",
     "output_type": "error",
     "traceback": [
      "\u001b[0;31m---------------------------------------------------------------------------\u001b[0m",
      "\u001b[0;31mServerError\u001b[0m                               Traceback (most recent call last)",
      "\u001b[0;32m<ipython-input-43-1a1c0901edb0>\u001b[0m in \u001b[0;36m<module>\u001b[0;34m\u001b[0m\n\u001b[0;32m----> 1\u001b[0;31m \u001b[0mnonce\u001b[0m \u001b[0;34m=\u001b[0m \u001b[0mc\u001b[0m\u001b[0;34m.\u001b[0m\u001b[0mpost\u001b[0m\u001b[0;34m(\u001b[0m\u001b[0;34m\"/bin/login/stp\"\u001b[0m\u001b[0;34m,\u001b[0m \u001b[0musername\u001b[0m\u001b[0;34m=\u001b[0m \u001b[0;34m\"michael60\"\u001b[0m\u001b[0;34m)\u001b[0m\u001b[0;34m\u001b[0m\u001b[0;34m\u001b[0m\u001b[0m\n\u001b[0m",
      "\u001b[0;32m<ipython-input-24-74291c68df9f>\u001b[0m in \u001b[0;36mpost\u001b[0;34m(self, url, **kwds)\u001b[0m\n\u001b[1;32m     84\u001b[0m             \u001b[0mrequest\u001b[0m\u001b[0;34m.\u001b[0m\u001b[0madd_header\u001b[0m\u001b[0;34m(\u001b[0m\u001b[0;34m'Content-type'\u001b[0m\u001b[0;34m,\u001b[0m \u001b[0;34m'application/json'\u001b[0m\u001b[0;34m)\u001b[0m\u001b[0;34m\u001b[0m\u001b[0;34m\u001b[0m\u001b[0m\n\u001b[1;32m     85\u001b[0m             \u001b[0mdata\u001b[0m \u001b[0;34m=\u001b[0m \u001b[0mjson\u001b[0m\u001b[0;34m.\u001b[0m\u001b[0mdumps\u001b[0m\u001b[0;34m(\u001b[0m\u001b[0mkwds\u001b[0m\u001b[0;34m)\u001b[0m\u001b[0;34m.\u001b[0m\u001b[0mencode\u001b[0m\u001b[0;34m(\u001b[0m\u001b[0;34m)\u001b[0m\u001b[0;34m\u001b[0m\u001b[0;34m\u001b[0m\u001b[0m\n\u001b[0;32m---> 86\u001b[0;31m         \u001b[0;32mreturn\u001b[0m \u001b[0mself\u001b[0m\u001b[0;34m.\u001b[0m\u001b[0m_query\u001b[0m\u001b[0;34m(\u001b[0m\u001b[0murl\u001b[0m\u001b[0;34m,\u001b[0m \u001b[0mrequest\u001b[0m\u001b[0;34m,\u001b[0m \u001b[0mdata\u001b[0m\u001b[0;34m)\u001b[0m\u001b[0;34m\u001b[0m\u001b[0;34m\u001b[0m\u001b[0m\n\u001b[0m\u001b[1;32m     87\u001b[0m \u001b[0;34m\u001b[0m\u001b[0m\n\u001b[1;32m     88\u001b[0m \u001b[0;34m\u001b[0m\u001b[0m\n",
      "\u001b[0;32m<ipython-input-24-74291c68df9f>\u001b[0m in \u001b[0;36m_query\u001b[0;34m(self, url, request, data)\u001b[0m\n\u001b[1;32m    185\u001b[0m             \u001b[0mheaders\u001b[0m \u001b[0;34m=\u001b[0m \u001b[0mdict\u001b[0m\u001b[0;34m(\u001b[0m\u001b[0me\u001b[0m\u001b[0;34m.\u001b[0m\u001b[0mheaders\u001b[0m\u001b[0;34m)\u001b[0m\u001b[0;34m\u001b[0m\u001b[0;34m\u001b[0m\u001b[0m\n\u001b[1;32m    186\u001b[0m             \u001b[0mmessage\u001b[0m \u001b[0;34m=\u001b[0m \u001b[0me\u001b[0m\u001b[0;34m.\u001b[0m\u001b[0mread\u001b[0m\u001b[0;34m(\u001b[0m\u001b[0;34m)\u001b[0m\u001b[0;34m\u001b[0m\u001b[0;34m\u001b[0m\u001b[0m\n\u001b[0;32m--> 187\u001b[0;31m             \u001b[0;32mraise\u001b[0m \u001b[0mServerError\u001b[0m\u001b[0;34m(\u001b[0m\u001b[0me\u001b[0m\u001b[0;34m.\u001b[0m\u001b[0mcode\u001b[0m\u001b[0;34m,\u001b[0m \u001b[0mself\u001b[0m\u001b[0;34m.\u001b[0m\u001b[0m_post_process\u001b[0m\u001b[0;34m(\u001b[0m\u001b[0mmessage\u001b[0m\u001b[0;34m,\u001b[0m \u001b[0mheaders\u001b[0m\u001b[0;34m)\u001b[0m\u001b[0;34m)\u001b[0m \u001b[0;32mfrom\u001b[0m \u001b[0;32mNone\u001b[0m\u001b[0;34m\u001b[0m\u001b[0;34m\u001b[0m\u001b[0m\n\u001b[0m\u001b[1;32m    188\u001b[0m \u001b[0;34m\u001b[0m\u001b[0m\n",
      "\u001b[0;31mServerError\u001b[0m: ERREUR 400, Une fois qu'un tunnel chiffré est ouvert, les requêtes doivent être adressées à la passerelle (/uglix/bin/gateway).\nVous avez envoyé une requête à /uglix/bin/login/stp"
     ]
    }
   ],
   "source": [
    "nonce = c.post(\"/bin/login/stp\", username= \"michael60\")"
   ]
  },
  {
   "cell_type": "code",
   "execution_count": null,
   "metadata": {},
   "outputs": [],
   "source": [
    "chapConnection('michael60vi')"
   ]
  },
  {
   "cell_type": "code",
   "execution_count": 78,
   "metadata": {},
   "outputs": [],
   "source": [
    "K = K = \"violates-\"+nonce\n",
    "requete = {'method': 'GET', 'url': '/bin/login/stp/handshake'}\n",
    "requete_json = json.dumps(requete)\n",
    "requete_chiffre = encrypt2(requete_json, K)\n",
    "resultat = c.post_raw(url = '/bin/gateway', data = requete_chiffre, content_type='application/octet-stream')\n",
    "resultat = base64.b64encode(resultat).decode()\n",
    "with open(\"reponse.txt\", 'w') as f: \n",
    "    for i in range(0, len(resultat)): \n",
    "        if (i % 64 == 0): \n",
    "            f.write(\"\\n\")\n",
    "            f.write(resultat[i])\n",
    "        else : \n",
    "            f.write(resultat[i])\n",
    "reponse = decrypt(\"reponse.txt\", K)"
   ]
  },
  {
   "cell_type": "code",
   "execution_count": 28,
   "metadata": {},
   "outputs": [
    {
     "name": "stdout",
     "output_type": "stream",
     "text": [
      "STP login successful. Access to /home/michael60 granted.\n",
      "[ You have new mail ]\n"
     ]
    }
   ],
   "source": [
    "print(reponse)"
   ]
  },
  {
   "cell_type": "code",
   "execution_count": 32,
   "metadata": {},
   "outputs": [],
   "source": [
    "def lecture_message_erreur(reponse,K): \n",
    "    reponse = base64.b64encode(reponse).decode()\n",
    "    with open(\"reponse.txt\", 'w') as f: \n",
    "        for i in range(0, len(reponse)): \n",
    "            if (i % 64 == 0): \n",
    "                f.write(\"\\n\")\n",
    "                f.write(reponse[i])\n",
    "            else : \n",
    "                f.write(reponse[i])\n",
    "    reponse = decrypt(\"reponse.txt\", K)\n",
    "    print(reponse)"
   ]
  },
  {
   "cell_type": "code",
   "execution_count": 39,
   "metadata": {},
   "outputs": [],
   "source": [
    "def get_stp(url, nom_fichier): \n",
    "    requete = {'method': 'GET', 'url': url}\n",
    "    requete_json = json.dumps(requete)\n",
    "    requete_chiffre = encrypt2(requete_json, K)\n",
    "    resultat = c.post_raw(url = '/bin/gateway', data = requete_chiffre, content_type='application/octet-stream')\n",
    "    resultat = base64.b64encode(resultat).decode()\n",
    "    with open(nom_fichier, 'w') as f: \n",
    "        for i in range(0, len(resultat)): \n",
    "            if (i % 64 == 0): \n",
    "                f.write(\"\\n\")\n",
    "                f.write(resultat[i])\n",
    "            else : \n",
    "                f.write(resultat[i])\n",
    "    reponse = decrypter_fichier(nom_fichier, K)\n",
    "    print(reponse)\n",
    "    "
   ]
  },
  {
   "cell_type": "code",
   "execution_count": 42,
   "metadata": {},
   "outputs": [
    {
     "name": "stdout",
     "output_type": "stream",
     "text": [
      "Lors d'une opération routinière d'inspection des logs du système, un admin a\n",
      "découvert que le programme /bin/fsck avait parfois un comportement surprenant.\n",
      "Un extrait du log suspect se trouve en pièce-jointe (id=\"log\").\n",
      "\n",
      "Le programme /bin/fsck a manifestement été modifié de manière non-autorisée.\n",
      "Ceci est très inquiétant car seuls des utilisateurs possédants un niveau de\n",
      "privilège très élevé ont le droit de modifier des exécutables du système.\n",
      "\n",
      "Tout ceci devient encore plus mystérieux et plus grave si on y ajoute le fait\n",
      "que c'est michael60 qui a lancé /bin/fsck. Notre hypothèse de travail\n",
      "actuelle est que michael60 cherchait à provoquer le déclenchement du code\n",
      "malicieux, mais nous ne savons pas encore pourquoi.\n",
      "\n",
      "Deux équipes vont travailler en parallèle : d'une part, l'équipe de retro-\n",
      "conception se charge d'examiner le fichier /bin/fsck. Une étude préliminaire \n",
      "montre le code a été obfusqué avec des méthodes cryptographiques, donc il ne va\n",
      "pas y avoir de résultats rapides. \n",
      "\n",
      "D'autre part, **VOUS** allez enquêter à partir des logs. Votre objectif \n",
      "principal est de déterminer le rôle du code suspect injecté dans /bin/fsck. \n",
      "L'objectif secondaire consiste à cerner les motivations de michael60.\n",
      "\n",
      "Bien sûr, il faut avoir les privilèges d'administrations pour lancer /bin/fsck,\n",
      "et bien sûr il est hors de question qu'on les octroie officiellement à un \n",
      "vulgaire consultant comme vous. Mais vous saurez bien vous débrouiller. C'est\n",
      "pour ça qu'on vous a embauché.\n",
      "\n",
      "Votre tâche sera terminée lorsque vous aurez réussi à provoquer le déclenchement\n",
      "complet du code suspect, ce qui nous permettra de l'examiner plus facilement.\n",
      "Vous pourrez alors fermer le ticket.\n",
      "\n",
      "Vous avez aussi accès à la base de connaissance accumulée par vos prédécésseurs \n",
      "(id = \"indication-[01234]\").\n",
      "----\n",
      "[---REDACTED---], CLEA director\n",
      "\"Don't break the (cyber-)law\"\n",
      "[ You have new mail ]\n",
      "None\n"
     ]
    }
   ],
   "source": [
    "get_stp('/bin/police_hq/ticket/1496', \"piece_jointe\")"
   ]
  },
  {
   "cell_type": "code",
   "execution_count": 35,
   "metadata": {},
   "outputs": [
    {
     "name": "stdout",
     "output_type": "stream",
     "text": [
      "fsck from UGLIX-util 2.20.1\n",
      "ufsck 1.42 (29-Nov-18011)\n",
      "/dev/flash0 contains a (clean) UglFS file system, manual check forced.\n",
      "Pass 1 : Checking unodes, blocks, and sizes\n",
      "Pass 2 : Checking (blocks vs files) maximum-flow\n",
      "Pass 3 : Checking that block subgraph contains a (large) independent set\n",
      "Pass 4 : Checking longest cycle in file subgraph\n",
      "Pass 5 : Checking 3-colorability of dual file graph\n",
      "Pass 6 : Checking for file deduplication issues\n",
      "WARNING: Non-deduplicated files found\n",
      "    [starting problem resolution routine]\n",
      "    [MD5(/home/michael60/foo.bin) == MD5(/home/michael60/bar.bin)]\n",
      "    [Files with identical hash detected: full check forced]\n",
      "    [Comparing files...]\n",
      "    ---> files are different\n",
      "    ---> hash collision detected (probability 0.0000000000000000000000000001)\n",
      "    ---> FSCK PANIC: UNRECOVERABLE ERROR. BYE BYE\n",
      "        [EMERG*************************************************************** \n",
      "              *** Exception handler rerouted. P4wnV1rU$ starting          ***\n",
      "              *** Oooh, colliding files. Interesting...                   ***\n",
      "              *** Checking trigger conditions                             ***\n",
      "              *** 1. Number of files with identical hash: 2 (not enough)  ***\n",
      "              *** 2. Files begin with username: OK                        ***\n",
      "              *** 3. Files end with \"h4ck m0d3\": OK                       ***\n",
      "              *** Trigger conditions NOT met. Payload not launched.       ***\n",
      "              *** REASON : at least 4 colliding files must be present     ***\n",
      "              *** fsck call stack modified, exception handler cancelled   ***\n",
      "              *** P4wnV1rU$, out. See y0u n3*t t1m3                       ***\n",
      "              ***************************************************************\n",
      "              ENCY SHUTDOWN]\n",
      "        [SHUTDOWN ABORTED: why was I doing this?]\n",
      "        [recovered from error: \"UNRECOVERABLE ERROR\". Ending panic]\n",
      "    [deduplication issue resolved. Resuming fsck]\n",
      "fsck completed successfully.\n"
     ]
    }
   ],
   "source": [
    "get_stp('/bin/police_hq/ticket/1496/attachment/log', \"piece_jointe\")"
   ]
  },
  {
   "cell_type": "code",
   "execution_count": 95,
   "metadata": {},
   "outputs": [
    {
     "ename": "ServerError",
     "evalue": "ERREUR 403, b'Salted__kJ\\xdc\\xc3\\x92\\xa3\\xb9\\x94y\\t\\x9d\\xb9I\\xc1\\xf1\\xf1P\\xe1o:U\\xed\\xd2\\x19\\x17\\x81IMU\\xb7\\x0f\\xaa\\rr%|\\x91\\xd04xD1\\x02YN\\x1f\\x0c\\x8a\\xc7\\x8dQ\\xb9R\\xbf\\xd9!'",
     "output_type": "error",
     "traceback": [
      "\u001b[0;31m---------------------------------------------------------------------------\u001b[0m",
      "\u001b[0;31mServerError\u001b[0m                               Traceback (most recent call last)",
      "\u001b[0;32m<ipython-input-95-588eed2dda2e>\u001b[0m in \u001b[0;36m<module>\u001b[0;34m\u001b[0m\n\u001b[0;32m----> 1\u001b[0;31m \u001b[0mget_stp\u001b[0m\u001b[0;34m(\u001b[0m\u001b[0;34m'/bin/police_hq/ticket/1496/attachment/indication-0'\u001b[0m\u001b[0;34m,\u001b[0m \u001b[0;34m\"piece_jointe\"\u001b[0m\u001b[0;34m)\u001b[0m\u001b[0;34m\u001b[0m\u001b[0;34m\u001b[0m\u001b[0m\n\u001b[0m",
      "\u001b[0;32m<ipython-input-94-7d167c7f62d9>\u001b[0m in \u001b[0;36mget_stp\u001b[0;34m(url, nom_fichier)\u001b[0m\n\u001b[1;32m      3\u001b[0m     \u001b[0mrequete_json\u001b[0m \u001b[0;34m=\u001b[0m \u001b[0mjson\u001b[0m\u001b[0;34m.\u001b[0m\u001b[0mdumps\u001b[0m\u001b[0;34m(\u001b[0m\u001b[0mrequete\u001b[0m\u001b[0;34m)\u001b[0m\u001b[0;34m\u001b[0m\u001b[0;34m\u001b[0m\u001b[0m\n\u001b[1;32m      4\u001b[0m     \u001b[0mrequete_chiffre\u001b[0m \u001b[0;34m=\u001b[0m \u001b[0mencrypt2\u001b[0m\u001b[0;34m(\u001b[0m\u001b[0mrequete_json\u001b[0m\u001b[0;34m,\u001b[0m \u001b[0mK\u001b[0m\u001b[0;34m)\u001b[0m\u001b[0;34m\u001b[0m\u001b[0;34m\u001b[0m\u001b[0m\n\u001b[0;32m----> 5\u001b[0;31m     \u001b[0mresultat\u001b[0m \u001b[0;34m=\u001b[0m \u001b[0mc\u001b[0m\u001b[0;34m.\u001b[0m\u001b[0mpost_raw\u001b[0m\u001b[0;34m(\u001b[0m\u001b[0murl\u001b[0m \u001b[0;34m=\u001b[0m \u001b[0;34m'/bin/gateway'\u001b[0m\u001b[0;34m,\u001b[0m \u001b[0mdata\u001b[0m \u001b[0;34m=\u001b[0m \u001b[0mrequete_chiffre\u001b[0m\u001b[0;34m,\u001b[0m \u001b[0mcontent_type\u001b[0m\u001b[0;34m=\u001b[0m\u001b[0;34m'application/octet-stream'\u001b[0m\u001b[0;34m)\u001b[0m\u001b[0;34m\u001b[0m\u001b[0;34m\u001b[0m\u001b[0m\n\u001b[0m\u001b[1;32m      6\u001b[0m     \u001b[0mresultat\u001b[0m \u001b[0;34m=\u001b[0m \u001b[0mbase64\u001b[0m\u001b[0;34m.\u001b[0m\u001b[0mb64encode\u001b[0m\u001b[0;34m(\u001b[0m\u001b[0mresultat\u001b[0m\u001b[0;34m)\u001b[0m\u001b[0;34m.\u001b[0m\u001b[0mdecode\u001b[0m\u001b[0;34m(\u001b[0m\u001b[0;34m)\u001b[0m\u001b[0;34m\u001b[0m\u001b[0;34m\u001b[0m\u001b[0m\n\u001b[1;32m      7\u001b[0m     \u001b[0;32mwith\u001b[0m \u001b[0mopen\u001b[0m\u001b[0;34m(\u001b[0m\u001b[0mnom_fichier\u001b[0m\u001b[0;34m,\u001b[0m \u001b[0;34m'w'\u001b[0m\u001b[0;34m)\u001b[0m \u001b[0;32mas\u001b[0m \u001b[0mf\u001b[0m\u001b[0;34m:\u001b[0m\u001b[0;34m\u001b[0m\u001b[0;34m\u001b[0m\u001b[0m\n",
      "\u001b[0;32m<ipython-input-3-74291c68df9f>\u001b[0m in \u001b[0;36mpost_raw\u001b[0;34m(self, url, data, content_type)\u001b[0m\n\u001b[1;32m    117\u001b[0m         \u001b[0mrequest\u001b[0m \u001b[0;34m=\u001b[0m \u001b[0murllib\u001b[0m\u001b[0;34m.\u001b[0m\u001b[0mrequest\u001b[0m\u001b[0;34m.\u001b[0m\u001b[0mRequest\u001b[0m\u001b[0;34m(\u001b[0m\u001b[0mself\u001b[0m\u001b[0;34m.\u001b[0m\u001b[0m_base\u001b[0m \u001b[0;34m+\u001b[0m \u001b[0murl\u001b[0m\u001b[0;34m,\u001b[0m \u001b[0mmethod\u001b[0m\u001b[0;34m=\u001b[0m\u001b[0;34m'POST'\u001b[0m\u001b[0;34m)\u001b[0m\u001b[0;34m\u001b[0m\u001b[0;34m\u001b[0m\u001b[0m\n\u001b[1;32m    118\u001b[0m         \u001b[0mrequest\u001b[0m\u001b[0;34m.\u001b[0m\u001b[0madd_header\u001b[0m\u001b[0;34m(\u001b[0m\u001b[0;34m'Content-type'\u001b[0m\u001b[0;34m,\u001b[0m \u001b[0mcontent_type\u001b[0m\u001b[0;34m)\u001b[0m\u001b[0;34m\u001b[0m\u001b[0;34m\u001b[0m\u001b[0m\n\u001b[0;32m--> 119\u001b[0;31m         \u001b[0;32mreturn\u001b[0m \u001b[0mself\u001b[0m\u001b[0;34m.\u001b[0m\u001b[0m_query\u001b[0m\u001b[0;34m(\u001b[0m\u001b[0murl\u001b[0m\u001b[0;34m,\u001b[0m \u001b[0mrequest\u001b[0m\u001b[0;34m,\u001b[0m \u001b[0mdata\u001b[0m\u001b[0;34m)\u001b[0m\u001b[0;34m\u001b[0m\u001b[0;34m\u001b[0m\u001b[0m\n\u001b[0m\u001b[1;32m    120\u001b[0m \u001b[0;34m\u001b[0m\u001b[0m\n\u001b[1;32m    121\u001b[0m     \u001b[0;32mdef\u001b[0m \u001b[0mclose_session\u001b[0m\u001b[0;34m(\u001b[0m\u001b[0mself\u001b[0m\u001b[0;34m)\u001b[0m\u001b[0;34m:\u001b[0m\u001b[0;34m\u001b[0m\u001b[0;34m\u001b[0m\u001b[0m\n",
      "\u001b[0;32m<ipython-input-3-74291c68df9f>\u001b[0m in \u001b[0;36m_query\u001b[0;34m(self, url, request, data)\u001b[0m\n\u001b[1;32m    185\u001b[0m             \u001b[0mheaders\u001b[0m \u001b[0;34m=\u001b[0m \u001b[0mdict\u001b[0m\u001b[0;34m(\u001b[0m\u001b[0me\u001b[0m\u001b[0;34m.\u001b[0m\u001b[0mheaders\u001b[0m\u001b[0;34m)\u001b[0m\u001b[0;34m\u001b[0m\u001b[0;34m\u001b[0m\u001b[0m\n\u001b[1;32m    186\u001b[0m             \u001b[0mmessage\u001b[0m \u001b[0;34m=\u001b[0m \u001b[0me\u001b[0m\u001b[0;34m.\u001b[0m\u001b[0mread\u001b[0m\u001b[0;34m(\u001b[0m\u001b[0;34m)\u001b[0m\u001b[0;34m\u001b[0m\u001b[0;34m\u001b[0m\u001b[0m\n\u001b[0;32m--> 187\u001b[0;31m             \u001b[0;32mraise\u001b[0m \u001b[0mServerError\u001b[0m\u001b[0;34m(\u001b[0m\u001b[0me\u001b[0m\u001b[0;34m.\u001b[0m\u001b[0mcode\u001b[0m\u001b[0;34m,\u001b[0m \u001b[0mself\u001b[0m\u001b[0;34m.\u001b[0m\u001b[0m_post_process\u001b[0m\u001b[0;34m(\u001b[0m\u001b[0mmessage\u001b[0m\u001b[0;34m,\u001b[0m \u001b[0mheaders\u001b[0m\u001b[0;34m)\u001b[0m\u001b[0;34m)\u001b[0m \u001b[0;32mfrom\u001b[0m \u001b[0;32mNone\u001b[0m\u001b[0;34m\u001b[0m\u001b[0;34m\u001b[0m\u001b[0m\n\u001b[0m\u001b[1;32m    188\u001b[0m \u001b[0;34m\u001b[0m\u001b[0m\n",
      "\u001b[0;31mServerError\u001b[0m: ERREUR 403, b'Salted__kJ\\xdc\\xc3\\x92\\xa3\\xb9\\x94y\\t\\x9d\\xb9I\\xc1\\xf1\\xf1P\\xe1o:U\\xed\\xd2\\x19\\x17\\x81IMU\\xb7\\x0f\\xaa\\rr%|\\x91\\xd04xD1\\x02YN\\x1f\\x0c\\x8a\\xc7\\x8dQ\\xb9R\\xbf\\xd9!'"
     ]
    }
   ],
   "source": [
    "get_stp('/bin/police_hq/ticket/1496/attachment/indication-0', \"piece_jointe\")"
   ]
  },
  {
   "cell_type": "code",
   "execution_count": 38,
   "metadata": {},
   "outputs": [
    {
     "name": "stdout",
     "output_type": "stream",
     "text": [
      "Le programme de recherche de collision fonctionne de la façon suivante : \n",
      "\n",
      "*) Il lit un \"fichier préfixe\" (éventuellement vide), dont la taille doit être\n",
      "   un multiple de la taille des blocs.\n",
      "\n",
      "*) Le préfixe est haché, ce qui aboutit à une valeur de l'état interne h_prefix:\n",
      "\n",
      "    [IV] ---Prefix---> [h_prefix] \n",
      "\n",
      "\n",
      "*) A partir de là, un algorithme de recherche de collision est lancé. Cet\n",
      "   algorithme produit deux séquences de deux blocs chacunes, (A_0, A_1) et\n",
      "   (B_0, B_1), avec la propriété suivante :\n",
      "\n",
      "   h_prefix ---A_0---> ??? ---A_1---> h_coll\n",
      "   h_prefix ---B_0---> ??? ---B_1---> h_coll\n",
      "\n",
      "Du coup, on a la collision :\n",
      "\n",
      "    MD5(prefixe || A) == MD5(prefixe || B).\n",
      "\n",
      "Mais notez que l'utilitaire n'inclut pas automatiquement le prefixe dans les\n",
      "deux fichiers qu'il produit.\n"
     ]
    }
   ],
   "source": [
    "get_stp('/bin/police_hq/ticket/1496/attachment/indication-1', \"piece_jointe\")"
   ]
  },
  {
   "cell_type": "code",
   "execution_count": 53,
   "metadata": {},
   "outputs": [
    {
     "name": "stdout",
     "output_type": "stream",
     "text": [
      "None\n"
     ]
    }
   ],
   "source": [
    "def recherche_collision(fichier_prefix): \n",
    "    with open(\"fichier_prefix.txt\", \"w\") as f: \n",
    "        f.write(\"michael60\")\n",
    "        for i in range(0, 250-len(\"michael60\")): \n",
    "            f.write(\"1\")\n",
    "    x = sha256(fichier_prefix.encode())\n",
    "    x.digest()\n",
    "    x.hexdigest()\n",
    "print(recherche_collision(\"fichier_prefix.txt\"))"
   ]
  },
  {
   "cell_type": "code",
   "execution_count": 39,
   "metadata": {},
   "outputs": [
    {
     "name": "stdout",
     "output_type": "stream",
     "text": [
      "Pour mettre son nom d'utilisateur au début, il suffit de produire un préfixe (de\n",
      "la bonne taille) qui commence par son nom d'utilisateur, et qui finisse par\n",
      "n'importe quoi.\n"
     ]
    }
   ],
   "source": [
    "get_stp('/bin/police_hq/ticket/1496/attachment/indication-2', \"piece_jointe\")"
   ]
  },
  {
   "cell_type": "code",
   "execution_count": 40,
   "metadata": {},
   "outputs": [
    {
     "name": "stdout",
     "output_type": "stream",
     "text": [
      "Pour mettre \"h4ckm0d3\" à la fin, ce n'est pas beaucoup plus compliqué. L'astuce,\n",
      "c'est qu'une fois qu'on a deux messages qui collisionnent, on peut les recycler\n",
      "en rajoutant ce qu'on veut après.\n",
      "\n",
      "En effet, on a :\n",
      "\n",
      "    [IV] ---Prefix---> [h_prefix] ---A_0---> ??? ---A_1---> [h_coll]\n",
      "    [IV] ---Prefix---> [h_prefix] ---B_0---> ??? ---B_1---> [h_coll]\n",
      "\n",
      "Comme, de façon bien commode, les chaines : (Prefix||A) et (Prefix||B) ont une\n",
      "taille qui est un multiple de la taille du bloc, tout ce qu'on pourrait rajouter\n",
      "après va aller dans un nouveau bloc, et ne va donc pas perturber la collision :\n",
      "\n",
      "    [IV] ---Prefix---> [h_prefix] ---A---> [h_coll] ---Suffix---> [h_suffix]\n",
      "    [IV] ---Prefix---> [h_prefix] ---B---> [h_coll] ---Suffix---> [h_suffix]\n",
      "\n",
      "Notez que le mécanisme de paddign va entrer en action dans le suffixe, mais que\n",
      "ce n'est pas un problème.\n"
     ]
    }
   ],
   "source": [
    "get_stp('/bin/police_hq/ticket/1496/attachment/indication-3', \"piece_jointe\")"
   ]
  },
  {
   "cell_type": "code",
   "execution_count": 41,
   "metadata": {},
   "outputs": [
    {
     "name": "stdout",
     "output_type": "stream",
     "text": [
      "La partie un peu plus délicate consiste à produire non pas DEUX fichiers qui\n",
      "collisionnent, mais QUATRE. Pour cela, il faut utiliser la technique suivante,\n",
      "inventée par Antoine Joux en 2004.\n",
      "\n",
      "Partant d'une valeur de l'état interne quelconque (disons h_0), on trouve une\n",
      "première collision :\n",
      "\n",
      "    [h_0] ---A---> [h_1]\n",
      "    [h_0] ---B---> [h_1]\n",
      "\n",
      "Puis, partant de h_1, on trouve une deuxième collision :\n",
      "\n",
      "    [h_1] ---C---> [h_2]\n",
      "    [h_1] ---D---> [h_2]\n",
      "\n",
      "On a donc :\n",
      "\n",
      "    [h_0] ---A---> [h_1] ---C---> [h_2]\n",
      "    [h_0] ---A---> [h_1] ---D---> [h_2]\n",
      "    [h_0] ---B---> [h_1] ---C---> [h_2]\n",
      "    [h_0] ---B---> [h_1] ---D---> [h_2]\n",
      "\n",
      "Partant de l'état interne h_0, on a obtenu 4 séquences de 4 blocs qui\n",
      "aboutissent au même état interne h_2 : AC, AD, BC, BD.\n",
      "\n",
      "Concrètement, h_0 est l'état interne obtenu après avoir traité le préfixe.\n",
      "Pour que l'utilitaire de recherche de collision cherche une collision à partir\n",
      "de h_1, il faut lui donner un nouveau préfixe qui aboutisse à h_1. On peut lui\n",
      "donner, par exemple, (Prefix||A).\n",
      "\n",
      "Une fois qu'on a obtenu la 4-collision, on peut rajouter \"h4ckm0d3\" à la fin des\n",
      "4 messages qui collisionnent.\n"
     ]
    }
   ],
   "source": [
    "get_stp('/bin/police_hq/ticket/1496/attachment/indication-4', \"piece_jointe\")"
   ]
  },
  {
   "cell_type": "code",
   "execution_count": 32,
   "metadata": {},
   "outputs": [
    {
     "name": "stdout",
     "output_type": "stream",
     "text": [
      "fsck from UGLIX-util 2.20.1\n",
      "ufsck 1.42 (29-Nov-18011)\n",
      "/dev/flash0 contains a (clean) UglFS file system, manual check forced.\n",
      "Pass 1 : Checking unodes, blocks, and sizes\n",
      "Pass 2 : Checking (blocks vs files) maximum-flow\n",
      "Pass 3 : Checking that block subgraph contains a (large) independent set\n",
      "Pass 4 : Checking longest cycle in file subgraph\n",
      "Pass 5 : Checking 3-colorability of dual file graph\n",
      "Pass 6 : Checking for file deduplication issues\n",
      "fsck completed successfully.\n"
     ]
    }
   ],
   "source": [
    "get_stp('/bin/fsck', 'fsck.txt')"
   ]
  },
  {
   "cell_type": "code",
   "execution_count": 67,
   "metadata": {},
   "outputs": [
    {
     "name": "stdout",
     "output_type": "stream",
     "text": [
      "# Bienvenue, michael60.\n",
      "# Dernière connection le 13-02-21893 16:33:41 (protocole : STP)\n",
      "# Vous avez 2 messages non lus (4 en tout).\n",
      "\n",
      "================================================================================\n",
      "Rumeur du jour: \n",
      "\n",
      "Il y aurait des missions non-documentées.\n",
      "================================================================================\n",
      "\n",
      "***** Contenu de votre dossier personnel ******\n",
      "\n",
      "  /home/michael60/TODO\n",
      "  /home/michael60/md5_collider.tar.gz\n",
      "  /home/michael60/research.jpg\n",
      "  /home/michael60/chat.log\n",
      "\n"
     ]
    }
   ],
   "source": [
    "get_stp('/home/michael60', 'foo.txt')"
   ]
  },
  {
   "cell_type": "code",
   "execution_count": 96,
   "metadata": {},
   "outputs": [
    {
     "ename": "UnicodeDecodeError",
     "evalue": "'utf-8' codec can't decode byte 0xff in position 0: invalid start byte",
     "output_type": "error",
     "traceback": [
      "\u001b[0;31m---------------------------------------------------------------------------\u001b[0m",
      "\u001b[0;31mUnicodeDecodeError\u001b[0m                        Traceback (most recent call last)",
      "\u001b[0;32m<ipython-input-96-f1cd4cfbd5b3>\u001b[0m in \u001b[0;36m<module>\u001b[0;34m\u001b[0m\n\u001b[0;32m----> 1\u001b[0;31m \u001b[0mget_stp\u001b[0m\u001b[0;34m(\u001b[0m\u001b[0;34m'/home/michael60/research.jpg'\u001b[0m\u001b[0;34m,\u001b[0m \u001b[0;34m'foo.txt'\u001b[0m\u001b[0;34m)\u001b[0m\u001b[0;34m\u001b[0m\u001b[0;34m\u001b[0m\u001b[0m\n\u001b[0m",
      "\u001b[0;32m<ipython-input-94-7d167c7f62d9>\u001b[0m in \u001b[0;36mget_stp\u001b[0;34m(url, nom_fichier)\u001b[0m\n\u001b[1;32m     12\u001b[0m             \u001b[0;32melse\u001b[0m \u001b[0;34m:\u001b[0m\u001b[0;34m\u001b[0m\u001b[0;34m\u001b[0m\u001b[0m\n\u001b[1;32m     13\u001b[0m                 \u001b[0mf\u001b[0m\u001b[0;34m.\u001b[0m\u001b[0mwrite\u001b[0m\u001b[0;34m(\u001b[0m\u001b[0mresultat\u001b[0m\u001b[0;34m[\u001b[0m\u001b[0mi\u001b[0m\u001b[0;34m]\u001b[0m\u001b[0;34m)\u001b[0m\u001b[0;34m\u001b[0m\u001b[0;34m\u001b[0m\u001b[0m\n\u001b[0;32m---> 14\u001b[0;31m     \u001b[0mreponse\u001b[0m \u001b[0;34m=\u001b[0m \u001b[0mdecrypter_fichier\u001b[0m\u001b[0;34m(\u001b[0m\u001b[0mnom_fichier\u001b[0m\u001b[0;34m,\u001b[0m \u001b[0mK\u001b[0m\u001b[0;34m)\u001b[0m\u001b[0;34m\u001b[0m\u001b[0;34m\u001b[0m\u001b[0m\n\u001b[0m\u001b[1;32m     15\u001b[0m     \u001b[0mprint\u001b[0m\u001b[0;34m(\u001b[0m\u001b[0mreponse\u001b[0m\u001b[0;34m)\u001b[0m\u001b[0;34m\u001b[0m\u001b[0;34m\u001b[0m\u001b[0m\n\u001b[1;32m     16\u001b[0m \u001b[0;34m\u001b[0m\u001b[0m\n",
      "\u001b[0;32m<ipython-input-25-6349572926ca>\u001b[0m in \u001b[0;36mdecrypter_fichier\u001b[0;34m(file_name, k)\u001b[0m\n\u001b[1;32m      1\u001b[0m \u001b[0;32mdef\u001b[0m \u001b[0mdecrypter_fichier\u001b[0m\u001b[0;34m(\u001b[0m\u001b[0mfile_name\u001b[0m\u001b[0;34m,\u001b[0m \u001b[0mk\u001b[0m\u001b[0;34m)\u001b[0m\u001b[0;34m:\u001b[0m\u001b[0;34m\u001b[0m\u001b[0;34m\u001b[0m\u001b[0m\n\u001b[0;32m----> 2\u001b[0;31m     \u001b[0mreponse\u001b[0m \u001b[0;34m=\u001b[0m \u001b[0mdecrypt\u001b[0m\u001b[0;34m(\u001b[0m\u001b[0mfile_name\u001b[0m\u001b[0;34m,\u001b[0m \u001b[0mk\u001b[0m\u001b[0;34m)\u001b[0m\u001b[0;34m\u001b[0m\u001b[0;34m\u001b[0m\u001b[0m\n\u001b[0m\u001b[1;32m      3\u001b[0m     \u001b[0mprint\u001b[0m\u001b[0;34m(\u001b[0m\u001b[0mreponse\u001b[0m\u001b[0;34m)\u001b[0m\u001b[0;34m\u001b[0m\u001b[0;34m\u001b[0m\u001b[0m\n",
      "\u001b[0;32m<ipython-input-8-6f6e500aedb0>\u001b[0m in \u001b[0;36mdecrypt\u001b[0;34m(file_name, password, cipher)\u001b[0m\n\u001b[1;32m     23\u001b[0m     \u001b[0;31m# OK, openssl a envoyé le chiffré sur stdout, en base64.\u001b[0m\u001b[0;34m\u001b[0m\u001b[0;34m\u001b[0m\u001b[0;34m\u001b[0m\u001b[0m\n\u001b[1;32m     24\u001b[0m     \u001b[0;31m# On récupère des bytes, donc on en fait une chaine unicode\u001b[0m\u001b[0;34m\u001b[0m\u001b[0;34m\u001b[0m\u001b[0;34m\u001b[0m\u001b[0m\n\u001b[0;32m---> 25\u001b[0;31m     \u001b[0;32mreturn\u001b[0m \u001b[0mresult\u001b[0m\u001b[0;34m.\u001b[0m\u001b[0mstdout\u001b[0m\u001b[0;34m.\u001b[0m\u001b[0mdecode\u001b[0m\u001b[0;34m(\u001b[0m\u001b[0;34m)\u001b[0m\u001b[0;34m\u001b[0m\u001b[0;34m\u001b[0m\u001b[0m\n\u001b[0m",
      "\u001b[0;31mUnicodeDecodeError\u001b[0m: 'utf-8' codec can't decode byte 0xff in position 0: invalid start byte"
     ]
    }
   ],
   "source": [
    "get_stp('/home/michael60/research.jpg', 'foo.txt')"
   ]
  },
  {
   "cell_type": "code",
   "execution_count": 66,
   "metadata": {},
   "outputs": [
    {
     "name": "stdout",
     "output_type": "stream",
     "text": [
      "A) FSCK\n",
      "=======\n",
      "\n",
      "injecter collision\n",
      "vérifier système de fichier (/bin/fsck)\n",
      "---> bug\n",
      "suivre directives\n",
      "\n",
      "Collision ?\n",
      "\n",
      "* MD5(A) == MD5(B) == MD5(C) == MD5(D) and len({A,B,C,D}) == 4\n",
      "\n",
      " ^\n",
      "/!\\     Tous les fichiers commencent par le nom d'utilisateur UGLIX\n",
      "---     Tous les fichiers finissent par 'h4ck m0d3'\n",
      " |\n",
      "\n",
      "Solution la plus simple?\n",
      "\n",
      "\n",
      "B) STOCKAGE PÉRENNE\n",
      "===================\n",
      "\n",
      "C'est quoi le problème avec la bande magnétique numéro 4919 ? Pourquoi l'opérateur\n",
      "sort une excuse bidon ?\n"
     ]
    }
   ],
   "source": [
    "get_stp('/home/michael60/TODO', 'foo.txt')"
   ]
  },
  {
   "cell_type": "code",
   "execution_count": 46,
   "metadata": {},
   "outputs": [
    {
     "name": "stdout",
     "output_type": "stream",
     "text": [
      "File not found.\n"
     ]
    }
   ],
   "source": [
    "reponse = b'Salted__\\xbc\\x98\\xec\\xdb\\xb4(z0\\xec\\x88~\\xb8U\\x97nh]D\\xe9sL]\\xcd\\xa7'\n",
    "lecture_message_erreur(reponse)"
   ]
  },
  {
   "cell_type": "code",
   "execution_count": 33,
   "metadata": {},
   "outputs": [
    {
     "name": "stdout",
     "output_type": "stream",
     "text": [
      "Lors d'une opération routinière d'inspection des logs du système, un admin a\n",
      "découvert que le programme /bin/fsck avait parfois un comportement surprenant.\n",
      "Un extrait du log suspect se trouve en pièce-jointe (id=\"log\").\n",
      "\n",
      "Le programme /bin/fsck a manifestement été modifié de manière non-autorisée.\n",
      "Ceci est très inquiétant car seuls des utilisateurs possédants un niveau de\n",
      "privilège très élevé ont le droit de modifier des exécutables du système.\n",
      "\n",
      "Tout ceci devient encore plus mystérieux et plus grave si on y ajoute le fait\n",
      "que c'est michael60 qui a lancé /bin/fsck. Notre hypothèse de travail\n",
      "actuelle est que michael60 cherchait à provoquer le déclenchement du code\n",
      "malicieux, mais nous ne savons pas encore pourquoi.\n",
      "\n",
      "Deux équipes vont travailler en parallèle : d'une part, l'équipe de retro-\n",
      "conception se charge d'examiner le fichier /bin/fsck. Une étude préliminaire \n",
      "montre le code a été obfusqué avec des méthodes cryptographiques, donc il ne va\n",
      "pas y avoir de résultats rapides. \n",
      "\n",
      "D'autre part, **VOUS** allez enquêter à partir des logs. Votre objectif \n",
      "principal est de déterminer le rôle du code suspect injecté dans /bin/fsck. \n",
      "L'objectif secondaire consiste à cerner les motivations de michael60.\n",
      "\n",
      "Bien sûr, il faut avoir les privilèges d'administrations pour lancer /bin/fsck,\n",
      "et bien sûr il est hors de question qu'on les octroie officiellement à un \n",
      "vulgaire consultant comme vous. Mais vous saurez bien vous débrouiller. C'est\n",
      "pour ça qu'on vous a embauché.\n",
      "\n",
      "Votre tâche sera terminée lorsque vous aurez réussi à provoquer le déclenchement\n",
      "complet du code suspect, ce qui nous permettra de l'examiner plus facilement.\n",
      "Vous pourrez alors fermer le ticket.\n",
      "\n",
      "Vous avez aussi accès à la base de connaissance accumulée par vos prédécésseurs \n",
      "(id = \"indication-[01234]\").\n",
      "----\n",
      "[---REDACTED---], CLEA director\n",
      "\"Don't break the (cyber-)law\"\n",
      "[ You have new mail ]\n"
     ]
    }
   ],
   "source": [
    "get_stp('/bin/police_hq/ticket/1496', 'ticket_1496.txt')"
   ]
  },
  {
   "cell_type": "code",
   "execution_count": null,
   "metadata": {},
   "outputs": [],
   "source": []
  },
  {
   "cell_type": "code",
   "execution_count": null,
   "metadata": {},
   "outputs": [],
   "source": []
  },
  {
   "cell_type": "code",
   "execution_count": null,
   "metadata": {},
   "outputs": [],
   "source": []
  },
  {
   "cell_type": "raw",
   "metadata": {},
   "source": [
    "\n",
    "                            #####################################################################\n",
    "                                                  hackademy\n",
    "                            #####################################################################\n",
    "                            "
   ]
  },
  {
   "cell_type": "code",
   "execution_count": 52,
   "metadata": {},
   "outputs": [
    {
     "name": "stdout",
     "output_type": "stream",
     "text": [
      "----------------------------------------------------------------------\n",
      "Message #13236.\n",
      "\n",
      "\n",
      "Date: 12-02-21893 22:47:35\n",
      "From: UGLIX Management\n",
      "Subject: [work] Invitation\n",
      "\n",
      "Chèr(e) palmerjohn,\n",
      "\n",
      "Je ne peux que constater qu'on ne nous avait pas menti en nous vantant vos\n",
      "capacité. Vous les démontrez en fermant ticket sur ticket. \n",
      "\n",
      "Puisque vous avez manifestement des capacité, le management a décidé de \n",
      "vous conseiller de participer au programme de formation le plus exigeant : la \n",
      "UGLIX Crypto Hackademy. Je viens d'apprendre que votre candidature vient d'être\n",
      "examinée, et retenue. Toutes mes félicitations.\n",
      "\n",
      "La UGLIX Crypto Hackademy délivre des certifications très recherchées, qui vous\n",
      "permettront de prétendre à des positions plus intéressantes, tant \n",
      "intellectuellement que financièrement.\n",
      "\n",
      "Je vous prie donc de partager votre temps entre vos obligations professionnelles \n",
      "à la CLEA d'une part, et votre formation sur /bin/hackademy d'autre part.\n",
      "\n",
      "Avec tous mes voeux de réussite,\n",
      "Bien cordialement,\n",
      "-------------\n",
      "[---REDACTED---], CLEA Manager\n",
      "\n",
      "\n",
      "\n"
     ]
    }
   ],
   "source": [
    "mail(\"palmerjohn\", '13236')"
   ]
  },
  {
   "cell_type": "code",
   "execution_count": 9,
   "metadata": {},
   "outputs": [],
   "source": [
    "reponse = c.get(\"/bin/hackademy\")"
   ]
  },
  {
   "cell_type": "code",
   "execution_count": 10,
   "metadata": {},
   "outputs": [
    {
     "name": "stdout",
     "output_type": "stream",
     "text": [
      "[initializing ticket system]         o\n",
      "[connecting to tickets daemon]   .-\"\"|\n",
      "[fetching tickets]               |-\"\"|\n",
      "---> 4  tickets                      |   ._--+.\n",
      "[building UI]                       .|-\"\"      '.\n",
      "[building training plan]          +:'           '.\n",
      "[startup complete]                 | '.        _.-'|\n",
      "                                   |   +    .-\"   J\n",
      "                _.+        .....'.'|    '.-\"      |\n",
      "           _.-\"\"   '.   ..'88888888|     +       J''..\n",
      "        +:\"          '.'88888888888;-+.  |    _+.|8888:\n",
      "        | \\         _.-+888888888_.\" _.F F +:'   '.8888'....\n",
      "         L \\   _.-\"\"   |8888_.-\"  _.\" J J J  '.    +88888888:\n",
      "         |  '+\"        |_.-\"  _.-\"    | | |    +    '.888888'._''.\n",
      "       .'8L  L         J  _.-\"        | | |     '.    '.88_.-\"    '. \n",
      "      :888|  |         J-\"            F F F       '.  _.-\"          '.\n",
      "     :88888L  L     _+  L            J J J          '|.               '; \n",
      "    :888888J  |  +-\"  \\ L          _.+.|.+.          F '.          _.-\" F\n",
      "    :8888888|  L L\\    \\|      _.-\"    '   '.       J    '.     .-\"    |\n",
      "    :8888888.L | | \\    ', _.-\"              '.     |      \"..-\"      J'.\n",
      "    :888888: |  L L '.    \\     _.-+.          '.   :+-.     |        F88'.\n",
      "    :888888:  L | |   \\    ;.-\"\"     '.          :-\"    \":+ J        |88888:\n",
      "    :888888:  |  L L   +:\"\"            '.    _.-\"     .-\" | |       J:888888:\n",
      "    :888888:   L | |   J \\               '.-'     _.-'   J J        F :888888:\n",
      "     :88888:    \\ L L   L \\             _.-+  _.-'       | |       |   :888888:\n",
      "     :888888:    \\| |   |  '.       _.-\"   |-\"          J J       J     :888888:\n",
      "     :888888'.    +'\\   J    \\  _.-\"       F    ,-T\"\\  | |     .-'      :888888:\n",
      "      :888888 '.     \\   L    +\"          J    /  | J  J J  .-'        .'888888:\n",
      "       :8888888 :     \\  |    |           |    F  '.|.-'+|-'         .' 8888888:\n",
      "        :8888888 :     \\ J    |           F   J     '...           .' 888888888:\n",
      "         :8888888 :     \\ L   |          J    |      \\88'.''.''''.' 8888888888:\n",
      "          :8888888 :     \\|   |          |  .-'\\      \\8888888888888888888888:\n",
      "           :8888888 '.    J   |          F-'  .'\\      \\8888888888888888888.'\n",
      "            :88888888 :    L  |         J     : 8\\      \\8888888888888888.'\n",
      "             :88888888 :   |  |        .+  ...' 88\\      \\8888888888.''.'\n",
      "              :88888888 :  J  |     .-'  .'    8888\\      \\'.'''.'.' \n",
      "               :88888888 :  \\ |  .-'   .' 888888888.\\    _-'     \n",
      "               :888888888 :  \\|-'     .' 888888888.' \\_-\"\n",
      "                '.88888888'..         : 8888888.' \n",
      "                  :88888888  ''''.''.' 88888888:           \n",
      "                  :8888888888888888888888888888:\n",
      "                   :88888888888888888888888888:    Hello palmerjohn,   \n",
      "                    :888888888888888888888888:     Certification: Knowledgeable     \n",
      "                     ''.8888888888888...'.'''      \n",
      "                        '''''......''             \n",
      "\n",
      "Courses list:\n",
      "-----------+-------+----------+----------------------------------------------------------------\n",
      "|  id      | level |  module  | course name\n",
      "-----------+-------+----------+---------------------------------------------------------------\n",
      "|     1505 |     4 |     dlog | Production d'une racine primitive\n",
      "|     1506 |     2 |     dlog | Production d'un élément de groupe d'ordre suffisamment grand\n",
      "|     1507 |     3 |     dlog | Calcul d'un log discret\n",
      "|     1510 |     3 |    arith | Reconstruction avec les restes chinois\n",
      "\n",
      "+ You don't need assistance anymore. \n",
      "+ You can \"close\" any course at any time : the only effect is that you won't see it anymore. \n",
      "+ You only get the academic credits when you pass an exam.\n",
      "+ The instructor may email you sometimes\n",
      "\n",
      "[ You have new mail ]\n"
     ]
    }
   ],
   "source": [
    "print(reponse)"
   ]
  },
  {
   "cell_type": "raw",
   "metadata": {},
   "source": [
    "                        #############################################################\n",
    "                                                Ticket 1500\n",
    "                        #############################################################"
   ]
  },
  {
   "cell_type": "code",
   "execution_count": 119,
   "metadata": {},
   "outputs": [
    {
     "name": "stdout",
     "output_type": "stream",
     "text": [
      "Vous devez résoudre l'équation : \n",
      "\n",
      "    a * X + b  ==  0    modulo n\n",
      "\n",
      "Les valeurs de a, b et n sont dans des pièces-jointes du même nom. Quand vous\n",
      "aurez déterminé la valeur de X, envoyez une requête à l'adresse : \n",
      "\n",
      "    /bin/hackademy/exam/arith/eq-lin-mod-p\n",
      "\n",
      "avec un paramètre \"X\".\n",
      "[ You have new mail ]\n"
     ]
    }
   ],
   "source": [
    "print(c.get('/bin/hackademy/ticket/1500'))"
   ]
  },
  {
   "cell_type": "code",
   "execution_count": 27,
   "metadata": {},
   "outputs": [],
   "source": [
    "def euclide_etendu(a, b):\n",
    "    a = int(a)\n",
    "    b = int(b)\n",
    "    r = [a, b]\n",
    "    u = [1, 0]\n",
    "    v = [0, 1]\n",
    "    i = 1\n",
    "    \n",
    "    while(r[i] != 0): \n",
    "        q = r[i-1]//r[i]\n",
    "        r.append(r[i-1]-q*r[i])\n",
    "        u.append(u[i-1]-q*u[i])\n",
    "        v.append(v[i-1]-q*v[i])\n",
    "        i = i+1\n",
    "    return (r[i-1], u[i-1], v[i-1])"
   ]
  },
  {
   "cell_type": "code",
   "execution_count": 211,
   "metadata": {},
   "outputs": [],
   "source": [
    "r, u, v = euclide_etendu(a, n)"
   ]
  },
  {
   "cell_type": "code",
   "execution_count": 212,
   "metadata": {},
   "outputs": [
    {
     "name": "stdout",
     "output_type": "stream",
     "text": [
      "r = 1, u = 217512540742637314911112623578584386959475479554228574905791036241620447033539676029452501915668513655382849669522315576013466876366372003846062787225786944939691895945118858524694673597665179935412501892992106867101090074670534572590387362127235392092892233724319482076445722212132553437136605863955684710959237421014675961086362073034177094934692128792775050882403667554169829749743866187660981401128228705747059519610811000039505971932009559347320948873764992516502851330286961406323466593039271279569291488231304779087542241663827814013337498878053298020675171635176985950095524144932066687608112587689177247478431325528056850213711414325343298421253727381637422580079099614853544487616807674121170900317362415954546168807667971339589668605316930491723056881187365103159909741866711271345959327518882930337176353267406913815954914631778216982294153993210784229944567001054780517589708567582758369761488157055386709517010945818467939003291951462092575667266046662927206107624833034755890267012814436694601482428397843237693997534163665303620027698472159469896531807354337941478753051623208658700953386465824574932675889760754032607637010958979056024958008919943115608492293882328505060979808397022448866368826906486382052770456369, v = -117028688657113388857470883191947397039362371108191730918491689129648545005322367834877897105908935754126405607370574831219761538315489181754768367451937512067553368324221031892783425269987225239675448568859337314920231998290608249678905020349284910658450974057026916111691176300057396738615969438902757558984196238008581890644918336500925695557260890940515143225133581943305045606633823324602378294781199425074279235635541699170015246469174924263498893387108560729543009444601941378831737243448746699401744191544619190933042471713745892593314666735127573694945331292191550970984722477140094190942248180361453159962407243333381274274888183382866600234269737452194983919640463886081448192089041712924544933880273226583598438512298303035574250757315173668458639129475489671204382088504482731365191277958317297050817891889780145079939207814505019941534633906154697587065852564811719528074582280660302388741473639921853466765654243133240774948475075195776979740735241935592649265575374802793598930195723185152702715666560571982090152649589712219913391776779254629332634038058050923932625302455404166536909248166861897707749334167536085804862591028855894010047509257967391129604163408997898570274681586162415522065953428285216064604206720\n"
     ]
    }
   ],
   "source": [
    "print(\"r = {}, u = {}, v = {}\".format(r, u, v))"
   ]
  },
  {
   "cell_type": "code",
   "execution_count": 210,
   "metadata": {},
   "outputs": [
    {
     "name": "stdout",
     "output_type": "stream",
     "text": [
      "a = 549263592333587317906701844885240892350756539204276719118028166998555369525708608263967458593924555434668034075122699534583625864135015760791087157598512353170406565760301784067877921710310804011211667395879318186365110098036633782079341298411260779152631017081448334621743435593601869053076641703563953262790285143973639673666821471565830841137809962447483523480241416054518512883084518458674647395877916273586430457508089270978022628005367637728006558638802250809734823056142966635206274055783583262800329230273101874202604975130690282916946163930264627333364328958712532680445716834808722759126376538242275081988260209586218145720846421593634690147481905574400322229917346953592828856228811286964764652399080336748211910366626359120241428491802699443692139626854420892260452634576012693124907812983941658816595685027191152134964593495790075981878411508153026555709144946936116958703672638992484221318725826444570843970201384421230975239204726524518277795811057128179470622867240703870844489356227848530571067539312602711583190457576709583626282294355876037312626876680592641349127041967224442246253122047924743382213392425958333904641136702769716515812558325342132580551617682496525109708550557776828636053841016426621896760332369\n",
      " , b = 370273222542024959820812255770430463726683185985520969802696055862329876049181824076852822834675947159337322188494214810987786391214998828367042344347407116888199534879980379232894888556013456067490397992367403339919500845047081546860342704976563890794065627006900952186122318157458433128629561133312850983690271877135855058086647410346325725466980325906570715956291474122255268903834231061506457350146732640135823544001774778620360502585711285039821926285419184930309191305030289449653540099694394349183237596492246139227828808927799840457046595894068759537529767860419027558147679207262681270119650969658979979539217812763256918692735878422439203582091764141133981814273650530582425357657901053406381261422125809135311073385562458554797390650981253879160912525107527930994022575831375368325728813824221020260041711024214896079385065488670542503178179559404523822680165066206803037824629701911859761854226094180318925500256911011595589538479098707197783714471816564601919682953537747842942506053641574522483940906598999005823201964543945071744638618795093571468485770122026235459206877443113809551518928866982321608338902321708834059939964381283034498820243298674804125395310099999288116026405158100792228239954245919873683872165988\n",
      ", n = 1020875486829996705306496739771264439808854616860717176896013731645056245327270329752071907392762843561696031075364712476516111450554000326296288897783346615784381463379550811483785893072534482687738974867897603452162334322699306995435595081284331532319518953427408052349988877153833771428775525611088026792442578071300617973121750858212192733778598099517430725662987552704583962695752035480874624023507434811138865326985147194614231790540791769063183089833539394819303665873605917419549785085876794968451700762812064162968641535659785594471854533288969653955735161535903855652543774858539236175094495973954452005331850312084278506131937217800196754090220824430313217757536166323961085538542218213408180191807034778654084735513789690717450727064221393463678557333668344860392674736289697903582509792040355676201214966147749402998551667345792825603977193226661733650291354465622294547983916454153894554153740054184739368184926415062004533519721243135556953266382288608678921267173163511540067934236231709102776816649846177870367315299581343196376656225370240308712461253099440042226279625529746117282336004276867475675520805979471578734714823259070251329640207424431290687007192483410296416279183449997021244928933455228847553878424153\n"
     ]
    }
   ],
   "source": [
    "a = c.get('/bin/hackademy/ticket/1500/attachment/a')\n",
    "b = c.get('/bin/hackademy/ticket/1500/attachment/b')\n",
    "n = c.get('/bin/hackademy/ticket/1500/attachment/n')\n",
    "print(\"a = {}\\n , b = {}\\n, n = {}\".format(a, b, n))"
   ]
  },
  {
   "cell_type": "code",
   "execution_count": 213,
   "metadata": {},
   "outputs": [
    {
     "data": {
      "text/plain": [
       "'LINEAR.EQUATION:3030:2@459700|6742a187fabf53a5bda7a6791d690a2a\\n[ You have new mail ]'"
      ]
     },
     "execution_count": 213,
     "metadata": {},
     "output_type": "execute_result"
    }
   ],
   "source": [
    "b= int(b)\n",
    "u = int(u)\n",
    "X = -b*u\n",
    "c.post(\"/bin/hackademy/exam/arith/eq-lin-mod-p\", X=X)"
   ]
  },
  {
   "cell_type": "code",
   "execution_count": 33,
   "metadata": {},
   "outputs": [
    {
     "data": {
      "text/plain": [
       "'STATUS : OK --- ticket 1500 closed\\n[ You have new mail ]'"
      ]
     },
     "execution_count": 33,
     "metadata": {},
     "output_type": "execute_result"
    }
   ],
   "source": [
    "c.post('/bin/hackademy/ticket/1500/close')"
   ]
  },
  {
   "cell_type": "raw",
   "metadata": {},
   "source": [
    "                    \n",
    "                    #############################################################\n",
    "                                            Ticket 1501\n",
    "                    #############################################################\n",
    "                    "
   ]
  },
  {
   "cell_type": "code",
   "execution_count": 70,
   "metadata": {},
   "outputs": [
    {
     "name": "stdout",
     "output_type": "stream",
     "text": [
      "Un nombre n est fourni dans une pièce-jointe du même nom. Ce n'est pas un nombre\n",
      "premier. Vous devez fournir une PREUVE qu'il est composite. Déterminez un\n",
      "témoin de Fermat, c'est-à-dire un entier a tel que :\n",
      "\n",
      "    a^(n-1) != 1   modulo n \n",
      "\n",
      "Quand vous l'aurez trouvé, envoyez-le à :\n",
      "   \n",
      "\t/bin/hackademy/exam/prime/fermat-disproof\n",
      "\n",
      "dans un paramètre a.\n",
      "\n",
      "Remarquez que vous n'avez pas besoin de le factoriser.\n",
      "[ You have new mail ]\n"
     ]
    }
   ],
   "source": [
    "print(c.get('/bin/hackademy/ticket/1501'))"
   ]
  },
  {
   "cell_type": "code",
   "execution_count": 191,
   "metadata": {},
   "outputs": [
    {
     "name": "stdout",
     "output_type": "stream",
     "text": [
      "n = 1020875486829996705306496739771264439808854616860717176896013731645056245327270329752071907392762843561696031075364712476516111450554000326296288897783346615784381463379550811483785893072534482687738974867897603452162334322699306995435595081284331532319518953427408052349988877153833771428775525611088026792442578071300617973121750858212192733778598099517430725662987552704583962695752035480874624023507434811138865326985147194614231790540791769063183089833539394819303665873605917419549785085876794968451700762812064162968641535659785594471854533288969653955735161535903855652543774858539236175094495973954452005331850312084278506131937217800196754090220824430313217757536166323961085538542218213408180191807034778654084735513789690717450727064221393463678557333668344860392674736289697903582509792040355676201214966147749402998551667345792825603977193226661733650291354465622294547983916454153894554153740054184739368184926415062004533519721243135556953266382288608678921267173163511540067934236231709102776816649846177870367315299581343196376656225370240308712461253099440042226279625529746117282336004276867475675520805979471578734714823259070251329640207424431290687007192483410296416279183449997021244928933455228847553878424153\n"
     ]
    }
   ],
   "source": [
    "n = c.get('/bin/hackademy/ticket/1500/attachment/n')\n",
    "print(\"n = {}\".format(n))"
   ]
  },
  {
   "cell_type": "code",
   "execution_count": 192,
   "metadata": {},
   "outputs": [
    {
     "data": {
      "text/plain": [
       "'PRIME.OU.PAS:3030:1@135953|b6c1abc089a99bae7cbf2a2a74a13b0a\\n[ You have new mail ]'"
      ]
     },
     "execution_count": 192,
     "metadata": {},
     "output_type": "execute_result"
    }
   ],
   "source": [
    "a = 2*n\n",
    "c.post(\"/bin/hackademy/exam/prime/fermat-disproof\", a = a )"
   ]
  },
  {
   "cell_type": "code",
   "execution_count": 34,
   "metadata": {},
   "outputs": [
    {
     "data": {
      "text/plain": [
       "'STATUS : OK --- ticket 1501 closed\\n[ You have new mail ]'"
      ]
     },
     "execution_count": 34,
     "metadata": {},
     "output_type": "execute_result"
    }
   ],
   "source": [
    "c.post('/bin/hackademy/ticket/1501/close')"
   ]
  },
  {
   "cell_type": "raw",
   "metadata": {},
   "source": [
    "                            \n",
    "                            #############################################################\n",
    "                                            Ticket 1502\n",
    "                            #############################################################\n",
    "                            "
   ]
  },
  {
   "cell_type": "code",
   "execution_count": 13,
   "metadata": {},
   "outputs": [
    {
     "name": "stdout",
     "output_type": "stream",
     "text": [
      "Vous devez déterminer un nombre premier appartenant à un intervalle [a; b[ qui\n",
      "vous est imposé (a et b sont en pièce-jointe).\n",
      "\n",
      "Quand vous l'aurez trouvé, envoyez-le à :\n",
      "   \n",
      "\t/bin/hackademy/exam/prime/range\n",
      "\n",
      "dans un paramètre p.\n",
      "-----\n",
      "Il y a une indication (pj = 'indication-0').\n",
      "[ You have new mail ]\n"
     ]
    }
   ],
   "source": [
    "print(c.get('/bin/hackademy/ticket/1502'))"
   ]
  },
  {
   "cell_type": "code",
   "execution_count": 14,
   "metadata": {},
   "outputs": [
    {
     "name": "stdout",
     "output_type": "stream",
     "text": [
      "a = 166620083278534922569961260699721842837997172039698165772696312984585091397837831448310027909370501148424458867043459270497522466337192658441805943958555941580056920722759897405333750447829404083895368445011019426421431177334269019893314181067989225232303814060279763370129354800763686284271132814018107635783\n",
      "b = 166620083278534922569961260699721842837997172039698165772696312984585091397837831448310027909370501148424458867043459270497522466337192658441805943958555941580056920722759897405333750447829404083895368445011019426421431177334269019893314181067989225232303814060279763370129354800763686284271132814018107649095\n"
     ]
    }
   ],
   "source": [
    "a = c.get('/bin/hackademy/ticket/1502/attachment/a')\n",
    "b = c.get('/bin/hackademy/ticket/1502/attachment/b')\n",
    "print(\"a = {}\".format(a))\n",
    "print(\"b = {}\".format(b))"
   ]
  },
  {
   "cell_type": "code",
   "execution_count": 15,
   "metadata": {},
   "outputs": [
    {
     "name": "stdout",
     "output_type": "stream",
     "text": [
      "On peut gagner un peu de temps utilisant le fait qu'un nombre pair n'est pas\n",
      "premier (sauf si c'est 2). Technique un peu améliorée de production de nombre \n",
      "premier :\n",
      "\n",
      "i = <nombre aléatoire IMPAIR de la bonne taille>\n",
      "while True:\n",
      "    <test de primalité sur i>\n",
      "    i += 2\n",
      "\n"
     ]
    }
   ],
   "source": [
    "indication = c.get('/bin/hackademy/ticket/1502/attachment/indication-0')\n",
    "print(indication)"
   ]
  },
  {
   "cell_type": "code",
   "execution_count": 16,
   "metadata": {},
   "outputs": [],
   "source": [
    "import sympy\n",
    "def trouver_nbr_premier(a, b): \n",
    "    n = a\n",
    "    resultat = 0\n",
    "    while(n < b): \n",
    "        if (n%2 != 0): \n",
    "            if (sympy.isprime(n) == True): \n",
    "                resultat = n\n",
    "        n = n+1\n",
    "    return resultat "
   ]
  },
  {
   "cell_type": "code",
   "execution_count": 17,
   "metadata": {},
   "outputs": [
    {
     "name": "stdout",
     "output_type": "stream",
     "text": [
      "166620083278534922569961260699721842837997172039698165772696312984585091397837831448310027909370501148424458867043459270497522466337192658441805943958555941580056920722759897405333750447829404083895368445011019426421431177334269019893314181067989225232303814060279763370129354800763686284271132814018107648551\n"
     ]
    }
   ],
   "source": [
    "a = int(a)\n",
    "b = int(b)\n",
    "resultat = trouver_nbr_premier(a, b)\n",
    "print(resultat)"
   ]
  },
  {
   "cell_type": "code",
   "execution_count": 233,
   "metadata": {},
   "outputs": [
    {
     "data": {
      "text/plain": [
       "'PRIME.RANGE:3030:2@680158|b9f69779b286eabd6cd0d39604d7350e\\n[ You have new mail ]'"
      ]
     },
     "execution_count": 233,
     "metadata": {},
     "output_type": "execute_result"
    }
   ],
   "source": [
    "c.post(\"/bin/hackademy/exam/prime/range\", p= resultat )"
   ]
  },
  {
   "cell_type": "code",
   "execution_count": 35,
   "metadata": {},
   "outputs": [
    {
     "data": {
      "text/plain": [
       "'STATUS : OK --- ticket 1502 closed\\n[ You have new mail ]'"
      ]
     },
     "execution_count": 35,
     "metadata": {},
     "output_type": "execute_result"
    }
   ],
   "source": [
    "c.post('/bin/hackademy/ticket/1502/close')"
   ]
  },
  {
   "cell_type": "raw",
   "metadata": {},
   "source": [
    "\n",
    "                    #############################################################\n",
    "                                          Ticket 1503  \n",
    "                    #############################################################\n",
    "                    "
   ]
  },
  {
   "cell_type": "code",
   "execution_count": 152,
   "metadata": {},
   "outputs": [
    {
     "name": "stdout",
     "output_type": "stream",
     "text": [
      "Vous devez déterminer des nombres premiers p_0, p_1, ..., p_k de telle sorte que\n",
      "leur produit appartienne à l'intervalle [a; b[ qui vous est imposé (a et b sont\n",
      "des pièces jointes).\n",
      "\n",
      "La taille des p_i doit être inférieure à 64 bits. De plus, tous les p_k doivent\n",
      "être différents. \n",
      "\n",
      "Quand vous les aurez trouvés, envoyez-les à :\n",
      "   \n",
      "\t/bin/hackademy/exam/prime/product\n",
      "\n",
      "dans un paramètre p. Il doit s'agir d'une liste d'entiers.\n",
      "-----\n",
      "Il y a des indications (pj = 'indication-[01]').\n",
      "[ You have new mail ]\n"
     ]
    }
   ],
   "source": [
    "print(c.get('/bin/hackademy/ticket/1503'))"
   ]
  },
  {
   "cell_type": "code",
   "execution_count": 153,
   "metadata": {},
   "outputs": [],
   "source": [
    "a = c.get('/bin/hackademy/ticket/1503/attachment/a')\n",
    "b = c.get('/bin/hackademy/ticket/1503/attachment/b')\n",
    "#print(\"a = {}\".format(a))\n",
    "#print(\"b = {}\".format(b))"
   ]
  },
  {
   "cell_type": "code",
   "execution_count": 249,
   "metadata": {},
   "outputs": [
    {
     "name": "stdout",
     "output_type": "stream",
     "text": [
      "616\n"
     ]
    }
   ],
   "source": [
    "print(len(str(b)))"
   ]
  },
  {
   "cell_type": "code",
   "execution_count": 236,
   "metadata": {},
   "outputs": [],
   "source": [
    "indication0 = c.get('/bin/hackademy/ticket/1503/attachment/indication-0')\n",
    "indication1 = c.get('/bin/hackademy/ticket/1503/attachment/indication-1')"
   ]
  },
  {
   "cell_type": "code",
   "execution_count": 238,
   "metadata": {},
   "outputs": [
    {
     "name": "stdout",
     "output_type": "stream",
     "text": [
      "indication 0 :\n",
      "Pour produire k nombres premiers p_1, ..., p_k de telle sorte que \n",
      "    \n",
      "    Q = p_1 * p_2 * ... * p_k \n",
      "\n",
      "appartienne à l'intervalle [a; b[, il n'y a pas 36 solutions. En gros, la\n",
      "technique est la suivante : \n",
      "\n",
      "   1) Fabriquer dans un premier temps les k-1 premiers nombres librement\n",
      "   2) Fabriquer le dernier en faisant bien attention à ce que produit soit\n",
      "      dans [a; b[\n",
      "\n",
      "Après la phase 1, on se trouve avec Q' = p_1 * p_2 * ... * p_{k-1}. Pour que le\n",
      "produit final soit dans le bon intervalle, il faut choisir p_k dans l'intervalle\n",
      "[a/Q'; b/Q'[.\n"
     ]
    }
   ],
   "source": [
    "print(\"indication 0 :\\n{}\".format(indication0))"
   ]
  },
  {
   "cell_type": "code",
   "execution_count": 239,
   "metadata": {},
   "outputs": [
    {
     "name": "stdout",
     "output_type": "stream",
     "text": [
      "indication 1 :\n",
      "Pour mettre en oeuvre la stratégie précédente, il y a deux problèmes à éviter :\n",
      "\n",
      "   *) Si Q' est trop petit, alors l'intervalle [a/Q'; b/Q'[ ne contient que des\n",
      "      nombres trop grand, et on ne pourra pas choisir dedans des nombres de 64\n",
      "      bits ou moins.\n",
      "\n",
      "    ---> Il faut que |b/Q'| <= 64, donc que Q' >= b / (2**64).\n",
      "   \n",
      "   *) Plus Q' est grand, plus l'intervalle [a/Q'; b/Q'[ rétrecit. Et s'il est\n",
      "   \t  trop petit, il peut ne pas contenir de nombre premier. Il est difficile\n",
      "   \t  d'obtenir des certitudes, mais il est raisonnable de penser qu'il faut\n",
      "   \t  qu'il contienne O(|b|) nombres différents pour que l'un d'entre eux soit\n",
      "   \t  premier avec bonne probabilité.\n",
      "\n",
      "    ---> Il faut que (b/Q') - (a/Q') >= [constante arbitraire] * |b|\n",
      "\n",
      "Pour s'en sortir, il faut donc :\n",
      "\n",
      "*) déterminer dans un premier temps la taille que doit avoir Q' en bits.\n",
      "*) produire Q' en multipliant ensemble des nombres premiers arbitraires.\n",
      "*) trouver le dernier facteur premier.\n"
     ]
    }
   ],
   "source": [
    "print(\"indication 1 :\\n{}\".format(indication1))"
   ]
  },
  {
   "cell_type": "code",
   "execution_count": 143,
   "metadata": {},
   "outputs": [
    {
     "name": "stdout",
     "output_type": "stream",
     "text": [
      "test True\n",
      "test True\n",
      "True\n",
      "True\n"
     ]
    }
   ],
   "source": [
    "liste_p = [5]\n",
    "p = 5\n",
    "for i in range(0,224): \n",
    "    p = sympy.nextprime(p)\n",
    "    liste_p.append(p)\n",
    "#print(liste_p)\n",
    "\n",
    "Q_prim = 1\n",
    "for i in liste_p: \n",
    "    Q_prim = Q_prim * i\n",
    "\n",
    "print(\"test {}\".format(Q_prim > (b//(2**64))))\n",
    "print(\"test {}\".format(Q_prim < ((b-a)//616)))\n",
    "\n",
    "pk = sympy.nextprime(a//Q_prim)\n",
    "liste_p.append(pk)\n",
    "\n",
    "Q = 1\n",
    "for i in liste_p: \n",
    "    Q = Q * i\n",
    "    \n",
    "print(Q>a)\n",
    "print(Q<b)"
   ]
  },
  {
   "cell_type": "code",
   "execution_count": 144,
   "metadata": {},
   "outputs": [],
   "source": [
    "resultat = c.post(\"/bin/hackademy/exam/prime/product\", p =liste_p)"
   ]
  },
  {
   "cell_type": "code",
   "execution_count": 145,
   "metadata": {
    "scrolled": true
   },
   "outputs": [
    {
     "name": "stdout",
     "output_type": "stream",
     "text": [
      "PRIME.PRODUCT:3030:4@277389|bd1f59ada85685867c0f537f58b5a0a2\n",
      "[ You have new mail ]\n"
     ]
    }
   ],
   "source": [
    "print(resultat)"
   ]
  },
  {
   "cell_type": "code",
   "execution_count": 36,
   "metadata": {},
   "outputs": [
    {
     "data": {
      "text/plain": [
       "'STATUS : OK --- ticket 1503 closed\\n[ You have new mail ]'"
      ]
     },
     "execution_count": 36,
     "metadata": {},
     "output_type": "execute_result"
    }
   ],
   "source": [
    "c.post('/bin/hackademy/ticket/1503/close')"
   ]
  },
  {
   "cell_type": "code",
   "execution_count": null,
   "metadata": {},
   "outputs": [],
   "source": []
  },
  {
   "cell_type": "raw",
   "metadata": {},
   "source": [
    "                    #############################################################\n",
    "                                          Ticket 1504  \n",
    "                    #############################################################"
   ]
  },
  {
   "cell_type": "code",
   "execution_count": 10,
   "metadata": {},
   "outputs": [
    {
     "name": "stdout",
     "output_type": "stream",
     "text": [
      "Vous devez déterminer un nombre premier sûr appartenant à un intervalle [a; b[\n",
      "qui vous est imposé (a et b sont en pièce-jointe). Pour rappel, un nombre\n",
      "premier sûr est un nombre de la forme 2p + 1, où p est lui-même premier.\n",
      "\n",
      "Quand vous l'aurez trouvé, envoyez-le à :\n",
      "   \n",
      "\t/bin/hackademy/exam/prime/safe\n",
      "\n",
      "dans un paramètre p.\n",
      "-----\n",
      "Il y a deux indication (pj = 'indication-[01]').\n",
      "[ You have new mail ]\n"
     ]
    }
   ],
   "source": [
    "print(c.get('/bin/hackademy/ticket/1504'))"
   ]
  },
  {
   "cell_type": "code",
   "execution_count": 11,
   "metadata": {},
   "outputs": [],
   "source": [
    "a = c.get('/bin/hackademy/ticket/1504/attachment/a')\n",
    "b = c.get('/bin/hackademy/ticket/1504/attachment/b')\n",
    "#print(\"a = {}\".format(a))\n",
    "#print(\"b = {}\".format(b))"
   ]
  },
  {
   "cell_type": "code",
   "execution_count": 12,
   "metadata": {},
   "outputs": [],
   "source": [
    "indication0 = c.get('/bin/hackademy/ticket/1504/attachment/indication-0')\n",
    "indication1 = c.get('/bin/hackademy/ticket/1504/attachment/indication-1')"
   ]
  },
  {
   "cell_type": "code",
   "execution_count": 15,
   "metadata": {},
   "outputs": [
    {
     "name": "stdout",
     "output_type": "stream",
     "text": [
      "Pour fabriquer un nombre premier sûr, la technique est simple : générer un \n",
      "nombre aléatoire q, vérifier s'il est premier, puis vérifier que 2q+1 est \n",
      "premier. \n",
      "\n",
      "Si q est un entier choisi au hasard, ceci va arriver une probabilité qu'on peut \n",
      "estimer à O(1/n^2), où n désigne la taille souhaitée en bits. On peut donc \n",
      "s'attendre à devoir faire O(n^2) essais.\n",
      "\n",
      "En pratique, ça peut prendre plusieurs heures.\n"
     ]
    }
   ],
   "source": [
    "print(indication0)"
   ]
  },
  {
   "cell_type": "code",
   "execution_count": 28,
   "metadata": {},
   "outputs": [
    {
     "name": "stdout",
     "output_type": "stream",
     "text": [
      "Une technique permet cependant de gagner du temps : \n",
      "\n",
      "si q est premier, alors il est impair, et on a : q == 2*q' + 1. \n",
      "\n",
      "Alors p s'écrit :\n",
      "\n",
      "    p == 2q+1 == 4q' + 3.\n",
      "\n",
      "Or, on voit maintenant que p est un multiple de 3 dès lors que q' est un \n",
      "multiple de 3. Il ne faut donc pas que q' soit un multiple de 3.\n",
      "\n",
      "Les valeurs possibles de q' sont donc :\n",
      "\n",
      "q' == 3q'' + 1         et  q' == 3q'' + 2\n",
      "\n",
      "Les valeurs de q correspondantes sont donc :\n",
      "\n",
      "q == 6q'' + 3          et  q  == 6q'' + 5\n",
      "\n",
      "Et donc q ne pourra pas être premier dès que q'' est un multiple de 3 ou de 5.\n",
      "\n",
      "Les valeurs de p correspondantes dont donc :\n",
      "\n",
      "p == 4(3q'' + 1) + 3   et  p == 4(3q'' + 2) + 3\n",
      "  == 12q'' + 7             p == 12q'' + 11\n",
      "\n",
      "Et donc, p ne peut pas être premier si q'' est un multiple de 7 ou de 11. On \n",
      "peut donc se contenter de faire :\n",
      "\n",
      "    1. Choisir q'' non multiple de 3, 5 7 et 11.\n",
      "    2. q <--- 6q'' + 3\n",
      "    3. Si q n'est pas premier, aller en 6.\n",
      "    4. p <--- 12q'' + 7\n",
      "    5. Si p n'est pas premier, aller en 6. Sinon c'est gagné.\n",
      "    6. q <--- 6q'' + 5.\n",
      "    7. Si q' n'est pas premier, aller en 1.\n",
      "    8. p <--- 12q'' + 11.\n",
      "    9. Si p n'est pas premier, aller en 1. Sinon c'est gagné.\n",
      "\n"
     ]
    }
   ],
   "source": [
    "print(indication1)"
   ]
  },
  {
   "cell_type": "code",
   "execution_count": 22,
   "metadata": {},
   "outputs": [],
   "source": [
    "from random import *\n",
    "def trouver_nbr_premier_sur(a, b): \n",
    "    while True: \n",
    "        q = randint(a//12, b//12)\n",
    "        while ((q%3 == 0) | (q % 5 == 0) | (q %7 == 0) | (q %11 == 0)): \n",
    "            q = randint(a//12, b//12)\n",
    "        q = 6*q+3\n",
    "        if(sympy.isprime(q) == True): \n",
    "            p = 2*q+1\n",
    "            if (sympy.isprime(p) == True): \n",
    "                return p\n",
    "        q = q + 2\n",
    "        if(sympy.isprime(q) == True): \n",
    "            p = 2*q+1\n",
    "            if(sympy.isprime(p) == True):\n",
    "                return p"
   ]
  },
  {
   "cell_type": "code",
   "execution_count": 23,
   "metadata": {},
   "outputs": [],
   "source": [
    "a = int(a)\n",
    "b = int(b)\n",
    "#print(a)\n",
    "#print(b)\n",
    "resultat = trouver_nbr_premier_sur(a, b)"
   ]
  },
  {
   "cell_type": "code",
   "execution_count": 24,
   "metadata": {},
   "outputs": [
    {
     "name": "stdout",
     "output_type": "stream",
     "text": [
      "29525598985541801357602479587090042292002781963403240648009860415484329602461632749919494715608149617637787329254556679211777085500896449163332732379125747079700077592024762083724079059627874616758075472809302239542247058730910152716240188970978826840388777106784276747145090151398147955355467171754631679601523205804435096846407462990521940026243772612160637375126605998473792504724468460164270106657675442570158156291025891832246374124684040092288703915478540784020496625656999703384951029586144136735636500750014403707008151799128044927821394300592249555002618799393502065056986039862012839285066413412987446688619\n"
     ]
    }
   ],
   "source": [
    "print(resultat)"
   ]
  },
  {
   "cell_type": "code",
   "execution_count": 25,
   "metadata": {},
   "outputs": [
    {
     "name": "stdout",
     "output_type": "stream",
     "text": [
      "True\n",
      "True\n",
      "True\n"
     ]
    }
   ],
   "source": [
    "print(resultat > a)\n",
    "print(resultat < b)\n",
    "print(sympy.isprime(resultat))"
   ]
  },
  {
   "cell_type": "code",
   "execution_count": 26,
   "metadata": {},
   "outputs": [
    {
     "data": {
      "text/plain": [
       "'PRIME.SAFE:3030:3@622980|793aaf19684d8908973abc4233ddca07\\n[ You have new mail ]'"
      ]
     },
     "execution_count": 26,
     "metadata": {},
     "output_type": "execute_result"
    }
   ],
   "source": [
    "c.post(\"/bin/hackademy/exam/prime/safe\", p = resultat)"
   ]
  },
  {
   "cell_type": "code",
   "execution_count": 38,
   "metadata": {},
   "outputs": [
    {
     "data": {
      "text/plain": [
       "'STATUS : OK --- ticket 1504 closed\\n[ You have new mail ]'"
      ]
     },
     "execution_count": 38,
     "metadata": {},
     "output_type": "execute_result"
    }
   ],
   "source": [
    "c.post('/bin/hackademy/ticket/1504/close')"
   ]
  },
  {
   "cell_type": "raw",
   "metadata": {},
   "source": [
    "                                ################################################\n",
    "                                                    Ticket 1505\n",
    "                                ################################################"
   ]
  },
  {
   "cell_type": "code",
   "execution_count": 11,
   "metadata": {},
   "outputs": [
    {
     "name": "stdout",
     "output_type": "stream",
     "text": [
      "Vous devez produire un nombre premier p appartenant à l'intervalle [a; b[ qui\n",
      "vous est imposé (a et b sont en pièce-jointe), ainsi qu'une racine primitive \n",
      "modulo p. Pour que le jury puisse vérifier que vous avez réussi, vous devrez \n",
      "également fournir la factorisation de p-1.\n",
      "\n",
      "Pour des questions de sécurité, p-1 doit avoir au moins un facteur premier \n",
      "de 384 bits ou plus.\n",
      "\n",
      "Quand vous aurez réussi, connectez-vous à :\n",
      "\n",
      "    \t/bin/hackademy/exam/discrete-log/primitive-root\n",
      "\n",
      "Vous devez envoyer deux paramètres :\n",
      "  + g     : une racine primitive modulo p\n",
      "  + p_m_1 : la liste des facteurs premiers de p-1\n",
      "---\n",
      "Il y a des indications (pj = 'indication-[012]').\n",
      "[ You have new mail ]\n"
     ]
    }
   ],
   "source": [
    "print(c.get('/bin/hackademy/ticket/1505'))"
   ]
  },
  {
   "cell_type": "code",
   "execution_count": 12,
   "metadata": {},
   "outputs": [],
   "source": [
    "a = c.get('/bin/hackademy/ticket/1505/attachment/a')\n",
    "b = c.get('/bin/hackademy/ticket/1505/attachment/b')"
   ]
  },
  {
   "cell_type": "code",
   "execution_count": 13,
   "metadata": {},
   "outputs": [],
   "source": [
    "indication0 = c.get('/bin/hackademy/ticket/1505/attachment/indication-0')\n",
    "indication1 = c.get('/bin/hackademy/ticket/1505/attachment/indication-1')\n",
    "indication2 = c.get('/bin/hackademy/ticket/1505/attachment/indication-2')"
   ]
  },
  {
   "cell_type": "code",
   "execution_count": 14,
   "metadata": {},
   "outputs": [
    {
     "name": "stdout",
     "output_type": "stream",
     "text": [
      "Le problème principal consiste à produire un nombre premier p tout en\n",
      "connaissant la factorisation de p-1. La seule procédure envisageable consiste à\n",
      "produire des nombres X de la bonne taille dont la factorisation est connue, puis\n",
      "à tester si X+1 est bien premier.\n"
     ]
    }
   ],
   "source": [
    "print(indication0)"
   ]
  },
  {
   "cell_type": "code",
   "execution_count": 15,
   "metadata": {},
   "outputs": [
    {
     "name": "stdout",
     "output_type": "stream",
     "text": [
      "La technique la plus simple, mais pas la plus rapide, consiste à générer un\n",
      "nombre premier sûr. Si p = 2q + 1, alors la factorisation de p-1 est connue, \n",
      "c'est 2*q.\n"
     ]
    }
   ],
   "source": [
    "print(indication1)"
   ]
  },
  {
   "cell_type": "code",
   "execution_count": 16,
   "metadata": {},
   "outputs": [
    {
     "name": "stdout",
     "output_type": "stream",
     "text": [
      "Il est possible de faire plus rapide. La rumeur prétend que certains h4x0rz ont\n",
      "écrit du code Python pur qui résoud le problème en 5 secondes environ.\n",
      "\n",
      "Pour aller plus vite, il faut éviter au maximum de faire des tests de primalité\n",
      "sur des grands entiers. Pour cela, il faut fabriquer p-1 avec plusieurs petits\n",
      "facteurs premiers, puis tester si p est premier.\n",
      "\n",
      "C'est grosso-modo la même chose que lors de calcul d'un produit de facteurs\n",
      "premier dans un intervalle donné. La différence, c'est qu'il faut soigneusement\n",
      "déterminer l'intervalle dans lequel on cherche le DERNIER facteur : il faut \n",
      "qu'il soit suffisament grand pour qu'on puisse trouver dedans non pas UN, mais \n",
      "DES nombres premiers. En effet, on fabrique p-1 aléatoirement, mais p n'est pas \n",
      "automatiquement premier.\n"
     ]
    }
   ],
   "source": [
    "print(indication2)"
   ]
  },
  {
   "cell_type": "code",
   "execution_count": 20,
   "metadata": {},
   "outputs": [
    {
     "name": "stdout",
     "output_type": "stream",
     "text": [
      "p = 2632598649965098970217059027840872691332451317020873875143867092777537849716975464001339804122245252691805487167770107424274085481435460738110778720544529676425137988574366066668276127882375437468139675476464498893806984824170770493570388055161469067833103037263821155810564803566771459113304809708642109789134709548230204223486205760310233319534426990925146650282150478011091422399646504069732877894125281438111447389583437454693110661344459624528797939160116064899351969973026114016967020900831020020191321491873149066596767621598066842705337489717914303492036656563387636803694735106309309856815054576689339773047\n",
      "q = 1316299324982549485108529513920436345666225658510436937571933546388768924858487732000669902061122626345902743583885053712137042740717730369055389360272264838212568994287183033334138063941187718734069837738232249446903492412085385246785194027580734533916551518631910577905282401783385729556652404854321054894567354774115102111743102880155116659767213495462573325141075239005545711199823252034866438947062640719055723694791718727346555330672229812264398969580058032449675984986513057008483510450415510010095660745936574533298383810799033421352668744858957151746018328281693818401847367553154654928407527288344669886523\n"
     ]
    }
   ],
   "source": [
    "a = int(a)\n",
    "b = int(b)\n",
    "def trouver_nbr_premier_sur_2(a, b): \n",
    "    while True: \n",
    "        q = randint(a//12, b//12)\n",
    "        while ((q%3 == 0) | (q % 5 == 0) | (q %7 == 0) | (q %11 == 0)): \n",
    "            q = randint(a//12, b//12)\n",
    "        q = 6*q+3\n",
    "        if(sympy.isprime(q) == True): \n",
    "            p = 2*q+1\n",
    "            if (sympy.isprime(p) == True): \n",
    "                return p, q\n",
    "        q = q + 2\n",
    "        if(sympy.isprime(q) == True): \n",
    "            p = 2*q+1\n",
    "            if(sympy.isprime(p) == True):\n",
    "                return p, q\n",
    "            \n",
    "p, q = trouver_nbr_premier_sur_2(a, b)\n",
    "print(\"p = {}\".format(p))\n",
    "print(\"q = {}\".format(q))"
   ]
  },
  {
   "cell_type": "code",
   "execution_count": 21,
   "metadata": {},
   "outputs": [
    {
     "name": "stdout",
     "output_type": "stream",
     "text": [
      "True\n",
      "True\n"
     ]
    }
   ],
   "source": [
    "print(a<p)\n",
    "print(p<b)"
   ]
  },
  {
   "cell_type": "code",
   "execution_count": 22,
   "metadata": {},
   "outputs": [],
   "source": [
    "p_m_1 = 2*q"
   ]
  },
  {
   "cell_type": "code",
   "execution_count": 148,
   "metadata": {},
   "outputs": [],
   "source": [
    "def liste_nbr_premier(a, b): \n",
    "    p = 2\n",
    "    liste = [p]\n",
    "    while (p < a): \n",
    "        p = sympy.nextprime(p)\n",
    "        liste.append(p)\n",
    "    return liste "
   ]
  },
  {
   "cell_type": "code",
   "execution_count": 149,
   "metadata": {},
   "outputs": [
    {
     "ename": "KeyboardInterrupt",
     "evalue": "",
     "output_type": "error",
     "traceback": [
      "\u001b[0;31m---------------------------------------------------------------------------\u001b[0m",
      "\u001b[0;31mKeyboardInterrupt\u001b[0m                         Traceback (most recent call last)",
      "\u001b[0;32m<ipython-input-149-5c2fd14281fb>\u001b[0m in \u001b[0;36m<module>\u001b[0;34m\u001b[0m\n\u001b[1;32m      1\u001b[0m \u001b[0ma\u001b[0m \u001b[0;34m=\u001b[0m \u001b[0mint\u001b[0m\u001b[0;34m(\u001b[0m\u001b[0ma\u001b[0m\u001b[0;34m)\u001b[0m\u001b[0;34m\u001b[0m\u001b[0;34m\u001b[0m\u001b[0m\n\u001b[1;32m      2\u001b[0m \u001b[0mb\u001b[0m \u001b[0;34m=\u001b[0m \u001b[0mint\u001b[0m\u001b[0;34m(\u001b[0m\u001b[0mb\u001b[0m\u001b[0;34m)\u001b[0m\u001b[0;34m\u001b[0m\u001b[0;34m\u001b[0m\u001b[0m\n\u001b[0;32m----> 3\u001b[0;31m \u001b[0mliste\u001b[0m \u001b[0;34m=\u001b[0m \u001b[0mliste_nbr_premier\u001b[0m\u001b[0;34m(\u001b[0m\u001b[0ma\u001b[0m\u001b[0;34m,\u001b[0m \u001b[0mb\u001b[0m\u001b[0;34m)\u001b[0m\u001b[0;34m\u001b[0m\u001b[0;34m\u001b[0m\u001b[0m\n\u001b[0m\u001b[1;32m      4\u001b[0m \u001b[0mprint\u001b[0m\u001b[0;34m(\u001b[0m\u001b[0mliste\u001b[0m\u001b[0;34m)\u001b[0m\u001b[0;34m\u001b[0m\u001b[0;34m\u001b[0m\u001b[0m\n",
      "\u001b[0;32m<ipython-input-148-da0484d34a63>\u001b[0m in \u001b[0;36mliste_nbr_premier\u001b[0;34m(a, b)\u001b[0m\n\u001b[1;32m      3\u001b[0m     \u001b[0mliste\u001b[0m \u001b[0;34m=\u001b[0m \u001b[0;34m[\u001b[0m\u001b[0mp\u001b[0m\u001b[0;34m]\u001b[0m\u001b[0;34m\u001b[0m\u001b[0;34m\u001b[0m\u001b[0m\n\u001b[1;32m      4\u001b[0m     \u001b[0;32mwhile\u001b[0m \u001b[0;34m(\u001b[0m\u001b[0mp\u001b[0m \u001b[0;34m<\u001b[0m \u001b[0ma\u001b[0m\u001b[0;34m)\u001b[0m\u001b[0;34m:\u001b[0m\u001b[0;34m\u001b[0m\u001b[0;34m\u001b[0m\u001b[0m\n\u001b[0;32m----> 5\u001b[0;31m         \u001b[0mp\u001b[0m \u001b[0;34m=\u001b[0m \u001b[0msympy\u001b[0m\u001b[0;34m.\u001b[0m\u001b[0mnextprime\u001b[0m\u001b[0;34m(\u001b[0m\u001b[0mp\u001b[0m\u001b[0;34m)\u001b[0m\u001b[0;34m\u001b[0m\u001b[0;34m\u001b[0m\u001b[0m\n\u001b[0m\u001b[1;32m      6\u001b[0m         \u001b[0mliste\u001b[0m\u001b[0;34m.\u001b[0m\u001b[0mappend\u001b[0m\u001b[0;34m(\u001b[0m\u001b[0mp\u001b[0m\u001b[0;34m)\u001b[0m\u001b[0;34m\u001b[0m\u001b[0;34m\u001b[0m\u001b[0m\n\u001b[1;32m      7\u001b[0m     \u001b[0;32mreturn\u001b[0m \u001b[0mliste\u001b[0m\u001b[0;34m\u001b[0m\u001b[0;34m\u001b[0m\u001b[0m\n",
      "\u001b[0;32m~/anaconda3/lib/python3.8/site-packages/sympy/ntheory/generate.py\u001b[0m in \u001b[0;36mnextprime\u001b[0;34m(n, ith)\u001b[0m\n\u001b[1;32m    581\u001b[0m         \u001b[0mn\u001b[0m \u001b[0;34m=\u001b[0m \u001b[0mnn\u001b[0m \u001b[0;34m+\u001b[0m \u001b[0;36m5\u001b[0m\u001b[0;34m\u001b[0m\u001b[0;34m\u001b[0m\u001b[0m\n\u001b[1;32m    582\u001b[0m     \u001b[0;32mwhile\u001b[0m \u001b[0;36m1\u001b[0m\u001b[0;34m:\u001b[0m\u001b[0;34m\u001b[0m\u001b[0;34m\u001b[0m\u001b[0m\n\u001b[0;32m--> 583\u001b[0;31m         \u001b[0;32mif\u001b[0m \u001b[0misprime\u001b[0m\u001b[0;34m(\u001b[0m\u001b[0mn\u001b[0m\u001b[0;34m)\u001b[0m\u001b[0;34m:\u001b[0m\u001b[0;34m\u001b[0m\u001b[0;34m\u001b[0m\u001b[0m\n\u001b[0m\u001b[1;32m    584\u001b[0m             \u001b[0;32mreturn\u001b[0m \u001b[0mn\u001b[0m\u001b[0;34m\u001b[0m\u001b[0;34m\u001b[0m\u001b[0m\n\u001b[1;32m    585\u001b[0m         \u001b[0mn\u001b[0m \u001b[0;34m+=\u001b[0m \u001b[0;36m2\u001b[0m\u001b[0;34m\u001b[0m\u001b[0;34m\u001b[0m\u001b[0m\n",
      "\u001b[0;32m~/anaconda3/lib/python3.8/site-packages/sympy/ntheory/primetest.py\u001b[0m in \u001b[0;36misprime\u001b[0;34m(n)\u001b[0m\n\u001b[1;32m    572\u001b[0m     \u001b[0;31m# This should be a bit faster than our step 2, and for large values will\u001b[0m\u001b[0;34m\u001b[0m\u001b[0;34m\u001b[0m\u001b[0;34m\u001b[0m\u001b[0m\n\u001b[1;32m    573\u001b[0m     \u001b[0;31m# be a lot faster than our step 3 (C+GMP vs. Python).\u001b[0m\u001b[0;34m\u001b[0m\u001b[0;34m\u001b[0m\u001b[0;34m\u001b[0m\u001b[0m\n\u001b[0;32m--> 574\u001b[0;31m     \u001b[0;32mfrom\u001b[0m \u001b[0msympy\u001b[0m\u001b[0;34m.\u001b[0m\u001b[0mcore\u001b[0m\u001b[0;34m.\u001b[0m\u001b[0mcompatibility\u001b[0m \u001b[0;32mimport\u001b[0m \u001b[0mHAS_GMPY\u001b[0m\u001b[0;34m\u001b[0m\u001b[0;34m\u001b[0m\u001b[0m\n\u001b[0m\u001b[1;32m    575\u001b[0m     \u001b[0;32mif\u001b[0m \u001b[0mHAS_GMPY\u001b[0m \u001b[0;34m==\u001b[0m \u001b[0;36m2\u001b[0m\u001b[0;34m:\u001b[0m\u001b[0;34m\u001b[0m\u001b[0;34m\u001b[0m\u001b[0m\n\u001b[1;32m    576\u001b[0m         \u001b[0;32mfrom\u001b[0m \u001b[0mgmpy2\u001b[0m \u001b[0;32mimport\u001b[0m \u001b[0mis_strong_prp\u001b[0m\u001b[0;34m,\u001b[0m \u001b[0mis_strong_selfridge_prp\u001b[0m\u001b[0;34m\u001b[0m\u001b[0;34m\u001b[0m\u001b[0m\n",
      "\u001b[0;31mKeyboardInterrupt\u001b[0m: "
     ]
    }
   ],
   "source": [
    "a = int(a)\n",
    "b = int(b)\n",
    "liste = liste_nbr_premier(a, b)\n",
    "print(liste)"
   ]
  },
  {
   "cell_type": "raw",
   "metadata": {},
   "source": [
    "                #########################################################\n",
    "                                        Ticket 1511\n",
    "                #########################################################"
   ]
  },
  {
   "cell_type": "code",
   "execution_count": 13,
   "metadata": {},
   "outputs": [
    {
     "name": "stdout",
     "output_type": "stream",
     "text": [
      "Vous devez générer une paire de clefs RSA. Pour plus de piquant, l'exposant\n",
      "public (\"e\") vous est imposé. Vous le trouverez en pièce-jointe (id=\"e\").\n",
      "\n",
      "Vous devez envoyer la partie ``modulus'' de la clef publique (le \"n\") à\n",
      "l'adresse :\n",
      "\n",
      "    /bin/hackademy/exam/rsa/keygen\n",
      "\n",
      "Vous récupérez en échange un message chiffré avec la clef publique RSA que vous\n",
      "venez de produire. Vous devez le déchiffrer. Le clair représente une chaine de \n",
      "caractères (cf /doc/ints, \"CONVERSION int() <---> bytes()\").\n",
      "\n",
      "[ You have new mail ]\n"
     ]
    }
   ],
   "source": [
    "print(c.get('/bin/hackademy/ticket/1511'))"
   ]
  },
  {
   "cell_type": "code",
   "execution_count": 14,
   "metadata": {},
   "outputs": [
    {
     "name": "stdout",
     "output_type": "stream",
     "text": [
      "262866018186790498373512827038848736241\n"
     ]
    }
   ],
   "source": [
    "e = indication0 = c.get('/bin/hackademy/ticket/1511/attachment/e')\n",
    "print(e)\n"
   ]
  },
  {
   "cell_type": "code",
   "execution_count": 15,
   "metadata": {},
   "outputs": [],
   "source": [
    "def gen_key_private_modif_expo(e):\n",
    "    args = ['openssl', 'genpkey', '-algorithm', 'RSA', '-pkeyopt', 'rsa_keygen_bits:2048', '-pkeyopt', 'rsa_keygen_pubexp:'+e]\n",
    "    result = subprocess.run(args, stdout=subprocess.PIPE, stderr=subprocess.PIPE)\n",
    "    with open('key_private_modif_ex.pub', 'w') as f:\n",
    "        f.write(result.stdout.decode())\n",
    "        \n",
    "def trouver_key_public(file_key_private): \n",
    "    args = ['openssl', 'pkey', '-in', file_key_private, '-pubout']\n",
    "    result = subprocess.run(args, stdout=subprocess.PIPE, stderr=subprocess.PIPE)\n",
    "    return result.stdout.decode()\n",
    "    \n",
    "def visualiser_key_RSA(maCle): \n",
    "    #openssl rsa -in maCle.pem -text -noout\n",
    "    args = ['openssl', 'rsa', '-in', maCle, '-modulus', '-noout']\n",
    "    result = subprocess.run(args, stdout=subprocess.PIPE, stderr=subprocess.PIPE)\n",
    "    return result.stdout.decode()\n",
    "    "
   ]
  },
  {
   "cell_type": "code",
   "execution_count": 16,
   "metadata": {},
   "outputs": [],
   "source": [
    "gen_key_private_modif_expo(e)"
   ]
  },
  {
   "cell_type": "code",
   "execution_count": 17,
   "metadata": {},
   "outputs": [
    {
     "name": "stdout",
     "output_type": "stream",
     "text": [
      "-----BEGIN PUBLIC KEY-----\n",
      "MIIBMDANBgkqhkiG9w0BAQEFAAOCAR0AMIIBGAKCAQEA3sYwZGV4wmpG61ctmvVy\n",
      "HFBiLBSPqz2fFQhMMOm73PD3PorcG8J/tapVPA4EeOB5gmDiA0JxtSks94OCSe3k\n",
      "xRBa9WVhABDuvAYqbzKL3l9W1PyGJDT+GQ2t2twrWdqtM3b2axqxlDUvDtOyRztO\n",
      "qDN6yeLCZ7R6CMez2u7aG43FLGQ+kVqqJVNfHzSDxJYXO6WK9A/1g0n8MTf6icBD\n",
      "tKSq1S7dQyd4XiN9n8vMTrtQyPAeTVNmxZ6jn6vihdur3jNfyxM7WnhXUGOGrt9h\n",
      "aiGATLZVwZ/c/blOVbnvy/p8k4Uoo2Qa32s+aYev2asVCS0/Z5vucyuwBMQ8nbON\n",
      "fwIRAMXCJ1DwVK13QTk6Y2e/W/E=\n",
      "-----END PUBLIC KEY-----\n",
      "\n"
     ]
    }
   ],
   "source": [
    "key_public_RSA = trouver_key_public('key_private_modif_ex.pub')\n",
    "print(key_public_RSA)"
   ]
  },
  {
   "cell_type": "code",
   "execution_count": 18,
   "metadata": {},
   "outputs": [],
   "source": [
    "def sup_deux_point(nbr): \n",
    "    resultat = ''\n",
    "    for i in nbr: \n",
    "        if i != ':': \n",
    "            resultat += i\n",
    "    return resultat"
   ]
  },
  {
   "cell_type": "code",
   "execution_count": 19,
   "metadata": {},
   "outputs": [
    {
     "name": "stdout",
     "output_type": "stream",
     "text": [
      "28122634356579624113663612825355303529237857817151812491317775711902183036635070504391797979096244156830920389139818598740042430869904348326872846382329769153361452960567828351308663637199010918618532528934764325803320728339004808449025088382264317575678300431881722845272079138630145261866804237474699176175363854010787319780159444074910090762258454247837651564978906656852312485561114372428626473597135561573606258843820447059840366401347225522909556480290612558231066152843093030435745084490763547043239135764940137908891878535784859188714338495345582954158679569437956764537128789390442510558450292797087390338431\n"
     ]
    }
   ],
   "source": [
    "contenut = visualiser_key_RSA('key_private_modif_ex.pub')\n",
    "modulus = contenut.split('=')[1]\n",
    "modulus = int(modulus,base=16)\n",
    "#print(contenut)\n",
    "#modulus = \"00:d0:8c:ce:a7:be:8f:01:2b:e9:d1:25:46:61:87:0a:48:e1:79:2c:0c:5a:59:5e:37:6a:d6:32:8a:22:7e:01:f0:c7:11:ce:c3:aa:27:e1:5c:d2:30:ef:0c:96:32:91:71:c3:10:e9:74:6e:57:fa:93:ef:1e:bb:be:95:7c:a6:9a:fe:90:41:f7:a0:53:ae:e7:4e:d8:66:a6:ab:6d:bb:f9:6f:52:79:f6:f8:7e:20:65:bf:0f:6e:e7:ab:d8:0b:7b:85:47:c4:e2:13:bd:a3:1e:0e:82:64:b9:83:24:e2:bb:23:f1:ca:c1:c0:f1:5c:e4:eb:ad:4e:aa:f6:6f:0f:42:cf:7c:82:c9:3a:5c:bf:7a:80:38:49:96:48:2a:07:93:f1:db:32:af:b6:b9:8e:90:1e:a1:09:db:f9:41:4c:12:ce:3b:8c:5a:ba:bd:8c:43:08:00:9e:83:36:56:9b:54:f9:4b:ac:ad:f4:3d:41:70:ea:5a:33:8b:20:43:60:2b:99:3d:f1:eb:63:18:4c:77:7d:aa:9c:9b:65:f9:04:e6:32:08:1c:86:19:43:65:16:84:80:2f:5c:e5:64:6d:a0:74:4a:08:b9:c2:66:1b:6f:f7:c2:15:0d:4c:54:74:d7:e4:ed:2e:07:3a:7e:10:c7:cc:d9:ca:d8:27:92:52:75\"\n",
    "#modulus = sup_deux_point(modulus)\n",
    "#print(modulus)\n",
    "#modulus = int(modulus, base = 16)\n",
    "print(modulus)"
   ]
  },
  {
   "cell_type": "code",
   "execution_count": 20,
   "metadata": {},
   "outputs": [],
   "source": [
    "reponse = c.post('/bin/hackademy/exam/rsa/keygen', n= modulus)"
   ]
  },
  {
   "cell_type": "code",
   "execution_count": 21,
   "metadata": {},
   "outputs": [
    {
     "name": "stdout",
     "output_type": "stream",
     "text": [
      "{'ciphertext': 21062655549565302670013359446153779044641070751642809565165464254958934900859164944092836495463436942121975098591594967026103571168568555911597856673536859007048618338746536222921362727613403087120561939823109316120758776350937811564355692369388227115988910357160125151449094181989632036657286283431779734621065719176424330981387220379677948544044862359968217766958371644834462480626167621170230014691859537778642191104730118890259632514097704366931609126212860384259080668693601742130859834206175586871826611853831439566972560622300894679814983109456403986810446058385897822802567286040846196365834474654568184006081}\n"
     ]
    }
   ],
   "source": [
    "print(reponse)"
   ]
  },
  {
   "cell_type": "code",
   "execution_count": 43,
   "metadata": {},
   "outputs": [
    {
     "name": "stdout",
     "output_type": "stream",
     "text": [
      "0xa6d92ed89a15e862039beda148cf1bdf0afd80510a37bffb9e30991b726ef1ddf1a216f389adf1f7b0119be1ff1446a44bc6697a7618ffbfc715e5d1a467d1ab09c1c68eb6ded88068e9fee34575422dc5627f117b76a601ad01521a25ffadd5ae09b3476531e73b873332580db2c6503e06adfb22c2536a17a67a3da45b97a59ea4d7f642f522fbcedc68880734225cbbe44911bd65aa1e3669f8575185cd28733ba666bed536baff0e280eb92a85d43d9c77185d66b2d5bf6f1652565e9f7b10ef4963d0fd4ed51cf39c6c6ed95ae973156ae7de42e94febd9e7a581fc50ff6eb29992a7e4c7a8a779fc3ac629082728d2de4c1abb654b4597daa25187c5c1\n"
     ]
    }
   ],
   "source": [
    "#x = reponse['ciphertext']\n",
    "#x = x.to_bytes(length=256, byteorder=\"big\")\n",
    "#x\n",
    "x = reponse['ciphertext']\n",
    "x = hex(x)\n",
    "print(x)"
   ]
  },
  {
   "cell_type": "code",
   "execution_count": 48,
   "metadata": {},
   "outputs": [
    {
     "ename": "TypeError",
     "evalue": "a bytes-like object is required, not 'str'",
     "output_type": "error",
     "traceback": [
      "\u001b[0;31m---------------------------------------------------------------------------\u001b[0m",
      "\u001b[0;31mTypeError\u001b[0m                                 Traceback (most recent call last)",
      "\u001b[0;32m<ipython-input-48-07bac884768a>\u001b[0m in \u001b[0;36m<module>\u001b[0;34m\u001b[0m\n\u001b[1;32m      2\u001b[0m \u001b[0mi\u001b[0m \u001b[0;34m=\u001b[0m \u001b[0mint\u001b[0m\u001b[0;34m(\u001b[0m\u001b[0mciphertext\u001b[0m\u001b[0;34m,\u001b[0m \u001b[0mbase\u001b[0m\u001b[0;34m=\u001b[0m\u001b[0;36m16\u001b[0m\u001b[0;34m)\u001b[0m\u001b[0;34m\u001b[0m\u001b[0;34m\u001b[0m\u001b[0m\n\u001b[1;32m      3\u001b[0m \u001b[0mh\u001b[0m \u001b[0;34m=\u001b[0m \u001b[0;34m\"{}\"\u001b[0m\u001b[0;34m.\u001b[0m\u001b[0mformat\u001b[0m\u001b[0;34m(\u001b[0m\u001b[0mi\u001b[0m\u001b[0;34m)\u001b[0m\u001b[0;34m\u001b[0m\u001b[0;34m\u001b[0m\u001b[0m\n\u001b[0;32m----> 4\u001b[0;31m \u001b[0mh\u001b[0m \u001b[0;34m=\u001b[0m \u001b[0mbase64\u001b[0m\u001b[0;34m.\u001b[0m\u001b[0mb16encode\u001b[0m\u001b[0;34m(\u001b[0m\u001b[0mh\u001b[0m\u001b[0;34m)\u001b[0m\u001b[0;34m\u001b[0m\u001b[0;34m\u001b[0m\u001b[0m\n\u001b[0m\u001b[1;32m      5\u001b[0m \u001b[0mprint\u001b[0m\u001b[0;34m(\u001b[0m\u001b[0mh\u001b[0m\u001b[0;34m)\u001b[0m\u001b[0;34m\u001b[0m\u001b[0;34m\u001b[0m\u001b[0m\n",
      "\u001b[0;32m~/anaconda3/lib/python3.8/base64.py\u001b[0m in \u001b[0;36mb16encode\u001b[0;34m(s)\u001b[0m\n\u001b[1;32m    248\u001b[0m     \"\"\"Encode the bytes-like object s using Base16 and return a bytes object.\n\u001b[1;32m    249\u001b[0m     \"\"\"\n\u001b[0;32m--> 250\u001b[0;31m     \u001b[0;32mreturn\u001b[0m \u001b[0mbinascii\u001b[0m\u001b[0;34m.\u001b[0m\u001b[0mhexlify\u001b[0m\u001b[0;34m(\u001b[0m\u001b[0ms\u001b[0m\u001b[0;34m)\u001b[0m\u001b[0;34m.\u001b[0m\u001b[0mupper\u001b[0m\u001b[0;34m(\u001b[0m\u001b[0;34m)\u001b[0m\u001b[0;34m\u001b[0m\u001b[0;34m\u001b[0m\u001b[0m\n\u001b[0m\u001b[1;32m    251\u001b[0m \u001b[0;34m\u001b[0m\u001b[0m\n\u001b[1;32m    252\u001b[0m \u001b[0;34m\u001b[0m\u001b[0m\n",
      "\u001b[0;31mTypeError\u001b[0m: a bytes-like object is required, not 'str'"
     ]
    }
   ],
   "source": [
    "ciphertext = str(reponse['ciphertext'])\n",
    "i = int(ciphertext, base=16)\n",
    "h = \"{}\".format(i)\n",
    "h = base64.b16encode(h)\n",
    "print(h)"
   ]
  },
  {
   "cell_type": "code",
   "execution_count": 253,
   "metadata": {},
   "outputs": [
    {
     "name": "stdout",
     "output_type": "stream",
     "text": [
      "Up1FwQJSMli5tGDg1kSGqCrFQd9p/cldyA4BEhSpNkI0F8940cCSzWR74nxbvUHr6TNo35EPTZcwEV1JnuWSp4oRO2fe1tOYRrQdLApBZDaC3GgEt3ws6iGj5YzgNUtdmDg4kG9SeQesaZXcTCv1mUe7BDa8ZNCUICnIDMX2lawBTBpx6OB+IXoVWfndh9X5vQj2oroFRq4+Cn9OV7/nbFayvk3+M/wSooWaN3bBXZxQlJpl8BqbwrQGOdjVNOwm3r2muKNeZ2MWcddPpHQh0pi2dHKTWJOb7831f+SvvAyJD4rAUROyQ1hJXTL9VF0Z4mfQ4yJK4KYwkLEf4avFkw==\n"
     ]
    }
   ],
   "source": [
    "ciphertext = (reponse['ciphertext'])\n",
    "ciphertext = hex(ciphertext)[2:]\n",
    "ciphertext = base64.b16decode(ciphertext, casefold=True)\n",
    "#print(ciphertext)\n",
    "ciphertext = base64.b64encode(ciphertext).decode()\n",
    "print(ciphertext)"
   ]
  },
  {
   "cell_type": "code",
   "execution_count": 42,
   "metadata": {},
   "outputs": [],
   "source": [
    "def decrypt_public(file_name, file_key):\n",
    "    # prépare les arguments à envoyer à openssl\n",
    "    args = ['openssl', 'pkeyutl', '-decrypt', '-inkey', file_key]\n",
    "\n",
    "    # si le message clair est une chaine unicode, on est obligé de\n",
    "    # l'encoder en bytes() pour pouvoir l'envoyer dans le pipeline vers \n",
    "    # openssl\n",
    "    if isinstance(file_name, str):\n",
    "        file_name = base64.b16decode(file_name)\n",
    "    \n",
    "    # ouvre le pipeline vers openssl. envoie plaintext sur le stdin de openssl, récupère stdout et stderr\n",
    "    #    affiche la commande invoquée\n",
    "    #    print('debug : {0}'.format(' '.join(args)))\n",
    "    result = subprocess.run(args, input=file_name, stdout=subprocess.PIPE, stderr=subprocess.PIPE)\n",
    "\n",
    "    # si un message d'erreur est présent sur stderr, on arrête tout\n",
    "    # attention, sur stderr on récupère des bytes(), donc on convertit\n",
    "    error_message = result.stderr.decode()\n",
    "    if error_message != '':\n",
    "        raise OpensslError(error_message)\n",
    "\n",
    "    # OK, openssl a envoyé le chiffré sur stdout, en base64.\n",
    "    # On récupère des bytes, donc on en fait une chaine unicode\n",
    "    return result.stdout.decode()"
   ]
  },
  {
   "cell_type": "code",
   "execution_count": 39,
   "metadata": {},
   "outputs": [
    {
     "data": {
      "text/plain": [
       "'STATUS : OK --- ticket 1511 closed\\n[ You have new mail ]'"
      ]
     },
     "execution_count": 39,
     "metadata": {},
     "output_type": "execute_result"
    }
   ],
   "source": [
    "c.post('/bin/hackademy/ticket/1511/close')"
   ]
  },
  {
   "cell_type": "code",
   "execution_count": null,
   "metadata": {},
   "outputs": [],
   "source": []
  },
  {
   "cell_type": "code",
   "execution_count": null,
   "metadata": {},
   "outputs": [],
   "source": []
  },
  {
   "cell_type": "raw",
   "metadata": {},
   "source": [
    "########################################################################\n",
    "                                Ticket 1512\n",
    "########################################################################"
   ]
  },
  {
   "cell_type": "code",
   "execution_count": 94,
   "metadata": {},
   "outputs": [
    {
     "name": "stdout",
     "output_type": "stream",
     "text": [
      "Vous devez programmer la réduction qui sert à établir que déterminer la clef\n",
      "secrète à partir de la clef publique est aussi dur que factoriser un grand\n",
      "entier.\n",
      "\n",
      "Vous trouverez en pièce-jointe de ce ticket une clef publique, et la clef\n",
      "secrète qui correspond (id=\"n\", \"e\" et \"d\"). L'un des deux nombres premiers dont\n",
      "le produit forme n peut être interprété comme une chaine de caractères. Vous\n",
      "saurez quoi en faire.\n",
      "\n",
      "---\n",
      "Il y a des indications (pj = 'indication-[012]').\n",
      "[ You have new mail ]\n"
     ]
    }
   ],
   "source": [
    "print(c.get('/bin/hackademy/ticket/1512'))"
   ]
  },
  {
   "cell_type": "code",
   "execution_count": 113,
   "metadata": {},
   "outputs": [],
   "source": [
    "indication0 = c.get('/bin/hackademy/ticket/1512/attachment/indication-0')\n",
    "indication1 = c.get('/bin/hackademy/ticket/1512/attachment/indication-1')\n",
    "indication2 = c.get('/bin/hackademy/ticket/1512/attachment/indication-2')"
   ]
  },
  {
   "cell_type": "code",
   "execution_count": 114,
   "metadata": {},
   "outputs": [
    {
     "name": "stdout",
     "output_type": "stream",
     "text": [
      "Comme le déchiffrement RSA est correct, on sait que x**(e*d) = x [modulo n], \n",
      "pour n'importe quelle valeur x.\n",
      "\n",
      "Ceci implique que x**(e*d - 1) = 1 [modulo n].\n",
      "\n",
      "Vu la façon dont d est fabriqué, on sait que c'est l'inverse de e modulo \n",
      "(p-1)*(q-1). Par conséquent, on sait qu'il existe un certain entier k tel que \n",
      "\n",
      "     e*d = 1 + k * (p-1)*(q-1).\n",
      "\n",
      "Comme (p-1) et (q-1) sont pairs, on sait que e*d est impair (il n'y a qu'à\n",
      "prendre l'égalité ci-dessus modulo 2 des deux côtés pour s'en convaincre).\n",
      "\n",
      "Par conséquent, x ** ((e*d - 1) // 2) est un nombre dont le carré vaut 1\n",
      "modulo n. Des nombres comme ça, il y en a 4 : en plus de 1 et -1, il y en a deux\n",
      "autres qu'on va noter A et -A. Si x est choisi aléatoirement, on a autant de\n",
      "chance d'obtenir n'importe lequel.\n",
      "\n",
      "L'important c'est d'obtenir A (ou -A, de toute façon on ne peut pas faire la\n",
      "différence entre les deux). En effet, on a alors :\n",
      "\n",
      "    A**2        = 1    [modulo n]\n",
      "    A**2 - 1    = 0    [modulo n]\n",
      "    (A-1)*(A+1) = 0    [modulo n]\n",
      "\n",
      "Ceci signifie, si on retire les modulo, qu'il existe un entier r (inconnu) tel\n",
      "que :\n",
      "\n",
      "    (A-1)*(A+1) = r * n\n",
      "\n",
      "En calculant le PGCD de A-1 et de n, on est sûr d'obtenir un diviseur de n.\n"
     ]
    }
   ],
   "source": [
    "print(indication0)"
   ]
  },
  {
   "cell_type": "code",
   "execution_count": 97,
   "metadata": {},
   "outputs": [
    {
     "name": "stdout",
     "output_type": "stream",
     "text": [
      "TL;DR ?\n",
      "\n",
      "1) Faire : k = (e*d - 1) // 2\n",
      "\n",
      "3) Faire : x = $$$ et y = x**k modulo n\n",
      "\n",
      "4) Si y == 1 ou y == n-1, alors retourner à l'étape 3.\n",
      "\n",
      "5) Renvoyer PGCD(y-1, n). C'est un diviseur de n.\n",
      "\n",
      "\n",
      "Vu les considérations précédentes, on devrait y arriver après 4 itérations de la\n",
      "boucle 3--4, en moyenne.\n"
     ]
    }
   ],
   "source": [
    "print(indication1)"
   ]
  },
  {
   "cell_type": "code",
   "execution_count": 27,
   "metadata": {},
   "outputs": [
    {
     "name": "stdout",
     "output_type": "stream",
     "text": [
      "1\n",
      "1\n",
      "1\n",
      "1\n",
      "1\n",
      "1\n",
      "1\n",
      "1\n",
      "1\n",
      "1\n",
      "1\n",
      "1\n",
      "1\n",
      "1\n",
      "1\n",
      "1\n",
      "1\n",
      "1\n",
      "1\n",
      "1\n",
      "1\n",
      "1\n",
      "1\n",
      "1\n",
      "1\n",
      "1\n",
      "1\n",
      "1\n",
      "1\n",
      "1\n",
      "1\n",
      "1\n",
      "1\n",
      "1\n",
      "1\n",
      "1\n",
      "1\n",
      "1\n",
      "1\n",
      "1\n",
      "1\n",
      "1\n",
      "1\n",
      "1\n",
      "1\n",
      "1\n",
      "1\n",
      "1\n",
      "1\n",
      "1\n",
      "1\n",
      "1\n",
      "1\n",
      "1\n",
      "1\n",
      "1\n",
      "1\n",
      "1\n",
      "1\n",
      "1\n",
      "1\n",
      "1\n",
      "1\n",
      "1\n",
      "1\n",
      "1\n",
      "1\n",
      "1\n",
      "1\n",
      "1\n",
      "1\n",
      "1\n",
      "1\n",
      "1\n",
      "1\n",
      "1\n",
      "1\n",
      "1\n",
      "1\n",
      "1\n",
      "1\n",
      "1\n",
      "1\n",
      "1\n",
      "1\n",
      "1\n",
      "1\n",
      "1\n",
      "1\n",
      "1\n",
      "1\n",
      "1\n",
      "1\n",
      "1\n",
      "1\n",
      "1\n",
      "1\n",
      "1\n",
      "1\n",
      "1\n",
      "1\n",
      "1\n",
      "1\n",
      "1\n",
      "1\n",
      "1\n",
      "1\n",
      "1\n",
      "1\n",
      "1\n",
      "1\n",
      "1\n",
      "1\n",
      "1\n",
      "1\n",
      "1\n",
      "1\n",
      "1\n",
      "1\n",
      "1\n",
      "1\n",
      "1\n",
      "1\n",
      "1\n",
      "1\n",
      "1\n",
      "1\n",
      "1\n",
      "1\n",
      "1\n",
      "1\n",
      "1\n",
      "1\n",
      "1\n",
      "1\n",
      "1\n",
      "1\n",
      "1\n",
      "1\n",
      "1\n",
      "1\n",
      "1\n",
      "1\n",
      "1\n",
      "1\n",
      "1\n",
      "1\n",
      "1\n",
      "1\n",
      "1\n",
      "1\n",
      "1\n",
      "1\n",
      "1\n",
      "1\n",
      "1\n",
      "3736050061638273295195365996933407685763892349757254059419606718259607065371999809919659413586251176926104029053701896868488947637074734013708042735140936729401522082023566038897504548397070386693375030681899612042820423560675135110367593133716611431868446016848341394455179390740415146333316101126117584569504560669129037039836987299564417544933182623067330579398378134199048405304695733599473549156401539881793655335831281759932581324262184619397281688792544135788865040471743347930209462813160024293819218284949845180399443482450677277989357062327344376917658667863386893003928631814093458718267623118508304534224\n"
     ]
    }
   ],
   "source": [
    "\n",
    "cpt = 0\n",
    "k = (e*d-1)//2\n",
    "while True: \n",
    "    cpt = cpt + 1\n",
    "    x = randint(100,1000)\n",
    "    y = pow(x, k, n)\n",
    "    print(y)\n",
    "    if(y!=1) & (y != n-1): \n",
    "        resul =  pgcd(y-1, n)\n",
    "        break\n",
    "    if (cpt > 20): \n",
    "        print(\"1\")\n",
    "        k = k//2\n",
    "        cpt = 0"
   ]
  },
  {
   "cell_type": "code",
   "execution_count": 17,
   "metadata": {},
   "outputs": [],
   "source": [
    "def pgcd(a,b):\n",
    "    if b==0:\n",
    "        return a\n",
    "    else:\n",
    "        r=a%b\n",
    "        return pgcd(b,r)"
   ]
  },
  {
   "cell_type": "code",
   "execution_count": 30,
   "metadata": {},
   "outputs": [],
   "source": [
    "n = c.get('/bin/hackademy/ticket/1512/attachment/n')\n",
    "e = c.get('/bin/hackademy/ticket/1512/attachment/e')\n",
    "d = c.get('/bin/hackademy/ticket/1512/attachment/d')"
   ]
  },
  {
   "cell_type": "code",
   "execution_count": 31,
   "metadata": {},
   "outputs": [
    {
     "name": "stdout",
     "output_type": "stream",
     "text": [
      "65537\n",
      "1329452130996557008534805442803110177923514555289594756686585243477895213110872438449839983797170697900687339725089037482921112898233397439829988022057174880392669820927259010875169785461598650044800576968566541391820602586892086854654211967005634202322661621989438561707026387196664431139960291011482542807898846838150186454785363015468365105314928281337058286924135230978548331330939486464458088755981999172950821168411186277738539756706808413792531682877344751173870919886010450604569071270952652799140150668411662102476761374250169274227551897869903600560955047687896983580468301849566013606831058459503833733041\n",
      "1237051586926957893929681027709832077607027551011948478756448133386773973265899004250242487326534072346609020112537645662503552295040496859418531967607468125732117597994813754080742235027834793735325522753515187255382516547200104377230009829133734911974007828130063054000303388071272568774540465179398331103145159562839360112325296650758588384583640059988930661700545111852541735855760988007169625132491776083528053035224266476063944179181624681276907228557704144213728633337719020142869789615873523155974480984893450464537974239076290773425884861797788645310933768776853765695005944385583118218332445791422861585273\n"
     ]
    }
   ],
   "source": [
    "n =int(n)\n",
    "e =int(e)\n",
    "d =int(d)\n",
    "#reduction = reduction(e, d, n)\n",
    "\n",
    "print(e)\n",
    "print(n)\n",
    "print(d)"
   ]
  },
  {
   "cell_type": "code",
   "execution_count": 32,
   "metadata": {},
   "outputs": [
    {
     "name": "stdout",
     "output_type": "stream",
     "text": [
      "65849758199997936414913711582594585616781985292593180423136384918338569576694324211986751990510123196403039087979070003434458679215808311060246941375469320634876167231438780604196719511220590910486387960197108284146772081739149982204466027280354825651907498463703073532486519701932237343246804600746865732243\n",
      "b']\\xc5\\xee\\\\\\x8d-\\x9eLC\\x03\\xf1\\xf7#\\x8b|\\xc7\\x85Q&+\\xee\\xbf\\xf0 \\x98\\xcc\\xf4[\\x12\\x8e\\x88\\xfc\\xb1\\x02_\\xd1\\x03[\\x11\\xf5\\xe5\\xa1\\x94\\xf5b\\xa8$\\x93\\xf5\\xd0#\\x97c\\xb5{-s\\xe8\\x1e\\xaf\\xe81\\xdd<;\\xff\\xd5\\x98,1\\xfb\\xdf\\xa6\\xa8D\\x94\\xb74\\x18\\xd4\\x11\\xdcrXy\\xca\\x90\\x1e\\xa8by\\xc4\\xebo\\x1c\\\\\\x8a\\xb3\\xb9$\\xf3y\\x85P\\xc2}\\xdd\\x870\\xf5\\x9a\\xe2\\xd6\\x19\\xd0KA\\x1bU\\xe7\\x9a\\x05\\xa8\\xaf\\xd6j*\\x93'\n"
     ]
    }
   ],
   "source": [
    "print(resul)\n",
    "ar = hex(resul)[2:]\n",
    "ar = unhexlify(ar)\n",
    "print(ar)"
   ]
  },
  {
   "cell_type": "raw",
   "metadata": {},
   "source": [
    "#############################\n",
    "\n",
    "#############################"
   ]
  },
  {
   "cell_type": "code",
   "execution_count": 13,
   "metadata": {},
   "outputs": [
    {
     "name": "stdout",
     "output_type": "stream",
     "text": [
      "Vous devez programmer le déchiffrement ElGamal.\n",
      "\n",
      "Vous trouverez en pièce-jointe (id=\"p\" et \"g\") des paramètres. Vous devez\n",
      "génerer une clef publique Elgamal et l'envoyer dans un paramètre \"h\" à\n",
      "l'adresse :\n",
      "\n",
      "    /bin/hackademy/exam/elgamal/decryption\n",
      "\n",
      "Vous récupérez en échange un message chiffré avec votre clef publique. Vous\n",
      "devez le déchiffrer. Le nombre obtenu modulo p représente une chaine de \n",
      "caractères (cf /doc/ints, \"CONVERSION int() <---> bytes()\"). Vous saurez quoi en\n",
      "faire.\n",
      "[ You have new mail ]\n"
     ]
    }
   ],
   "source": [
    "print(c.get('/bin/hackademy/ticket/1509'))"
   ]
  },
  {
   "cell_type": "code",
   "execution_count": 55,
   "metadata": {},
   "outputs": [
    {
     "name": "stdout",
     "output_type": "stream",
     "text": [
      "p = 32317006071311007300338913926423828248817941241140239112842009751400741706634354222619689417363569347117901737909704191754605873209195028853758986185622153212175412514901774520270235796078236248884246189477587641105928646099411723245426622522193230540919037680524235519125679715870117001058055877651038861847280257976054903569732561526167081339361799541336476559160368317896729073178384589680639671900977202194168647225871031411336429319536193471636533209717077448227988588565369208645296636077250268955505928362751121174096972998068410554359584866583291642136218231078990999448652468262416972035911852507045361090559\n",
      "g = 2\n"
     ]
    }
   ],
   "source": [
    "p = c.get('/bin/hackademy/ticket/1508/attachment/p')\n",
    "g = c.get('/bin/hackademy/ticket/1508/attachment/g')\n",
    "print(\"p = {}\".format(p))\n",
    "print(\"g = {}\".format(g))"
   ]
  },
  {
   "cell_type": "code",
   "execution_count": 73,
   "metadata": {},
   "outputs": [],
   "source": [
    "p = int(p)\n",
    "g = int(g)\n",
    "a = 5"
   ]
  },
  {
   "cell_type": "code",
   "execution_count": 74,
   "metadata": {},
   "outputs": [],
   "source": [
    "A = pow(g, a, p)"
   ]
  },
  {
   "cell_type": "code",
   "execution_count": 75,
   "metadata": {},
   "outputs": [
    {
     "name": "stdout",
     "output_type": "stream",
     "text": [
      "32\n"
     ]
    }
   ],
   "source": [
    "print(A)"
   ]
  },
  {
   "cell_type": "code",
   "execution_count": 76,
   "metadata": {},
   "outputs": [],
   "source": [
    "reponse = c.post(\"/bin/hackademy/exam/elgamal/decryption\", h= A)"
   ]
  },
  {
   "cell_type": "code",
   "execution_count": 77,
   "metadata": {},
   "outputs": [
    {
     "name": "stdout",
     "output_type": "stream",
     "text": [
      "{'ciphertext': [21579845759817517499155257417495072908797815358037539291771895944455142959328284139191668375885495034703650328786727878841718401554020843677497865158865808015066131805519735679755037677811055062473513484070651991562664957109891689497263387134299903596730117231281049186802100883357377904987850547689715229049220604274449541680903030590234936450151442819949764910220746432121433594547826460487462501135143521828483377340723891339583235253435961259266707225587107629804360639677564956289886025181637871578899719422176107568444094233893252097286017443204746898166354274295231597411485607294714634225349162749743600577031, 7645468389300100657672672381345924771937231663502041120616214904750255311018783074176116551216261863748886018281674677233027603693807829762726076001974662449108663811386034471319768188337915205795151498589762027560701469708782043596866443037681420495263854277162550488727253334412379307404268216922721863375700412105484657716848179005542429412249190663009870497978463422919166815593333633669247228216574466960114909356906471327266869529334250533760652207487843180594054552614338185844593559196961684841160405702625518540680475728388504934503933735270342541686437651848364705990857460729164907070259328641228555718870]}\n"
     ]
    }
   ],
   "source": [
    "print(reponse)"
   ]
  },
  {
   "cell_type": "code",
   "execution_count": 78,
   "metadata": {},
   "outputs": [],
   "source": [
    "message = reponse['ciphertext']\n",
    "y1 = message[0]\n",
    "y2 = message[1]"
   ]
  },
  {
   "cell_type": "code",
   "execution_count": 79,
   "metadata": {},
   "outputs": [],
   "source": [
    "y1 = y1**a\n",
    "r, y1_pk_inverse, v = euclide_etendu(y1, p)"
   ]
  },
  {
   "cell_type": "code",
   "execution_count": 80,
   "metadata": {},
   "outputs": [],
   "source": [
    "message = (y1_pk_inverse*y2)%p"
   ]
  },
  {
   "cell_type": "code",
   "execution_count": 81,
   "metadata": {},
   "outputs": [
    {
     "name": "stdout",
     "output_type": "stream",
     "text": [
      "b'Well done! ELGAMAL.DECRYPT:3030:2@71058|3185666b71bff628256d40a92b1893ef'\n"
     ]
    }
   ],
   "source": [
    "message = hex(message)[2:]\n",
    "message = unhexlify(message)\n",
    "print(message)"
   ]
  },
  {
   "cell_type": "code",
   "execution_count": null,
   "metadata": {},
   "outputs": [],
   "source": []
  },
  {
   "cell_type": "markdown",
   "metadata": {},
   "source": [
    "Remarque : \n",
    "- Veuillez trouver dans le script hackademy l'execution des tickets 1507, 1508, 1509, 1512 et 1513 du chapitre \"Crypto Hackademy\". \n",
    "- Dans le fichier banks_dh.ipynb ma connexion à \"dh\" pour le chapitre \"Vous êtes dans la finance ?\". "
   ]
  }
 ],
 "metadata": {
  "kernelspec": {
   "display_name": "Python 3 (ipykernel)",
   "language": "python",
   "name": "python3"
  },
  "language_info": {
   "codemirror_mode": {
    "name": "ipython",
    "version": 3
   },
   "file_extension": ".py",
   "mimetype": "text/x-python",
   "name": "python",
   "nbconvert_exporter": "python",
   "pygments_lexer": "ipython3",
   "version": "3.9.7"
  }
 },
 "nbformat": 4,
 "nbformat_minor": 4
}
